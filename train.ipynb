{
 "cells": [
  {
   "cell_type": "code",
   "execution_count": 29,
   "id": "e1691b78",
   "metadata": {},
   "outputs": [
    {
     "ename": "ImportError",
     "evalue": "cannot import name 'sanitize_params' from 'utils.optuna_tuner' (/data1/shengen/STATS403/project/utils/optuna_tuner.py)",
     "output_type": "error",
     "traceback": [
      "\u001b[31m---------------------------------------------------------------------------\u001b[39m",
      "\u001b[31mImportError\u001b[39m                               Traceback (most recent call last)",
      "\u001b[36mCell\u001b[39m\u001b[36m \u001b[39m\u001b[32mIn[29]\u001b[39m\u001b[32m, line 10\u001b[39m\n\u001b[32m      8\u001b[39m \u001b[38;5;28;01mfrom\u001b[39;00m\u001b[38;5;250m \u001b[39m\u001b[34;01mpygod\u001b[39;00m\u001b[34;01m.\u001b[39;00m\u001b[34;01mmetric\u001b[39;00m\u001b[38;5;250m \u001b[39m\u001b[38;5;28;01mimport\u001b[39;00m eval_roc_auc, eval_f1, eval_average_precision, eval_precision_at_k, eval_recall_at_k\n\u001b[32m      9\u001b[39m \u001b[38;5;28;01mfrom\u001b[39;00m\u001b[38;5;250m \u001b[39m\u001b[34;01mpygod\u001b[39;00m\u001b[34;01m.\u001b[39;00m\u001b[34;01mutils\u001b[39;00m\u001b[38;5;250m \u001b[39m\u001b[38;5;28;01mimport\u001b[39;00m load_data\n\u001b[32m---> \u001b[39m\u001b[32m10\u001b[39m \u001b[38;5;28;01mfrom\u001b[39;00m\u001b[38;5;250m \u001b[39m\u001b[34;01mutils\u001b[39;00m\u001b[34;01m.\u001b[39;00m\u001b[34;01moptuna_tuner\u001b[39;00m\u001b[38;5;250m \u001b[39m\u001b[38;5;28;01mimport\u001b[39;00m tune_model_with_optuna, sanitize_params\n\u001b[32m     11\u001b[39m \u001b[38;5;28;01mfrom\u001b[39;00m\u001b[38;5;250m \u001b[39m\u001b[34;01mutils\u001b[39;00m\u001b[34;01m.\u001b[39;00m\u001b[34;01mparam_spaces\u001b[39;00m\u001b[38;5;250m \u001b[39m\u001b[38;5;28;01mimport\u001b[39;00m ParamSpace\n\u001b[32m     12\u001b[39m \u001b[38;5;28;01mfrom\u001b[39;00m\u001b[38;5;250m \u001b[39m\u001b[34;01mutils\u001b[39;00m\u001b[34;01m.\u001b[39;00m\u001b[34;01meval_repeat\u001b[39;00m\u001b[38;5;250m \u001b[39m\u001b[38;5;28;01mimport\u001b[39;00m eval_repeat\n",
      "\u001b[31mImportError\u001b[39m: cannot import name 'sanitize_params' from 'utils.optuna_tuner' (/data1/shengen/STATS403/project/utils/optuna_tuner.py)"
     ]
    }
   ],
   "source": [
    "import os\n",
    "import numpy as np\n",
    "import importlib\n",
    "import torch\n",
    "from torch_geometric.data import Data\n",
    "from pygod.detector import DOMINANT\n",
    "from pygod.detector import CoLA\n",
    "from pygod.metric import eval_roc_auc, eval_f1, eval_average_precision, eval_precision_at_k, eval_recall_at_k\n",
    "from pygod.utils import load_data\n",
    "from utils.optuna_tuner import tune_model_with_optuna, sanitize_params\n",
    "from utils.param_spaces import ParamSpace\n",
    "from utils.eval_repeat import eval_repeat"
   ]
  },
  {
   "cell_type": "markdown",
   "id": "ffec8e20",
   "metadata": {},
   "source": [
    "# Datasets"
   ]
  },
  {
   "cell_type": "code",
   "execution_count": 25,
   "id": "cc71e561",
   "metadata": {},
   "outputs": [],
   "source": [
    "def load_and_prepare_dataset(path):\n",
    "    data = torch.load(path)\n",
    "    data.x = data.x.float()\n",
    "    data.edge_index = data.edge_index.long()\n",
    "    data.y = data.y.long()\n",
    "    return data\n",
    "\n",
    "def label_to_binary(y):\n",
    "    return (y != 0).long()\n",
    "\n",
    "def label_identity(y):\n",
    "    return y.long()"
   ]
  },
  {
   "cell_type": "code",
   "execution_count": 26,
   "id": "55ac98fd",
   "metadata": {},
   "outputs": [
    {
     "name": "stdout",
     "output_type": "stream",
     "text": [
      "inj_cora:\n",
      " - x: torch.Size([2708, 1433])\n",
      " - edge_index: torch.Size([2, 11060])\n",
      " - y unique: [0, 1, 2, 3]\n",
      "\n",
      "books:\n",
      " - x: torch.Size([1418, 21])\n",
      " - edge_index: torch.Size([2, 3695])\n",
      " - y unique: [0, 1]\n",
      "\n",
      "gen_500:\n",
      " - x: torch.Size([500, 64])\n",
      " - edge_index: torch.Size([2, 2662])\n",
      " - y unique: [0, 1, 2]\n",
      "\n"
     ]
    }
   ],
   "source": [
    "paths = {\n",
    "    \"inj_cora\": \"/data1/shengen/STATS403/project/data/real/inj_cora.pt\",\n",
    "    \"books\": \"/data1/shengen/STATS403/project/data/real/books.pt\",\n",
    "    \"gen_500\": \"/data1/shengen/STATS403/project/data/synthetic/gen_500.pt\",\n",
    "}\n",
    "\n",
    "\n",
    "datasets = {}\n",
    "for name, path in paths.items():\n",
    "    datasets[name] = load_and_prepare_dataset(path)\n",
    "\n",
    "for name, data in datasets.items():\n",
    "    print(f\"{name}:\")\n",
    "    print(\" - x:\", data.x.shape)\n",
    "    print(\" - edge_index:\", data.edge_index.shape)\n",
    "    print(\" - y unique:\", torch.unique(data.y).tolist())\n",
    "    print()"
   ]
  },
  {
   "cell_type": "code",
   "execution_count": 27,
   "id": "daeaebc2",
   "metadata": {},
   "outputs": [],
   "source": [
    "datasets_to_run = {\n",
    "    \"inj_cora\": {\n",
    "        \"data\": datasets[\"inj_cora\"],\n",
    "        \"label_fn\": label_to_binary\n",
    "    },\n",
    "    \"books\": {\n",
    "        \"data\": datasets[\"books\"],\n",
    "        \"label_fn\": label_identity\n",
    "    },\n",
    "    \"gen_500\": {\n",
    "        \"data\": datasets[\"gen_500\"],\n",
    "        \"label_fn\": label_to_binary\n",
    "    }\n",
    "}\n",
    "\n",
    "os.makedirs(\"results\", exist_ok=True)"
   ]
  },
  {
   "cell_type": "markdown",
   "id": "4ee4cc0d",
   "metadata": {},
   "source": [
    "# Train DOMINANT"
   ]
  },
  {
   "cell_type": "code",
   "execution_count": null,
   "id": "dbb14c31",
   "metadata": {},
   "outputs": [
    {
     "name": "stderr",
     "output_type": "stream",
     "text": [
      "[I 2025-04-21 13:37:44,652] A new study created in memory with name: no-name-38d121cf-388a-46c6-abaa-91c30b03fc53\n"
     ]
    },
    {
     "name": "stdout",
     "output_type": "stream",
     "text": [
      " Running DOMINANT on inj_cora...\n",
      "\n"
     ]
    },
    {
     "name": "stderr",
     "output_type": "stream",
     "text": [
      "  0%|          | 0/30 [00:00<?, ?it/s]/data1/shengen/conda_envs/ckgconv_env/lib/python3.11/site-packages/torch_geometric/sampler/neighbor_sampler.py:61: UserWarning: Using 'NeighborSampler' without a 'pyg-lib' installation is deprecated and will be removed soon. Please install 'pyg-lib' for accelerated neighborhood sampling\n",
      "  warnings.warn(f\"Using '{self.__class__.__name__}' without a \"\n",
      "Best trial: 0. Best value: 0.756172:   3%|▎         | 1/30 [00:00<00:13,  2.17it/s]"
     ]
    },
    {
     "name": "stdout",
     "output_type": "stream",
     "text": [
      "[Trial 0] AUC: 0.7562 | Params: {'hid_dim': 32, 'num_layers': 2, 'dropout': 0.07248785746688224, 'lr': 0.00010487692440254823, 'weight': 0.1206095649804066}\n",
      "[I 2025-04-21 13:37:45,113] Trial 0 finished with value: 0.7561721084982801 and parameters: {'hid_dim': 32, 'num_layers': 2, 'dropout': 0.07248785746688224, 'lr': 0.00010487692440254823, 'weight': 0.1206095649804066}. Best is trial 0 with value: 0.7561721084982801.\n"
     ]
    },
    {
     "name": "stderr",
     "output_type": "stream",
     "text": [
      "/data1/shengen/conda_envs/ckgconv_env/lib/python3.11/site-packages/torch_geometric/sampler/neighbor_sampler.py:61: UserWarning: Using 'NeighborSampler' without a 'pyg-lib' installation is deprecated and will be removed soon. Please install 'pyg-lib' for accelerated neighborhood sampling\n",
      "  warnings.warn(f\"Using '{self.__class__.__name__}' without a \"\n",
      "Best trial: 0. Best value: 0.756172:   7%|▋         | 2/30 [00:01<00:14,  1.94it/s]"
     ]
    },
    {
     "name": "stdout",
     "output_type": "stream",
     "text": [
      "[Trial 1] AUC: 0.7557 | Params: {'hid_dim': 32, 'num_layers': 6, 'dropout': 0.19463088722666338, 'lr': 0.00603430641636626, 'weight': 0.2069001920083804}\n",
      "[I 2025-04-21 13:37:45,667] Trial 1 finished with value: 0.7556843173743868 and parameters: {'hid_dim': 32, 'num_layers': 6, 'dropout': 0.19463088722666338, 'lr': 0.00603430641636626, 'weight': 0.2069001920083804}. Best is trial 0 with value: 0.7561721084982801.\n"
     ]
    },
    {
     "name": "stderr",
     "output_type": "stream",
     "text": [
      "/data1/shengen/conda_envs/ckgconv_env/lib/python3.11/site-packages/torch_geometric/sampler/neighbor_sampler.py:61: UserWarning: Using 'NeighborSampler' without a 'pyg-lib' installation is deprecated and will be removed soon. Please install 'pyg-lib' for accelerated neighborhood sampling\n",
      "  warnings.warn(f\"Using '{self.__class__.__name__}' without a \"\n",
      "Best trial: 2. Best value: 0.84585:  10%|█         | 3/30 [00:01<00:12,  2.17it/s] "
     ]
    },
    {
     "name": "stdout",
     "output_type": "stream",
     "text": [
      "[Trial 2] AUC: 0.8458 | Params: {'hid_dim': 64, 'num_layers': 3, 'dropout': 0.21343804518314158, 'lr': 0.0011611698159603389, 'weight': 0.8639551840043095}\n",
      "[I 2025-04-21 13:37:46,064] Trial 2 finished with value: 0.8458495460440986 and parameters: {'hid_dim': 64, 'num_layers': 3, 'dropout': 0.21343804518314158, 'lr': 0.0011611698159603389, 'weight': 0.8639551840043095}. Best is trial 2 with value: 0.8458495460440986.\n"
     ]
    },
    {
     "name": "stderr",
     "output_type": "stream",
     "text": [
      "/data1/shengen/conda_envs/ckgconv_env/lib/python3.11/site-packages/torch_geometric/sampler/neighbor_sampler.py:61: UserWarning: Using 'NeighborSampler' without a 'pyg-lib' installation is deprecated and will be removed soon. Please install 'pyg-lib' for accelerated neighborhood sampling\n",
      "  warnings.warn(f\"Using '{self.__class__.__name__}' without a \"\n",
      "Best trial: 2. Best value: 0.84585:  13%|█▎        | 4/30 [00:02<00:13,  1.95it/s]"
     ]
    },
    {
     "name": "stdout",
     "output_type": "stream",
     "text": [
      "[Trial 3] AUC: 0.7650 | Params: {'hid_dim': 32, 'num_layers': 6, 'dropout': 0.3828005698609471, 'lr': 0.004570495541152017, 'weight': 0.4749371992411504}\n",
      "[I 2025-04-21 13:37:46,658] Trial 3 finished with value: 0.7650171995714204 and parameters: {'hid_dim': 32, 'num_layers': 6, 'dropout': 0.3828005698609471, 'lr': 0.004570495541152017, 'weight': 0.4749371992411504}. Best is trial 2 with value: 0.8458495460440986.\n"
     ]
    },
    {
     "name": "stderr",
     "output_type": "stream",
     "text": [
      "/data1/shengen/conda_envs/ckgconv_env/lib/python3.11/site-packages/torch_geometric/sampler/neighbor_sampler.py:61: UserWarning: Using 'NeighborSampler' without a 'pyg-lib' installation is deprecated and will be removed soon. Please install 'pyg-lib' for accelerated neighborhood sampling\n",
      "  warnings.warn(f\"Using '{self.__class__.__name__}' without a \"\n",
      "Best trial: 2. Best value: 0.84585:  17%|█▋        | 5/30 [00:02<00:11,  2.10it/s]"
     ]
    },
    {
     "name": "stdout",
     "output_type": "stream",
     "text": [
      "[Trial 4] AUC: 0.7674 | Params: {'hid_dim': 32, 'num_layers': 2, 'dropout': 0.1702655945035625, 'lr': 0.004387681305907349, 'weight': 0.5004789880257666}\n",
      "[I 2025-04-21 13:37:47,068] Trial 4 finished with value: 0.7673574691253594 and parameters: {'hid_dim': 32, 'num_layers': 2, 'dropout': 0.1702655945035625, 'lr': 0.004387681305907349, 'weight': 0.5004789880257666}. Best is trial 2 with value: 0.8458495460440986.\n"
     ]
    },
    {
     "name": "stderr",
     "output_type": "stream",
     "text": [
      "/data1/shengen/conda_envs/ckgconv_env/lib/python3.11/site-packages/torch_geometric/sampler/neighbor_sampler.py:61: UserWarning: Using 'NeighborSampler' without a 'pyg-lib' installation is deprecated and will be removed soon. Please install 'pyg-lib' for accelerated neighborhood sampling\n",
      "  warnings.warn(f\"Using '{self.__class__.__name__}' without a \"\n",
      "Best trial: 2. Best value: 0.84585:  20%|██        | 6/30 [00:02<00:11,  2.05it/s]"
     ]
    },
    {
     "name": "stdout",
     "output_type": "stream",
     "text": [
      "[Trial 5] AUC: 0.7866 | Params: {'hid_dim': 64, 'num_layers': 6, 'dropout': 0.18784606385805408, 'lr': 0.003957201144538054, 'weight': 0.6093841987520341}\n",
      "[I 2025-04-21 13:37:47,575] Trial 5 finished with value: 0.786623808718209 and parameters: {'hid_dim': 64, 'num_layers': 6, 'dropout': 0.18784606385805408, 'lr': 0.003957201144538054, 'weight': 0.6093841987520341}. Best is trial 2 with value: 0.8458495460440986.\n"
     ]
    },
    {
     "name": "stderr",
     "output_type": "stream",
     "text": [
      "/data1/shengen/conda_envs/ckgconv_env/lib/python3.11/site-packages/torch_geometric/sampler/neighbor_sampler.py:61: UserWarning: Using 'NeighborSampler' without a 'pyg-lib' installation is deprecated and will be removed soon. Please install 'pyg-lib' for accelerated neighborhood sampling\n",
      "  warnings.warn(f\"Using '{self.__class__.__name__}' without a \"\n",
      "Best trial: 2. Best value: 0.84585:  23%|██▎       | 7/30 [00:03<00:11,  1.97it/s]"
     ]
    },
    {
     "name": "stdout",
     "output_type": "stream",
     "text": [
      "[Trial 6] AUC: 0.7634 | Params: {'hid_dim': 128, 'num_layers': 5, 'dropout': 0.3377286294881547, 'lr': 0.0002658396056654188, 'weight': 0.45021343905467015}\n",
      "[I 2025-04-21 13:37:48,129] Trial 6 finished with value: 0.7634213049117464 and parameters: {'hid_dim': 128, 'num_layers': 5, 'dropout': 0.3377286294881547, 'lr': 0.0002658396056654188, 'weight': 0.45021343905467015}. Best is trial 2 with value: 0.8458495460440986.\n"
     ]
    },
    {
     "name": "stderr",
     "output_type": "stream",
     "text": [
      "/data1/shengen/conda_envs/ckgconv_env/lib/python3.11/site-packages/torch_geometric/sampler/neighbor_sampler.py:61: UserWarning: Using 'NeighborSampler' without a 'pyg-lib' installation is deprecated and will be removed soon. Please install 'pyg-lib' for accelerated neighborhood sampling\n",
      "  warnings.warn(f\"Using '{self.__class__.__name__}' without a \"\n",
      "Best trial: 2. Best value: 0.84585:  27%|██▋       | 8/30 [00:03<00:11,  2.00it/s]"
     ]
    },
    {
     "name": "stdout",
     "output_type": "stream",
     "text": [
      "[Trial 7] AUC: 0.8253 | Params: {'hid_dim': 128, 'num_layers': 4, 'dropout': 0.293311132169601, 'lr': 0.0036611707605252422, 'weight': 0.7694583551638814}\n",
      "[I 2025-04-21 13:37:48,612] Trial 7 finished with value: 0.8252890091919021 and parameters: {'hid_dim': 128, 'num_layers': 4, 'dropout': 0.293311132169601, 'lr': 0.0036611707605252422, 'weight': 0.7694583551638814}. Best is trial 2 with value: 0.8458495460440986.\n"
     ]
    },
    {
     "name": "stderr",
     "output_type": "stream",
     "text": [
      "/data1/shengen/conda_envs/ckgconv_env/lib/python3.11/site-packages/torch_geometric/sampler/neighbor_sampler.py:61: UserWarning: Using 'NeighborSampler' without a 'pyg-lib' installation is deprecated and will be removed soon. Please install 'pyg-lib' for accelerated neighborhood sampling\n",
      "  warnings.warn(f\"Using '{self.__class__.__name__}' without a \"\n",
      "Best trial: 2. Best value: 0.84585:  30%|███       | 9/30 [00:04<00:09,  2.13it/s]"
     ]
    },
    {
     "name": "stdout",
     "output_type": "stream",
     "text": [
      "[Trial 8] AUC: 0.8456 | Params: {'hid_dim': 64, 'num_layers': 3, 'dropout': 0.28930664420035895, 'lr': 0.0009545403508192574, 'weight': 0.8937476855800417}\n",
      "[I 2025-04-21 13:37:49,015] Trial 8 finished with value: 0.8455563074493881 and parameters: {'hid_dim': 64, 'num_layers': 3, 'dropout': 0.28930664420035895, 'lr': 0.0009545403508192574, 'weight': 0.8937476855800417}. Best is trial 2 with value: 0.8458495460440986.\n"
     ]
    },
    {
     "name": "stderr",
     "output_type": "stream",
     "text": [
      "/data1/shengen/conda_envs/ckgconv_env/lib/python3.11/site-packages/torch_geometric/sampler/neighbor_sampler.py:61: UserWarning: Using 'NeighborSampler' without a 'pyg-lib' installation is deprecated and will be removed soon. Please install 'pyg-lib' for accelerated neighborhood sampling\n",
      "  warnings.warn(f\"Using '{self.__class__.__name__}' without a \"\n",
      "Best trial: 2. Best value: 0.84585:  33%|███▎      | 10/30 [00:04<00:09,  2.11it/s]"
     ]
    },
    {
     "name": "stdout",
     "output_type": "stream",
     "text": [
      "[Trial 9] AUC: 0.7852 | Params: {'hid_dim': 128, 'num_layers': 3, 'dropout': 0.07772036125974985, 'lr': 0.0002480500672989342, 'weight': 0.5973412546109957}\n",
      "[I 2025-04-21 13:37:49,494] Trial 9 finished with value: 0.7852140077821012 and parameters: {'hid_dim': 128, 'num_layers': 3, 'dropout': 0.07772036125974985, 'lr': 0.0002480500672989342, 'weight': 0.5973412546109957}. Best is trial 2 with value: 0.8458495460440986.\n"
     ]
    },
    {
     "name": "stderr",
     "output_type": "stream",
     "text": [
      "/data1/shengen/conda_envs/ckgconv_env/lib/python3.11/site-packages/torch_geometric/sampler/neighbor_sampler.py:61: UserWarning: Using 'NeighborSampler' without a 'pyg-lib' installation is deprecated and will be removed soon. Please install 'pyg-lib' for accelerated neighborhood sampling\n",
      "  warnings.warn(f\"Using '{self.__class__.__name__}' without a \"\n",
      "Best trial: 2. Best value: 0.84585:  37%|███▋      | 11/30 [00:05<00:09,  2.10it/s]"
     ]
    },
    {
     "name": "stdout",
     "output_type": "stream",
     "text": [
      "[Trial 10] AUC: 0.8450 | Params: {'hid_dim': 64, 'num_layers': 4, 'dropout': 0.4964707694382184, 'lr': 0.0012210993832219392, 'weight': 0.8622420596147978}\n",
      "[I 2025-04-21 13:37:49,981] Trial 10 finished with value: 0.8450219928946033 and parameters: {'hid_dim': 64, 'num_layers': 4, 'dropout': 0.4964707694382184, 'lr': 0.0012210993832219392, 'weight': 0.8622420596147978}. Best is trial 2 with value: 0.8458495460440986.\n"
     ]
    },
    {
     "name": "stderr",
     "output_type": "stream",
     "text": [
      "/data1/shengen/conda_envs/ckgconv_env/lib/python3.11/site-packages/torch_geometric/sampler/neighbor_sampler.py:61: UserWarning: Using 'NeighborSampler' without a 'pyg-lib' installation is deprecated and will be removed soon. Please install 'pyg-lib' for accelerated neighborhood sampling\n",
      "  warnings.warn(f\"Using '{self.__class__.__name__}' without a \"\n",
      "Best trial: 2. Best value: 0.84585:  40%|████      | 12/30 [00:05<00:08,  2.19it/s]"
     ]
    },
    {
     "name": "stdout",
     "output_type": "stream",
     "text": [
      "[Trial 11] AUC: 0.8452 | Params: {'hid_dim': 64, 'num_layers': 3, 'dropout': 0.2533537353167045, 'lr': 0.0010785466097099619, 'weight': 0.8967371711958763}\n",
      "[I 2025-04-21 13:37:50,392] Trial 11 finished with value: 0.8451657925900863 and parameters: {'hid_dim': 64, 'num_layers': 3, 'dropout': 0.2533537353167045, 'lr': 0.0010785466097099619, 'weight': 0.8967371711958763}. Best is trial 2 with value: 0.8458495460440986.\n"
     ]
    },
    {
     "name": "stderr",
     "output_type": "stream",
     "text": [
      "/data1/shengen/conda_envs/ckgconv_env/lib/python3.11/site-packages/torch_geometric/sampler/neighbor_sampler.py:61: UserWarning: Using 'NeighborSampler' without a 'pyg-lib' installation is deprecated and will be removed soon. Please install 'pyg-lib' for accelerated neighborhood sampling\n",
      "  warnings.warn(f\"Using '{self.__class__.__name__}' without a \"\n",
      "Best trial: 2. Best value: 0.84585:  43%|████▎     | 13/30 [00:06<00:07,  2.16it/s]"
     ]
    },
    {
     "name": "stdout",
     "output_type": "stream",
     "text": [
      "[Trial 12] AUC: 0.8184 | Params: {'hid_dim': 64, 'num_layers': 3, 'dropout': 0.399851903410377, 'lr': 0.0005180099422823966, 'weight': 0.74126478630439}\n",
      "[I 2025-04-21 13:37:50,869] Trial 12 finished with value: 0.8184204590311848 and parameters: {'hid_dim': 64, 'num_layers': 3, 'dropout': 0.399851903410377, 'lr': 0.0005180099422823966, 'weight': 0.74126478630439}. Best is trial 2 with value: 0.8458495460440986.\n"
     ]
    },
    {
     "name": "stderr",
     "output_type": "stream",
     "text": [
      "/data1/shengen/conda_envs/ckgconv_env/lib/python3.11/site-packages/torch_geometric/sampler/neighbor_sampler.py:61: UserWarning: Using 'NeighborSampler' without a 'pyg-lib' installation is deprecated and will be removed soon. Please install 'pyg-lib' for accelerated neighborhood sampling\n",
      "  warnings.warn(f\"Using '{self.__class__.__name__}' without a \"\n",
      "Best trial: 2. Best value: 0.84585:  47%|████▋     | 14/30 [00:06<00:07,  2.18it/s]"
     ]
    },
    {
     "name": "stdout",
     "output_type": "stream",
     "text": [
      "[Trial 13] AUC: 0.8203 | Params: {'hid_dim': 64, 'num_layers': 3, 'dropout': 0.12686744596024574, 'lr': 0.0018519510303016409, 'weight': 0.7407248785664685}\n",
      "[I 2025-04-21 13:37:51,318] Trial 13 finished with value: 0.8202560198499972 and parameters: {'hid_dim': 64, 'num_layers': 3, 'dropout': 0.12686744596024574, 'lr': 0.0018519510303016409, 'weight': 0.7407248785664685}. Best is trial 2 with value: 0.8458495460440986.\n"
     ]
    },
    {
     "name": "stderr",
     "output_type": "stream",
     "text": [
      "/data1/shengen/conda_envs/ckgconv_env/lib/python3.11/site-packages/torch_geometric/sampler/neighbor_sampler.py:61: UserWarning: Using 'NeighborSampler' without a 'pyg-lib' installation is deprecated and will be removed soon. Please install 'pyg-lib' for accelerated neighborhood sampling\n",
      "  warnings.warn(f\"Using '{self.__class__.__name__}' without a \"\n",
      "Best trial: 2. Best value: 0.84585:  50%|█████     | 15/30 [00:07<00:06,  2.34it/s]"
     ]
    },
    {
     "name": "stdout",
     "output_type": "stream",
     "text": [
      "[Trial 14] AUC: 0.8372 | Params: {'hid_dim': 64, 'num_layers': 2, 'dropout': 0.010736995203528943, 'lr': 0.000594625521768232, 'weight': 0.8146455258687696}\n",
      "[I 2025-04-21 13:37:51,675] Trial 14 finished with value: 0.8371651722776745 and parameters: {'hid_dim': 64, 'num_layers': 2, 'dropout': 0.010736995203528943, 'lr': 0.000594625521768232, 'weight': 0.8146455258687696}. Best is trial 2 with value: 0.8458495460440986.\n"
     ]
    },
    {
     "name": "stderr",
     "output_type": "stream",
     "text": [
      "/data1/shengen/conda_envs/ckgconv_env/lib/python3.11/site-packages/torch_geometric/sampler/neighbor_sampler.py:61: UserWarning: Using 'NeighborSampler' without a 'pyg-lib' installation is deprecated and will be removed soon. Please install 'pyg-lib' for accelerated neighborhood sampling\n",
      "  warnings.warn(f\"Using '{self.__class__.__name__}' without a \"\n",
      "Best trial: 2. Best value: 0.84585:  53%|█████▎    | 16/30 [00:07<00:06,  2.23it/s]"
     ]
    },
    {
     "name": "stdout",
     "output_type": "stream",
     "text": [
      "[Trial 15] AUC: 0.7976 | Params: {'hid_dim': 64, 'num_layers': 4, 'dropout': 0.2521305760231126, 'lr': 0.0020608653497774503, 'weight': 0.6551804022084717}\n",
      "[I 2025-04-21 13:37:52,172] Trial 15 finished with value: 0.7976343540292111 and parameters: {'hid_dim': 64, 'num_layers': 4, 'dropout': 0.2521305760231126, 'lr': 0.0020608653497774503, 'weight': 0.6551804022084717}. Best is trial 2 with value: 0.8458495460440986.\n"
     ]
    },
    {
     "name": "stderr",
     "output_type": "stream",
     "text": [
      "/data1/shengen/conda_envs/ckgconv_env/lib/python3.11/site-packages/torch_geometric/sampler/neighbor_sampler.py:61: UserWarning: Using 'NeighborSampler' without a 'pyg-lib' installation is deprecated and will be removed soon. Please install 'pyg-lib' for accelerated neighborhood sampling\n",
      "  warnings.warn(f\"Using '{self.__class__.__name__}' without a \"\n",
      "Best trial: 2. Best value: 0.84585:  57%|█████▋    | 17/30 [00:08<00:06,  2.10it/s]"
     ]
    },
    {
     "name": "stdout",
     "output_type": "stream",
     "text": [
      "[Trial 16] AUC: 0.7556 | Params: {'hid_dim': 64, 'num_layers': 5, 'dropout': 0.36641287371217063, 'lr': 0.009856403796515202, 'weight': 0.35142292104868267}\n",
      "[I 2025-04-21 13:37:52,709] Trial 16 finished with value: 0.7556053685219647 and parameters: {'hid_dim': 64, 'num_layers': 5, 'dropout': 0.36641287371217063, 'lr': 0.009856403796515202, 'weight': 0.35142292104868267}. Best is trial 2 with value: 0.8458495460440986.\n"
     ]
    },
    {
     "name": "stderr",
     "output_type": "stream",
     "text": [
      "/data1/shengen/conda_envs/ckgconv_env/lib/python3.11/site-packages/torch_geometric/sampler/neighbor_sampler.py:61: UserWarning: Using 'NeighborSampler' without a 'pyg-lib' installation is deprecated and will be removed soon. Please install 'pyg-lib' for accelerated neighborhood sampling\n",
      "  warnings.warn(f\"Using '{self.__class__.__name__}' without a \"\n",
      "Best trial: 2. Best value: 0.84585:  60%|██████    | 18/30 [00:08<00:05,  2.22it/s]"
     ]
    },
    {
     "name": "stdout",
     "output_type": "stream",
     "text": [
      "[Trial 17] AUC: 0.8075 | Params: {'hid_dim': 64, 'num_layers': 3, 'dropout': 0.3009834929540857, 'lr': 0.0005316515855386237, 'weight': 0.6938845838755703}\n",
      "[I 2025-04-21 13:37:53,104] Trial 17 finished with value: 0.8074916821744769 and parameters: {'hid_dim': 64, 'num_layers': 3, 'dropout': 0.3009834929540857, 'lr': 0.0005316515855386237, 'weight': 0.6938845838755703}. Best is trial 2 with value: 0.8458495460440986.\n"
     ]
    },
    {
     "name": "stderr",
     "output_type": "stream",
     "text": [
      "/data1/shengen/conda_envs/ckgconv_env/lib/python3.11/site-packages/torch_geometric/sampler/neighbor_sampler.py:61: UserWarning: Using 'NeighborSampler' without a 'pyg-lib' installation is deprecated and will be removed soon. Please install 'pyg-lib' for accelerated neighborhood sampling\n",
      "  warnings.warn(f\"Using '{self.__class__.__name__}' without a \"\n",
      "Best trial: 2. Best value: 0.84585:  63%|██████▎   | 19/30 [00:09<00:05,  2.06it/s]"
     ]
    },
    {
     "name": "stdout",
     "output_type": "stream",
     "text": [
      "[Trial 18] AUC: 0.8451 | Params: {'hid_dim': 64, 'num_layers': 5, 'dropout': 0.44382491732340795, 'lr': 0.002165648615607346, 'weight': 0.8920011875681441}\n",
      "[I 2025-04-21 13:37:53,668] Trial 18 finished with value: 0.8451418259741725 and parameters: {'hid_dim': 64, 'num_layers': 5, 'dropout': 0.44382491732340795, 'lr': 0.002165648615607346, 'weight': 0.8920011875681441}. Best is trial 2 with value: 0.8458495460440986.\n"
     ]
    },
    {
     "name": "stderr",
     "output_type": "stream",
     "text": [
      "/data1/shengen/conda_envs/ckgconv_env/lib/python3.11/site-packages/torch_geometric/sampler/neighbor_sampler.py:61: UserWarning: Using 'NeighborSampler' without a 'pyg-lib' installation is deprecated and will be removed soon. Please install 'pyg-lib' for accelerated neighborhood sampling\n",
      "  warnings.warn(f\"Using '{self.__class__.__name__}' without a \"\n",
      "Best trial: 2. Best value: 0.84585:  67%|██████▋   | 20/30 [00:09<00:04,  2.14it/s]"
     ]
    },
    {
     "name": "stdout",
     "output_type": "stream",
     "text": [
      "[Trial 19] AUC: 0.8348 | Params: {'hid_dim': 128, 'num_layers': 2, 'dropout': 0.22243506775558594, 'lr': 0.0008478579525873746, 'weight': 0.7972243221416833}\n",
      "[I 2025-04-21 13:37:54,091] Trial 19 finished with value: 0.8348108047143742 and parameters: {'hid_dim': 128, 'num_layers': 2, 'dropout': 0.22243506775558594, 'lr': 0.0008478579525873746, 'weight': 0.7972243221416833}. Best is trial 2 with value: 0.8458495460440986.\n"
     ]
    },
    {
     "name": "stderr",
     "output_type": "stream",
     "text": [
      "/data1/shengen/conda_envs/ckgconv_env/lib/python3.11/site-packages/torch_geometric/sampler/neighbor_sampler.py:61: UserWarning: Using 'NeighborSampler' without a 'pyg-lib' installation is deprecated and will be removed soon. Please install 'pyg-lib' for accelerated neighborhood sampling\n",
      "  warnings.warn(f\"Using '{self.__class__.__name__}' without a \"\n",
      "Best trial: 2. Best value: 0.84585:  70%|███████   | 21/30 [00:09<00:03,  2.27it/s]"
     ]
    },
    {
     "name": "stdout",
     "output_type": "stream",
     "text": [
      "[Trial 20] AUC: 0.7571 | Params: {'hid_dim': 64, 'num_layers': 3, 'dropout': 0.14166900574459096, 'lr': 0.00029347593922491113, 'weight': 0.31634841627665544}\n",
      "[I 2025-04-21 13:37:54,474] Trial 20 finished with value: 0.7571011673151752 and parameters: {'hid_dim': 64, 'num_layers': 3, 'dropout': 0.14166900574459096, 'lr': 0.00029347593922491113, 'weight': 0.31634841627665544}. Best is trial 2 with value: 0.8458495460440986.\n"
     ]
    },
    {
     "name": "stderr",
     "output_type": "stream",
     "text": [
      "/data1/shengen/conda_envs/ckgconv_env/lib/python3.11/site-packages/torch_geometric/sampler/neighbor_sampler.py:61: UserWarning: Using 'NeighborSampler' without a 'pyg-lib' installation is deprecated and will be removed soon. Please install 'pyg-lib' for accelerated neighborhood sampling\n",
      "  warnings.warn(f\"Using '{self.__class__.__name__}' without a \"\n",
      "Best trial: 2. Best value: 0.84585:  73%|███████▎  | 22/30 [00:10<00:03,  2.20it/s]"
     ]
    },
    {
     "name": "stdout",
     "output_type": "stream",
     "text": [
      "[Trial 21] AUC: 0.8449 | Params: {'hid_dim': 64, 'num_layers': 3, 'dropout': 0.2812202059176216, 'lr': 0.0011102977697019102, 'weight': 0.85122475706526}\n",
      "[I 2025-04-21 13:37:54,958] Trial 21 finished with value: 0.8449162578243951 and parameters: {'hid_dim': 64, 'num_layers': 3, 'dropout': 0.2812202059176216, 'lr': 0.0011102977697019102, 'weight': 0.85122475706526}. Best is trial 2 with value: 0.8458495460440986.\n"
     ]
    },
    {
     "name": "stderr",
     "output_type": "stream",
     "text": [
      "/data1/shengen/conda_envs/ckgconv_env/lib/python3.11/site-packages/torch_geometric/sampler/neighbor_sampler.py:61: UserWarning: Using 'NeighborSampler' without a 'pyg-lib' installation is deprecated and will be removed soon. Please install 'pyg-lib' for accelerated neighborhood sampling\n",
      "  warnings.warn(f\"Using '{self.__class__.__name__}' without a \"\n",
      "Best trial: 22. Best value: 0.846092:  77%|███████▋  | 23/30 [00:10<00:03,  2.20it/s]"
     ]
    },
    {
     "name": "stdout",
     "output_type": "stream",
     "text": [
      "[Trial 22] AUC: 0.8461 | Params: {'hid_dim': 64, 'num_layers': 4, 'dropout': 0.24604075619892224, 'lr': 0.0007912861938823329, 'weight': 0.8727022562530304}\n",
      "[I 2025-04-21 13:37:55,414] Trial 22 finished with value: 0.8460920318051092 and parameters: {'hid_dim': 64, 'num_layers': 4, 'dropout': 0.24604075619892224, 'lr': 0.0007912861938823329, 'weight': 0.8727022562530304}. Best is trial 22 with value: 0.8460920318051092.\n"
     ]
    },
    {
     "name": "stderr",
     "output_type": "stream",
     "text": [
      "/data1/shengen/conda_envs/ckgconv_env/lib/python3.11/site-packages/torch_geometric/sampler/neighbor_sampler.py:61: UserWarning: Using 'NeighborSampler' without a 'pyg-lib' installation is deprecated and will be removed soon. Please install 'pyg-lib' for accelerated neighborhood sampling\n",
      "  warnings.warn(f\"Using '{self.__class__.__name__}' without a \"\n",
      "Best trial: 22. Best value: 0.846092:  80%|████████  | 24/30 [00:11<00:02,  2.21it/s]"
     ]
    },
    {
     "name": "stdout",
     "output_type": "stream",
     "text": [
      "[Trial 23] AUC: 0.8357 | Params: {'hid_dim': 64, 'num_layers': 4, 'dropout': 0.327311069005247, 'lr': 0.0007560866360111205, 'weight': 0.8088254412675456}\n",
      "[I 2025-04-21 13:37:55,860] Trial 23 finished with value: 0.8356736028872723 and parameters: {'hid_dim': 64, 'num_layers': 4, 'dropout': 0.327311069005247, 'lr': 0.0007560866360111205, 'weight': 0.8088254412675456}. Best is trial 22 with value: 0.8460920318051092.\n"
     ]
    },
    {
     "name": "stderr",
     "output_type": "stream",
     "text": [
      "/data1/shengen/conda_envs/ckgconv_env/lib/python3.11/site-packages/torch_geometric/sampler/neighbor_sampler.py:61: UserWarning: Using 'NeighborSampler' without a 'pyg-lib' installation is deprecated and will be removed soon. Please install 'pyg-lib' for accelerated neighborhood sampling\n",
      "  warnings.warn(f\"Using '{self.__class__.__name__}' without a \"\n",
      "Best trial: 22. Best value: 0.846092:  83%|████████▎ | 25/30 [00:11<00:02,  2.11it/s]"
     ]
    },
    {
     "name": "stdout",
     "output_type": "stream",
     "text": [
      "[Trial 24] AUC: 0.8069 | Params: {'hid_dim': 64, 'num_layers': 4, 'dropout': 0.23963616006865102, 'lr': 0.0004056364734087292, 'weight': 0.6927575771899482}\n",
      "[I 2025-04-21 13:37:56,388] Trial 24 finished with value: 0.8069108441888004 and parameters: {'hid_dim': 64, 'num_layers': 4, 'dropout': 0.23963616006865102, 'lr': 0.0004056364734087292, 'weight': 0.6927575771899482}. Best is trial 22 with value: 0.8460920318051092.\n"
     ]
    },
    {
     "name": "stderr",
     "output_type": "stream",
     "text": [
      "/data1/shengen/conda_envs/ckgconv_env/lib/python3.11/site-packages/torch_geometric/sampler/neighbor_sampler.py:61: UserWarning: Using 'NeighborSampler' without a 'pyg-lib' installation is deprecated and will be removed soon. Please install 'pyg-lib' for accelerated neighborhood sampling\n",
      "  warnings.warn(f\"Using '{self.__class__.__name__}' without a \"\n",
      "Best trial: 22. Best value: 0.846092:  87%|████████▋ | 26/30 [00:12<00:01,  2.03it/s]"
     ]
    },
    {
     "name": "stdout",
     "output_type": "stream",
     "text": [
      "[Trial 25] AUC: 0.7784 | Params: {'hid_dim': 64, 'num_layers': 5, 'dropout': 0.20621185300426575, 'lr': 0.0014767534638951568, 'weight': 0.559298703167936}\n",
      "[I 2025-04-21 13:37:56,919] Trial 25 finished with value: 0.7783708340382338 and parameters: {'hid_dim': 64, 'num_layers': 5, 'dropout': 0.20621185300426575, 'lr': 0.0014767534638951568, 'weight': 0.559298703167936}. Best is trial 22 with value: 0.8460920318051092.\n"
     ]
    },
    {
     "name": "stderr",
     "output_type": "stream",
     "text": [
      "/data1/shengen/conda_envs/ckgconv_env/lib/python3.11/site-packages/torch_geometric/sampler/neighbor_sampler.py:61: UserWarning: Using 'NeighborSampler' without a 'pyg-lib' installation is deprecated and will be removed soon. Please install 'pyg-lib' for accelerated neighborhood sampling\n",
      "  warnings.warn(f\"Using '{self.__class__.__name__}' without a \"\n",
      "Best trial: 22. Best value: 0.846092:  90%|█████████ | 27/30 [00:12<00:01,  2.08it/s]"
     ]
    },
    {
     "name": "stdout",
     "output_type": "stream",
     "text": [
      "[Trial 26] AUC: 0.8402 | Params: {'hid_dim': 64, 'num_layers': 4, 'dropout': 0.14514119756071098, 'lr': 0.002576574009968317, 'weight': 0.8277788384463367}\n",
      "[I 2025-04-21 13:37:57,376] Trial 26 finished with value: 0.8401849658828173 and parameters: {'hid_dim': 64, 'num_layers': 4, 'dropout': 0.14514119756071098, 'lr': 0.002576574009968317, 'weight': 0.8277788384463367}. Best is trial 22 with value: 0.8460920318051092.\n"
     ]
    },
    {
     "name": "stderr",
     "output_type": "stream",
     "text": [
      "/data1/shengen/conda_envs/ckgconv_env/lib/python3.11/site-packages/torch_geometric/sampler/neighbor_sampler.py:61: UserWarning: Using 'NeighborSampler' without a 'pyg-lib' installation is deprecated and will be removed soon. Please install 'pyg-lib' for accelerated neighborhood sampling\n",
      "  warnings.warn(f\"Using '{self.__class__.__name__}' without a \"\n",
      "Best trial: 22. Best value: 0.846092:  93%|█████████▎| 28/30 [00:13<00:00,  2.05it/s]"
     ]
    },
    {
     "name": "stdout",
     "output_type": "stream",
     "text": [
      "[Trial 27] AUC: 0.8453 | Params: {'hid_dim': 64, 'num_layers': 3, 'dropout': 0.2718990929475188, 'lr': 0.0007603899332066093, 'weight': 0.8959348565669287}\n",
      "[I 2025-04-21 13:37:57,879] Trial 27 finished with value: 0.845268708058422 and parameters: {'hid_dim': 64, 'num_layers': 3, 'dropout': 0.2718990929475188, 'lr': 0.0007603899332066093, 'weight': 0.8959348565669287}. Best is trial 22 with value: 0.8460920318051092.\n"
     ]
    },
    {
     "name": "stderr",
     "output_type": "stream",
     "text": [
      "/data1/shengen/conda_envs/ckgconv_env/lib/python3.11/site-packages/torch_geometric/sampler/neighbor_sampler.py:61: UserWarning: Using 'NeighborSampler' without a 'pyg-lib' installation is deprecated and will be removed soon. Please install 'pyg-lib' for accelerated neighborhood sampling\n",
      "  warnings.warn(f\"Using '{self.__class__.__name__}' without a \"\n",
      "Best trial: 22. Best value: 0.846092:  97%|█████████▋| 29/30 [00:13<00:00,  2.12it/s]"
     ]
    },
    {
     "name": "stdout",
     "output_type": "stream",
     "text": [
      "[Trial 28] AUC: 0.8125 | Params: {'hid_dim': 128, 'num_layers': 2, 'dropout': 0.3372534252601473, 'lr': 0.0014668169218806345, 'weight': 0.7119973996903417}\n",
      "[I 2025-04-21 13:37:58,310] Trial 28 finished with value: 0.8124682794789376 and parameters: {'hid_dim': 128, 'num_layers': 2, 'dropout': 0.3372534252601473, 'lr': 0.0014668169218806345, 'weight': 0.7119973996903417}. Best is trial 22 with value: 0.8460920318051092.\n"
     ]
    },
    {
     "name": "stderr",
     "output_type": "stream",
     "text": [
      "/data1/shengen/conda_envs/ckgconv_env/lib/python3.11/site-packages/torch_geometric/sampler/neighbor_sampler.py:61: UserWarning: Using 'NeighborSampler' without a 'pyg-lib' installation is deprecated and will be removed soon. Please install 'pyg-lib' for accelerated neighborhood sampling\n",
      "  warnings.warn(f\"Using '{self.__class__.__name__}' without a \"\n",
      "Best trial: 22. Best value: 0.846092: 100%|██████████| 30/30 [00:14<00:00,  2.14it/s]"
     ]
    },
    {
     "name": "stdout",
     "output_type": "stream",
     "text": [
      "[Trial 29] AUC: 0.7564 | Params: {'hid_dim': 32, 'num_layers': 2, 'dropout': 0.10277496837359407, 'lr': 0.00015123681475891744, 'weight': 0.16978210696310048}\n",
      "[I 2025-04-21 13:37:58,686] Trial 29 finished with value: 0.7564230530649072 and parameters: {'hid_dim': 32, 'num_layers': 2, 'dropout': 0.10277496837359407, 'lr': 0.00015123681475891744, 'weight': 0.16978210696310048}. Best is trial 22 with value: 0.8460920318051092.\n",
      "Best params for inj_cora: {'hid_dim': 64, 'num_layers': 4, 'dropout': 0.24604075619892224, 'lr': 0.0007912861938823329, 'weight': 0.8727022562530304}\n",
      "[Run 1/10]\n"
     ]
    },
    {
     "name": "stderr",
     "output_type": "stream",
     "text": [
      "\n",
      "/data1/shengen/conda_envs/ckgconv_env/lib/python3.11/site-packages/torch_geometric/sampler/neighbor_sampler.py:61: UserWarning: Using 'NeighborSampler' without a 'pyg-lib' installation is deprecated and will be removed soon. Please install 'pyg-lib' for accelerated neighborhood sampling\n",
      "  warnings.warn(f\"Using '{self.__class__.__name__}' without a \"\n"
     ]
    },
    {
     "name": "stdout",
     "output_type": "stream",
     "text": [
      "[Run 2/10]\n"
     ]
    },
    {
     "name": "stderr",
     "output_type": "stream",
     "text": [
      "/data1/shengen/conda_envs/ckgconv_env/lib/python3.11/site-packages/torch_geometric/sampler/neighbor_sampler.py:61: UserWarning: Using 'NeighborSampler' without a 'pyg-lib' installation is deprecated and will be removed soon. Please install 'pyg-lib' for accelerated neighborhood sampling\n",
      "  warnings.warn(f\"Using '{self.__class__.__name__}' without a \"\n"
     ]
    },
    {
     "name": "stdout",
     "output_type": "stream",
     "text": [
      "[Run 3/10]\n"
     ]
    },
    {
     "name": "stderr",
     "output_type": "stream",
     "text": [
      "/data1/shengen/conda_envs/ckgconv_env/lib/python3.11/site-packages/torch_geometric/sampler/neighbor_sampler.py:61: UserWarning: Using 'NeighborSampler' without a 'pyg-lib' installation is deprecated and will be removed soon. Please install 'pyg-lib' for accelerated neighborhood sampling\n",
      "  warnings.warn(f\"Using '{self.__class__.__name__}' without a \"\n"
     ]
    },
    {
     "name": "stdout",
     "output_type": "stream",
     "text": [
      "[Run 4/10]\n"
     ]
    },
    {
     "name": "stderr",
     "output_type": "stream",
     "text": [
      "/data1/shengen/conda_envs/ckgconv_env/lib/python3.11/site-packages/torch_geometric/sampler/neighbor_sampler.py:61: UserWarning: Using 'NeighborSampler' without a 'pyg-lib' installation is deprecated and will be removed soon. Please install 'pyg-lib' for accelerated neighborhood sampling\n",
      "  warnings.warn(f\"Using '{self.__class__.__name__}' without a \"\n"
     ]
    },
    {
     "name": "stdout",
     "output_type": "stream",
     "text": [
      "[Run 5/10]\n"
     ]
    },
    {
     "name": "stderr",
     "output_type": "stream",
     "text": [
      "/data1/shengen/conda_envs/ckgconv_env/lib/python3.11/site-packages/torch_geometric/sampler/neighbor_sampler.py:61: UserWarning: Using 'NeighborSampler' without a 'pyg-lib' installation is deprecated and will be removed soon. Please install 'pyg-lib' for accelerated neighborhood sampling\n",
      "  warnings.warn(f\"Using '{self.__class__.__name__}' without a \"\n"
     ]
    },
    {
     "name": "stdout",
     "output_type": "stream",
     "text": [
      "[Run 6/10]\n"
     ]
    },
    {
     "name": "stderr",
     "output_type": "stream",
     "text": [
      "/data1/shengen/conda_envs/ckgconv_env/lib/python3.11/site-packages/torch_geometric/sampler/neighbor_sampler.py:61: UserWarning: Using 'NeighborSampler' without a 'pyg-lib' installation is deprecated and will be removed soon. Please install 'pyg-lib' for accelerated neighborhood sampling\n",
      "  warnings.warn(f\"Using '{self.__class__.__name__}' without a \"\n"
     ]
    },
    {
     "name": "stdout",
     "output_type": "stream",
     "text": [
      "[Run 7/10]\n"
     ]
    },
    {
     "name": "stderr",
     "output_type": "stream",
     "text": [
      "/data1/shengen/conda_envs/ckgconv_env/lib/python3.11/site-packages/torch_geometric/sampler/neighbor_sampler.py:61: UserWarning: Using 'NeighborSampler' without a 'pyg-lib' installation is deprecated and will be removed soon. Please install 'pyg-lib' for accelerated neighborhood sampling\n",
      "  warnings.warn(f\"Using '{self.__class__.__name__}' without a \"\n"
     ]
    },
    {
     "name": "stdout",
     "output_type": "stream",
     "text": [
      "[Run 8/10]\n"
     ]
    },
    {
     "name": "stderr",
     "output_type": "stream",
     "text": [
      "/data1/shengen/conda_envs/ckgconv_env/lib/python3.11/site-packages/torch_geometric/sampler/neighbor_sampler.py:61: UserWarning: Using 'NeighborSampler' without a 'pyg-lib' installation is deprecated and will be removed soon. Please install 'pyg-lib' for accelerated neighborhood sampling\n",
      "  warnings.warn(f\"Using '{self.__class__.__name__}' without a \"\n"
     ]
    },
    {
     "name": "stdout",
     "output_type": "stream",
     "text": [
      "[Run 9/10]\n"
     ]
    },
    {
     "name": "stderr",
     "output_type": "stream",
     "text": [
      "/data1/shengen/conda_envs/ckgconv_env/lib/python3.11/site-packages/torch_geometric/sampler/neighbor_sampler.py:61: UserWarning: Using 'NeighborSampler' without a 'pyg-lib' installation is deprecated and will be removed soon. Please install 'pyg-lib' for accelerated neighborhood sampling\n",
      "  warnings.warn(f\"Using '{self.__class__.__name__}' without a \"\n"
     ]
    },
    {
     "name": "stdout",
     "output_type": "stream",
     "text": [
      "[Run 10/10]\n"
     ]
    },
    {
     "name": "stderr",
     "output_type": "stream",
     "text": [
      "/data1/shengen/conda_envs/ckgconv_env/lib/python3.11/site-packages/torch_geometric/sampler/neighbor_sampler.py:61: UserWarning: Using 'NeighborSampler' without a 'pyg-lib' installation is deprecated and will be removed soon. Please install 'pyg-lib' for accelerated neighborhood sampling\n",
      "  warnings.warn(f\"Using '{self.__class__.__name__}' without a \"\n",
      "[I 2025-04-21 13:38:27,880] A new study created in memory with name: no-name-079c833f-3919-4bc7-a592-6c3c71ebe12b\n"
     ]
    },
    {
     "name": "stdout",
     "output_type": "stream",
     "text": [
      "Saved results to results/dominant_inj_cora.csv\n",
      "Summary for inj_cora:\n",
      "  AUC-ROC (mean±std): 0.8562 ± 0.0007\n",
      "  AP (mean±std): 0.2197 ± 0.0011\n",
      "  F1 (mean±std): 0.3120 ± 0.0048\n",
      " Running DOMINANT on books...\n",
      "\n"
     ]
    },
    {
     "name": "stderr",
     "output_type": "stream",
     "text": [
      "  0%|          | 0/30 [00:00<?, ?it/s]/data1/shengen/conda_envs/ckgconv_env/lib/python3.11/site-packages/torch_geometric/sampler/neighbor_sampler.py:61: UserWarning: Using 'NeighborSampler' without a 'pyg-lib' installation is deprecated and will be removed soon. Please install 'pyg-lib' for accelerated neighborhood sampling\n",
      "  warnings.warn(f\"Using '{self.__class__.__name__}' without a \"\n",
      "Best trial: 0. Best value: 0.458094:   3%|▎         | 1/30 [00:00<00:09,  3.08it/s]"
     ]
    },
    {
     "name": "stdout",
     "output_type": "stream",
     "text": [
      "[Trial 0] AUC: 0.4581 | Params: {'hid_dim': 64, 'num_layers': 5, 'dropout': 0.3706332264628227, 'lr': 0.0006792408658412481, 'weight': 0.15065910693449142}\n",
      "[I 2025-04-21 13:38:28,204] Trial 0 finished with value: 0.4580935251798561 and parameters: {'hid_dim': 64, 'num_layers': 5, 'dropout': 0.3706332264628227, 'lr': 0.0006792408658412481, 'weight': 0.15065910693449142}. Best is trial 0 with value: 0.4580935251798561.\n"
     ]
    },
    {
     "name": "stderr",
     "output_type": "stream",
     "text": [
      "/data1/shengen/conda_envs/ckgconv_env/lib/python3.11/site-packages/torch_geometric/sampler/neighbor_sampler.py:61: UserWarning: Using 'NeighborSampler' without a 'pyg-lib' installation is deprecated and will be removed soon. Please install 'pyg-lib' for accelerated neighborhood sampling\n",
      "  warnings.warn(f\"Using '{self.__class__.__name__}' without a \"\n",
      "Best trial: 0. Best value: 0.458094:   7%|▋         | 2/30 [00:00<00:07,  3.87it/s]"
     ]
    },
    {
     "name": "stdout",
     "output_type": "stream",
     "text": [
      "[Trial 1] AUC: 0.4041 | Params: {'hid_dim': 32, 'num_layers': 2, 'dropout': 0.2779203592586628, 'lr': 0.0008497237513386657, 'weight': 0.7094424165238412}\n",
      "[I 2025-04-21 13:38:28,416] Trial 1 finished with value: 0.4041238437821172 and parameters: {'hid_dim': 32, 'num_layers': 2, 'dropout': 0.2779203592586628, 'lr': 0.0008497237513386657, 'weight': 0.7094424165238412}. Best is trial 0 with value: 0.4580935251798561.\n"
     ]
    },
    {
     "name": "stderr",
     "output_type": "stream",
     "text": [
      "/data1/shengen/conda_envs/ckgconv_env/lib/python3.11/site-packages/torch_geometric/sampler/neighbor_sampler.py:61: UserWarning: Using 'NeighborSampler' without a 'pyg-lib' installation is deprecated and will be removed soon. Please install 'pyg-lib' for accelerated neighborhood sampling\n",
      "  warnings.warn(f\"Using '{self.__class__.__name__}' without a \"\n",
      "Best trial: 0. Best value: 0.458094:  10%|█         | 3/30 [00:00<00:07,  3.86it/s]"
     ]
    },
    {
     "name": "stdout",
     "output_type": "stream",
     "text": [
      "[Trial 2] AUC: 0.4271 | Params: {'hid_dim': 32, 'num_layers': 4, 'dropout': 0.48226928906207295, 'lr': 0.00048034893721789776, 'weight': 0.3657143945733602}\n",
      "[I 2025-04-21 13:38:28,676] Trial 2 finished with value: 0.4271068859198356 and parameters: {'hid_dim': 32, 'num_layers': 4, 'dropout': 0.48226928906207295, 'lr': 0.00048034893721789776, 'weight': 0.3657143945733602}. Best is trial 0 with value: 0.4580935251798561.\n"
     ]
    },
    {
     "name": "stderr",
     "output_type": "stream",
     "text": [
      "/data1/shengen/conda_envs/ckgconv_env/lib/python3.11/site-packages/torch_geometric/sampler/neighbor_sampler.py:61: UserWarning: Using 'NeighborSampler' without a 'pyg-lib' installation is deprecated and will be removed soon. Please install 'pyg-lib' for accelerated neighborhood sampling\n",
      "  warnings.warn(f\"Using '{self.__class__.__name__}' without a \"\n",
      "Best trial: 3. Best value: 0.484841:  13%|█▎        | 4/30 [00:01<00:07,  3.59it/s]"
     ]
    },
    {
     "name": "stdout",
     "output_type": "stream",
     "text": [
      "[Trial 3] AUC: 0.4848 | Params: {'hid_dim': 64, 'num_layers': 5, 'dropout': 0.3225684550500676, 'lr': 0.0020742806530702814, 'weight': 0.7674209365468853}\n",
      "[I 2025-04-21 13:38:28,985] Trial 3 finished with value: 0.48484069886947584 and parameters: {'hid_dim': 64, 'num_layers': 5, 'dropout': 0.3225684550500676, 'lr': 0.0020742806530702814, 'weight': 0.7674209365468853}. Best is trial 3 with value: 0.48484069886947584.\n"
     ]
    },
    {
     "name": "stderr",
     "output_type": "stream",
     "text": [
      "/data1/shengen/conda_envs/ckgconv_env/lib/python3.11/site-packages/torch_geometric/sampler/neighbor_sampler.py:61: UserWarning: Using 'NeighborSampler' without a 'pyg-lib' installation is deprecated and will be removed soon. Please install 'pyg-lib' for accelerated neighborhood sampling\n",
      "  warnings.warn(f\"Using '{self.__class__.__name__}' without a \"\n",
      "Best trial: 3. Best value: 0.484841:  17%|█▋        | 5/30 [00:01<00:06,  3.66it/s]"
     ]
    },
    {
     "name": "stdout",
     "output_type": "stream",
     "text": [
      "[Trial 4] AUC: 0.4176 | Params: {'hid_dim': 64, 'num_layers': 4, 'dropout': 0.14364966654903027, 'lr': 0.00021867350922888623, 'weight': 0.8973382412729937}\n",
      "[I 2025-04-21 13:38:29,249] Trial 4 finished with value: 0.4176258992805756 and parameters: {'hid_dim': 64, 'num_layers': 4, 'dropout': 0.14364966654903027, 'lr': 0.00021867350922888623, 'weight': 0.8973382412729937}. Best is trial 3 with value: 0.48484069886947584.\n"
     ]
    },
    {
     "name": "stderr",
     "output_type": "stream",
     "text": [
      "/data1/shengen/conda_envs/ckgconv_env/lib/python3.11/site-packages/torch_geometric/sampler/neighbor_sampler.py:61: UserWarning: Using 'NeighborSampler' without a 'pyg-lib' installation is deprecated and will be removed soon. Please install 'pyg-lib' for accelerated neighborhood sampling\n",
      "  warnings.warn(f\"Using '{self.__class__.__name__}' without a \"\n",
      "Best trial: 3. Best value: 0.484841:  20%|██        | 6/30 [00:01<00:06,  3.81it/s]"
     ]
    },
    {
     "name": "stdout",
     "output_type": "stream",
     "text": [
      "[Trial 5] AUC: 0.4110 | Params: {'hid_dim': 128, 'num_layers': 3, 'dropout': 0.03902608717937733, 'lr': 0.00015580602417596752, 'weight': 0.6413157047830234}\n",
      "[I 2025-04-21 13:38:29,490] Trial 5 finished with value: 0.41103545734840696 and parameters: {'hid_dim': 128, 'num_layers': 3, 'dropout': 0.03902608717937733, 'lr': 0.00015580602417596752, 'weight': 0.6413157047830234}. Best is trial 3 with value: 0.48484069886947584.\n"
     ]
    },
    {
     "name": "stderr",
     "output_type": "stream",
     "text": [
      "/data1/shengen/conda_envs/ckgconv_env/lib/python3.11/site-packages/torch_geometric/sampler/neighbor_sampler.py:61: UserWarning: Using 'NeighborSampler' without a 'pyg-lib' installation is deprecated and will be removed soon. Please install 'pyg-lib' for accelerated neighborhood sampling\n",
      "  warnings.warn(f\"Using '{self.__class__.__name__}' without a \"\n",
      "Best trial: 3. Best value: 0.484841:  23%|██▎       | 7/30 [00:01<00:05,  3.90it/s]"
     ]
    },
    {
     "name": "stdout",
     "output_type": "stream",
     "text": [
      "[Trial 6] AUC: 0.3986 | Params: {'hid_dim': 64, 'num_layers': 3, 'dropout': 0.06434685373260207, 'lr': 0.0007200974658675463, 'weight': 0.6122434228005644}\n",
      "[I 2025-04-21 13:38:29,734] Trial 6 finished with value: 0.3985611510791367 and parameters: {'hid_dim': 64, 'num_layers': 3, 'dropout': 0.06434685373260207, 'lr': 0.0007200974658675463, 'weight': 0.6122434228005644}. Best is trial 3 with value: 0.48484069886947584.\n"
     ]
    },
    {
     "name": "stderr",
     "output_type": "stream",
     "text": [
      "/data1/shengen/conda_envs/ckgconv_env/lib/python3.11/site-packages/torch_geometric/sampler/neighbor_sampler.py:61: UserWarning: Using 'NeighborSampler' without a 'pyg-lib' installation is deprecated and will be removed soon. Please install 'pyg-lib' for accelerated neighborhood sampling\n",
      "  warnings.warn(f\"Using '{self.__class__.__name__}' without a \"\n",
      "Best trial: 3. Best value: 0.484841:  27%|██▋       | 8/30 [00:02<00:06,  3.53it/s]"
     ]
    },
    {
     "name": "stdout",
     "output_type": "stream",
     "text": [
      "[Trial 7] AUC: 0.3855 | Params: {'hid_dim': 32, 'num_layers': 6, 'dropout': 0.0497496015145909, 'lr': 0.00023431584335289083, 'weight': 0.14442557930449454}\n",
      "[I 2025-04-21 13:38:30,075] Trial 7 finished with value: 0.38545734840698864 and parameters: {'hid_dim': 32, 'num_layers': 6, 'dropout': 0.0497496015145909, 'lr': 0.00023431584335289083, 'weight': 0.14442557930449454}. Best is trial 3 with value: 0.48484069886947584.\n"
     ]
    },
    {
     "name": "stderr",
     "output_type": "stream",
     "text": [
      "/data1/shengen/conda_envs/ckgconv_env/lib/python3.11/site-packages/torch_geometric/sampler/neighbor_sampler.py:61: UserWarning: Using 'NeighborSampler' without a 'pyg-lib' installation is deprecated and will be removed soon. Please install 'pyg-lib' for accelerated neighborhood sampling\n",
      "  warnings.warn(f\"Using '{self.__class__.__name__}' without a \"\n",
      "Best trial: 3. Best value: 0.484841:  30%|███       | 9/30 [00:02<00:06,  3.41it/s]"
     ]
    },
    {
     "name": "stdout",
     "output_type": "stream",
     "text": [
      "[Trial 8] AUC: 0.4574 | Params: {'hid_dim': 64, 'num_layers': 5, 'dropout': 0.4718476999065967, 'lr': 0.0004789485850825441, 'weight': 0.767237628718018}\n",
      "[I 2025-04-21 13:38:30,390] Trial 8 finished with value: 0.45739979445015416 and parameters: {'hid_dim': 64, 'num_layers': 5, 'dropout': 0.4718476999065967, 'lr': 0.0004789485850825441, 'weight': 0.767237628718018}. Best is trial 3 with value: 0.48484069886947584.\n"
     ]
    },
    {
     "name": "stderr",
     "output_type": "stream",
     "text": [
      "/data1/shengen/conda_envs/ckgconv_env/lib/python3.11/site-packages/torch_geometric/sampler/neighbor_sampler.py:61: UserWarning: Using 'NeighborSampler' without a 'pyg-lib' installation is deprecated and will be removed soon. Please install 'pyg-lib' for accelerated neighborhood sampling\n",
      "  warnings.warn(f\"Using '{self.__class__.__name__}' without a \"\n",
      "Best trial: 3. Best value: 0.484841:  33%|███▎      | 10/30 [00:02<00:05,  3.51it/s]"
     ]
    },
    {
     "name": "stdout",
     "output_type": "stream",
     "text": [
      "[Trial 9] AUC: 0.4591 | Params: {'hid_dim': 64, 'num_layers': 4, 'dropout': 0.4315555965475477, 'lr': 0.0006088849814213932, 'weight': 0.6923470595199867}\n",
      "[I 2025-04-21 13:38:30,656] Trial 9 finished with value: 0.45912127440904416 and parameters: {'hid_dim': 64, 'num_layers': 4, 'dropout': 0.4315555965475477, 'lr': 0.0006088849814213932, 'weight': 0.6923470595199867}. Best is trial 3 with value: 0.48484069886947584.\n"
     ]
    },
    {
     "name": "stderr",
     "output_type": "stream",
     "text": [
      "/data1/shengen/conda_envs/ckgconv_env/lib/python3.11/site-packages/torch_geometric/sampler/neighbor_sampler.py:61: UserWarning: Using 'NeighborSampler' without a 'pyg-lib' installation is deprecated and will be removed soon. Please install 'pyg-lib' for accelerated neighborhood sampling\n",
      "  warnings.warn(f\"Using '{self.__class__.__name__}' without a \"\n",
      "Best trial: 10. Best value: 0.581552:  37%|███▋      | 11/30 [00:03<00:05,  3.26it/s]"
     ]
    },
    {
     "name": "stdout",
     "output_type": "stream",
     "text": [
      "[Trial 10] AUC: 0.5816 | Params: {'hid_dim': 128, 'num_layers': 6, 'dropout': 0.2583167122468562, 'lr': 0.004305546187822057, 'weight': 0.4475258946735145}\n",
      "[I 2025-04-21 13:38:31,013] Trial 10 finished with value: 0.581551901336074 and parameters: {'hid_dim': 128, 'num_layers': 6, 'dropout': 0.2583167122468562, 'lr': 0.004305546187822057, 'weight': 0.4475258946735145}. Best is trial 10 with value: 0.581551901336074.\n"
     ]
    },
    {
     "name": "stderr",
     "output_type": "stream",
     "text": [
      "/data1/shengen/conda_envs/ckgconv_env/lib/python3.11/site-packages/torch_geometric/sampler/neighbor_sampler.py:61: UserWarning: Using 'NeighborSampler' without a 'pyg-lib' installation is deprecated and will be removed soon. Please install 'pyg-lib' for accelerated neighborhood sampling\n",
      "  warnings.warn(f\"Using '{self.__class__.__name__}' without a \"\n",
      "Best trial: 10. Best value: 0.581552:  40%|████      | 12/30 [00:03<00:05,  3.11it/s]"
     ]
    },
    {
     "name": "stdout",
     "output_type": "stream",
     "text": [
      "[Trial 11] AUC: 0.5118 | Params: {'hid_dim': 128, 'num_layers': 6, 'dropout': 0.2717758120901755, 'lr': 0.004041543799431761, 'weight': 0.4093185568559838}\n",
      "[I 2025-04-21 13:38:31,367] Trial 11 finished with value: 0.5118191161356629 and parameters: {'hid_dim': 128, 'num_layers': 6, 'dropout': 0.2717758120901755, 'lr': 0.004041543799431761, 'weight': 0.4093185568559838}. Best is trial 10 with value: 0.581551901336074.\n"
     ]
    },
    {
     "name": "stderr",
     "output_type": "stream",
     "text": [
      "/data1/shengen/conda_envs/ckgconv_env/lib/python3.11/site-packages/torch_geometric/sampler/neighbor_sampler.py:61: UserWarning: Using 'NeighborSampler' without a 'pyg-lib' installation is deprecated and will be removed soon. Please install 'pyg-lib' for accelerated neighborhood sampling\n",
      "  warnings.warn(f\"Using '{self.__class__.__name__}' without a \"\n",
      "Best trial: 10. Best value: 0.581552:  43%|████▎     | 13/30 [00:03<00:05,  3.02it/s]"
     ]
    },
    {
     "name": "stdout",
     "output_type": "stream",
     "text": [
      "[Trial 12] AUC: 0.4013 | Params: {'hid_dim': 128, 'num_layers': 6, 'dropout': 0.2031604480289146, 'lr': 0.006274897737236496, 'weight': 0.394023729174034}\n",
      "[I 2025-04-21 13:38:31,722] Trial 12 finished with value: 0.4013103802672148 and parameters: {'hid_dim': 128, 'num_layers': 6, 'dropout': 0.2031604480289146, 'lr': 0.006274897737236496, 'weight': 0.394023729174034}. Best is trial 10 with value: 0.581551901336074.\n"
     ]
    },
    {
     "name": "stderr",
     "output_type": "stream",
     "text": [
      "/data1/shengen/conda_envs/ckgconv_env/lib/python3.11/site-packages/torch_geometric/sampler/neighbor_sampler.py:61: UserWarning: Using 'NeighborSampler' without a 'pyg-lib' installation is deprecated and will be removed soon. Please install 'pyg-lib' for accelerated neighborhood sampling\n",
      "  warnings.warn(f\"Using '{self.__class__.__name__}' without a \"\n",
      "Best trial: 10. Best value: 0.581552:  47%|████▋     | 14/30 [00:04<00:05,  2.94it/s]"
     ]
    },
    {
     "name": "stdout",
     "output_type": "stream",
     "text": [
      "[Trial 13] AUC: 0.4802 | Params: {'hid_dim': 128, 'num_layers': 6, 'dropout': 0.20435594417860073, 'lr': 0.009438729522902674, 'weight': 0.45556084106226735}\n",
      "[I 2025-04-21 13:38:32,082] Trial 13 finished with value: 0.4801901336073998 and parameters: {'hid_dim': 128, 'num_layers': 6, 'dropout': 0.20435594417860073, 'lr': 0.009438729522902674, 'weight': 0.45556084106226735}. Best is trial 10 with value: 0.581551901336074.\n"
     ]
    },
    {
     "name": "stderr",
     "output_type": "stream",
     "text": [
      "/data1/shengen/conda_envs/ckgconv_env/lib/python3.11/site-packages/torch_geometric/sampler/neighbor_sampler.py:61: UserWarning: Using 'NeighborSampler' without a 'pyg-lib' installation is deprecated and will be removed soon. Please install 'pyg-lib' for accelerated neighborhood sampling\n",
      "  warnings.warn(f\"Using '{self.__class__.__name__}' without a \"\n",
      "Best trial: 10. Best value: 0.581552:  50%|█████     | 15/30 [00:04<00:05,  2.88it/s]"
     ]
    },
    {
     "name": "stdout",
     "output_type": "stream",
     "text": [
      "[Trial 14] AUC: 0.4582 | Params: {'hid_dim': 128, 'num_layers': 6, 'dropout': 0.3480493459902513, 'lr': 0.002866504509415507, 'weight': 0.3131737101594287}\n",
      "[I 2025-04-21 13:38:32,444] Trial 14 finished with value: 0.4581706063720452 and parameters: {'hid_dim': 128, 'num_layers': 6, 'dropout': 0.3480493459902513, 'lr': 0.002866504509415507, 'weight': 0.3131737101594287}. Best is trial 10 with value: 0.581551901336074.\n"
     ]
    },
    {
     "name": "stderr",
     "output_type": "stream",
     "text": [
      "/data1/shengen/conda_envs/ckgconv_env/lib/python3.11/site-packages/torch_geometric/sampler/neighbor_sampler.py:61: UserWarning: Using 'NeighborSampler' without a 'pyg-lib' installation is deprecated and will be removed soon. Please install 'pyg-lib' for accelerated neighborhood sampling\n",
      "  warnings.warn(f\"Using '{self.__class__.__name__}' without a \"\n",
      "Best trial: 10. Best value: 0.581552:  53%|█████▎    | 16/30 [00:04<00:04,  2.93it/s]"
     ]
    },
    {
     "name": "stdout",
     "output_type": "stream",
     "text": [
      "[Trial 15] AUC: 0.4825 | Params: {'hid_dim': 128, 'num_layers': 5, 'dropout': 0.24802977322590497, 'lr': 0.002902752660240105, 'weight': 0.5490840136513374}\n",
      "[I 2025-04-21 13:38:32,774] Trial 15 finished with value: 0.48252826310380265 and parameters: {'hid_dim': 128, 'num_layers': 5, 'dropout': 0.24802977322590497, 'lr': 0.002902752660240105, 'weight': 0.5490840136513374}. Best is trial 10 with value: 0.581551901336074.\n"
     ]
    },
    {
     "name": "stderr",
     "output_type": "stream",
     "text": [
      "/data1/shengen/conda_envs/ckgconv_env/lib/python3.11/site-packages/torch_geometric/sampler/neighbor_sampler.py:61: UserWarning: Using 'NeighborSampler' without a 'pyg-lib' installation is deprecated and will be removed soon. Please install 'pyg-lib' for accelerated neighborhood sampling\n",
      "  warnings.warn(f\"Using '{self.__class__.__name__}' without a \"\n",
      "Best trial: 10. Best value: 0.581552:  57%|█████▋    | 17/30 [00:05<00:04,  2.86it/s]"
     ]
    },
    {
     "name": "stdout",
     "output_type": "stream",
     "text": [
      "[Trial 16] AUC: 0.5085 | Params: {'hid_dim': 128, 'num_layers': 6, 'dropout': 0.13558226786192634, 'lr': 0.0015998045295098273, 'weight': 0.2574563844806493}\n",
      "[I 2025-04-21 13:38:33,139] Trial 16 finished with value: 0.5085046248715314 and parameters: {'hid_dim': 128, 'num_layers': 6, 'dropout': 0.13558226786192634, 'lr': 0.0015998045295098273, 'weight': 0.2574563844806493}. Best is trial 10 with value: 0.581551901336074.\n"
     ]
    },
    {
     "name": "stderr",
     "output_type": "stream",
     "text": [
      "/data1/shengen/conda_envs/ckgconv_env/lib/python3.11/site-packages/torch_geometric/sampler/neighbor_sampler.py:61: UserWarning: Using 'NeighborSampler' without a 'pyg-lib' installation is deprecated and will be removed soon. Please install 'pyg-lib' for accelerated neighborhood sampling\n",
      "  warnings.warn(f\"Using '{self.__class__.__name__}' without a \"\n",
      "Best trial: 10. Best value: 0.581552:  60%|██████    | 18/30 [00:05<00:04,  2.84it/s]"
     ]
    },
    {
     "name": "stdout",
     "output_type": "stream",
     "text": [
      "[Trial 17] AUC: 0.5008 | Params: {'hid_dim': 128, 'num_layers': 5, 'dropout': 0.2884400933183985, 'lr': 0.0046578128901118175, 'weight': 0.47698323330418446}\n",
      "[I 2025-04-21 13:38:33,497] Trial 17 finished with value: 0.5008221993833505 and parameters: {'hid_dim': 128, 'num_layers': 5, 'dropout': 0.2884400933183985, 'lr': 0.0046578128901118175, 'weight': 0.47698323330418446}. Best is trial 10 with value: 0.581551901336074.\n"
     ]
    },
    {
     "name": "stderr",
     "output_type": "stream",
     "text": [
      "/data1/shengen/conda_envs/ckgconv_env/lib/python3.11/site-packages/torch_geometric/sampler/neighbor_sampler.py:61: UserWarning: Using 'NeighborSampler' without a 'pyg-lib' installation is deprecated and will be removed soon. Please install 'pyg-lib' for accelerated neighborhood sampling\n",
      "  warnings.warn(f\"Using '{self.__class__.__name__}' without a \"\n",
      "Best trial: 10. Best value: 0.581552:  63%|██████▎   | 19/30 [00:05<00:03,  3.10it/s]"
     ]
    },
    {
     "name": "stdout",
     "output_type": "stream",
     "text": [
      "[Trial 18] AUC: 0.3934 | Params: {'hid_dim': 128, 'num_layers': 3, 'dropout': 0.4055721879837129, 'lr': 0.004659598269425706, 'weight': 0.23833371154127453}\n",
      "[I 2025-04-21 13:38:33,751] Trial 18 finished with value: 0.3934224049331963 and parameters: {'hid_dim': 128, 'num_layers': 3, 'dropout': 0.4055721879837129, 'lr': 0.004659598269425706, 'weight': 0.23833371154127453}. Best is trial 10 with value: 0.581551901336074.\n"
     ]
    },
    {
     "name": "stderr",
     "output_type": "stream",
     "text": [
      "/data1/shengen/conda_envs/ckgconv_env/lib/python3.11/site-packages/torch_geometric/sampler/neighbor_sampler.py:61: UserWarning: Using 'NeighborSampler' without a 'pyg-lib' installation is deprecated and will be removed soon. Please install 'pyg-lib' for accelerated neighborhood sampling\n",
      "  warnings.warn(f\"Using '{self.__class__.__name__}' without a \"\n",
      "Best trial: 10. Best value: 0.581552:  67%|██████▋   | 20/30 [00:06<00:03,  3.01it/s]"
     ]
    },
    {
     "name": "stdout",
     "output_type": "stream",
     "text": [
      "[Trial 19] AUC: 0.4304 | Params: {'hid_dim': 128, 'num_layers': 6, 'dropout': 0.2026072290913538, 'lr': 0.0013911563815070434, 'weight': 0.545161127540518}\n",
      "[I 2025-04-21 13:38:34,106] Trial 19 finished with value: 0.43036998972250773 and parameters: {'hid_dim': 128, 'num_layers': 6, 'dropout': 0.2026072290913538, 'lr': 0.0013911563815070434, 'weight': 0.545161127540518}. Best is trial 10 with value: 0.581551901336074.\n"
     ]
    },
    {
     "name": "stderr",
     "output_type": "stream",
     "text": [
      "/data1/shengen/conda_envs/ckgconv_env/lib/python3.11/site-packages/torch_geometric/sampler/neighbor_sampler.py:61: UserWarning: Using 'NeighborSampler' without a 'pyg-lib' installation is deprecated and will be removed soon. Please install 'pyg-lib' for accelerated neighborhood sampling\n",
      "  warnings.warn(f\"Using '{self.__class__.__name__}' without a \"\n",
      "Best trial: 10. Best value: 0.581552:  70%|███████   | 21/30 [00:06<00:02,  3.14it/s]"
     ]
    },
    {
     "name": "stdout",
     "output_type": "stream",
     "text": [
      "[Trial 20] AUC: 0.4808 | Params: {'hid_dim': 128, 'num_layers': 4, 'dropout': 0.11487060540354671, 'lr': 0.00803648519317629, 'weight': 0.41125950530590727}\n",
      "[I 2025-04-21 13:38:34,391] Trial 20 finished with value: 0.48075539568345327 and parameters: {'hid_dim': 128, 'num_layers': 4, 'dropout': 0.11487060540354671, 'lr': 0.00803648519317629, 'weight': 0.41125950530590727}. Best is trial 10 with value: 0.581551901336074.\n"
     ]
    },
    {
     "name": "stderr",
     "output_type": "stream",
     "text": [
      "/data1/shengen/conda_envs/ckgconv_env/lib/python3.11/site-packages/torch_geometric/sampler/neighbor_sampler.py:61: UserWarning: Using 'NeighborSampler' without a 'pyg-lib' installation is deprecated and will be removed soon. Please install 'pyg-lib' for accelerated neighborhood sampling\n",
      "  warnings.warn(f\"Using '{self.__class__.__name__}' without a \"\n",
      "Best trial: 10. Best value: 0.581552:  73%|███████▎  | 22/30 [00:06<00:02,  3.07it/s]"
     ]
    },
    {
     "name": "stdout",
     "output_type": "stream",
     "text": [
      "[Trial 21] AUC: 0.5067 | Params: {'hid_dim': 128, 'num_layers': 6, 'dropout': 0.1412901994468061, 'lr': 0.001467015952128768, 'weight': 0.2779112440709853}\n",
      "[I 2025-04-21 13:38:34,736] Trial 21 finished with value: 0.5067317574511818 and parameters: {'hid_dim': 128, 'num_layers': 6, 'dropout': 0.1412901994468061, 'lr': 0.001467015952128768, 'weight': 0.2779112440709853}. Best is trial 10 with value: 0.581551901336074.\n"
     ]
    },
    {
     "name": "stderr",
     "output_type": "stream",
     "text": [
      "/data1/shengen/conda_envs/ckgconv_env/lib/python3.11/site-packages/torch_geometric/sampler/neighbor_sampler.py:61: UserWarning: Using 'NeighborSampler' without a 'pyg-lib' installation is deprecated and will be removed soon. Please install 'pyg-lib' for accelerated neighborhood sampling\n",
      "  warnings.warn(f\"Using '{self.__class__.__name__}' without a \"\n",
      "Best trial: 10. Best value: 0.581552:  77%|███████▋  | 23/30 [00:07<00:02,  3.02it/s]"
     ]
    },
    {
     "name": "stdout",
     "output_type": "stream",
     "text": [
      "[Trial 22] AUC: 0.5076 | Params: {'hid_dim': 128, 'num_layers': 6, 'dropout': 0.2330343972983039, 'lr': 0.003168193687155025, 'weight': 0.21026454393678565}\n",
      "[I 2025-04-21 13:38:35,081] Trial 22 finished with value: 0.5075539568345324 and parameters: {'hid_dim': 128, 'num_layers': 6, 'dropout': 0.2330343972983039, 'lr': 0.003168193687155025, 'weight': 0.21026454393678565}. Best is trial 10 with value: 0.581551901336074.\n"
     ]
    },
    {
     "name": "stderr",
     "output_type": "stream",
     "text": [
      "/data1/shengen/conda_envs/ckgconv_env/lib/python3.11/site-packages/torch_geometric/sampler/neighbor_sampler.py:61: UserWarning: Using 'NeighborSampler' without a 'pyg-lib' installation is deprecated and will be removed soon. Please install 'pyg-lib' for accelerated neighborhood sampling\n",
      "  warnings.warn(f\"Using '{self.__class__.__name__}' without a \"\n",
      "Best trial: 10. Best value: 0.581552:  80%|████████  | 24/30 [00:07<00:01,  3.09it/s]"
     ]
    },
    {
     "name": "stdout",
     "output_type": "stream",
     "text": [
      "[Trial 23] AUC: 0.4917 | Params: {'hid_dim': 128, 'num_layers': 5, 'dropout': 0.30770279215878027, 'lr': 0.0016894425896404215, 'weight': 0.32910876502719955}\n",
      "[I 2025-04-21 13:38:35,387] Trial 23 finished with value: 0.4916752312435766 and parameters: {'hid_dim': 128, 'num_layers': 5, 'dropout': 0.30770279215878027, 'lr': 0.0016894425896404215, 'weight': 0.32910876502719955}. Best is trial 10 with value: 0.581551901336074.\n"
     ]
    },
    {
     "name": "stderr",
     "output_type": "stream",
     "text": [
      "/data1/shengen/conda_envs/ckgconv_env/lib/python3.11/site-packages/torch_geometric/sampler/neighbor_sampler.py:61: UserWarning: Using 'NeighborSampler' without a 'pyg-lib' installation is deprecated and will be removed soon. Please install 'pyg-lib' for accelerated neighborhood sampling\n",
      "  warnings.warn(f\"Using '{self.__class__.__name__}' without a \"\n",
      "Best trial: 10. Best value: 0.581552:  83%|████████▎ | 25/30 [00:07<00:01,  3.05it/s]"
     ]
    },
    {
     "name": "stdout",
     "output_type": "stream",
     "text": [
      "[Trial 24] AUC: 0.4977 | Params: {'hid_dim': 128, 'num_layers': 6, 'dropout': 0.11118695319843447, 'lr': 0.004589129550878891, 'weight': 0.43830098158727343}\n",
      "[I 2025-04-21 13:38:35,723] Trial 24 finished with value: 0.4976875642343268 and parameters: {'hid_dim': 128, 'num_layers': 6, 'dropout': 0.11118695319843447, 'lr': 0.004589129550878891, 'weight': 0.43830098158727343}. Best is trial 10 with value: 0.581551901336074.\n"
     ]
    },
    {
     "name": "stderr",
     "output_type": "stream",
     "text": [
      "/data1/shengen/conda_envs/ckgconv_env/lib/python3.11/site-packages/torch_geometric/sampler/neighbor_sampler.py:61: UserWarning: Using 'NeighborSampler' without a 'pyg-lib' installation is deprecated and will be removed soon. Please install 'pyg-lib' for accelerated neighborhood sampling\n",
      "  warnings.warn(f\"Using '{self.__class__.__name__}' without a \"\n",
      "Best trial: 10. Best value: 0.581552:  87%|████████▋ | 26/30 [00:08<00:01,  3.06it/s]"
     ]
    },
    {
     "name": "stdout",
     "output_type": "stream",
     "text": [
      "[Trial 25] AUC: 0.4577 | Params: {'hid_dim': 32, 'num_layers': 5, 'dropout': 0.16811425026204066, 'lr': 0.002159495456028577, 'weight': 0.21070887208346173}\n",
      "[I 2025-04-21 13:38:36,048] Trial 25 finished with value: 0.4576567317574511 and parameters: {'hid_dim': 32, 'num_layers': 5, 'dropout': 0.16811425026204066, 'lr': 0.002159495456028577, 'weight': 0.21070887208346173}. Best is trial 10 with value: 0.581551901336074.\n"
     ]
    },
    {
     "name": "stderr",
     "output_type": "stream",
     "text": [
      "/data1/shengen/conda_envs/ckgconv_env/lib/python3.11/site-packages/torch_geometric/sampler/neighbor_sampler.py:61: UserWarning: Using 'NeighborSampler' without a 'pyg-lib' installation is deprecated and will be removed soon. Please install 'pyg-lib' for accelerated neighborhood sampling\n",
      "  warnings.warn(f\"Using '{self.__class__.__name__}' without a \"\n",
      "Best trial: 10. Best value: 0.581552:  90%|█████████ | 27/30 [00:08<00:01,  3.00it/s]"
     ]
    },
    {
     "name": "stdout",
     "output_type": "stream",
     "text": [
      "[Trial 26] AUC: 0.4869 | Params: {'hid_dim': 128, 'num_layers': 6, 'dropout': 0.004928905207032708, 'lr': 0.0037301587623268457, 'weight': 0.5329287562369727}\n",
      "[I 2025-04-21 13:38:36,397] Trial 26 finished with value: 0.48689619732785205 and parameters: {'hid_dim': 128, 'num_layers': 6, 'dropout': 0.004928905207032708, 'lr': 0.0037301587623268457, 'weight': 0.5329287562369727}. Best is trial 10 with value: 0.581551901336074.\n"
     ]
    },
    {
     "name": "stderr",
     "output_type": "stream",
     "text": [
      "/data1/shengen/conda_envs/ckgconv_env/lib/python3.11/site-packages/torch_geometric/sampler/neighbor_sampler.py:61: UserWarning: Using 'NeighborSampler' without a 'pyg-lib' installation is deprecated and will be removed soon. Please install 'pyg-lib' for accelerated neighborhood sampling\n",
      "  warnings.warn(f\"Using '{self.__class__.__name__}' without a \"\n",
      "Best trial: 10. Best value: 0.581552:  93%|█████████▎| 28/30 [00:08<00:00,  3.30it/s]"
     ]
    },
    {
     "name": "stdout",
     "output_type": "stream",
     "text": [
      "[Trial 27] AUC: 0.4051 | Params: {'hid_dim': 128, 'num_layers': 2, 'dropout': 0.26344751380676856, 'lr': 0.006724066598480708, 'weight': 0.10008990851058205}\n",
      "[I 2025-04-21 13:38:36,629] Trial 27 finished with value: 0.40507451181911613 and parameters: {'hid_dim': 128, 'num_layers': 2, 'dropout': 0.26344751380676856, 'lr': 0.006724066598480708, 'weight': 0.10008990851058205}. Best is trial 10 with value: 0.581551901336074.\n"
     ]
    },
    {
     "name": "stderr",
     "output_type": "stream",
     "text": [
      "/data1/shengen/conda_envs/ckgconv_env/lib/python3.11/site-packages/torch_geometric/sampler/neighbor_sampler.py:61: UserWarning: Using 'NeighborSampler' without a 'pyg-lib' installation is deprecated and will be removed soon. Please install 'pyg-lib' for accelerated neighborhood sampling\n",
      "  warnings.warn(f\"Using '{self.__class__.__name__}' without a \"\n",
      "Best trial: 10. Best value: 0.581552:  97%|█████████▋| 29/30 [00:09<00:00,  3.18it/s]"
     ]
    },
    {
     "name": "stdout",
     "output_type": "stream",
     "text": [
      "[Trial 28] AUC: 0.4112 | Params: {'hid_dim': 128, 'num_layers': 5, 'dropout': 0.34442443203222894, 'lr': 0.0011101817274758383, 'weight': 0.34868407072510615}\n",
      "[I 2025-04-21 13:38:36,971] Trial 28 finished with value: 0.4111767728674204 and parameters: {'hid_dim': 128, 'num_layers': 5, 'dropout': 0.34442443203222894, 'lr': 0.0011101817274758383, 'weight': 0.34868407072510615}. Best is trial 10 with value: 0.581551901336074.\n"
     ]
    },
    {
     "name": "stderr",
     "output_type": "stream",
     "text": [
      "/data1/shengen/conda_envs/ckgconv_env/lib/python3.11/site-packages/torch_geometric/sampler/neighbor_sampler.py:61: UserWarning: Using 'NeighborSampler' without a 'pyg-lib' installation is deprecated and will be removed soon. Please install 'pyg-lib' for accelerated neighborhood sampling\n",
      "  warnings.warn(f\"Using '{self.__class__.__name__}' without a \"\n",
      "Best trial: 10. Best value: 0.581552: 100%|██████████| 30/30 [00:09<00:00,  3.18it/s]"
     ]
    },
    {
     "name": "stdout",
     "output_type": "stream",
     "text": [
      "[Trial 29] AUC: 0.4992 | Params: {'hid_dim': 32, 'num_layers': 5, 'dropout': 0.37270829790447446, 'lr': 0.0020879469581591543, 'weight': 0.30000672710027665}\n",
      "[I 2025-04-21 13:38:37,311] Trial 29 finished with value: 0.49920349434737926 and parameters: {'hid_dim': 32, 'num_layers': 5, 'dropout': 0.37270829790447446, 'lr': 0.0020879469581591543, 'weight': 0.30000672710027665}. Best is trial 10 with value: 0.581551901336074.\n",
      "Best params for books: {'hid_dim': 128, 'num_layers': 6, 'dropout': 0.2583167122468562, 'lr': 0.004305546187822057, 'weight': 0.4475258946735145}\n",
      "[Run 1/10]\n"
     ]
    },
    {
     "name": "stderr",
     "output_type": "stream",
     "text": [
      "\n",
      "/data1/shengen/conda_envs/ckgconv_env/lib/python3.11/site-packages/torch_geometric/sampler/neighbor_sampler.py:61: UserWarning: Using 'NeighborSampler' without a 'pyg-lib' installation is deprecated and will be removed soon. Please install 'pyg-lib' for accelerated neighborhood sampling\n",
      "  warnings.warn(f\"Using '{self.__class__.__name__}' without a \"\n"
     ]
    },
    {
     "name": "stdout",
     "output_type": "stream",
     "text": [
      "[Run 2/10]\n"
     ]
    },
    {
     "name": "stderr",
     "output_type": "stream",
     "text": [
      "/data1/shengen/conda_envs/ckgconv_env/lib/python3.11/site-packages/torch_geometric/sampler/neighbor_sampler.py:61: UserWarning: Using 'NeighborSampler' without a 'pyg-lib' installation is deprecated and will be removed soon. Please install 'pyg-lib' for accelerated neighborhood sampling\n",
      "  warnings.warn(f\"Using '{self.__class__.__name__}' without a \"\n"
     ]
    },
    {
     "name": "stdout",
     "output_type": "stream",
     "text": [
      "[Run 3/10]\n"
     ]
    },
    {
     "name": "stderr",
     "output_type": "stream",
     "text": [
      "/data1/shengen/conda_envs/ckgconv_env/lib/python3.11/site-packages/torch_geometric/sampler/neighbor_sampler.py:61: UserWarning: Using 'NeighborSampler' without a 'pyg-lib' installation is deprecated and will be removed soon. Please install 'pyg-lib' for accelerated neighborhood sampling\n",
      "  warnings.warn(f\"Using '{self.__class__.__name__}' without a \"\n"
     ]
    },
    {
     "name": "stdout",
     "output_type": "stream",
     "text": [
      "[Run 4/10]\n"
     ]
    },
    {
     "name": "stderr",
     "output_type": "stream",
     "text": [
      "/data1/shengen/conda_envs/ckgconv_env/lib/python3.11/site-packages/torch_geometric/sampler/neighbor_sampler.py:61: UserWarning: Using 'NeighborSampler' without a 'pyg-lib' installation is deprecated and will be removed soon. Please install 'pyg-lib' for accelerated neighborhood sampling\n",
      "  warnings.warn(f\"Using '{self.__class__.__name__}' without a \"\n"
     ]
    },
    {
     "name": "stdout",
     "output_type": "stream",
     "text": [
      "[Run 5/10]\n"
     ]
    },
    {
     "name": "stderr",
     "output_type": "stream",
     "text": [
      "/data1/shengen/conda_envs/ckgconv_env/lib/python3.11/site-packages/torch_geometric/sampler/neighbor_sampler.py:61: UserWarning: Using 'NeighborSampler' without a 'pyg-lib' installation is deprecated and will be removed soon. Please install 'pyg-lib' for accelerated neighborhood sampling\n",
      "  warnings.warn(f\"Using '{self.__class__.__name__}' without a \"\n"
     ]
    },
    {
     "name": "stdout",
     "output_type": "stream",
     "text": [
      "[Run 6/10]\n"
     ]
    },
    {
     "name": "stderr",
     "output_type": "stream",
     "text": [
      "/data1/shengen/conda_envs/ckgconv_env/lib/python3.11/site-packages/torch_geometric/sampler/neighbor_sampler.py:61: UserWarning: Using 'NeighborSampler' without a 'pyg-lib' installation is deprecated and will be removed soon. Please install 'pyg-lib' for accelerated neighborhood sampling\n",
      "  warnings.warn(f\"Using '{self.__class__.__name__}' without a \"\n"
     ]
    },
    {
     "name": "stdout",
     "output_type": "stream",
     "text": [
      "[Run 7/10]\n"
     ]
    },
    {
     "name": "stderr",
     "output_type": "stream",
     "text": [
      "/data1/shengen/conda_envs/ckgconv_env/lib/python3.11/site-packages/torch_geometric/sampler/neighbor_sampler.py:61: UserWarning: Using 'NeighborSampler' without a 'pyg-lib' installation is deprecated and will be removed soon. Please install 'pyg-lib' for accelerated neighborhood sampling\n",
      "  warnings.warn(f\"Using '{self.__class__.__name__}' without a \"\n"
     ]
    },
    {
     "name": "stdout",
     "output_type": "stream",
     "text": [
      "[Run 8/10]\n"
     ]
    },
    {
     "name": "stderr",
     "output_type": "stream",
     "text": [
      "/data1/shengen/conda_envs/ckgconv_env/lib/python3.11/site-packages/torch_geometric/sampler/neighbor_sampler.py:61: UserWarning: Using 'NeighborSampler' without a 'pyg-lib' installation is deprecated and will be removed soon. Please install 'pyg-lib' for accelerated neighborhood sampling\n",
      "  warnings.warn(f\"Using '{self.__class__.__name__}' without a \"\n"
     ]
    },
    {
     "name": "stdout",
     "output_type": "stream",
     "text": [
      "[Run 9/10]\n"
     ]
    },
    {
     "name": "stderr",
     "output_type": "stream",
     "text": [
      "/data1/shengen/conda_envs/ckgconv_env/lib/python3.11/site-packages/torch_geometric/sampler/neighbor_sampler.py:61: UserWarning: Using 'NeighborSampler' without a 'pyg-lib' installation is deprecated and will be removed soon. Please install 'pyg-lib' for accelerated neighborhood sampling\n",
      "  warnings.warn(f\"Using '{self.__class__.__name__}' without a \"\n"
     ]
    },
    {
     "name": "stdout",
     "output_type": "stream",
     "text": [
      "[Run 10/10]\n"
     ]
    },
    {
     "name": "stderr",
     "output_type": "stream",
     "text": [
      "/data1/shengen/conda_envs/ckgconv_env/lib/python3.11/site-packages/torch_geometric/sampler/neighbor_sampler.py:61: UserWarning: Using 'NeighborSampler' without a 'pyg-lib' installation is deprecated and will be removed soon. Please install 'pyg-lib' for accelerated neighborhood sampling\n",
      "  warnings.warn(f\"Using '{self.__class__.__name__}' without a \"\n",
      "[I 2025-04-21 13:39:01,211] A new study created in memory with name: no-name-314d7a0f-01aa-48b6-a1f2-0edb7ed13bca\n"
     ]
    },
    {
     "name": "stdout",
     "output_type": "stream",
     "text": [
      "Saved results to results/dominant_books.csv\n",
      "Summary for books:\n",
      "  AUC-ROC (mean±std): 0.4566 ± 0.0293\n",
      "  AP (mean±std): 0.0245 ± 0.0141\n",
      "  F1 (mean±std): 0.0224 ± 0.0186\n",
      " Running DOMINANT on gen_500...\n",
      "\n"
     ]
    },
    {
     "name": "stderr",
     "output_type": "stream",
     "text": [
      "  0%|          | 0/30 [00:00<?, ?it/s]/data1/shengen/conda_envs/ckgconv_env/lib/python3.11/site-packages/torch_geometric/sampler/neighbor_sampler.py:61: UserWarning: Using 'NeighborSampler' without a 'pyg-lib' installation is deprecated and will be removed soon. Please install 'pyg-lib' for accelerated neighborhood sampling\n",
      "  warnings.warn(f\"Using '{self.__class__.__name__}' without a \"\n",
      "Best trial: 0. Best value: 0.796979:   3%|▎         | 1/30 [00:00<00:08,  3.49it/s]/data1/shengen/conda_envs/ckgconv_env/lib/python3.11/site-packages/torch_geometric/sampler/neighbor_sampler.py:61: UserWarning: Using 'NeighborSampler' without a 'pyg-lib' installation is deprecated and will be removed soon. Please install 'pyg-lib' for accelerated neighborhood sampling\n",
      "  warnings.warn(f\"Using '{self.__class__.__name__}' without a \"\n",
      "Best trial: 0. Best value: 0.796979:   7%|▋         | 2/30 [00:00<00:06,  4.43it/s]"
     ]
    },
    {
     "name": "stdout",
     "output_type": "stream",
     "text": [
      "[Trial 0] AUC: 0.7970 | Params: {'hid_dim': 128, 'num_layers': 5, 'dropout': 0.1313206627069648, 'lr': 0.00046359804416688273, 'weight': 0.5754671626315842}\n",
      "[I 2025-04-21 13:39:01,499] Trial 0 finished with value: 0.7969791666666667 and parameters: {'hid_dim': 128, 'num_layers': 5, 'dropout': 0.1313206627069648, 'lr': 0.00046359804416688273, 'weight': 0.5754671626315842}. Best is trial 0 with value: 0.7969791666666667.\n",
      "[Trial 1] AUC: 0.7899 | Params: {'hid_dim': 32, 'num_layers': 3, 'dropout': 0.43323217250260254, 'lr': 0.004542041095722512, 'weight': 0.5461575290354672}\n",
      "[I 2025-04-21 13:39:01,682] Trial 1 finished with value: 0.7898958333333334 and parameters: {'hid_dim': 32, 'num_layers': 3, 'dropout': 0.43323217250260254, 'lr': 0.004542041095722512, 'weight': 0.5461575290354672}. Best is trial 0 with value: 0.7969791666666667.\n"
     ]
    },
    {
     "name": "stderr",
     "output_type": "stream",
     "text": [
      "/data1/shengen/conda_envs/ckgconv_env/lib/python3.11/site-packages/torch_geometric/sampler/neighbor_sampler.py:61: UserWarning: Using 'NeighborSampler' without a 'pyg-lib' installation is deprecated and will be removed soon. Please install 'pyg-lib' for accelerated neighborhood sampling\n",
      "  warnings.warn(f\"Using '{self.__class__.__name__}' without a \"\n",
      "Best trial: 0. Best value: 0.796979:  10%|█         | 3/30 [00:00<00:05,  4.84it/s]/data1/shengen/conda_envs/ckgconv_env/lib/python3.11/site-packages/torch_geometric/sampler/neighbor_sampler.py:61: UserWarning: Using 'NeighborSampler' without a 'pyg-lib' installation is deprecated and will be removed soon. Please install 'pyg-lib' for accelerated neighborhood sampling\n",
      "  warnings.warn(f\"Using '{self.__class__.__name__}' without a \"\n"
     ]
    },
    {
     "name": "stdout",
     "output_type": "stream",
     "text": [
      "[Trial 2] AUC: 0.7907 | Params: {'hid_dim': 128, 'num_layers': 3, 'dropout': 0.10341448263954806, 'lr': 0.003075280789185797, 'weight': 0.3483970739899658}\n",
      "[I 2025-04-21 13:39:01,866] Trial 2 finished with value: 0.7907291666666666 and parameters: {'hid_dim': 128, 'num_layers': 3, 'dropout': 0.10341448263954806, 'lr': 0.003075280789185797, 'weight': 0.3483970739899658}. Best is trial 0 with value: 0.7969791666666667.\n"
     ]
    },
    {
     "name": "stderr",
     "output_type": "stream",
     "text": [
      "Best trial: 0. Best value: 0.796979:  13%|█▎        | 4/30 [00:00<00:05,  4.36it/s]/data1/shengen/conda_envs/ckgconv_env/lib/python3.11/site-packages/torch_geometric/sampler/neighbor_sampler.py:61: UserWarning: Using 'NeighborSampler' without a 'pyg-lib' installation is deprecated and will be removed soon. Please install 'pyg-lib' for accelerated neighborhood sampling\n",
      "  warnings.warn(f\"Using '{self.__class__.__name__}' without a \"\n",
      "Best trial: 0. Best value: 0.796979:  17%|█▋        | 5/30 [00:01<00:05,  4.95it/s]"
     ]
    },
    {
     "name": "stdout",
     "output_type": "stream",
     "text": [
      "[Trial 3] AUC: 0.7812 | Params: {'hid_dim': 64, 'num_layers': 5, 'dropout': 0.02445642995133085, 'lr': 0.00026372827020350434, 'weight': 0.27283486180310057}\n",
      "[I 2025-04-21 13:39:02,130] Trial 3 finished with value: 0.7812499999999999 and parameters: {'hid_dim': 64, 'num_layers': 5, 'dropout': 0.02445642995133085, 'lr': 0.00026372827020350434, 'weight': 0.27283486180310057}. Best is trial 0 with value: 0.7969791666666667.\n",
      "[Trial 4] AUC: 0.7817 | Params: {'hid_dim': 32, 'num_layers': 2, 'dropout': 0.34441373925782304, 'lr': 0.0004356171446060221, 'weight': 0.21558914705114623}\n",
      "[I 2025-04-21 13:39:02,284] Trial 4 finished with value: 0.7816666666666666 and parameters: {'hid_dim': 32, 'num_layers': 2, 'dropout': 0.34441373925782304, 'lr': 0.0004356171446060221, 'weight': 0.21558914705114623}. Best is trial 0 with value: 0.7969791666666667.\n"
     ]
    },
    {
     "name": "stderr",
     "output_type": "stream",
     "text": [
      "/data1/shengen/conda_envs/ckgconv_env/lib/python3.11/site-packages/torch_geometric/sampler/neighbor_sampler.py:61: UserWarning: Using 'NeighborSampler' without a 'pyg-lib' installation is deprecated and will be removed soon. Please install 'pyg-lib' for accelerated neighborhood sampling\n",
      "  warnings.warn(f\"Using '{self.__class__.__name__}' without a \"\n",
      "Best trial: 0. Best value: 0.796979:  20%|██        | 6/30 [00:01<00:05,  4.43it/s]"
     ]
    },
    {
     "name": "stdout",
     "output_type": "stream",
     "text": [
      "[Trial 5] AUC: 0.7891 | Params: {'hid_dim': 128, 'num_layers': 5, 'dropout': 0.4101772764451499, 'lr': 0.00010683798503617831, 'weight': 0.885838026554799}\n",
      "[I 2025-04-21 13:39:02,556] Trial 5 finished with value: 0.7890624999999999 and parameters: {'hid_dim': 128, 'num_layers': 5, 'dropout': 0.4101772764451499, 'lr': 0.00010683798503617831, 'weight': 0.885838026554799}. Best is trial 0 with value: 0.7969791666666667.\n"
     ]
    },
    {
     "name": "stderr",
     "output_type": "stream",
     "text": [
      "/data1/shengen/conda_envs/ckgconv_env/lib/python3.11/site-packages/torch_geometric/sampler/neighbor_sampler.py:61: UserWarning: Using 'NeighborSampler' without a 'pyg-lib' installation is deprecated and will be removed soon. Please install 'pyg-lib' for accelerated neighborhood sampling\n",
      "  warnings.warn(f\"Using '{self.__class__.__name__}' without a \"\n",
      "Best trial: 0. Best value: 0.796979:  23%|██▎       | 7/30 [00:01<00:05,  4.20it/s]"
     ]
    },
    {
     "name": "stdout",
     "output_type": "stream",
     "text": [
      "[Trial 6] AUC: 0.7961 | Params: {'hid_dim': 64, 'num_layers': 5, 'dropout': 0.09783280701327618, 'lr': 0.0016225925996470707, 'weight': 0.7621123143508232}\n",
      "[I 2025-04-21 13:39:02,819] Trial 6 finished with value: 0.7961458333333333 and parameters: {'hid_dim': 64, 'num_layers': 5, 'dropout': 0.09783280701327618, 'lr': 0.0016225925996470707, 'weight': 0.7621123143508232}. Best is trial 0 with value: 0.7969791666666667.\n"
     ]
    },
    {
     "name": "stderr",
     "output_type": "stream",
     "text": [
      "/data1/shengen/conda_envs/ckgconv_env/lib/python3.11/site-packages/torch_geometric/sampler/neighbor_sampler.py:61: UserWarning: Using 'NeighborSampler' without a 'pyg-lib' installation is deprecated and will be removed soon. Please install 'pyg-lib' for accelerated neighborhood sampling\n",
      "  warnings.warn(f\"Using '{self.__class__.__name__}' without a \"\n",
      "Best trial: 0. Best value: 0.796979:  27%|██▋       | 8/30 [00:01<00:05,  4.04it/s]"
     ]
    },
    {
     "name": "stdout",
     "output_type": "stream",
     "text": [
      "[Trial 7] AUC: 0.7806 | Params: {'hid_dim': 32, 'num_layers': 5, 'dropout': 0.09789541055562517, 'lr': 0.00026522706578358256, 'weight': 0.29536048571883755}\n",
      "[I 2025-04-21 13:39:03,086] Trial 7 finished with value: 0.780625 and parameters: {'hid_dim': 32, 'num_layers': 5, 'dropout': 0.09789541055562517, 'lr': 0.00026522706578358256, 'weight': 0.29536048571883755}. Best is trial 0 with value: 0.7969791666666667.\n"
     ]
    },
    {
     "name": "stderr",
     "output_type": "stream",
     "text": [
      "/data1/shengen/conda_envs/ckgconv_env/lib/python3.11/site-packages/torch_geometric/sampler/neighbor_sampler.py:61: UserWarning: Using 'NeighborSampler' without a 'pyg-lib' installation is deprecated and will be removed soon. Please install 'pyg-lib' for accelerated neighborhood sampling\n",
      "  warnings.warn(f\"Using '{self.__class__.__name__}' without a \"\n",
      "Best trial: 0. Best value: 0.796979:  30%|███       | 9/30 [00:02<00:05,  3.94it/s]"
     ]
    },
    {
     "name": "stdout",
     "output_type": "stream",
     "text": [
      "[Trial 8] AUC: 0.7893 | Params: {'hid_dim': 128, 'num_layers': 5, 'dropout': 0.00225929624230492, 'lr': 0.00440090496401599, 'weight': 0.32313694895761413}\n",
      "[I 2025-04-21 13:39:03,354] Trial 8 finished with value: 0.7892708333333333 and parameters: {'hid_dim': 128, 'num_layers': 5, 'dropout': 0.00225929624230492, 'lr': 0.00440090496401599, 'weight': 0.32313694895761413}. Best is trial 0 with value: 0.7969791666666667.\n"
     ]
    },
    {
     "name": "stderr",
     "output_type": "stream",
     "text": [
      "/data1/shengen/conda_envs/ckgconv_env/lib/python3.11/site-packages/torch_geometric/sampler/neighbor_sampler.py:61: UserWarning: Using 'NeighborSampler' without a 'pyg-lib' installation is deprecated and will be removed soon. Please install 'pyg-lib' for accelerated neighborhood sampling\n",
      "  warnings.warn(f\"Using '{self.__class__.__name__}' without a \"\n",
      "Best trial: 0. Best value: 0.796979:  33%|███▎      | 10/30 [00:02<00:05,  3.77it/s]"
     ]
    },
    {
     "name": "stdout",
     "output_type": "stream",
     "text": [
      "[Trial 9] AUC: 0.7949 | Params: {'hid_dim': 128, 'num_layers': 6, 'dropout': 0.13881863265742017, 'lr': 0.001191636014853871, 'weight': 0.754602958738716}\n",
      "[I 2025-04-21 13:39:03,644] Trial 9 finished with value: 0.7948958333333332 and parameters: {'hid_dim': 128, 'num_layers': 6, 'dropout': 0.13881863265742017, 'lr': 0.001191636014853871, 'weight': 0.754602958738716}. Best is trial 0 with value: 0.7969791666666667.\n"
     ]
    },
    {
     "name": "stderr",
     "output_type": "stream",
     "text": [
      "/data1/shengen/conda_envs/ckgconv_env/lib/python3.11/site-packages/torch_geometric/sampler/neighbor_sampler.py:61: UserWarning: Using 'NeighborSampler' without a 'pyg-lib' installation is deprecated and will be removed soon. Please install 'pyg-lib' for accelerated neighborhood sampling\n",
      "  warnings.warn(f\"Using '{self.__class__.__name__}' without a \"\n",
      "Best trial: 0. Best value: 0.796979:  37%|███▋      | 11/30 [00:02<00:05,  3.59it/s]"
     ]
    },
    {
     "name": "stdout",
     "output_type": "stream",
     "text": [
      "[Trial 10] AUC: 0.7917 | Params: {'hid_dim': 128, 'num_layers': 6, 'dropout': 0.2599723322095865, 'lr': 0.0005887927012351919, 'weight': 0.5451211049477346}\n",
      "[I 2025-04-21 13:39:03,952] Trial 10 finished with value: 0.7916666666666667 and parameters: {'hid_dim': 128, 'num_layers': 6, 'dropout': 0.2599723322095865, 'lr': 0.0005887927012351919, 'weight': 0.5451211049477346}. Best is trial 0 with value: 0.7969791666666667.\n"
     ]
    },
    {
     "name": "stderr",
     "output_type": "stream",
     "text": [
      "/data1/shengen/conda_envs/ckgconv_env/lib/python3.11/site-packages/torch_geometric/sampler/neighbor_sampler.py:61: UserWarning: Using 'NeighborSampler' without a 'pyg-lib' installation is deprecated and will be removed soon. Please install 'pyg-lib' for accelerated neighborhood sampling\n",
      "  warnings.warn(f\"Using '{self.__class__.__name__}' without a \"\n",
      "Best trial: 0. Best value: 0.796979:  40%|████      | 12/30 [00:02<00:04,  3.82it/s]"
     ]
    },
    {
     "name": "stdout",
     "output_type": "stream",
     "text": [
      "[Trial 11] AUC: 0.7956 | Params: {'hid_dim': 64, 'num_layers': 4, 'dropout': 0.20325458065049284, 'lr': 0.0014865396525404505, 'weight': 0.696855598155635}\n",
      "[I 2025-04-21 13:39:04,177] Trial 11 finished with value: 0.7956249999999999 and parameters: {'hid_dim': 64, 'num_layers': 4, 'dropout': 0.20325458065049284, 'lr': 0.0014865396525404505, 'weight': 0.696855598155635}. Best is trial 0 with value: 0.7969791666666667.\n"
     ]
    },
    {
     "name": "stderr",
     "output_type": "stream",
     "text": [
      "/data1/shengen/conda_envs/ckgconv_env/lib/python3.11/site-packages/torch_geometric/sampler/neighbor_sampler.py:61: UserWarning: Using 'NeighborSampler' without a 'pyg-lib' installation is deprecated and will be removed soon. Please install 'pyg-lib' for accelerated neighborhood sampling\n",
      "  warnings.warn(f\"Using '{self.__class__.__name__}' without a \"\n",
      "Best trial: 12. Best value: 0.797187:  43%|████▎     | 13/30 [00:03<00:04,  3.95it/s]"
     ]
    },
    {
     "name": "stdout",
     "output_type": "stream",
     "text": [
      "[Trial 12] AUC: 0.7972 | Params: {'hid_dim': 64, 'num_layers': 4, 'dropout': 0.21694845617709374, 'lr': 0.0022015746291225062, 'weight': 0.6720832975075826}\n",
      "[I 2025-04-21 13:39:04,410] Trial 12 finished with value: 0.7971874999999999 and parameters: {'hid_dim': 64, 'num_layers': 4, 'dropout': 0.21694845617709374, 'lr': 0.0022015746291225062, 'weight': 0.6720832975075826}. Best is trial 12 with value: 0.7971874999999999.\n"
     ]
    },
    {
     "name": "stderr",
     "output_type": "stream",
     "text": [
      "/data1/shengen/conda_envs/ckgconv_env/lib/python3.11/site-packages/torch_geometric/sampler/neighbor_sampler.py:61: UserWarning: Using 'NeighborSampler' without a 'pyg-lib' installation is deprecated and will be removed soon. Please install 'pyg-lib' for accelerated neighborhood sampling\n",
      "  warnings.warn(f\"Using '{self.__class__.__name__}' without a \"\n",
      "Best trial: 12. Best value: 0.797187:  47%|████▋     | 14/30 [00:03<00:03,  4.07it/s]/data1/shengen/conda_envs/ckgconv_env/lib/python3.11/site-packages/torch_geometric/sampler/neighbor_sampler.py:61: UserWarning: Using 'NeighborSampler' without a 'pyg-lib' installation is deprecated and will be removed soon. Please install 'pyg-lib' for accelerated neighborhood sampling\n",
      "  warnings.warn(f\"Using '{self.__class__.__name__}' without a \"\n",
      "Best trial: 12. Best value: 0.797187:  47%|████▋     | 14/30 [00:03<00:03,  4.07it/s]"
     ]
    },
    {
     "name": "stdout",
     "output_type": "stream",
     "text": [
      "[Trial 13] AUC: 0.7932 | Params: {'hid_dim': 64, 'num_layers': 4, 'dropout': 0.24644436469724407, 'lr': 0.007790084525315425, 'weight': 0.4550564406392803}\n",
      "[I 2025-04-21 13:39:04,639] Trial 13 finished with value: 0.7932291666666667 and parameters: {'hid_dim': 64, 'num_layers': 4, 'dropout': 0.24644436469724407, 'lr': 0.007790084525315425, 'weight': 0.4550564406392803}. Best is trial 12 with value: 0.7971874999999999.\n",
      "[Trial 14] AUC: 0.7929 | Params: {'hid_dim': 64, 'num_layers': 3, 'dropout': 0.1883024571359246, 'lr': 0.0006878720804012822, 'weight': 0.6329505347843574}\n",
      "[I 2025-04-21 13:39:04,836] Trial 14 finished with value: 0.7929166666666667 and parameters: {'hid_dim': 64, 'num_layers': 3, 'dropout': 0.1883024571359246, 'lr': 0.0006878720804012822, 'weight': 0.6329505347843574}. Best is trial 12 with value: 0.7971874999999999.\n"
     ]
    },
    {
     "name": "stderr",
     "output_type": "stream",
     "text": [
      "Best trial: 12. Best value: 0.797187:  50%|█████     | 15/30 [00:03<00:03,  4.32it/s]/data1/shengen/conda_envs/ckgconv_env/lib/python3.11/site-packages/torch_geometric/sampler/neighbor_sampler.py:61: UserWarning: Using 'NeighborSampler' without a 'pyg-lib' installation is deprecated and will be removed soon. Please install 'pyg-lib' for accelerated neighborhood sampling\n",
      "  warnings.warn(f\"Using '{self.__class__.__name__}' without a \"\n",
      "Best trial: 12. Best value: 0.797187:  53%|█████▎    | 16/30 [00:03<00:03,  4.35it/s]"
     ]
    },
    {
     "name": "stdout",
     "output_type": "stream",
     "text": [
      "[Trial 15] AUC: 0.7950 | Params: {'hid_dim': 128, 'num_layers': 4, 'dropout': 0.3214767553006642, 'lr': 0.0022331987652270346, 'weight': 0.46643924680962945}\n",
      "[I 2025-04-21 13:39:05,062] Trial 15 finished with value: 0.795 and parameters: {'hid_dim': 128, 'num_layers': 4, 'dropout': 0.3214767553006642, 'lr': 0.0022331987652270346, 'weight': 0.46643924680962945}. Best is trial 12 with value: 0.7971874999999999.\n"
     ]
    },
    {
     "name": "stderr",
     "output_type": "stream",
     "text": [
      "/data1/shengen/conda_envs/ckgconv_env/lib/python3.11/site-packages/torch_geometric/sampler/neighbor_sampler.py:61: UserWarning: Using 'NeighborSampler' without a 'pyg-lib' installation is deprecated and will be removed soon. Please install 'pyg-lib' for accelerated neighborhood sampling\n",
      "  warnings.warn(f\"Using '{self.__class__.__name__}' without a \"\n",
      "Best trial: 12. Best value: 0.797187:  57%|█████▋    | 17/30 [00:04<00:03,  4.09it/s]"
     ]
    },
    {
     "name": "stdout",
     "output_type": "stream",
     "text": [
      "[Trial 16] AUC: 0.7928 | Params: {'hid_dim': 64, 'num_layers': 6, 'dropout': 0.16160447725469915, 'lr': 0.0001546841958383279, 'weight': 0.6088457615134851}\n",
      "[I 2025-04-21 13:39:05,341] Trial 16 finished with value: 0.7928125 and parameters: {'hid_dim': 64, 'num_layers': 6, 'dropout': 0.16160447725469915, 'lr': 0.0001546841958383279, 'weight': 0.6088457615134851}. Best is trial 12 with value: 0.7971874999999999.\n"
     ]
    },
    {
     "name": "stderr",
     "output_type": "stream",
     "text": [
      "/data1/shengen/conda_envs/ckgconv_env/lib/python3.11/site-packages/torch_geometric/sampler/neighbor_sampler.py:61: UserWarning: Using 'NeighborSampler' without a 'pyg-lib' installation is deprecated and will be removed soon. Please install 'pyg-lib' for accelerated neighborhood sampling\n",
      "  warnings.warn(f\"Using '{self.__class__.__name__}' without a \"\n",
      "Best trial: 12. Best value: 0.797187:  60%|██████    | 18/30 [00:04<00:02,  4.30it/s]/data1/shengen/conda_envs/ckgconv_env/lib/python3.11/site-packages/torch_geometric/sampler/neighbor_sampler.py:61: UserWarning: Using 'NeighborSampler' without a 'pyg-lib' installation is deprecated and will be removed soon. Please install 'pyg-lib' for accelerated neighborhood sampling\n",
      "  warnings.warn(f\"Using '{self.__class__.__name__}' without a \"\n",
      "Best trial: 12. Best value: 0.797187:  63%|██████▎   | 19/30 [00:04<00:02,  4.78it/s]"
     ]
    },
    {
     "name": "stdout",
     "output_type": "stream",
     "text": [
      "[Trial 17] AUC: 0.7949 | Params: {'hid_dim': 64, 'num_layers': 4, 'dropout': 0.49513028586564106, 'lr': 0.0008350094360193139, 'weight': 0.8598442935221917}\n",
      "[I 2025-04-21 13:39:05,547] Trial 17 finished with value: 0.7948958333333334 and parameters: {'hid_dim': 64, 'num_layers': 4, 'dropout': 0.49513028586564106, 'lr': 0.0008350094360193139, 'weight': 0.8598442935221917}. Best is trial 12 with value: 0.7971874999999999.\n",
      "[Trial 18] AUC: 0.7930 | Params: {'hid_dim': 128, 'num_layers': 2, 'dropout': 0.26525872204299106, 'lr': 0.006763289674551068, 'weight': 0.6678958380755833}\n",
      "[I 2025-04-21 13:39:05,700] Trial 18 finished with value: 0.7930208333333333 and parameters: {'hid_dim': 128, 'num_layers': 2, 'dropout': 0.26525872204299106, 'lr': 0.006763289674551068, 'weight': 0.6678958380755833}. Best is trial 12 with value: 0.7971874999999999.\n"
     ]
    },
    {
     "name": "stderr",
     "output_type": "stream",
     "text": [
      "/data1/shengen/conda_envs/ckgconv_env/lib/python3.11/site-packages/torch_geometric/sampler/neighbor_sampler.py:61: UserWarning: Using 'NeighborSampler' without a 'pyg-lib' installation is deprecated and will be removed soon. Please install 'pyg-lib' for accelerated neighborhood sampling\n",
      "  warnings.warn(f\"Using '{self.__class__.__name__}' without a \"\n",
      "Best trial: 12. Best value: 0.797187:  67%|██████▋   | 20/30 [00:04<00:02,  4.99it/s]/data1/shengen/conda_envs/ckgconv_env/lib/python3.11/site-packages/torch_geometric/sampler/neighbor_sampler.py:61: UserWarning: Using 'NeighborSampler' without a 'pyg-lib' installation is deprecated and will be removed soon. Please install 'pyg-lib' for accelerated neighborhood sampling\n",
      "  warnings.warn(f\"Using '{self.__class__.__name__}' without a \"\n"
     ]
    },
    {
     "name": "stdout",
     "output_type": "stream",
     "text": [
      "[Trial 19] AUC: 0.7952 | Params: {'hid_dim': 32, 'num_layers': 3, 'dropout': 0.05441022555592073, 'lr': 0.0003498922093620279, 'weight': 0.4150844672259035}\n",
      "[I 2025-04-21 13:39:05,880] Trial 19 finished with value: 0.7952083333333333 and parameters: {'hid_dim': 32, 'num_layers': 3, 'dropout': 0.05441022555592073, 'lr': 0.0003498922093620279, 'weight': 0.4150844672259035}. Best is trial 12 with value: 0.7971874999999999.\n"
     ]
    },
    {
     "name": "stderr",
     "output_type": "stream",
     "text": [
      "Best trial: 12. Best value: 0.797187:  70%|███████   | 21/30 [00:04<00:01,  4.60it/s]"
     ]
    },
    {
     "name": "stdout",
     "output_type": "stream",
     "text": [
      "[Trial 20] AUC: 0.7967 | Params: {'hid_dim': 128, 'num_layers': 5, 'dropout': 0.31146181020602276, 'lr': 0.002497257562346058, 'weight': 0.78684194292339}\n",
      "[I 2025-04-21 13:39:06,137] Trial 20 finished with value: 0.7966666666666666 and parameters: {'hid_dim': 128, 'num_layers': 5, 'dropout': 0.31146181020602276, 'lr': 0.002497257562346058, 'weight': 0.78684194292339}. Best is trial 12 with value: 0.7971874999999999.\n"
     ]
    },
    {
     "name": "stderr",
     "output_type": "stream",
     "text": [
      "/data1/shengen/conda_envs/ckgconv_env/lib/python3.11/site-packages/torch_geometric/sampler/neighbor_sampler.py:61: UserWarning: Using 'NeighborSampler' without a 'pyg-lib' installation is deprecated and will be removed soon. Please install 'pyg-lib' for accelerated neighborhood sampling\n",
      "  warnings.warn(f\"Using '{self.__class__.__name__}' without a \"\n",
      "Best trial: 12. Best value: 0.797187:  73%|███████▎  | 22/30 [00:05<00:01,  4.32it/s]"
     ]
    },
    {
     "name": "stdout",
     "output_type": "stream",
     "text": [
      "[Trial 21] AUC: 0.7970 | Params: {'hid_dim': 128, 'num_layers': 5, 'dropout': 0.3135316525073872, 'lr': 0.0026134724323325247, 'weight': 0.7968184628807329}\n",
      "[I 2025-04-21 13:39:06,402] Trial 21 finished with value: 0.7969791666666667 and parameters: {'hid_dim': 128, 'num_layers': 5, 'dropout': 0.3135316525073872, 'lr': 0.0026134724323325247, 'weight': 0.7968184628807329}. Best is trial 12 with value: 0.7971874999999999.\n"
     ]
    },
    {
     "name": "stderr",
     "output_type": "stream",
     "text": [
      "/data1/shengen/conda_envs/ckgconv_env/lib/python3.11/site-packages/torch_geometric/sampler/neighbor_sampler.py:61: UserWarning: Using 'NeighborSampler' without a 'pyg-lib' installation is deprecated and will be removed soon. Please install 'pyg-lib' for accelerated neighborhood sampling\n",
      "  warnings.warn(f\"Using '{self.__class__.__name__}' without a \"\n",
      "Best trial: 12. Best value: 0.797187:  77%|███████▋  | 23/30 [00:05<00:01,  4.45it/s]"
     ]
    },
    {
     "name": "stdout",
     "output_type": "stream",
     "text": [
      "[Trial 22] AUC: 0.7971 | Params: {'hid_dim': 128, 'num_layers': 4, 'dropout': 0.22199740260278422, 'lr': 0.0010727342843387345, 'weight': 0.5769548029227745}\n",
      "[I 2025-04-21 13:39:06,610] Trial 22 finished with value: 0.7970833333333334 and parameters: {'hid_dim': 128, 'num_layers': 4, 'dropout': 0.22199740260278422, 'lr': 0.0010727342843387345, 'weight': 0.5769548029227745}. Best is trial 12 with value: 0.7971874999999999.\n"
     ]
    },
    {
     "name": "stderr",
     "output_type": "stream",
     "text": [
      "/data1/shengen/conda_envs/ckgconv_env/lib/python3.11/site-packages/torch_geometric/sampler/neighbor_sampler.py:61: UserWarning: Using 'NeighborSampler' without a 'pyg-lib' installation is deprecated and will be removed soon. Please install 'pyg-lib' for accelerated neighborhood sampling\n",
      "  warnings.warn(f\"Using '{self.__class__.__name__}' without a \"\n",
      "Best trial: 12. Best value: 0.797187:  80%|████████  | 24/30 [00:05<00:01,  4.56it/s]"
     ]
    },
    {
     "name": "stdout",
     "output_type": "stream",
     "text": [
      "[Trial 23] AUC: 0.7928 | Params: {'hid_dim': 128, 'num_layers': 4, 'dropout': 0.21629759983435962, 'lr': 0.0009639650610854598, 'weight': 0.5485346678360143}\n",
      "[I 2025-04-21 13:39:06,818] Trial 23 finished with value: 0.7928125 and parameters: {'hid_dim': 128, 'num_layers': 4, 'dropout': 0.21629759983435962, 'lr': 0.0009639650610854598, 'weight': 0.5485346678360143}. Best is trial 12 with value: 0.7971874999999999.\n"
     ]
    },
    {
     "name": "stderr",
     "output_type": "stream",
     "text": [
      "/data1/shengen/conda_envs/ckgconv_env/lib/python3.11/site-packages/torch_geometric/sampler/neighbor_sampler.py:61: UserWarning: Using 'NeighborSampler' without a 'pyg-lib' installation is deprecated and will be removed soon. Please install 'pyg-lib' for accelerated neighborhood sampling\n",
      "  warnings.warn(f\"Using '{self.__class__.__name__}' without a \"\n",
      "Best trial: 12. Best value: 0.797187:  83%|████████▎ | 25/30 [00:05<00:01,  4.61it/s]/data1/shengen/conda_envs/ckgconv_env/lib/python3.11/site-packages/torch_geometric/sampler/neighbor_sampler.py:61: UserWarning: Using 'NeighborSampler' without a 'pyg-lib' installation is deprecated and will be removed soon. Please install 'pyg-lib' for accelerated neighborhood sampling\n",
      "  warnings.warn(f\"Using '{self.__class__.__name__}' without a \"\n",
      "Best trial: 12. Best value: 0.797187:  87%|████████▋ | 26/30 [00:05<00:00,  4.86it/s]"
     ]
    },
    {
     "name": "stdout",
     "output_type": "stream",
     "text": [
      "[Trial 24] AUC: 0.7945 | Params: {'hid_dim': 128, 'num_layers': 4, 'dropout': 0.14803927852175774, 'lr': 0.0005115324527627701, 'weight': 0.6033097787966758}\n",
      "[I 2025-04-21 13:39:07,028] Trial 24 finished with value: 0.7944791666666666 and parameters: {'hid_dim': 128, 'num_layers': 4, 'dropout': 0.14803927852175774, 'lr': 0.0005115324527627701, 'weight': 0.6033097787966758}. Best is trial 12 with value: 0.7971874999999999.\n",
      "[Trial 25] AUC: 0.7960 | Params: {'hid_dim': 64, 'num_layers': 3, 'dropout': 0.22419409907703525, 'lr': 0.0016408994086418028, 'weight': 0.7150752316557012}\n",
      "[I 2025-04-21 13:39:07,208] Trial 25 finished with value: 0.7960416666666668 and parameters: {'hid_dim': 64, 'num_layers': 3, 'dropout': 0.22419409907703525, 'lr': 0.0016408994086418028, 'weight': 0.7150752316557012}. Best is trial 12 with value: 0.7971874999999999.\n"
     ]
    },
    {
     "name": "stderr",
     "output_type": "stream",
     "text": [
      "/data1/shengen/conda_envs/ckgconv_env/lib/python3.11/site-packages/torch_geometric/sampler/neighbor_sampler.py:61: UserWarning: Using 'NeighborSampler' without a 'pyg-lib' installation is deprecated and will be removed soon. Please install 'pyg-lib' for accelerated neighborhood sampling\n",
      "  warnings.warn(f\"Using '{self.__class__.__name__}' without a \"\n",
      "Best trial: 12. Best value: 0.797187:  90%|█████████ | 27/30 [00:06<00:00,  4.85it/s]"
     ]
    },
    {
     "name": "stdout",
     "output_type": "stream",
     "text": [
      "[Trial 26] AUC: 0.7811 | Params: {'hid_dim': 128, 'num_layers': 4, 'dropout': 0.18305561027067013, 'lr': 0.0010592058809603354, 'weight': 0.1314771215213218}\n",
      "[I 2025-04-21 13:39:07,416] Trial 26 finished with value: 0.7811458333333333 and parameters: {'hid_dim': 128, 'num_layers': 4, 'dropout': 0.18305561027067013, 'lr': 0.0010592058809603354, 'weight': 0.1314771215213218}. Best is trial 12 with value: 0.7971874999999999.\n"
     ]
    },
    {
     "name": "stderr",
     "output_type": "stream",
     "text": [
      "/data1/shengen/conda_envs/ckgconv_env/lib/python3.11/site-packages/torch_geometric/sampler/neighbor_sampler.py:61: UserWarning: Using 'NeighborSampler' without a 'pyg-lib' installation is deprecated and will be removed soon. Please install 'pyg-lib' for accelerated neighborhood sampling\n",
      "  warnings.warn(f\"Using '{self.__class__.__name__}' without a \"\n",
      "Best trial: 12. Best value: 0.797187:  93%|█████████▎| 28/30 [00:06<00:00,  4.83it/s]"
     ]
    },
    {
     "name": "stdout",
     "output_type": "stream",
     "text": [
      "[Trial 27] AUC: 0.7892 | Params: {'hid_dim': 128, 'num_layers': 4, 'dropout': 0.06235243771414711, 'lr': 0.00032599477055288655, 'weight': 0.4166981459285902}\n",
      "[I 2025-04-21 13:39:07,625] Trial 27 finished with value: 0.7891666666666667 and parameters: {'hid_dim': 128, 'num_layers': 4, 'dropout': 0.06235243771414711, 'lr': 0.00032599477055288655, 'weight': 0.4166981459285902}. Best is trial 12 with value: 0.7971874999999999.\n"
     ]
    },
    {
     "name": "stderr",
     "output_type": "stream",
     "text": [
      "/data1/shengen/conda_envs/ckgconv_env/lib/python3.11/site-packages/torch_geometric/sampler/neighbor_sampler.py:61: UserWarning: Using 'NeighborSampler' without a 'pyg-lib' installation is deprecated and will be removed soon. Please install 'pyg-lib' for accelerated neighborhood sampling\n",
      "  warnings.warn(f\"Using '{self.__class__.__name__}' without a \"\n",
      "Best trial: 12. Best value: 0.797187:  97%|█████████▋| 29/30 [00:06<00:00,  4.38it/s]/data1/shengen/conda_envs/ckgconv_env/lib/python3.11/site-packages/torch_geometric/sampler/neighbor_sampler.py:61: UserWarning: Using 'NeighborSampler' without a 'pyg-lib' installation is deprecated and will be removed soon. Please install 'pyg-lib' for accelerated neighborhood sampling\n",
      "  warnings.warn(f\"Using '{self.__class__.__name__}' without a \"\n",
      "Best trial: 12. Best value: 0.797187: 100%|██████████| 30/30 [00:06<00:00,  4.36it/s]"
     ]
    },
    {
     "name": "stdout",
     "output_type": "stream",
     "text": [
      "[Trial 28] AUC: 0.7854 | Params: {'hid_dim': 32, 'num_layers': 6, 'dropout': 0.278604501853639, 'lr': 0.00017309369100015426, 'weight': 0.5083374148762055}\n",
      "[I 2025-04-21 13:39:07,902] Trial 28 finished with value: 0.7854166666666667 and parameters: {'hid_dim': 32, 'num_layers': 6, 'dropout': 0.278604501853639, 'lr': 0.00017309369100015426, 'weight': 0.5083374148762055}. Best is trial 12 with value: 0.7971874999999999.\n",
      "[Trial 29] AUC: 0.7921 | Params: {'hid_dim': 64, 'num_layers': 3, 'dropout': 0.3742047037041837, 'lr': 0.0038823922389109324, 'weight': 0.5554471366703074}\n",
      "[I 2025-04-21 13:39:08,089] Trial 29 finished with value: 0.7920833333333334 and parameters: {'hid_dim': 64, 'num_layers': 3, 'dropout': 0.3742047037041837, 'lr': 0.0038823922389109324, 'weight': 0.5554471366703074}. Best is trial 12 with value: 0.7971874999999999.\n",
      "Best params for gen_500: {'hid_dim': 64, 'num_layers': 4, 'dropout': 0.21694845617709374, 'lr': 0.0022015746291225062, 'weight': 0.6720832975075826}\n",
      "[Run 1/10]\n"
     ]
    },
    {
     "name": "stderr",
     "output_type": "stream",
     "text": [
      "\n",
      "/data1/shengen/conda_envs/ckgconv_env/lib/python3.11/site-packages/torch_geometric/sampler/neighbor_sampler.py:61: UserWarning: Using 'NeighborSampler' without a 'pyg-lib' installation is deprecated and will be removed soon. Please install 'pyg-lib' for accelerated neighborhood sampling\n",
      "  warnings.warn(f\"Using '{self.__class__.__name__}' without a \"\n"
     ]
    },
    {
     "name": "stdout",
     "output_type": "stream",
     "text": [
      "[Run 2/10]\n"
     ]
    },
    {
     "name": "stderr",
     "output_type": "stream",
     "text": [
      "/data1/shengen/conda_envs/ckgconv_env/lib/python3.11/site-packages/torch_geometric/sampler/neighbor_sampler.py:61: UserWarning: Using 'NeighborSampler' without a 'pyg-lib' installation is deprecated and will be removed soon. Please install 'pyg-lib' for accelerated neighborhood sampling\n",
      "  warnings.warn(f\"Using '{self.__class__.__name__}' without a \"\n"
     ]
    },
    {
     "name": "stdout",
     "output_type": "stream",
     "text": [
      "[Run 3/10]\n"
     ]
    },
    {
     "name": "stderr",
     "output_type": "stream",
     "text": [
      "/data1/shengen/conda_envs/ckgconv_env/lib/python3.11/site-packages/torch_geometric/sampler/neighbor_sampler.py:61: UserWarning: Using 'NeighborSampler' without a 'pyg-lib' installation is deprecated and will be removed soon. Please install 'pyg-lib' for accelerated neighborhood sampling\n",
      "  warnings.warn(f\"Using '{self.__class__.__name__}' without a \"\n"
     ]
    },
    {
     "name": "stdout",
     "output_type": "stream",
     "text": [
      "[Run 4/10]\n"
     ]
    },
    {
     "name": "stderr",
     "output_type": "stream",
     "text": [
      "/data1/shengen/conda_envs/ckgconv_env/lib/python3.11/site-packages/torch_geometric/sampler/neighbor_sampler.py:61: UserWarning: Using 'NeighborSampler' without a 'pyg-lib' installation is deprecated and will be removed soon. Please install 'pyg-lib' for accelerated neighborhood sampling\n",
      "  warnings.warn(f\"Using '{self.__class__.__name__}' without a \"\n"
     ]
    },
    {
     "name": "stdout",
     "output_type": "stream",
     "text": [
      "[Run 5/10]\n"
     ]
    },
    {
     "name": "stderr",
     "output_type": "stream",
     "text": [
      "/data1/shengen/conda_envs/ckgconv_env/lib/python3.11/site-packages/torch_geometric/sampler/neighbor_sampler.py:61: UserWarning: Using 'NeighborSampler' without a 'pyg-lib' installation is deprecated and will be removed soon. Please install 'pyg-lib' for accelerated neighborhood sampling\n",
      "  warnings.warn(f\"Using '{self.__class__.__name__}' without a \"\n"
     ]
    },
    {
     "name": "stdout",
     "output_type": "stream",
     "text": [
      "[Run 6/10]\n"
     ]
    },
    {
     "name": "stderr",
     "output_type": "stream",
     "text": [
      "/data1/shengen/conda_envs/ckgconv_env/lib/python3.11/site-packages/torch_geometric/sampler/neighbor_sampler.py:61: UserWarning: Using 'NeighborSampler' without a 'pyg-lib' installation is deprecated and will be removed soon. Please install 'pyg-lib' for accelerated neighborhood sampling\n",
      "  warnings.warn(f\"Using '{self.__class__.__name__}' without a \"\n"
     ]
    },
    {
     "name": "stdout",
     "output_type": "stream",
     "text": [
      "[Run 7/10]\n"
     ]
    },
    {
     "name": "stderr",
     "output_type": "stream",
     "text": [
      "/data1/shengen/conda_envs/ckgconv_env/lib/python3.11/site-packages/torch_geometric/sampler/neighbor_sampler.py:61: UserWarning: Using 'NeighborSampler' without a 'pyg-lib' installation is deprecated and will be removed soon. Please install 'pyg-lib' for accelerated neighborhood sampling\n",
      "  warnings.warn(f\"Using '{self.__class__.__name__}' without a \"\n"
     ]
    },
    {
     "name": "stdout",
     "output_type": "stream",
     "text": [
      "[Run 8/10]\n"
     ]
    },
    {
     "name": "stderr",
     "output_type": "stream",
     "text": [
      "/data1/shengen/conda_envs/ckgconv_env/lib/python3.11/site-packages/torch_geometric/sampler/neighbor_sampler.py:61: UserWarning: Using 'NeighborSampler' without a 'pyg-lib' installation is deprecated and will be removed soon. Please install 'pyg-lib' for accelerated neighborhood sampling\n",
      "  warnings.warn(f\"Using '{self.__class__.__name__}' without a \"\n"
     ]
    },
    {
     "name": "stdout",
     "output_type": "stream",
     "text": [
      "[Run 9/10]\n"
     ]
    },
    {
     "name": "stderr",
     "output_type": "stream",
     "text": [
      "/data1/shengen/conda_envs/ckgconv_env/lib/python3.11/site-packages/torch_geometric/sampler/neighbor_sampler.py:61: UserWarning: Using 'NeighborSampler' without a 'pyg-lib' installation is deprecated and will be removed soon. Please install 'pyg-lib' for accelerated neighborhood sampling\n",
      "  warnings.warn(f\"Using '{self.__class__.__name__}' without a \"\n"
     ]
    },
    {
     "name": "stdout",
     "output_type": "stream",
     "text": [
      "[Run 10/10]\n"
     ]
    },
    {
     "name": "stderr",
     "output_type": "stream",
     "text": [
      "/data1/shengen/conda_envs/ckgconv_env/lib/python3.11/site-packages/torch_geometric/sampler/neighbor_sampler.py:61: UserWarning: Using 'NeighborSampler' without a 'pyg-lib' installation is deprecated and will be removed soon. Please install 'pyg-lib' for accelerated neighborhood sampling\n",
      "  warnings.warn(f\"Using '{self.__class__.__name__}' without a \"\n"
     ]
    },
    {
     "name": "stdout",
     "output_type": "stream",
     "text": [
      "Saved results to results/dominant_gen_500.csv\n",
      "Summary for gen_500:\n",
      "  AUC-ROC (mean±std): 0.7955 ± 0.0018\n",
      "  AP (mean±std): 0.5208 ± 0.0017\n",
      "  F1 (mean±std): 0.3143 ± 0.0000\n"
     ]
    }
   ],
   "source": [
    "from utils.optuna_tuner import tune_model_with_optuna, sanitize_params\n",
    "from utils.eval_repeat import eval_repeat\n",
    "from utils.param_spaces import ParamSpace\n",
    "from pygod.detector import DOMINANT\n",
    "\n",
    "for name, config in datasets_to_run.items():\n",
    "    print(f\"\\nRunning DOMINANT on {name}...\\n\")\n",
    "\n",
    "    param_space_fn = ParamSpace.get(\"dominant\")\n",
    "\n",
    "    study = tune_model_with_optuna(\n",
    "        model_class=DOMINANT,\n",
    "        dataset=config[\"data\"],\n",
    "        label_transform_fn=config[\"label_fn\"],\n",
    "        param_space_fn=param_space_fn,\n",
    "        n_trials=30,\n",
    "        train_epochs=30,\n",
    "        metric=\"auc\",\n",
    "        device=0,\n",
    "        return_all_metrics=True,\n",
    "        dataset_name=name  \n",
    "    )\n",
    "\n",
    "    best_params = sanitize_params(study.best_params)\n",
    "\n",
    "    print(f\"Best params for DOMINANT on {name}: {best_params}\")\n",
    "\n",
    "    binary_label = config[\"label_fn\"](config[\"data\"].y)\n",
    "\n",
    "    summary, df = eval_repeat(\n",
    "        model_class=DOMINANT,\n",
    "        dataset=config[\"data\"],\n",
    "        binary_label=binary_label,\n",
    "        params=best_params,\n",
    "        n_runs=10,\n",
    "        epochs=200,\n",
    "        save_path=f\"results/dominant_{name}.csv\"\n",
    "    )\n",
    "\n",
    "    print(f\"Summary for DOMINANT on {name}:\")\n",
    "    for k, v in summary.items():\n",
    "        print(f\"  {k}: {v}\")\n"
   ]
  },
  {
   "cell_type": "markdown",
   "id": "1b329adc",
   "metadata": {},
   "source": [
    "# Train CoLA"
   ]
  },
  {
   "cell_type": "code",
   "execution_count": 28,
   "id": "3a4784b9",
   "metadata": {},
   "outputs": [
    {
     "ename": "ImportError",
     "evalue": "cannot import name 'sanitize_params' from 'utils.optuna_tuner' (/data1/shengen/STATS403/project/utils/optuna_tuner.py)",
     "output_type": "error",
     "traceback": [
      "\u001b[31m---------------------------------------------------------------------------\u001b[39m",
      "\u001b[31mImportError\u001b[39m                               Traceback (most recent call last)",
      "\u001b[36mCell\u001b[39m\u001b[36m \u001b[39m\u001b[32mIn[28]\u001b[39m\u001b[32m, line 2\u001b[39m\n\u001b[32m      1\u001b[39m \u001b[38;5;28;01mfrom\u001b[39;00m\u001b[38;5;250m \u001b[39m\u001b[34;01mpygod\u001b[39;00m\u001b[34;01m.\u001b[39;00m\u001b[34;01mdetector\u001b[39;00m\u001b[38;5;250m \u001b[39m\u001b[38;5;28;01mimport\u001b[39;00m CoLA\n\u001b[32m----> \u001b[39m\u001b[32m2\u001b[39m \u001b[38;5;28;01mfrom\u001b[39;00m\u001b[38;5;250m \u001b[39m\u001b[34;01mutils\u001b[39;00m\u001b[34;01m.\u001b[39;00m\u001b[34;01moptuna_tuner\u001b[39;00m\u001b[38;5;250m \u001b[39m\u001b[38;5;28;01mimport\u001b[39;00m tune_model_with_optuna, sanitize_params\n\u001b[32m      3\u001b[39m \u001b[38;5;28;01mfrom\u001b[39;00m\u001b[38;5;250m \u001b[39m\u001b[34;01mutils\u001b[39;00m\u001b[34;01m.\u001b[39;00m\u001b[34;01meval_repeat\u001b[39;00m\u001b[38;5;250m \u001b[39m\u001b[38;5;28;01mimport\u001b[39;00m eval_repeat\n\u001b[32m      4\u001b[39m \u001b[38;5;28;01mfrom\u001b[39;00m\u001b[38;5;250m \u001b[39m\u001b[34;01mutils\u001b[39;00m\u001b[34;01m.\u001b[39;00m\u001b[34;01mparam_spaces\u001b[39;00m\u001b[38;5;250m \u001b[39m\u001b[38;5;28;01mimport\u001b[39;00m ParamSpace\n",
      "\u001b[31mImportError\u001b[39m: cannot import name 'sanitize_params' from 'utils.optuna_tuner' (/data1/shengen/STATS403/project/utils/optuna_tuner.py)"
     ]
    }
   ],
   "source": [
    "from pygod.detector import CoLA\n",
    "from utils.optuna_tuner import tune_model_with_optuna, sanitize_params\n",
    "from utils.eval_repeat import eval_repeat\n",
    "from utils.param_spaces import ParamSpace\n",
    "\n",
    "for name, config in datasets_to_run.items():\n",
    "    print(f\"\\nRunning CoLA on {name}...\\n\")\n",
    "\n",
    "    param_space_fn = ParamSpace.get(\"cola\")\n",
    "\n",
    "    study = tune_model_with_optuna(\n",
    "        model_class=CoLA,\n",
    "        dataset=config[\"data\"],\n",
    "        label_transform_fn=config[\"label_fn\"],\n",
    "        param_space_fn=param_space_fn,\n",
    "        n_trials=30,\n",
    "        train_epochs=30,\n",
    "        metric=\"auc\",\n",
    "        device=0,\n",
    "        return_all_metrics=True,\n",
    "        dataset_name=name  \n",
    "    )\n",
    "\n",
    "    best_params = sanitize_params(study.best_params)\n",
    "\n",
    "    print(f\"Best params for CoLA on {name}: {best_params}\")\n",
    "\n",
    "    binary_label = config[\"label_fn\"](config[\"data\"].y)\n",
    "\n",
    "    summary, df = eval_repeat(\n",
    "        model_class=CoLA,\n",
    "        dataset=config[\"data\"],\n",
    "        binary_label=binary_label,\n",
    "        params=best_params,\n",
    "        n_runs=10,\n",
    "        epochs=200,\n",
    "        save_path=f\"results/cola_{name}.csv\"\n",
    "    )\n",
    "\n",
    "    print(f\"Summary for CoLA on {name}:\")\n",
    "    for k, v in summary.items():\n",
    "        print(f\"  {k}: {v}\")\n"
   ]
  },
  {
   "cell_type": "code",
   "execution_count": null,
   "id": "3d48f69b",
   "metadata": {},
   "outputs": [],
   "source": [
    "# dominant on synthetic"
   ]
  },
  {
   "cell_type": "code",
   "execution_count": null,
   "id": "80a51c2d",
   "metadata": {},
   "outputs": [],
   "source": [
    "# CKGConv_dominant on cora"
   ]
  },
  {
   "cell_type": "code",
   "execution_count": null,
   "id": "65fbbb5b",
   "metadata": {},
   "outputs": [],
   "source": [
    "# CKGConv_dominant on books"
   ]
  },
  {
   "cell_type": "code",
   "execution_count": null,
   "id": "619dfd77",
   "metadata": {},
   "outputs": [],
   "source": [
    "# CKGConv_dominant on synthetic"
   ]
  },
  {
   "cell_type": "code",
   "execution_count": null,
   "id": "a021cd0f",
   "metadata": {},
   "outputs": [],
   "source": [
    "# visualization"
   ]
  }
 ],
 "metadata": {
  "kernelspec": {
   "display_name": "ckgconv_env",
   "language": "python",
   "name": "python3"
  },
  "language_info": {
   "codemirror_mode": {
    "name": "ipython",
    "version": 3
   },
   "file_extension": ".py",
   "mimetype": "text/x-python",
   "name": "python",
   "nbconvert_exporter": "python",
   "pygments_lexer": "ipython3",
   "version": "3.11.11"
  }
 },
 "nbformat": 4,
 "nbformat_minor": 5
}

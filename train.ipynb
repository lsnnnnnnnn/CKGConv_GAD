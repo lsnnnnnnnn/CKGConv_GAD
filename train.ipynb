{
 "cells": [
  {
   "cell_type": "code",
   "execution_count": 7,
   "id": "e1691b78",
   "metadata": {},
   "outputs": [],
   "source": [
    "import os\n",
    "import numpy as np\n",
    "import importlib\n",
    "import torch\n",
    "from torch_geometric.data import Data\n",
    "from pygod.detector import DOMINANT\n",
    "from pygod.detector import CoLA\n",
    "#from pygod.detector import dominant_ckgconv\n",
    "from pygod.metric import eval_roc_auc, eval_f1, eval_average_precision, eval_precision_at_k, eval_recall_at_k\n",
    "from pygod.utils import load_data\n",
    "from utils.optuna_tuner import tune_model_with_optuna, sanitize_params\n",
    "from utils.param_spaces import ParamSpace\n",
    "from utils.eval_repeat import eval_repeat"
   ]
  },
  {
   "cell_type": "markdown",
   "id": "ffec8e20",
   "metadata": {},
   "source": [
    "# Datasets"
   ]
  },
  {
   "cell_type": "code",
   "execution_count": 2,
   "id": "cc71e561",
   "metadata": {},
   "outputs": [],
   "source": [
    "def load_and_prepare_dataset(path):\n",
    "    data = torch.load(path)\n",
    "    data.x = data.x.float()\n",
    "    data.edge_index = data.edge_index.long()\n",
    "    data.y = data.y.long()\n",
    "    return data\n",
    "\n",
    "def label_to_binary(y):\n",
    "    return (y != 0).long()\n",
    "\n",
    "def label_identity(y):\n",
    "    return y.long()"
   ]
  },
  {
   "cell_type": "code",
   "execution_count": 3,
   "id": "55ac98fd",
   "metadata": {},
   "outputs": [
    {
     "name": "stdout",
     "output_type": "stream",
     "text": [
      "inj_cora:\n",
      " - x: torch.Size([2708, 1433])\n",
      " - edge_index: torch.Size([2, 11060])\n",
      " - y unique: [0, 1, 2, 3]\n",
      "\n",
      "books:\n",
      " - x: torch.Size([1418, 21])\n",
      " - edge_index: torch.Size([2, 3695])\n",
      " - y unique: [0, 1]\n",
      "\n",
      "gen_500:\n",
      " - x: torch.Size([500, 64])\n",
      " - edge_index: torch.Size([2, 2662])\n",
      " - y unique: [0, 1, 2]\n",
      "\n"
     ]
    }
   ],
   "source": [
    "paths = {\n",
    "    \"inj_cora\": \"/data1/shengen/STATS403/project/data/real/inj_cora.pt\",\n",
    "    \"books\": \"/data1/shengen/STATS403/project/data/real/books.pt\",\n",
    "    \"gen_500\": \"/data1/shengen/STATS403/project/data/synthetic/gen_500.pt\",\n",
    "}\n",
    "\n",
    "\n",
    "datasets = {}\n",
    "for name, path in paths.items():\n",
    "    datasets[name] = load_and_prepare_dataset(path)\n",
    "\n",
    "for name, data in datasets.items():\n",
    "    print(f\"{name}:\")\n",
    "    print(\" - x:\", data.x.shape)\n",
    "    print(\" - edge_index:\", data.edge_index.shape)\n",
    "    print(\" - y unique:\", torch.unique(data.y).tolist())\n",
    "    print()"
   ]
  },
  {
   "cell_type": "code",
   "execution_count": 4,
   "id": "daeaebc2",
   "metadata": {},
   "outputs": [],
   "source": [
    "datasets_to_run = {\n",
    "    \"inj_cora\": {\n",
    "        \"data\": datasets[\"inj_cora\"],\n",
    "        \"label_fn\": label_to_binary\n",
    "    },\n",
    "    \"books\": {\n",
    "        \"data\": datasets[\"books\"],\n",
    "        \"label_fn\": label_identity\n",
    "    },\n",
    "    \"gen_500\": {\n",
    "        \"data\": datasets[\"gen_500\"],\n",
    "        \"label_fn\": label_to_binary\n",
    "    }\n",
    "}\n",
    "\n",
    "os.makedirs(\"results\", exist_ok=True)"
   ]
  },
  {
   "cell_type": "markdown",
   "id": "4ee4cc0d",
   "metadata": {},
   "source": [
    "# Train DOMINANT"
   ]
  },
  {
   "cell_type": "code",
   "execution_count": null,
   "id": "dbb14c31",
   "metadata": {},
   "outputs": [
    {
     "name": "stderr",
     "output_type": "stream",
     "text": [
      "[I 2025-04-21 13:37:44,652] A new study created in memory with name: no-name-38d121cf-388a-46c6-abaa-91c30b03fc53\n"
     ]
    },
    {
     "name": "stdout",
     "output_type": "stream",
     "text": [
      " Running DOMINANT on inj_cora...\n",
      "\n"
     ]
    },
    {
     "name": "stderr",
     "output_type": "stream",
     "text": [
      "  0%|          | 0/30 [00:00<?, ?it/s]/data1/shengen/conda_envs/ckgconv_env/lib/python3.11/site-packages/torch_geometric/sampler/neighbor_sampler.py:61: UserWarning: Using 'NeighborSampler' without a 'pyg-lib' installation is deprecated and will be removed soon. Please install 'pyg-lib' for accelerated neighborhood sampling\n",
      "  warnings.warn(f\"Using '{self.__class__.__name__}' without a \"\n",
      "Best trial: 0. Best value: 0.756172:   3%|▎         | 1/30 [00:00<00:13,  2.17it/s]"
     ]
    },
    {
     "name": "stdout",
     "output_type": "stream",
     "text": [
      "[Trial 0] AUC: 0.7562 | Params: {'hid_dim': 32, 'num_layers': 2, 'dropout': 0.07248785746688224, 'lr': 0.00010487692440254823, 'weight': 0.1206095649804066}\n",
      "[I 2025-04-21 13:37:45,113] Trial 0 finished with value: 0.7561721084982801 and parameters: {'hid_dim': 32, 'num_layers': 2, 'dropout': 0.07248785746688224, 'lr': 0.00010487692440254823, 'weight': 0.1206095649804066}. Best is trial 0 with value: 0.7561721084982801.\n"
     ]
    },
    {
     "name": "stderr",
     "output_type": "stream",
     "text": [
      "/data1/shengen/conda_envs/ckgconv_env/lib/python3.11/site-packages/torch_geometric/sampler/neighbor_sampler.py:61: UserWarning: Using 'NeighborSampler' without a 'pyg-lib' installation is deprecated and will be removed soon. Please install 'pyg-lib' for accelerated neighborhood sampling\n",
      "  warnings.warn(f\"Using '{self.__class__.__name__}' without a \"\n",
      "Best trial: 0. Best value: 0.756172:   7%|▋         | 2/30 [00:01<00:14,  1.94it/s]"
     ]
    },
    {
     "name": "stdout",
     "output_type": "stream",
     "text": [
      "[Trial 1] AUC: 0.7557 | Params: {'hid_dim': 32, 'num_layers': 6, 'dropout': 0.19463088722666338, 'lr': 0.00603430641636626, 'weight': 0.2069001920083804}\n",
      "[I 2025-04-21 13:37:45,667] Trial 1 finished with value: 0.7556843173743868 and parameters: {'hid_dim': 32, 'num_layers': 6, 'dropout': 0.19463088722666338, 'lr': 0.00603430641636626, 'weight': 0.2069001920083804}. Best is trial 0 with value: 0.7561721084982801.\n"
     ]
    },
    {
     "name": "stderr",
     "output_type": "stream",
     "text": [
      "/data1/shengen/conda_envs/ckgconv_env/lib/python3.11/site-packages/torch_geometric/sampler/neighbor_sampler.py:61: UserWarning: Using 'NeighborSampler' without a 'pyg-lib' installation is deprecated and will be removed soon. Please install 'pyg-lib' for accelerated neighborhood sampling\n",
      "  warnings.warn(f\"Using '{self.__class__.__name__}' without a \"\n",
      "Best trial: 2. Best value: 0.84585:  10%|█         | 3/30 [00:01<00:12,  2.17it/s] "
     ]
    },
    {
     "name": "stdout",
     "output_type": "stream",
     "text": [
      "[Trial 2] AUC: 0.8458 | Params: {'hid_dim': 64, 'num_layers': 3, 'dropout': 0.21343804518314158, 'lr': 0.0011611698159603389, 'weight': 0.8639551840043095}\n",
      "[I 2025-04-21 13:37:46,064] Trial 2 finished with value: 0.8458495460440986 and parameters: {'hid_dim': 64, 'num_layers': 3, 'dropout': 0.21343804518314158, 'lr': 0.0011611698159603389, 'weight': 0.8639551840043095}. Best is trial 2 with value: 0.8458495460440986.\n"
     ]
    },
    {
     "name": "stderr",
     "output_type": "stream",
     "text": [
      "/data1/shengen/conda_envs/ckgconv_env/lib/python3.11/site-packages/torch_geometric/sampler/neighbor_sampler.py:61: UserWarning: Using 'NeighborSampler' without a 'pyg-lib' installation is deprecated and will be removed soon. Please install 'pyg-lib' for accelerated neighborhood sampling\n",
      "  warnings.warn(f\"Using '{self.__class__.__name__}' without a \"\n",
      "Best trial: 2. Best value: 0.84585:  13%|█▎        | 4/30 [00:02<00:13,  1.95it/s]"
     ]
    },
    {
     "name": "stdout",
     "output_type": "stream",
     "text": [
      "[Trial 3] AUC: 0.7650 | Params: {'hid_dim': 32, 'num_layers': 6, 'dropout': 0.3828005698609471, 'lr': 0.004570495541152017, 'weight': 0.4749371992411504}\n",
      "[I 2025-04-21 13:37:46,658] Trial 3 finished with value: 0.7650171995714204 and parameters: {'hid_dim': 32, 'num_layers': 6, 'dropout': 0.3828005698609471, 'lr': 0.004570495541152017, 'weight': 0.4749371992411504}. Best is trial 2 with value: 0.8458495460440986.\n"
     ]
    },
    {
     "name": "stderr",
     "output_type": "stream",
     "text": [
      "/data1/shengen/conda_envs/ckgconv_env/lib/python3.11/site-packages/torch_geometric/sampler/neighbor_sampler.py:61: UserWarning: Using 'NeighborSampler' without a 'pyg-lib' installation is deprecated and will be removed soon. Please install 'pyg-lib' for accelerated neighborhood sampling\n",
      "  warnings.warn(f\"Using '{self.__class__.__name__}' without a \"\n",
      "Best trial: 2. Best value: 0.84585:  17%|█▋        | 5/30 [00:02<00:11,  2.10it/s]"
     ]
    },
    {
     "name": "stdout",
     "output_type": "stream",
     "text": [
      "[Trial 4] AUC: 0.7674 | Params: {'hid_dim': 32, 'num_layers': 2, 'dropout': 0.1702655945035625, 'lr': 0.004387681305907349, 'weight': 0.5004789880257666}\n",
      "[I 2025-04-21 13:37:47,068] Trial 4 finished with value: 0.7673574691253594 and parameters: {'hid_dim': 32, 'num_layers': 2, 'dropout': 0.1702655945035625, 'lr': 0.004387681305907349, 'weight': 0.5004789880257666}. Best is trial 2 with value: 0.8458495460440986.\n"
     ]
    },
    {
     "name": "stderr",
     "output_type": "stream",
     "text": [
      "/data1/shengen/conda_envs/ckgconv_env/lib/python3.11/site-packages/torch_geometric/sampler/neighbor_sampler.py:61: UserWarning: Using 'NeighborSampler' without a 'pyg-lib' installation is deprecated and will be removed soon. Please install 'pyg-lib' for accelerated neighborhood sampling\n",
      "  warnings.warn(f\"Using '{self.__class__.__name__}' without a \"\n",
      "Best trial: 2. Best value: 0.84585:  20%|██        | 6/30 [00:02<00:11,  2.05it/s]"
     ]
    },
    {
     "name": "stdout",
     "output_type": "stream",
     "text": [
      "[Trial 5] AUC: 0.7866 | Params: {'hid_dim': 64, 'num_layers': 6, 'dropout': 0.18784606385805408, 'lr': 0.003957201144538054, 'weight': 0.6093841987520341}\n",
      "[I 2025-04-21 13:37:47,575] Trial 5 finished with value: 0.786623808718209 and parameters: {'hid_dim': 64, 'num_layers': 6, 'dropout': 0.18784606385805408, 'lr': 0.003957201144538054, 'weight': 0.6093841987520341}. Best is trial 2 with value: 0.8458495460440986.\n"
     ]
    },
    {
     "name": "stderr",
     "output_type": "stream",
     "text": [
      "/data1/shengen/conda_envs/ckgconv_env/lib/python3.11/site-packages/torch_geometric/sampler/neighbor_sampler.py:61: UserWarning: Using 'NeighborSampler' without a 'pyg-lib' installation is deprecated and will be removed soon. Please install 'pyg-lib' for accelerated neighborhood sampling\n",
      "  warnings.warn(f\"Using '{self.__class__.__name__}' without a \"\n",
      "Best trial: 2. Best value: 0.84585:  23%|██▎       | 7/30 [00:03<00:11,  1.97it/s]"
     ]
    },
    {
     "name": "stdout",
     "output_type": "stream",
     "text": [
      "[Trial 6] AUC: 0.7634 | Params: {'hid_dim': 128, 'num_layers': 5, 'dropout': 0.3377286294881547, 'lr': 0.0002658396056654188, 'weight': 0.45021343905467015}\n",
      "[I 2025-04-21 13:37:48,129] Trial 6 finished with value: 0.7634213049117464 and parameters: {'hid_dim': 128, 'num_layers': 5, 'dropout': 0.3377286294881547, 'lr': 0.0002658396056654188, 'weight': 0.45021343905467015}. Best is trial 2 with value: 0.8458495460440986.\n"
     ]
    },
    {
     "name": "stderr",
     "output_type": "stream",
     "text": [
      "/data1/shengen/conda_envs/ckgconv_env/lib/python3.11/site-packages/torch_geometric/sampler/neighbor_sampler.py:61: UserWarning: Using 'NeighborSampler' without a 'pyg-lib' installation is deprecated and will be removed soon. Please install 'pyg-lib' for accelerated neighborhood sampling\n",
      "  warnings.warn(f\"Using '{self.__class__.__name__}' without a \"\n",
      "Best trial: 2. Best value: 0.84585:  27%|██▋       | 8/30 [00:03<00:11,  2.00it/s]"
     ]
    },
    {
     "name": "stdout",
     "output_type": "stream",
     "text": [
      "[Trial 7] AUC: 0.8253 | Params: {'hid_dim': 128, 'num_layers': 4, 'dropout': 0.293311132169601, 'lr': 0.0036611707605252422, 'weight': 0.7694583551638814}\n",
      "[I 2025-04-21 13:37:48,612] Trial 7 finished with value: 0.8252890091919021 and parameters: {'hid_dim': 128, 'num_layers': 4, 'dropout': 0.293311132169601, 'lr': 0.0036611707605252422, 'weight': 0.7694583551638814}. Best is trial 2 with value: 0.8458495460440986.\n"
     ]
    },
    {
     "name": "stderr",
     "output_type": "stream",
     "text": [
      "/data1/shengen/conda_envs/ckgconv_env/lib/python3.11/site-packages/torch_geometric/sampler/neighbor_sampler.py:61: UserWarning: Using 'NeighborSampler' without a 'pyg-lib' installation is deprecated and will be removed soon. Please install 'pyg-lib' for accelerated neighborhood sampling\n",
      "  warnings.warn(f\"Using '{self.__class__.__name__}' without a \"\n",
      "Best trial: 2. Best value: 0.84585:  30%|███       | 9/30 [00:04<00:09,  2.13it/s]"
     ]
    },
    {
     "name": "stdout",
     "output_type": "stream",
     "text": [
      "[Trial 8] AUC: 0.8456 | Params: {'hid_dim': 64, 'num_layers': 3, 'dropout': 0.28930664420035895, 'lr': 0.0009545403508192574, 'weight': 0.8937476855800417}\n",
      "[I 2025-04-21 13:37:49,015] Trial 8 finished with value: 0.8455563074493881 and parameters: {'hid_dim': 64, 'num_layers': 3, 'dropout': 0.28930664420035895, 'lr': 0.0009545403508192574, 'weight': 0.8937476855800417}. Best is trial 2 with value: 0.8458495460440986.\n"
     ]
    },
    {
     "name": "stderr",
     "output_type": "stream",
     "text": [
      "/data1/shengen/conda_envs/ckgconv_env/lib/python3.11/site-packages/torch_geometric/sampler/neighbor_sampler.py:61: UserWarning: Using 'NeighborSampler' without a 'pyg-lib' installation is deprecated and will be removed soon. Please install 'pyg-lib' for accelerated neighborhood sampling\n",
      "  warnings.warn(f\"Using '{self.__class__.__name__}' without a \"\n",
      "Best trial: 2. Best value: 0.84585:  33%|███▎      | 10/30 [00:04<00:09,  2.11it/s]"
     ]
    },
    {
     "name": "stdout",
     "output_type": "stream",
     "text": [
      "[Trial 9] AUC: 0.7852 | Params: {'hid_dim': 128, 'num_layers': 3, 'dropout': 0.07772036125974985, 'lr': 0.0002480500672989342, 'weight': 0.5973412546109957}\n",
      "[I 2025-04-21 13:37:49,494] Trial 9 finished with value: 0.7852140077821012 and parameters: {'hid_dim': 128, 'num_layers': 3, 'dropout': 0.07772036125974985, 'lr': 0.0002480500672989342, 'weight': 0.5973412546109957}. Best is trial 2 with value: 0.8458495460440986.\n"
     ]
    },
    {
     "name": "stderr",
     "output_type": "stream",
     "text": [
      "/data1/shengen/conda_envs/ckgconv_env/lib/python3.11/site-packages/torch_geometric/sampler/neighbor_sampler.py:61: UserWarning: Using 'NeighborSampler' without a 'pyg-lib' installation is deprecated and will be removed soon. Please install 'pyg-lib' for accelerated neighborhood sampling\n",
      "  warnings.warn(f\"Using '{self.__class__.__name__}' without a \"\n",
      "Best trial: 2. Best value: 0.84585:  37%|███▋      | 11/30 [00:05<00:09,  2.10it/s]"
     ]
    },
    {
     "name": "stdout",
     "output_type": "stream",
     "text": [
      "[Trial 10] AUC: 0.8450 | Params: {'hid_dim': 64, 'num_layers': 4, 'dropout': 0.4964707694382184, 'lr': 0.0012210993832219392, 'weight': 0.8622420596147978}\n",
      "[I 2025-04-21 13:37:49,981] Trial 10 finished with value: 0.8450219928946033 and parameters: {'hid_dim': 64, 'num_layers': 4, 'dropout': 0.4964707694382184, 'lr': 0.0012210993832219392, 'weight': 0.8622420596147978}. Best is trial 2 with value: 0.8458495460440986.\n"
     ]
    },
    {
     "name": "stderr",
     "output_type": "stream",
     "text": [
      "/data1/shengen/conda_envs/ckgconv_env/lib/python3.11/site-packages/torch_geometric/sampler/neighbor_sampler.py:61: UserWarning: Using 'NeighborSampler' without a 'pyg-lib' installation is deprecated and will be removed soon. Please install 'pyg-lib' for accelerated neighborhood sampling\n",
      "  warnings.warn(f\"Using '{self.__class__.__name__}' without a \"\n",
      "Best trial: 2. Best value: 0.84585:  40%|████      | 12/30 [00:05<00:08,  2.19it/s]"
     ]
    },
    {
     "name": "stdout",
     "output_type": "stream",
     "text": [
      "[Trial 11] AUC: 0.8452 | Params: {'hid_dim': 64, 'num_layers': 3, 'dropout': 0.2533537353167045, 'lr': 0.0010785466097099619, 'weight': 0.8967371711958763}\n",
      "[I 2025-04-21 13:37:50,392] Trial 11 finished with value: 0.8451657925900863 and parameters: {'hid_dim': 64, 'num_layers': 3, 'dropout': 0.2533537353167045, 'lr': 0.0010785466097099619, 'weight': 0.8967371711958763}. Best is trial 2 with value: 0.8458495460440986.\n"
     ]
    },
    {
     "name": "stderr",
     "output_type": "stream",
     "text": [
      "/data1/shengen/conda_envs/ckgconv_env/lib/python3.11/site-packages/torch_geometric/sampler/neighbor_sampler.py:61: UserWarning: Using 'NeighborSampler' without a 'pyg-lib' installation is deprecated and will be removed soon. Please install 'pyg-lib' for accelerated neighborhood sampling\n",
      "  warnings.warn(f\"Using '{self.__class__.__name__}' without a \"\n",
      "Best trial: 2. Best value: 0.84585:  43%|████▎     | 13/30 [00:06<00:07,  2.16it/s]"
     ]
    },
    {
     "name": "stdout",
     "output_type": "stream",
     "text": [
      "[Trial 12] AUC: 0.8184 | Params: {'hid_dim': 64, 'num_layers': 3, 'dropout': 0.399851903410377, 'lr': 0.0005180099422823966, 'weight': 0.74126478630439}\n",
      "[I 2025-04-21 13:37:50,869] Trial 12 finished with value: 0.8184204590311848 and parameters: {'hid_dim': 64, 'num_layers': 3, 'dropout': 0.399851903410377, 'lr': 0.0005180099422823966, 'weight': 0.74126478630439}. Best is trial 2 with value: 0.8458495460440986.\n"
     ]
    },
    {
     "name": "stderr",
     "output_type": "stream",
     "text": [
      "/data1/shengen/conda_envs/ckgconv_env/lib/python3.11/site-packages/torch_geometric/sampler/neighbor_sampler.py:61: UserWarning: Using 'NeighborSampler' without a 'pyg-lib' installation is deprecated and will be removed soon. Please install 'pyg-lib' for accelerated neighborhood sampling\n",
      "  warnings.warn(f\"Using '{self.__class__.__name__}' without a \"\n",
      "Best trial: 2. Best value: 0.84585:  47%|████▋     | 14/30 [00:06<00:07,  2.18it/s]"
     ]
    },
    {
     "name": "stdout",
     "output_type": "stream",
     "text": [
      "[Trial 13] AUC: 0.8203 | Params: {'hid_dim': 64, 'num_layers': 3, 'dropout': 0.12686744596024574, 'lr': 0.0018519510303016409, 'weight': 0.7407248785664685}\n",
      "[I 2025-04-21 13:37:51,318] Trial 13 finished with value: 0.8202560198499972 and parameters: {'hid_dim': 64, 'num_layers': 3, 'dropout': 0.12686744596024574, 'lr': 0.0018519510303016409, 'weight': 0.7407248785664685}. Best is trial 2 with value: 0.8458495460440986.\n"
     ]
    },
    {
     "name": "stderr",
     "output_type": "stream",
     "text": [
      "/data1/shengen/conda_envs/ckgconv_env/lib/python3.11/site-packages/torch_geometric/sampler/neighbor_sampler.py:61: UserWarning: Using 'NeighborSampler' without a 'pyg-lib' installation is deprecated and will be removed soon. Please install 'pyg-lib' for accelerated neighborhood sampling\n",
      "  warnings.warn(f\"Using '{self.__class__.__name__}' without a \"\n",
      "Best trial: 2. Best value: 0.84585:  50%|█████     | 15/30 [00:07<00:06,  2.34it/s]"
     ]
    },
    {
     "name": "stdout",
     "output_type": "stream",
     "text": [
      "[Trial 14] AUC: 0.8372 | Params: {'hid_dim': 64, 'num_layers': 2, 'dropout': 0.010736995203528943, 'lr': 0.000594625521768232, 'weight': 0.8146455258687696}\n",
      "[I 2025-04-21 13:37:51,675] Trial 14 finished with value: 0.8371651722776745 and parameters: {'hid_dim': 64, 'num_layers': 2, 'dropout': 0.010736995203528943, 'lr': 0.000594625521768232, 'weight': 0.8146455258687696}. Best is trial 2 with value: 0.8458495460440986.\n"
     ]
    },
    {
     "name": "stderr",
     "output_type": "stream",
     "text": [
      "/data1/shengen/conda_envs/ckgconv_env/lib/python3.11/site-packages/torch_geometric/sampler/neighbor_sampler.py:61: UserWarning: Using 'NeighborSampler' without a 'pyg-lib' installation is deprecated and will be removed soon. Please install 'pyg-lib' for accelerated neighborhood sampling\n",
      "  warnings.warn(f\"Using '{self.__class__.__name__}' without a \"\n",
      "Best trial: 2. Best value: 0.84585:  53%|█████▎    | 16/30 [00:07<00:06,  2.23it/s]"
     ]
    },
    {
     "name": "stdout",
     "output_type": "stream",
     "text": [
      "[Trial 15] AUC: 0.7976 | Params: {'hid_dim': 64, 'num_layers': 4, 'dropout': 0.2521305760231126, 'lr': 0.0020608653497774503, 'weight': 0.6551804022084717}\n",
      "[I 2025-04-21 13:37:52,172] Trial 15 finished with value: 0.7976343540292111 and parameters: {'hid_dim': 64, 'num_layers': 4, 'dropout': 0.2521305760231126, 'lr': 0.0020608653497774503, 'weight': 0.6551804022084717}. Best is trial 2 with value: 0.8458495460440986.\n"
     ]
    },
    {
     "name": "stderr",
     "output_type": "stream",
     "text": [
      "/data1/shengen/conda_envs/ckgconv_env/lib/python3.11/site-packages/torch_geometric/sampler/neighbor_sampler.py:61: UserWarning: Using 'NeighborSampler' without a 'pyg-lib' installation is deprecated and will be removed soon. Please install 'pyg-lib' for accelerated neighborhood sampling\n",
      "  warnings.warn(f\"Using '{self.__class__.__name__}' without a \"\n",
      "Best trial: 2. Best value: 0.84585:  57%|█████▋    | 17/30 [00:08<00:06,  2.10it/s]"
     ]
    },
    {
     "name": "stdout",
     "output_type": "stream",
     "text": [
      "[Trial 16] AUC: 0.7556 | Params: {'hid_dim': 64, 'num_layers': 5, 'dropout': 0.36641287371217063, 'lr': 0.009856403796515202, 'weight': 0.35142292104868267}\n",
      "[I 2025-04-21 13:37:52,709] Trial 16 finished with value: 0.7556053685219647 and parameters: {'hid_dim': 64, 'num_layers': 5, 'dropout': 0.36641287371217063, 'lr': 0.009856403796515202, 'weight': 0.35142292104868267}. Best is trial 2 with value: 0.8458495460440986.\n"
     ]
    },
    {
     "name": "stderr",
     "output_type": "stream",
     "text": [
      "/data1/shengen/conda_envs/ckgconv_env/lib/python3.11/site-packages/torch_geometric/sampler/neighbor_sampler.py:61: UserWarning: Using 'NeighborSampler' without a 'pyg-lib' installation is deprecated and will be removed soon. Please install 'pyg-lib' for accelerated neighborhood sampling\n",
      "  warnings.warn(f\"Using '{self.__class__.__name__}' without a \"\n",
      "Best trial: 2. Best value: 0.84585:  60%|██████    | 18/30 [00:08<00:05,  2.22it/s]"
     ]
    },
    {
     "name": "stdout",
     "output_type": "stream",
     "text": [
      "[Trial 17] AUC: 0.8075 | Params: {'hid_dim': 64, 'num_layers': 3, 'dropout': 0.3009834929540857, 'lr': 0.0005316515855386237, 'weight': 0.6938845838755703}\n",
      "[I 2025-04-21 13:37:53,104] Trial 17 finished with value: 0.8074916821744769 and parameters: {'hid_dim': 64, 'num_layers': 3, 'dropout': 0.3009834929540857, 'lr': 0.0005316515855386237, 'weight': 0.6938845838755703}. Best is trial 2 with value: 0.8458495460440986.\n"
     ]
    },
    {
     "name": "stderr",
     "output_type": "stream",
     "text": [
      "/data1/shengen/conda_envs/ckgconv_env/lib/python3.11/site-packages/torch_geometric/sampler/neighbor_sampler.py:61: UserWarning: Using 'NeighborSampler' without a 'pyg-lib' installation is deprecated and will be removed soon. Please install 'pyg-lib' for accelerated neighborhood sampling\n",
      "  warnings.warn(f\"Using '{self.__class__.__name__}' without a \"\n",
      "Best trial: 2. Best value: 0.84585:  63%|██████▎   | 19/30 [00:09<00:05,  2.06it/s]"
     ]
    },
    {
     "name": "stdout",
     "output_type": "stream",
     "text": [
      "[Trial 18] AUC: 0.8451 | Params: {'hid_dim': 64, 'num_layers': 5, 'dropout': 0.44382491732340795, 'lr': 0.002165648615607346, 'weight': 0.8920011875681441}\n",
      "[I 2025-04-21 13:37:53,668] Trial 18 finished with value: 0.8451418259741725 and parameters: {'hid_dim': 64, 'num_layers': 5, 'dropout': 0.44382491732340795, 'lr': 0.002165648615607346, 'weight': 0.8920011875681441}. Best is trial 2 with value: 0.8458495460440986.\n"
     ]
    },
    {
     "name": "stderr",
     "output_type": "stream",
     "text": [
      "/data1/shengen/conda_envs/ckgconv_env/lib/python3.11/site-packages/torch_geometric/sampler/neighbor_sampler.py:61: UserWarning: Using 'NeighborSampler' without a 'pyg-lib' installation is deprecated and will be removed soon. Please install 'pyg-lib' for accelerated neighborhood sampling\n",
      "  warnings.warn(f\"Using '{self.__class__.__name__}' without a \"\n",
      "Best trial: 2. Best value: 0.84585:  67%|██████▋   | 20/30 [00:09<00:04,  2.14it/s]"
     ]
    },
    {
     "name": "stdout",
     "output_type": "stream",
     "text": [
      "[Trial 19] AUC: 0.8348 | Params: {'hid_dim': 128, 'num_layers': 2, 'dropout': 0.22243506775558594, 'lr': 0.0008478579525873746, 'weight': 0.7972243221416833}\n",
      "[I 2025-04-21 13:37:54,091] Trial 19 finished with value: 0.8348108047143742 and parameters: {'hid_dim': 128, 'num_layers': 2, 'dropout': 0.22243506775558594, 'lr': 0.0008478579525873746, 'weight': 0.7972243221416833}. Best is trial 2 with value: 0.8458495460440986.\n"
     ]
    },
    {
     "name": "stderr",
     "output_type": "stream",
     "text": [
      "/data1/shengen/conda_envs/ckgconv_env/lib/python3.11/site-packages/torch_geometric/sampler/neighbor_sampler.py:61: UserWarning: Using 'NeighborSampler' without a 'pyg-lib' installation is deprecated and will be removed soon. Please install 'pyg-lib' for accelerated neighborhood sampling\n",
      "  warnings.warn(f\"Using '{self.__class__.__name__}' without a \"\n",
      "Best trial: 2. Best value: 0.84585:  70%|███████   | 21/30 [00:09<00:03,  2.27it/s]"
     ]
    },
    {
     "name": "stdout",
     "output_type": "stream",
     "text": [
      "[Trial 20] AUC: 0.7571 | Params: {'hid_dim': 64, 'num_layers': 3, 'dropout': 0.14166900574459096, 'lr': 0.00029347593922491113, 'weight': 0.31634841627665544}\n",
      "[I 2025-04-21 13:37:54,474] Trial 20 finished with value: 0.7571011673151752 and parameters: {'hid_dim': 64, 'num_layers': 3, 'dropout': 0.14166900574459096, 'lr': 0.00029347593922491113, 'weight': 0.31634841627665544}. Best is trial 2 with value: 0.8458495460440986.\n"
     ]
    },
    {
     "name": "stderr",
     "output_type": "stream",
     "text": [
      "/data1/shengen/conda_envs/ckgconv_env/lib/python3.11/site-packages/torch_geometric/sampler/neighbor_sampler.py:61: UserWarning: Using 'NeighborSampler' without a 'pyg-lib' installation is deprecated and will be removed soon. Please install 'pyg-lib' for accelerated neighborhood sampling\n",
      "  warnings.warn(f\"Using '{self.__class__.__name__}' without a \"\n",
      "Best trial: 2. Best value: 0.84585:  73%|███████▎  | 22/30 [00:10<00:03,  2.20it/s]"
     ]
    },
    {
     "name": "stdout",
     "output_type": "stream",
     "text": [
      "[Trial 21] AUC: 0.8449 | Params: {'hid_dim': 64, 'num_layers': 3, 'dropout': 0.2812202059176216, 'lr': 0.0011102977697019102, 'weight': 0.85122475706526}\n",
      "[I 2025-04-21 13:37:54,958] Trial 21 finished with value: 0.8449162578243951 and parameters: {'hid_dim': 64, 'num_layers': 3, 'dropout': 0.2812202059176216, 'lr': 0.0011102977697019102, 'weight': 0.85122475706526}. Best is trial 2 with value: 0.8458495460440986.\n"
     ]
    },
    {
     "name": "stderr",
     "output_type": "stream",
     "text": [
      "/data1/shengen/conda_envs/ckgconv_env/lib/python3.11/site-packages/torch_geometric/sampler/neighbor_sampler.py:61: UserWarning: Using 'NeighborSampler' without a 'pyg-lib' installation is deprecated and will be removed soon. Please install 'pyg-lib' for accelerated neighborhood sampling\n",
      "  warnings.warn(f\"Using '{self.__class__.__name__}' without a \"\n",
      "Best trial: 22. Best value: 0.846092:  77%|███████▋  | 23/30 [00:10<00:03,  2.20it/s]"
     ]
    },
    {
     "name": "stdout",
     "output_type": "stream",
     "text": [
      "[Trial 22] AUC: 0.8461 | Params: {'hid_dim': 64, 'num_layers': 4, 'dropout': 0.24604075619892224, 'lr': 0.0007912861938823329, 'weight': 0.8727022562530304}\n",
      "[I 2025-04-21 13:37:55,414] Trial 22 finished with value: 0.8460920318051092 and parameters: {'hid_dim': 64, 'num_layers': 4, 'dropout': 0.24604075619892224, 'lr': 0.0007912861938823329, 'weight': 0.8727022562530304}. Best is trial 22 with value: 0.8460920318051092.\n"
     ]
    },
    {
     "name": "stderr",
     "output_type": "stream",
     "text": [
      "/data1/shengen/conda_envs/ckgconv_env/lib/python3.11/site-packages/torch_geometric/sampler/neighbor_sampler.py:61: UserWarning: Using 'NeighborSampler' without a 'pyg-lib' installation is deprecated and will be removed soon. Please install 'pyg-lib' for accelerated neighborhood sampling\n",
      "  warnings.warn(f\"Using '{self.__class__.__name__}' without a \"\n",
      "Best trial: 22. Best value: 0.846092:  80%|████████  | 24/30 [00:11<00:02,  2.21it/s]"
     ]
    },
    {
     "name": "stdout",
     "output_type": "stream",
     "text": [
      "[Trial 23] AUC: 0.8357 | Params: {'hid_dim': 64, 'num_layers': 4, 'dropout': 0.327311069005247, 'lr': 0.0007560866360111205, 'weight': 0.8088254412675456}\n",
      "[I 2025-04-21 13:37:55,860] Trial 23 finished with value: 0.8356736028872723 and parameters: {'hid_dim': 64, 'num_layers': 4, 'dropout': 0.327311069005247, 'lr': 0.0007560866360111205, 'weight': 0.8088254412675456}. Best is trial 22 with value: 0.8460920318051092.\n"
     ]
    },
    {
     "name": "stderr",
     "output_type": "stream",
     "text": [
      "/data1/shengen/conda_envs/ckgconv_env/lib/python3.11/site-packages/torch_geometric/sampler/neighbor_sampler.py:61: UserWarning: Using 'NeighborSampler' without a 'pyg-lib' installation is deprecated and will be removed soon. Please install 'pyg-lib' for accelerated neighborhood sampling\n",
      "  warnings.warn(f\"Using '{self.__class__.__name__}' without a \"\n",
      "Best trial: 22. Best value: 0.846092:  83%|████████▎ | 25/30 [00:11<00:02,  2.11it/s]"
     ]
    },
    {
     "name": "stdout",
     "output_type": "stream",
     "text": [
      "[Trial 24] AUC: 0.8069 | Params: {'hid_dim': 64, 'num_layers': 4, 'dropout': 0.23963616006865102, 'lr': 0.0004056364734087292, 'weight': 0.6927575771899482}\n",
      "[I 2025-04-21 13:37:56,388] Trial 24 finished with value: 0.8069108441888004 and parameters: {'hid_dim': 64, 'num_layers': 4, 'dropout': 0.23963616006865102, 'lr': 0.0004056364734087292, 'weight': 0.6927575771899482}. Best is trial 22 with value: 0.8460920318051092.\n"
     ]
    },
    {
     "name": "stderr",
     "output_type": "stream",
     "text": [
      "/data1/shengen/conda_envs/ckgconv_env/lib/python3.11/site-packages/torch_geometric/sampler/neighbor_sampler.py:61: UserWarning: Using 'NeighborSampler' without a 'pyg-lib' installation is deprecated and will be removed soon. Please install 'pyg-lib' for accelerated neighborhood sampling\n",
      "  warnings.warn(f\"Using '{self.__class__.__name__}' without a \"\n",
      "Best trial: 22. Best value: 0.846092:  87%|████████▋ | 26/30 [00:12<00:01,  2.03it/s]"
     ]
    },
    {
     "name": "stdout",
     "output_type": "stream",
     "text": [
      "[Trial 25] AUC: 0.7784 | Params: {'hid_dim': 64, 'num_layers': 5, 'dropout': 0.20621185300426575, 'lr': 0.0014767534638951568, 'weight': 0.559298703167936}\n",
      "[I 2025-04-21 13:37:56,919] Trial 25 finished with value: 0.7783708340382338 and parameters: {'hid_dim': 64, 'num_layers': 5, 'dropout': 0.20621185300426575, 'lr': 0.0014767534638951568, 'weight': 0.559298703167936}. Best is trial 22 with value: 0.8460920318051092.\n"
     ]
    },
    {
     "name": "stderr",
     "output_type": "stream",
     "text": [
      "/data1/shengen/conda_envs/ckgconv_env/lib/python3.11/site-packages/torch_geometric/sampler/neighbor_sampler.py:61: UserWarning: Using 'NeighborSampler' without a 'pyg-lib' installation is deprecated and will be removed soon. Please install 'pyg-lib' for accelerated neighborhood sampling\n",
      "  warnings.warn(f\"Using '{self.__class__.__name__}' without a \"\n",
      "Best trial: 22. Best value: 0.846092:  90%|█████████ | 27/30 [00:12<00:01,  2.08it/s]"
     ]
    },
    {
     "name": "stdout",
     "output_type": "stream",
     "text": [
      "[Trial 26] AUC: 0.8402 | Params: {'hid_dim': 64, 'num_layers': 4, 'dropout': 0.14514119756071098, 'lr': 0.002576574009968317, 'weight': 0.8277788384463367}\n",
      "[I 2025-04-21 13:37:57,376] Trial 26 finished with value: 0.8401849658828173 and parameters: {'hid_dim': 64, 'num_layers': 4, 'dropout': 0.14514119756071098, 'lr': 0.002576574009968317, 'weight': 0.8277788384463367}. Best is trial 22 with value: 0.8460920318051092.\n"
     ]
    },
    {
     "name": "stderr",
     "output_type": "stream",
     "text": [
      "/data1/shengen/conda_envs/ckgconv_env/lib/python3.11/site-packages/torch_geometric/sampler/neighbor_sampler.py:61: UserWarning: Using 'NeighborSampler' without a 'pyg-lib' installation is deprecated and will be removed soon. Please install 'pyg-lib' for accelerated neighborhood sampling\n",
      "  warnings.warn(f\"Using '{self.__class__.__name__}' without a \"\n",
      "Best trial: 22. Best value: 0.846092:  93%|█████████▎| 28/30 [00:13<00:00,  2.05it/s]"
     ]
    },
    {
     "name": "stdout",
     "output_type": "stream",
     "text": [
      "[Trial 27] AUC: 0.8453 | Params: {'hid_dim': 64, 'num_layers': 3, 'dropout': 0.2718990929475188, 'lr': 0.0007603899332066093, 'weight': 0.8959348565669287}\n",
      "[I 2025-04-21 13:37:57,879] Trial 27 finished with value: 0.845268708058422 and parameters: {'hid_dim': 64, 'num_layers': 3, 'dropout': 0.2718990929475188, 'lr': 0.0007603899332066093, 'weight': 0.8959348565669287}. Best is trial 22 with value: 0.8460920318051092.\n"
     ]
    },
    {
     "name": "stderr",
     "output_type": "stream",
     "text": [
      "/data1/shengen/conda_envs/ckgconv_env/lib/python3.11/site-packages/torch_geometric/sampler/neighbor_sampler.py:61: UserWarning: Using 'NeighborSampler' without a 'pyg-lib' installation is deprecated and will be removed soon. Please install 'pyg-lib' for accelerated neighborhood sampling\n",
      "  warnings.warn(f\"Using '{self.__class__.__name__}' without a \"\n",
      "Best trial: 22. Best value: 0.846092:  97%|█████████▋| 29/30 [00:13<00:00,  2.12it/s]"
     ]
    },
    {
     "name": "stdout",
     "output_type": "stream",
     "text": [
      "[Trial 28] AUC: 0.8125 | Params: {'hid_dim': 128, 'num_layers': 2, 'dropout': 0.3372534252601473, 'lr': 0.0014668169218806345, 'weight': 0.7119973996903417}\n",
      "[I 2025-04-21 13:37:58,310] Trial 28 finished with value: 0.8124682794789376 and parameters: {'hid_dim': 128, 'num_layers': 2, 'dropout': 0.3372534252601473, 'lr': 0.0014668169218806345, 'weight': 0.7119973996903417}. Best is trial 22 with value: 0.8460920318051092.\n"
     ]
    },
    {
     "name": "stderr",
     "output_type": "stream",
     "text": [
      "/data1/shengen/conda_envs/ckgconv_env/lib/python3.11/site-packages/torch_geometric/sampler/neighbor_sampler.py:61: UserWarning: Using 'NeighborSampler' without a 'pyg-lib' installation is deprecated and will be removed soon. Please install 'pyg-lib' for accelerated neighborhood sampling\n",
      "  warnings.warn(f\"Using '{self.__class__.__name__}' without a \"\n",
      "Best trial: 22. Best value: 0.846092: 100%|██████████| 30/30 [00:14<00:00,  2.14it/s]"
     ]
    },
    {
     "name": "stdout",
     "output_type": "stream",
     "text": [
      "[Trial 29] AUC: 0.7564 | Params: {'hid_dim': 32, 'num_layers': 2, 'dropout': 0.10277496837359407, 'lr': 0.00015123681475891744, 'weight': 0.16978210696310048}\n",
      "[I 2025-04-21 13:37:58,686] Trial 29 finished with value: 0.7564230530649072 and parameters: {'hid_dim': 32, 'num_layers': 2, 'dropout': 0.10277496837359407, 'lr': 0.00015123681475891744, 'weight': 0.16978210696310048}. Best is trial 22 with value: 0.8460920318051092.\n",
      "Best params for inj_cora: {'hid_dim': 64, 'num_layers': 4, 'dropout': 0.24604075619892224, 'lr': 0.0007912861938823329, 'weight': 0.8727022562530304}\n",
      "[Run 1/10]\n"
     ]
    },
    {
     "name": "stderr",
     "output_type": "stream",
     "text": [
      "\n",
      "/data1/shengen/conda_envs/ckgconv_env/lib/python3.11/site-packages/torch_geometric/sampler/neighbor_sampler.py:61: UserWarning: Using 'NeighborSampler' without a 'pyg-lib' installation is deprecated and will be removed soon. Please install 'pyg-lib' for accelerated neighborhood sampling\n",
      "  warnings.warn(f\"Using '{self.__class__.__name__}' without a \"\n"
     ]
    },
    {
     "name": "stdout",
     "output_type": "stream",
     "text": [
      "[Run 2/10]\n"
     ]
    },
    {
     "name": "stderr",
     "output_type": "stream",
     "text": [
      "/data1/shengen/conda_envs/ckgconv_env/lib/python3.11/site-packages/torch_geometric/sampler/neighbor_sampler.py:61: UserWarning: Using 'NeighborSampler' without a 'pyg-lib' installation is deprecated and will be removed soon. Please install 'pyg-lib' for accelerated neighborhood sampling\n",
      "  warnings.warn(f\"Using '{self.__class__.__name__}' without a \"\n"
     ]
    },
    {
     "name": "stdout",
     "output_type": "stream",
     "text": [
      "[Run 3/10]\n"
     ]
    },
    {
     "name": "stderr",
     "output_type": "stream",
     "text": [
      "/data1/shengen/conda_envs/ckgconv_env/lib/python3.11/site-packages/torch_geometric/sampler/neighbor_sampler.py:61: UserWarning: Using 'NeighborSampler' without a 'pyg-lib' installation is deprecated and will be removed soon. Please install 'pyg-lib' for accelerated neighborhood sampling\n",
      "  warnings.warn(f\"Using '{self.__class__.__name__}' without a \"\n"
     ]
    },
    {
     "name": "stdout",
     "output_type": "stream",
     "text": [
      "[Run 4/10]\n"
     ]
    },
    {
     "name": "stderr",
     "output_type": "stream",
     "text": [
      "/data1/shengen/conda_envs/ckgconv_env/lib/python3.11/site-packages/torch_geometric/sampler/neighbor_sampler.py:61: UserWarning: Using 'NeighborSampler' without a 'pyg-lib' installation is deprecated and will be removed soon. Please install 'pyg-lib' for accelerated neighborhood sampling\n",
      "  warnings.warn(f\"Using '{self.__class__.__name__}' without a \"\n"
     ]
    },
    {
     "name": "stdout",
     "output_type": "stream",
     "text": [
      "[Run 5/10]\n"
     ]
    },
    {
     "name": "stderr",
     "output_type": "stream",
     "text": [
      "/data1/shengen/conda_envs/ckgconv_env/lib/python3.11/site-packages/torch_geometric/sampler/neighbor_sampler.py:61: UserWarning: Using 'NeighborSampler' without a 'pyg-lib' installation is deprecated and will be removed soon. Please install 'pyg-lib' for accelerated neighborhood sampling\n",
      "  warnings.warn(f\"Using '{self.__class__.__name__}' without a \"\n"
     ]
    },
    {
     "name": "stdout",
     "output_type": "stream",
     "text": [
      "[Run 6/10]\n"
     ]
    },
    {
     "name": "stderr",
     "output_type": "stream",
     "text": [
      "/data1/shengen/conda_envs/ckgconv_env/lib/python3.11/site-packages/torch_geometric/sampler/neighbor_sampler.py:61: UserWarning: Using 'NeighborSampler' without a 'pyg-lib' installation is deprecated and will be removed soon. Please install 'pyg-lib' for accelerated neighborhood sampling\n",
      "  warnings.warn(f\"Using '{self.__class__.__name__}' without a \"\n"
     ]
    },
    {
     "name": "stdout",
     "output_type": "stream",
     "text": [
      "[Run 7/10]\n"
     ]
    },
    {
     "name": "stderr",
     "output_type": "stream",
     "text": [
      "/data1/shengen/conda_envs/ckgconv_env/lib/python3.11/site-packages/torch_geometric/sampler/neighbor_sampler.py:61: UserWarning: Using 'NeighborSampler' without a 'pyg-lib' installation is deprecated and will be removed soon. Please install 'pyg-lib' for accelerated neighborhood sampling\n",
      "  warnings.warn(f\"Using '{self.__class__.__name__}' without a \"\n"
     ]
    },
    {
     "name": "stdout",
     "output_type": "stream",
     "text": [
      "[Run 8/10]\n"
     ]
    },
    {
     "name": "stderr",
     "output_type": "stream",
     "text": [
      "/data1/shengen/conda_envs/ckgconv_env/lib/python3.11/site-packages/torch_geometric/sampler/neighbor_sampler.py:61: UserWarning: Using 'NeighborSampler' without a 'pyg-lib' installation is deprecated and will be removed soon. Please install 'pyg-lib' for accelerated neighborhood sampling\n",
      "  warnings.warn(f\"Using '{self.__class__.__name__}' without a \"\n"
     ]
    },
    {
     "name": "stdout",
     "output_type": "stream",
     "text": [
      "[Run 9/10]\n"
     ]
    },
    {
     "name": "stderr",
     "output_type": "stream",
     "text": [
      "/data1/shengen/conda_envs/ckgconv_env/lib/python3.11/site-packages/torch_geometric/sampler/neighbor_sampler.py:61: UserWarning: Using 'NeighborSampler' without a 'pyg-lib' installation is deprecated and will be removed soon. Please install 'pyg-lib' for accelerated neighborhood sampling\n",
      "  warnings.warn(f\"Using '{self.__class__.__name__}' without a \"\n"
     ]
    },
    {
     "name": "stdout",
     "output_type": "stream",
     "text": [
      "[Run 10/10]\n"
     ]
    },
    {
     "name": "stderr",
     "output_type": "stream",
     "text": [
      "/data1/shengen/conda_envs/ckgconv_env/lib/python3.11/site-packages/torch_geometric/sampler/neighbor_sampler.py:61: UserWarning: Using 'NeighborSampler' without a 'pyg-lib' installation is deprecated and will be removed soon. Please install 'pyg-lib' for accelerated neighborhood sampling\n",
      "  warnings.warn(f\"Using '{self.__class__.__name__}' without a \"\n",
      "[I 2025-04-21 13:38:27,880] A new study created in memory with name: no-name-079c833f-3919-4bc7-a592-6c3c71ebe12b\n"
     ]
    },
    {
     "name": "stdout",
     "output_type": "stream",
     "text": [
      "Saved results to results/dominant_inj_cora.csv\n",
      "Summary for inj_cora:\n",
      "  AUC-ROC (mean±std): 0.8562 ± 0.0007\n",
      "  AP (mean±std): 0.2197 ± 0.0011\n",
      "  F1 (mean±std): 0.3120 ± 0.0048\n",
      " Running DOMINANT on books...\n",
      "\n"
     ]
    },
    {
     "name": "stderr",
     "output_type": "stream",
     "text": [
      "  0%|          | 0/30 [00:00<?, ?it/s]/data1/shengen/conda_envs/ckgconv_env/lib/python3.11/site-packages/torch_geometric/sampler/neighbor_sampler.py:61: UserWarning: Using 'NeighborSampler' without a 'pyg-lib' installation is deprecated and will be removed soon. Please install 'pyg-lib' for accelerated neighborhood sampling\n",
      "  warnings.warn(f\"Using '{self.__class__.__name__}' without a \"\n",
      "Best trial: 0. Best value: 0.458094:   3%|▎         | 1/30 [00:00<00:09,  3.08it/s]"
     ]
    },
    {
     "name": "stdout",
     "output_type": "stream",
     "text": [
      "[Trial 0] AUC: 0.4581 | Params: {'hid_dim': 64, 'num_layers': 5, 'dropout': 0.3706332264628227, 'lr': 0.0006792408658412481, 'weight': 0.15065910693449142}\n",
      "[I 2025-04-21 13:38:28,204] Trial 0 finished with value: 0.4580935251798561 and parameters: {'hid_dim': 64, 'num_layers': 5, 'dropout': 0.3706332264628227, 'lr': 0.0006792408658412481, 'weight': 0.15065910693449142}. Best is trial 0 with value: 0.4580935251798561.\n"
     ]
    },
    {
     "name": "stderr",
     "output_type": "stream",
     "text": [
      "/data1/shengen/conda_envs/ckgconv_env/lib/python3.11/site-packages/torch_geometric/sampler/neighbor_sampler.py:61: UserWarning: Using 'NeighborSampler' without a 'pyg-lib' installation is deprecated and will be removed soon. Please install 'pyg-lib' for accelerated neighborhood sampling\n",
      "  warnings.warn(f\"Using '{self.__class__.__name__}' without a \"\n",
      "Best trial: 0. Best value: 0.458094:   7%|▋         | 2/30 [00:00<00:07,  3.87it/s]"
     ]
    },
    {
     "name": "stdout",
     "output_type": "stream",
     "text": [
      "[Trial 1] AUC: 0.4041 | Params: {'hid_dim': 32, 'num_layers': 2, 'dropout': 0.2779203592586628, 'lr': 0.0008497237513386657, 'weight': 0.7094424165238412}\n",
      "[I 2025-04-21 13:38:28,416] Trial 1 finished with value: 0.4041238437821172 and parameters: {'hid_dim': 32, 'num_layers': 2, 'dropout': 0.2779203592586628, 'lr': 0.0008497237513386657, 'weight': 0.7094424165238412}. Best is trial 0 with value: 0.4580935251798561.\n"
     ]
    },
    {
     "name": "stderr",
     "output_type": "stream",
     "text": [
      "/data1/shengen/conda_envs/ckgconv_env/lib/python3.11/site-packages/torch_geometric/sampler/neighbor_sampler.py:61: UserWarning: Using 'NeighborSampler' without a 'pyg-lib' installation is deprecated and will be removed soon. Please install 'pyg-lib' for accelerated neighborhood sampling\n",
      "  warnings.warn(f\"Using '{self.__class__.__name__}' without a \"\n",
      "Best trial: 0. Best value: 0.458094:  10%|█         | 3/30 [00:00<00:07,  3.86it/s]"
     ]
    },
    {
     "name": "stdout",
     "output_type": "stream",
     "text": [
      "[Trial 2] AUC: 0.4271 | Params: {'hid_dim': 32, 'num_layers': 4, 'dropout': 0.48226928906207295, 'lr': 0.00048034893721789776, 'weight': 0.3657143945733602}\n",
      "[I 2025-04-21 13:38:28,676] Trial 2 finished with value: 0.4271068859198356 and parameters: {'hid_dim': 32, 'num_layers': 4, 'dropout': 0.48226928906207295, 'lr': 0.00048034893721789776, 'weight': 0.3657143945733602}. Best is trial 0 with value: 0.4580935251798561.\n"
     ]
    },
    {
     "name": "stderr",
     "output_type": "stream",
     "text": [
      "/data1/shengen/conda_envs/ckgconv_env/lib/python3.11/site-packages/torch_geometric/sampler/neighbor_sampler.py:61: UserWarning: Using 'NeighborSampler' without a 'pyg-lib' installation is deprecated and will be removed soon. Please install 'pyg-lib' for accelerated neighborhood sampling\n",
      "  warnings.warn(f\"Using '{self.__class__.__name__}' without a \"\n",
      "Best trial: 3. Best value: 0.484841:  13%|█▎        | 4/30 [00:01<00:07,  3.59it/s]"
     ]
    },
    {
     "name": "stdout",
     "output_type": "stream",
     "text": [
      "[Trial 3] AUC: 0.4848 | Params: {'hid_dim': 64, 'num_layers': 5, 'dropout': 0.3225684550500676, 'lr': 0.0020742806530702814, 'weight': 0.7674209365468853}\n",
      "[I 2025-04-21 13:38:28,985] Trial 3 finished with value: 0.48484069886947584 and parameters: {'hid_dim': 64, 'num_layers': 5, 'dropout': 0.3225684550500676, 'lr': 0.0020742806530702814, 'weight': 0.7674209365468853}. Best is trial 3 with value: 0.48484069886947584.\n"
     ]
    },
    {
     "name": "stderr",
     "output_type": "stream",
     "text": [
      "/data1/shengen/conda_envs/ckgconv_env/lib/python3.11/site-packages/torch_geometric/sampler/neighbor_sampler.py:61: UserWarning: Using 'NeighborSampler' without a 'pyg-lib' installation is deprecated and will be removed soon. Please install 'pyg-lib' for accelerated neighborhood sampling\n",
      "  warnings.warn(f\"Using '{self.__class__.__name__}' without a \"\n",
      "Best trial: 3. Best value: 0.484841:  17%|█▋        | 5/30 [00:01<00:06,  3.66it/s]"
     ]
    },
    {
     "name": "stdout",
     "output_type": "stream",
     "text": [
      "[Trial 4] AUC: 0.4176 | Params: {'hid_dim': 64, 'num_layers': 4, 'dropout': 0.14364966654903027, 'lr': 0.00021867350922888623, 'weight': 0.8973382412729937}\n",
      "[I 2025-04-21 13:38:29,249] Trial 4 finished with value: 0.4176258992805756 and parameters: {'hid_dim': 64, 'num_layers': 4, 'dropout': 0.14364966654903027, 'lr': 0.00021867350922888623, 'weight': 0.8973382412729937}. Best is trial 3 with value: 0.48484069886947584.\n"
     ]
    },
    {
     "name": "stderr",
     "output_type": "stream",
     "text": [
      "/data1/shengen/conda_envs/ckgconv_env/lib/python3.11/site-packages/torch_geometric/sampler/neighbor_sampler.py:61: UserWarning: Using 'NeighborSampler' without a 'pyg-lib' installation is deprecated and will be removed soon. Please install 'pyg-lib' for accelerated neighborhood sampling\n",
      "  warnings.warn(f\"Using '{self.__class__.__name__}' without a \"\n",
      "Best trial: 3. Best value: 0.484841:  20%|██        | 6/30 [00:01<00:06,  3.81it/s]"
     ]
    },
    {
     "name": "stdout",
     "output_type": "stream",
     "text": [
      "[Trial 5] AUC: 0.4110 | Params: {'hid_dim': 128, 'num_layers': 3, 'dropout': 0.03902608717937733, 'lr': 0.00015580602417596752, 'weight': 0.6413157047830234}\n",
      "[I 2025-04-21 13:38:29,490] Trial 5 finished with value: 0.41103545734840696 and parameters: {'hid_dim': 128, 'num_layers': 3, 'dropout': 0.03902608717937733, 'lr': 0.00015580602417596752, 'weight': 0.6413157047830234}. Best is trial 3 with value: 0.48484069886947584.\n"
     ]
    },
    {
     "name": "stderr",
     "output_type": "stream",
     "text": [
      "/data1/shengen/conda_envs/ckgconv_env/lib/python3.11/site-packages/torch_geometric/sampler/neighbor_sampler.py:61: UserWarning: Using 'NeighborSampler' without a 'pyg-lib' installation is deprecated and will be removed soon. Please install 'pyg-lib' for accelerated neighborhood sampling\n",
      "  warnings.warn(f\"Using '{self.__class__.__name__}' without a \"\n",
      "Best trial: 3. Best value: 0.484841:  23%|██▎       | 7/30 [00:01<00:05,  3.90it/s]"
     ]
    },
    {
     "name": "stdout",
     "output_type": "stream",
     "text": [
      "[Trial 6] AUC: 0.3986 | Params: {'hid_dim': 64, 'num_layers': 3, 'dropout': 0.06434685373260207, 'lr': 0.0007200974658675463, 'weight': 0.6122434228005644}\n",
      "[I 2025-04-21 13:38:29,734] Trial 6 finished with value: 0.3985611510791367 and parameters: {'hid_dim': 64, 'num_layers': 3, 'dropout': 0.06434685373260207, 'lr': 0.0007200974658675463, 'weight': 0.6122434228005644}. Best is trial 3 with value: 0.48484069886947584.\n"
     ]
    },
    {
     "name": "stderr",
     "output_type": "stream",
     "text": [
      "/data1/shengen/conda_envs/ckgconv_env/lib/python3.11/site-packages/torch_geometric/sampler/neighbor_sampler.py:61: UserWarning: Using 'NeighborSampler' without a 'pyg-lib' installation is deprecated and will be removed soon. Please install 'pyg-lib' for accelerated neighborhood sampling\n",
      "  warnings.warn(f\"Using '{self.__class__.__name__}' without a \"\n",
      "Best trial: 3. Best value: 0.484841:  27%|██▋       | 8/30 [00:02<00:06,  3.53it/s]"
     ]
    },
    {
     "name": "stdout",
     "output_type": "stream",
     "text": [
      "[Trial 7] AUC: 0.3855 | Params: {'hid_dim': 32, 'num_layers': 6, 'dropout': 0.0497496015145909, 'lr': 0.00023431584335289083, 'weight': 0.14442557930449454}\n",
      "[I 2025-04-21 13:38:30,075] Trial 7 finished with value: 0.38545734840698864 and parameters: {'hid_dim': 32, 'num_layers': 6, 'dropout': 0.0497496015145909, 'lr': 0.00023431584335289083, 'weight': 0.14442557930449454}. Best is trial 3 with value: 0.48484069886947584.\n"
     ]
    },
    {
     "name": "stderr",
     "output_type": "stream",
     "text": [
      "/data1/shengen/conda_envs/ckgconv_env/lib/python3.11/site-packages/torch_geometric/sampler/neighbor_sampler.py:61: UserWarning: Using 'NeighborSampler' without a 'pyg-lib' installation is deprecated and will be removed soon. Please install 'pyg-lib' for accelerated neighborhood sampling\n",
      "  warnings.warn(f\"Using '{self.__class__.__name__}' without a \"\n",
      "Best trial: 3. Best value: 0.484841:  30%|███       | 9/30 [00:02<00:06,  3.41it/s]"
     ]
    },
    {
     "name": "stdout",
     "output_type": "stream",
     "text": [
      "[Trial 8] AUC: 0.4574 | Params: {'hid_dim': 64, 'num_layers': 5, 'dropout': 0.4718476999065967, 'lr': 0.0004789485850825441, 'weight': 0.767237628718018}\n",
      "[I 2025-04-21 13:38:30,390] Trial 8 finished with value: 0.45739979445015416 and parameters: {'hid_dim': 64, 'num_layers': 5, 'dropout': 0.4718476999065967, 'lr': 0.0004789485850825441, 'weight': 0.767237628718018}. Best is trial 3 with value: 0.48484069886947584.\n"
     ]
    },
    {
     "name": "stderr",
     "output_type": "stream",
     "text": [
      "/data1/shengen/conda_envs/ckgconv_env/lib/python3.11/site-packages/torch_geometric/sampler/neighbor_sampler.py:61: UserWarning: Using 'NeighborSampler' without a 'pyg-lib' installation is deprecated and will be removed soon. Please install 'pyg-lib' for accelerated neighborhood sampling\n",
      "  warnings.warn(f\"Using '{self.__class__.__name__}' without a \"\n",
      "Best trial: 3. Best value: 0.484841:  33%|███▎      | 10/30 [00:02<00:05,  3.51it/s]"
     ]
    },
    {
     "name": "stdout",
     "output_type": "stream",
     "text": [
      "[Trial 9] AUC: 0.4591 | Params: {'hid_dim': 64, 'num_layers': 4, 'dropout': 0.4315555965475477, 'lr': 0.0006088849814213932, 'weight': 0.6923470595199867}\n",
      "[I 2025-04-21 13:38:30,656] Trial 9 finished with value: 0.45912127440904416 and parameters: {'hid_dim': 64, 'num_layers': 4, 'dropout': 0.4315555965475477, 'lr': 0.0006088849814213932, 'weight': 0.6923470595199867}. Best is trial 3 with value: 0.48484069886947584.\n"
     ]
    },
    {
     "name": "stderr",
     "output_type": "stream",
     "text": [
      "/data1/shengen/conda_envs/ckgconv_env/lib/python3.11/site-packages/torch_geometric/sampler/neighbor_sampler.py:61: UserWarning: Using 'NeighborSampler' without a 'pyg-lib' installation is deprecated and will be removed soon. Please install 'pyg-lib' for accelerated neighborhood sampling\n",
      "  warnings.warn(f\"Using '{self.__class__.__name__}' without a \"\n",
      "Best trial: 10. Best value: 0.581552:  37%|███▋      | 11/30 [00:03<00:05,  3.26it/s]"
     ]
    },
    {
     "name": "stdout",
     "output_type": "stream",
     "text": [
      "[Trial 10] AUC: 0.5816 | Params: {'hid_dim': 128, 'num_layers': 6, 'dropout': 0.2583167122468562, 'lr': 0.004305546187822057, 'weight': 0.4475258946735145}\n",
      "[I 2025-04-21 13:38:31,013] Trial 10 finished with value: 0.581551901336074 and parameters: {'hid_dim': 128, 'num_layers': 6, 'dropout': 0.2583167122468562, 'lr': 0.004305546187822057, 'weight': 0.4475258946735145}. Best is trial 10 with value: 0.581551901336074.\n"
     ]
    },
    {
     "name": "stderr",
     "output_type": "stream",
     "text": [
      "/data1/shengen/conda_envs/ckgconv_env/lib/python3.11/site-packages/torch_geometric/sampler/neighbor_sampler.py:61: UserWarning: Using 'NeighborSampler' without a 'pyg-lib' installation is deprecated and will be removed soon. Please install 'pyg-lib' for accelerated neighborhood sampling\n",
      "  warnings.warn(f\"Using '{self.__class__.__name__}' without a \"\n",
      "Best trial: 10. Best value: 0.581552:  40%|████      | 12/30 [00:03<00:05,  3.11it/s]"
     ]
    },
    {
     "name": "stdout",
     "output_type": "stream",
     "text": [
      "[Trial 11] AUC: 0.5118 | Params: {'hid_dim': 128, 'num_layers': 6, 'dropout': 0.2717758120901755, 'lr': 0.004041543799431761, 'weight': 0.4093185568559838}\n",
      "[I 2025-04-21 13:38:31,367] Trial 11 finished with value: 0.5118191161356629 and parameters: {'hid_dim': 128, 'num_layers': 6, 'dropout': 0.2717758120901755, 'lr': 0.004041543799431761, 'weight': 0.4093185568559838}. Best is trial 10 with value: 0.581551901336074.\n"
     ]
    },
    {
     "name": "stderr",
     "output_type": "stream",
     "text": [
      "/data1/shengen/conda_envs/ckgconv_env/lib/python3.11/site-packages/torch_geometric/sampler/neighbor_sampler.py:61: UserWarning: Using 'NeighborSampler' without a 'pyg-lib' installation is deprecated and will be removed soon. Please install 'pyg-lib' for accelerated neighborhood sampling\n",
      "  warnings.warn(f\"Using '{self.__class__.__name__}' without a \"\n",
      "Best trial: 10. Best value: 0.581552:  43%|████▎     | 13/30 [00:03<00:05,  3.02it/s]"
     ]
    },
    {
     "name": "stdout",
     "output_type": "stream",
     "text": [
      "[Trial 12] AUC: 0.4013 | Params: {'hid_dim': 128, 'num_layers': 6, 'dropout': 0.2031604480289146, 'lr': 0.006274897737236496, 'weight': 0.394023729174034}\n",
      "[I 2025-04-21 13:38:31,722] Trial 12 finished with value: 0.4013103802672148 and parameters: {'hid_dim': 128, 'num_layers': 6, 'dropout': 0.2031604480289146, 'lr': 0.006274897737236496, 'weight': 0.394023729174034}. Best is trial 10 with value: 0.581551901336074.\n"
     ]
    },
    {
     "name": "stderr",
     "output_type": "stream",
     "text": [
      "/data1/shengen/conda_envs/ckgconv_env/lib/python3.11/site-packages/torch_geometric/sampler/neighbor_sampler.py:61: UserWarning: Using 'NeighborSampler' without a 'pyg-lib' installation is deprecated and will be removed soon. Please install 'pyg-lib' for accelerated neighborhood sampling\n",
      "  warnings.warn(f\"Using '{self.__class__.__name__}' without a \"\n",
      "Best trial: 10. Best value: 0.581552:  47%|████▋     | 14/30 [00:04<00:05,  2.94it/s]"
     ]
    },
    {
     "name": "stdout",
     "output_type": "stream",
     "text": [
      "[Trial 13] AUC: 0.4802 | Params: {'hid_dim': 128, 'num_layers': 6, 'dropout': 0.20435594417860073, 'lr': 0.009438729522902674, 'weight': 0.45556084106226735}\n",
      "[I 2025-04-21 13:38:32,082] Trial 13 finished with value: 0.4801901336073998 and parameters: {'hid_dim': 128, 'num_layers': 6, 'dropout': 0.20435594417860073, 'lr': 0.009438729522902674, 'weight': 0.45556084106226735}. Best is trial 10 with value: 0.581551901336074.\n"
     ]
    },
    {
     "name": "stderr",
     "output_type": "stream",
     "text": [
      "/data1/shengen/conda_envs/ckgconv_env/lib/python3.11/site-packages/torch_geometric/sampler/neighbor_sampler.py:61: UserWarning: Using 'NeighborSampler' without a 'pyg-lib' installation is deprecated and will be removed soon. Please install 'pyg-lib' for accelerated neighborhood sampling\n",
      "  warnings.warn(f\"Using '{self.__class__.__name__}' without a \"\n",
      "Best trial: 10. Best value: 0.581552:  50%|█████     | 15/30 [00:04<00:05,  2.88it/s]"
     ]
    },
    {
     "name": "stdout",
     "output_type": "stream",
     "text": [
      "[Trial 14] AUC: 0.4582 | Params: {'hid_dim': 128, 'num_layers': 6, 'dropout': 0.3480493459902513, 'lr': 0.002866504509415507, 'weight': 0.3131737101594287}\n",
      "[I 2025-04-21 13:38:32,444] Trial 14 finished with value: 0.4581706063720452 and parameters: {'hid_dim': 128, 'num_layers': 6, 'dropout': 0.3480493459902513, 'lr': 0.002866504509415507, 'weight': 0.3131737101594287}. Best is trial 10 with value: 0.581551901336074.\n"
     ]
    },
    {
     "name": "stderr",
     "output_type": "stream",
     "text": [
      "/data1/shengen/conda_envs/ckgconv_env/lib/python3.11/site-packages/torch_geometric/sampler/neighbor_sampler.py:61: UserWarning: Using 'NeighborSampler' without a 'pyg-lib' installation is deprecated and will be removed soon. Please install 'pyg-lib' for accelerated neighborhood sampling\n",
      "  warnings.warn(f\"Using '{self.__class__.__name__}' without a \"\n",
      "Best trial: 10. Best value: 0.581552:  53%|█████▎    | 16/30 [00:04<00:04,  2.93it/s]"
     ]
    },
    {
     "name": "stdout",
     "output_type": "stream",
     "text": [
      "[Trial 15] AUC: 0.4825 | Params: {'hid_dim': 128, 'num_layers': 5, 'dropout': 0.24802977322590497, 'lr': 0.002902752660240105, 'weight': 0.5490840136513374}\n",
      "[I 2025-04-21 13:38:32,774] Trial 15 finished with value: 0.48252826310380265 and parameters: {'hid_dim': 128, 'num_layers': 5, 'dropout': 0.24802977322590497, 'lr': 0.002902752660240105, 'weight': 0.5490840136513374}. Best is trial 10 with value: 0.581551901336074.\n"
     ]
    },
    {
     "name": "stderr",
     "output_type": "stream",
     "text": [
      "/data1/shengen/conda_envs/ckgconv_env/lib/python3.11/site-packages/torch_geometric/sampler/neighbor_sampler.py:61: UserWarning: Using 'NeighborSampler' without a 'pyg-lib' installation is deprecated and will be removed soon. Please install 'pyg-lib' for accelerated neighborhood sampling\n",
      "  warnings.warn(f\"Using '{self.__class__.__name__}' without a \"\n",
      "Best trial: 10. Best value: 0.581552:  57%|█████▋    | 17/30 [00:05<00:04,  2.86it/s]"
     ]
    },
    {
     "name": "stdout",
     "output_type": "stream",
     "text": [
      "[Trial 16] AUC: 0.5085 | Params: {'hid_dim': 128, 'num_layers': 6, 'dropout': 0.13558226786192634, 'lr': 0.0015998045295098273, 'weight': 0.2574563844806493}\n",
      "[I 2025-04-21 13:38:33,139] Trial 16 finished with value: 0.5085046248715314 and parameters: {'hid_dim': 128, 'num_layers': 6, 'dropout': 0.13558226786192634, 'lr': 0.0015998045295098273, 'weight': 0.2574563844806493}. Best is trial 10 with value: 0.581551901336074.\n"
     ]
    },
    {
     "name": "stderr",
     "output_type": "stream",
     "text": [
      "/data1/shengen/conda_envs/ckgconv_env/lib/python3.11/site-packages/torch_geometric/sampler/neighbor_sampler.py:61: UserWarning: Using 'NeighborSampler' without a 'pyg-lib' installation is deprecated and will be removed soon. Please install 'pyg-lib' for accelerated neighborhood sampling\n",
      "  warnings.warn(f\"Using '{self.__class__.__name__}' without a \"\n",
      "Best trial: 10. Best value: 0.581552:  60%|██████    | 18/30 [00:05<00:04,  2.84it/s]"
     ]
    },
    {
     "name": "stdout",
     "output_type": "stream",
     "text": [
      "[Trial 17] AUC: 0.5008 | Params: {'hid_dim': 128, 'num_layers': 5, 'dropout': 0.2884400933183985, 'lr': 0.0046578128901118175, 'weight': 0.47698323330418446}\n",
      "[I 2025-04-21 13:38:33,497] Trial 17 finished with value: 0.5008221993833505 and parameters: {'hid_dim': 128, 'num_layers': 5, 'dropout': 0.2884400933183985, 'lr': 0.0046578128901118175, 'weight': 0.47698323330418446}. Best is trial 10 with value: 0.581551901336074.\n"
     ]
    },
    {
     "name": "stderr",
     "output_type": "stream",
     "text": [
      "/data1/shengen/conda_envs/ckgconv_env/lib/python3.11/site-packages/torch_geometric/sampler/neighbor_sampler.py:61: UserWarning: Using 'NeighborSampler' without a 'pyg-lib' installation is deprecated and will be removed soon. Please install 'pyg-lib' for accelerated neighborhood sampling\n",
      "  warnings.warn(f\"Using '{self.__class__.__name__}' without a \"\n",
      "Best trial: 10. Best value: 0.581552:  63%|██████▎   | 19/30 [00:05<00:03,  3.10it/s]"
     ]
    },
    {
     "name": "stdout",
     "output_type": "stream",
     "text": [
      "[Trial 18] AUC: 0.3934 | Params: {'hid_dim': 128, 'num_layers': 3, 'dropout': 0.4055721879837129, 'lr': 0.004659598269425706, 'weight': 0.23833371154127453}\n",
      "[I 2025-04-21 13:38:33,751] Trial 18 finished with value: 0.3934224049331963 and parameters: {'hid_dim': 128, 'num_layers': 3, 'dropout': 0.4055721879837129, 'lr': 0.004659598269425706, 'weight': 0.23833371154127453}. Best is trial 10 with value: 0.581551901336074.\n"
     ]
    },
    {
     "name": "stderr",
     "output_type": "stream",
     "text": [
      "/data1/shengen/conda_envs/ckgconv_env/lib/python3.11/site-packages/torch_geometric/sampler/neighbor_sampler.py:61: UserWarning: Using 'NeighborSampler' without a 'pyg-lib' installation is deprecated and will be removed soon. Please install 'pyg-lib' for accelerated neighborhood sampling\n",
      "  warnings.warn(f\"Using '{self.__class__.__name__}' without a \"\n",
      "Best trial: 10. Best value: 0.581552:  67%|██████▋   | 20/30 [00:06<00:03,  3.01it/s]"
     ]
    },
    {
     "name": "stdout",
     "output_type": "stream",
     "text": [
      "[Trial 19] AUC: 0.4304 | Params: {'hid_dim': 128, 'num_layers': 6, 'dropout': 0.2026072290913538, 'lr': 0.0013911563815070434, 'weight': 0.545161127540518}\n",
      "[I 2025-04-21 13:38:34,106] Trial 19 finished with value: 0.43036998972250773 and parameters: {'hid_dim': 128, 'num_layers': 6, 'dropout': 0.2026072290913538, 'lr': 0.0013911563815070434, 'weight': 0.545161127540518}. Best is trial 10 with value: 0.581551901336074.\n"
     ]
    },
    {
     "name": "stderr",
     "output_type": "stream",
     "text": [
      "/data1/shengen/conda_envs/ckgconv_env/lib/python3.11/site-packages/torch_geometric/sampler/neighbor_sampler.py:61: UserWarning: Using 'NeighborSampler' without a 'pyg-lib' installation is deprecated and will be removed soon. Please install 'pyg-lib' for accelerated neighborhood sampling\n",
      "  warnings.warn(f\"Using '{self.__class__.__name__}' without a \"\n",
      "Best trial: 10. Best value: 0.581552:  70%|███████   | 21/30 [00:06<00:02,  3.14it/s]"
     ]
    },
    {
     "name": "stdout",
     "output_type": "stream",
     "text": [
      "[Trial 20] AUC: 0.4808 | Params: {'hid_dim': 128, 'num_layers': 4, 'dropout': 0.11487060540354671, 'lr': 0.00803648519317629, 'weight': 0.41125950530590727}\n",
      "[I 2025-04-21 13:38:34,391] Trial 20 finished with value: 0.48075539568345327 and parameters: {'hid_dim': 128, 'num_layers': 4, 'dropout': 0.11487060540354671, 'lr': 0.00803648519317629, 'weight': 0.41125950530590727}. Best is trial 10 with value: 0.581551901336074.\n"
     ]
    },
    {
     "name": "stderr",
     "output_type": "stream",
     "text": [
      "/data1/shengen/conda_envs/ckgconv_env/lib/python3.11/site-packages/torch_geometric/sampler/neighbor_sampler.py:61: UserWarning: Using 'NeighborSampler' without a 'pyg-lib' installation is deprecated and will be removed soon. Please install 'pyg-lib' for accelerated neighborhood sampling\n",
      "  warnings.warn(f\"Using '{self.__class__.__name__}' without a \"\n",
      "Best trial: 10. Best value: 0.581552:  73%|███████▎  | 22/30 [00:06<00:02,  3.07it/s]"
     ]
    },
    {
     "name": "stdout",
     "output_type": "stream",
     "text": [
      "[Trial 21] AUC: 0.5067 | Params: {'hid_dim': 128, 'num_layers': 6, 'dropout': 0.1412901994468061, 'lr': 0.001467015952128768, 'weight': 0.2779112440709853}\n",
      "[I 2025-04-21 13:38:34,736] Trial 21 finished with value: 0.5067317574511818 and parameters: {'hid_dim': 128, 'num_layers': 6, 'dropout': 0.1412901994468061, 'lr': 0.001467015952128768, 'weight': 0.2779112440709853}. Best is trial 10 with value: 0.581551901336074.\n"
     ]
    },
    {
     "name": "stderr",
     "output_type": "stream",
     "text": [
      "/data1/shengen/conda_envs/ckgconv_env/lib/python3.11/site-packages/torch_geometric/sampler/neighbor_sampler.py:61: UserWarning: Using 'NeighborSampler' without a 'pyg-lib' installation is deprecated and will be removed soon. Please install 'pyg-lib' for accelerated neighborhood sampling\n",
      "  warnings.warn(f\"Using '{self.__class__.__name__}' without a \"\n",
      "Best trial: 10. Best value: 0.581552:  77%|███████▋  | 23/30 [00:07<00:02,  3.02it/s]"
     ]
    },
    {
     "name": "stdout",
     "output_type": "stream",
     "text": [
      "[Trial 22] AUC: 0.5076 | Params: {'hid_dim': 128, 'num_layers': 6, 'dropout': 0.2330343972983039, 'lr': 0.003168193687155025, 'weight': 0.21026454393678565}\n",
      "[I 2025-04-21 13:38:35,081] Trial 22 finished with value: 0.5075539568345324 and parameters: {'hid_dim': 128, 'num_layers': 6, 'dropout': 0.2330343972983039, 'lr': 0.003168193687155025, 'weight': 0.21026454393678565}. Best is trial 10 with value: 0.581551901336074.\n"
     ]
    },
    {
     "name": "stderr",
     "output_type": "stream",
     "text": [
      "/data1/shengen/conda_envs/ckgconv_env/lib/python3.11/site-packages/torch_geometric/sampler/neighbor_sampler.py:61: UserWarning: Using 'NeighborSampler' without a 'pyg-lib' installation is deprecated and will be removed soon. Please install 'pyg-lib' for accelerated neighborhood sampling\n",
      "  warnings.warn(f\"Using '{self.__class__.__name__}' without a \"\n",
      "Best trial: 10. Best value: 0.581552:  80%|████████  | 24/30 [00:07<00:01,  3.09it/s]"
     ]
    },
    {
     "name": "stdout",
     "output_type": "stream",
     "text": [
      "[Trial 23] AUC: 0.4917 | Params: {'hid_dim': 128, 'num_layers': 5, 'dropout': 0.30770279215878027, 'lr': 0.0016894425896404215, 'weight': 0.32910876502719955}\n",
      "[I 2025-04-21 13:38:35,387] Trial 23 finished with value: 0.4916752312435766 and parameters: {'hid_dim': 128, 'num_layers': 5, 'dropout': 0.30770279215878027, 'lr': 0.0016894425896404215, 'weight': 0.32910876502719955}. Best is trial 10 with value: 0.581551901336074.\n"
     ]
    },
    {
     "name": "stderr",
     "output_type": "stream",
     "text": [
      "/data1/shengen/conda_envs/ckgconv_env/lib/python3.11/site-packages/torch_geometric/sampler/neighbor_sampler.py:61: UserWarning: Using 'NeighborSampler' without a 'pyg-lib' installation is deprecated and will be removed soon. Please install 'pyg-lib' for accelerated neighborhood sampling\n",
      "  warnings.warn(f\"Using '{self.__class__.__name__}' without a \"\n",
      "Best trial: 10. Best value: 0.581552:  83%|████████▎ | 25/30 [00:07<00:01,  3.05it/s]"
     ]
    },
    {
     "name": "stdout",
     "output_type": "stream",
     "text": [
      "[Trial 24] AUC: 0.4977 | Params: {'hid_dim': 128, 'num_layers': 6, 'dropout': 0.11118695319843447, 'lr': 0.004589129550878891, 'weight': 0.43830098158727343}\n",
      "[I 2025-04-21 13:38:35,723] Trial 24 finished with value: 0.4976875642343268 and parameters: {'hid_dim': 128, 'num_layers': 6, 'dropout': 0.11118695319843447, 'lr': 0.004589129550878891, 'weight': 0.43830098158727343}. Best is trial 10 with value: 0.581551901336074.\n"
     ]
    },
    {
     "name": "stderr",
     "output_type": "stream",
     "text": [
      "/data1/shengen/conda_envs/ckgconv_env/lib/python3.11/site-packages/torch_geometric/sampler/neighbor_sampler.py:61: UserWarning: Using 'NeighborSampler' without a 'pyg-lib' installation is deprecated and will be removed soon. Please install 'pyg-lib' for accelerated neighborhood sampling\n",
      "  warnings.warn(f\"Using '{self.__class__.__name__}' without a \"\n",
      "Best trial: 10. Best value: 0.581552:  87%|████████▋ | 26/30 [00:08<00:01,  3.06it/s]"
     ]
    },
    {
     "name": "stdout",
     "output_type": "stream",
     "text": [
      "[Trial 25] AUC: 0.4577 | Params: {'hid_dim': 32, 'num_layers': 5, 'dropout': 0.16811425026204066, 'lr': 0.002159495456028577, 'weight': 0.21070887208346173}\n",
      "[I 2025-04-21 13:38:36,048] Trial 25 finished with value: 0.4576567317574511 and parameters: {'hid_dim': 32, 'num_layers': 5, 'dropout': 0.16811425026204066, 'lr': 0.002159495456028577, 'weight': 0.21070887208346173}. Best is trial 10 with value: 0.581551901336074.\n"
     ]
    },
    {
     "name": "stderr",
     "output_type": "stream",
     "text": [
      "/data1/shengen/conda_envs/ckgconv_env/lib/python3.11/site-packages/torch_geometric/sampler/neighbor_sampler.py:61: UserWarning: Using 'NeighborSampler' without a 'pyg-lib' installation is deprecated and will be removed soon. Please install 'pyg-lib' for accelerated neighborhood sampling\n",
      "  warnings.warn(f\"Using '{self.__class__.__name__}' without a \"\n",
      "Best trial: 10. Best value: 0.581552:  90%|█████████ | 27/30 [00:08<00:01,  3.00it/s]"
     ]
    },
    {
     "name": "stdout",
     "output_type": "stream",
     "text": [
      "[Trial 26] AUC: 0.4869 | Params: {'hid_dim': 128, 'num_layers': 6, 'dropout': 0.004928905207032708, 'lr': 0.0037301587623268457, 'weight': 0.5329287562369727}\n",
      "[I 2025-04-21 13:38:36,397] Trial 26 finished with value: 0.48689619732785205 and parameters: {'hid_dim': 128, 'num_layers': 6, 'dropout': 0.004928905207032708, 'lr': 0.0037301587623268457, 'weight': 0.5329287562369727}. Best is trial 10 with value: 0.581551901336074.\n"
     ]
    },
    {
     "name": "stderr",
     "output_type": "stream",
     "text": [
      "/data1/shengen/conda_envs/ckgconv_env/lib/python3.11/site-packages/torch_geometric/sampler/neighbor_sampler.py:61: UserWarning: Using 'NeighborSampler' without a 'pyg-lib' installation is deprecated and will be removed soon. Please install 'pyg-lib' for accelerated neighborhood sampling\n",
      "  warnings.warn(f\"Using '{self.__class__.__name__}' without a \"\n",
      "Best trial: 10. Best value: 0.581552:  93%|█████████▎| 28/30 [00:08<00:00,  3.30it/s]"
     ]
    },
    {
     "name": "stdout",
     "output_type": "stream",
     "text": [
      "[Trial 27] AUC: 0.4051 | Params: {'hid_dim': 128, 'num_layers': 2, 'dropout': 0.26344751380676856, 'lr': 0.006724066598480708, 'weight': 0.10008990851058205}\n",
      "[I 2025-04-21 13:38:36,629] Trial 27 finished with value: 0.40507451181911613 and parameters: {'hid_dim': 128, 'num_layers': 2, 'dropout': 0.26344751380676856, 'lr': 0.006724066598480708, 'weight': 0.10008990851058205}. Best is trial 10 with value: 0.581551901336074.\n"
     ]
    },
    {
     "name": "stderr",
     "output_type": "stream",
     "text": [
      "/data1/shengen/conda_envs/ckgconv_env/lib/python3.11/site-packages/torch_geometric/sampler/neighbor_sampler.py:61: UserWarning: Using 'NeighborSampler' without a 'pyg-lib' installation is deprecated and will be removed soon. Please install 'pyg-lib' for accelerated neighborhood sampling\n",
      "  warnings.warn(f\"Using '{self.__class__.__name__}' without a \"\n",
      "Best trial: 10. Best value: 0.581552:  97%|█████████▋| 29/30 [00:09<00:00,  3.18it/s]"
     ]
    },
    {
     "name": "stdout",
     "output_type": "stream",
     "text": [
      "[Trial 28] AUC: 0.4112 | Params: {'hid_dim': 128, 'num_layers': 5, 'dropout': 0.34442443203222894, 'lr': 0.0011101817274758383, 'weight': 0.34868407072510615}\n",
      "[I 2025-04-21 13:38:36,971] Trial 28 finished with value: 0.4111767728674204 and parameters: {'hid_dim': 128, 'num_layers': 5, 'dropout': 0.34442443203222894, 'lr': 0.0011101817274758383, 'weight': 0.34868407072510615}. Best is trial 10 with value: 0.581551901336074.\n"
     ]
    },
    {
     "name": "stderr",
     "output_type": "stream",
     "text": [
      "/data1/shengen/conda_envs/ckgconv_env/lib/python3.11/site-packages/torch_geometric/sampler/neighbor_sampler.py:61: UserWarning: Using 'NeighborSampler' without a 'pyg-lib' installation is deprecated and will be removed soon. Please install 'pyg-lib' for accelerated neighborhood sampling\n",
      "  warnings.warn(f\"Using '{self.__class__.__name__}' without a \"\n",
      "Best trial: 10. Best value: 0.581552: 100%|██████████| 30/30 [00:09<00:00,  3.18it/s]"
     ]
    },
    {
     "name": "stdout",
     "output_type": "stream",
     "text": [
      "[Trial 29] AUC: 0.4992 | Params: {'hid_dim': 32, 'num_layers': 5, 'dropout': 0.37270829790447446, 'lr': 0.0020879469581591543, 'weight': 0.30000672710027665}\n",
      "[I 2025-04-21 13:38:37,311] Trial 29 finished with value: 0.49920349434737926 and parameters: {'hid_dim': 32, 'num_layers': 5, 'dropout': 0.37270829790447446, 'lr': 0.0020879469581591543, 'weight': 0.30000672710027665}. Best is trial 10 with value: 0.581551901336074.\n",
      "Best params for books: {'hid_dim': 128, 'num_layers': 6, 'dropout': 0.2583167122468562, 'lr': 0.004305546187822057, 'weight': 0.4475258946735145}\n",
      "[Run 1/10]\n"
     ]
    },
    {
     "name": "stderr",
     "output_type": "stream",
     "text": [
      "\n",
      "/data1/shengen/conda_envs/ckgconv_env/lib/python3.11/site-packages/torch_geometric/sampler/neighbor_sampler.py:61: UserWarning: Using 'NeighborSampler' without a 'pyg-lib' installation is deprecated and will be removed soon. Please install 'pyg-lib' for accelerated neighborhood sampling\n",
      "  warnings.warn(f\"Using '{self.__class__.__name__}' without a \"\n"
     ]
    },
    {
     "name": "stdout",
     "output_type": "stream",
     "text": [
      "[Run 2/10]\n"
     ]
    },
    {
     "name": "stderr",
     "output_type": "stream",
     "text": [
      "/data1/shengen/conda_envs/ckgconv_env/lib/python3.11/site-packages/torch_geometric/sampler/neighbor_sampler.py:61: UserWarning: Using 'NeighborSampler' without a 'pyg-lib' installation is deprecated and will be removed soon. Please install 'pyg-lib' for accelerated neighborhood sampling\n",
      "  warnings.warn(f\"Using '{self.__class__.__name__}' without a \"\n"
     ]
    },
    {
     "name": "stdout",
     "output_type": "stream",
     "text": [
      "[Run 3/10]\n"
     ]
    },
    {
     "name": "stderr",
     "output_type": "stream",
     "text": [
      "/data1/shengen/conda_envs/ckgconv_env/lib/python3.11/site-packages/torch_geometric/sampler/neighbor_sampler.py:61: UserWarning: Using 'NeighborSampler' without a 'pyg-lib' installation is deprecated and will be removed soon. Please install 'pyg-lib' for accelerated neighborhood sampling\n",
      "  warnings.warn(f\"Using '{self.__class__.__name__}' without a \"\n"
     ]
    },
    {
     "name": "stdout",
     "output_type": "stream",
     "text": [
      "[Run 4/10]\n"
     ]
    },
    {
     "name": "stderr",
     "output_type": "stream",
     "text": [
      "/data1/shengen/conda_envs/ckgconv_env/lib/python3.11/site-packages/torch_geometric/sampler/neighbor_sampler.py:61: UserWarning: Using 'NeighborSampler' without a 'pyg-lib' installation is deprecated and will be removed soon. Please install 'pyg-lib' for accelerated neighborhood sampling\n",
      "  warnings.warn(f\"Using '{self.__class__.__name__}' without a \"\n"
     ]
    },
    {
     "name": "stdout",
     "output_type": "stream",
     "text": [
      "[Run 5/10]\n"
     ]
    },
    {
     "name": "stderr",
     "output_type": "stream",
     "text": [
      "/data1/shengen/conda_envs/ckgconv_env/lib/python3.11/site-packages/torch_geometric/sampler/neighbor_sampler.py:61: UserWarning: Using 'NeighborSampler' without a 'pyg-lib' installation is deprecated and will be removed soon. Please install 'pyg-lib' for accelerated neighborhood sampling\n",
      "  warnings.warn(f\"Using '{self.__class__.__name__}' without a \"\n"
     ]
    },
    {
     "name": "stdout",
     "output_type": "stream",
     "text": [
      "[Run 6/10]\n"
     ]
    },
    {
     "name": "stderr",
     "output_type": "stream",
     "text": [
      "/data1/shengen/conda_envs/ckgconv_env/lib/python3.11/site-packages/torch_geometric/sampler/neighbor_sampler.py:61: UserWarning: Using 'NeighborSampler' without a 'pyg-lib' installation is deprecated and will be removed soon. Please install 'pyg-lib' for accelerated neighborhood sampling\n",
      "  warnings.warn(f\"Using '{self.__class__.__name__}' without a \"\n"
     ]
    },
    {
     "name": "stdout",
     "output_type": "stream",
     "text": [
      "[Run 7/10]\n"
     ]
    },
    {
     "name": "stderr",
     "output_type": "stream",
     "text": [
      "/data1/shengen/conda_envs/ckgconv_env/lib/python3.11/site-packages/torch_geometric/sampler/neighbor_sampler.py:61: UserWarning: Using 'NeighborSampler' without a 'pyg-lib' installation is deprecated and will be removed soon. Please install 'pyg-lib' for accelerated neighborhood sampling\n",
      "  warnings.warn(f\"Using '{self.__class__.__name__}' without a \"\n"
     ]
    },
    {
     "name": "stdout",
     "output_type": "stream",
     "text": [
      "[Run 8/10]\n"
     ]
    },
    {
     "name": "stderr",
     "output_type": "stream",
     "text": [
      "/data1/shengen/conda_envs/ckgconv_env/lib/python3.11/site-packages/torch_geometric/sampler/neighbor_sampler.py:61: UserWarning: Using 'NeighborSampler' without a 'pyg-lib' installation is deprecated and will be removed soon. Please install 'pyg-lib' for accelerated neighborhood sampling\n",
      "  warnings.warn(f\"Using '{self.__class__.__name__}' without a \"\n"
     ]
    },
    {
     "name": "stdout",
     "output_type": "stream",
     "text": [
      "[Run 9/10]\n"
     ]
    },
    {
     "name": "stderr",
     "output_type": "stream",
     "text": [
      "/data1/shengen/conda_envs/ckgconv_env/lib/python3.11/site-packages/torch_geometric/sampler/neighbor_sampler.py:61: UserWarning: Using 'NeighborSampler' without a 'pyg-lib' installation is deprecated and will be removed soon. Please install 'pyg-lib' for accelerated neighborhood sampling\n",
      "  warnings.warn(f\"Using '{self.__class__.__name__}' without a \"\n"
     ]
    },
    {
     "name": "stdout",
     "output_type": "stream",
     "text": [
      "[Run 10/10]\n"
     ]
    },
    {
     "name": "stderr",
     "output_type": "stream",
     "text": [
      "/data1/shengen/conda_envs/ckgconv_env/lib/python3.11/site-packages/torch_geometric/sampler/neighbor_sampler.py:61: UserWarning: Using 'NeighborSampler' without a 'pyg-lib' installation is deprecated and will be removed soon. Please install 'pyg-lib' for accelerated neighborhood sampling\n",
      "  warnings.warn(f\"Using '{self.__class__.__name__}' without a \"\n",
      "[I 2025-04-21 13:39:01,211] A new study created in memory with name: no-name-314d7a0f-01aa-48b6-a1f2-0edb7ed13bca\n"
     ]
    },
    {
     "name": "stdout",
     "output_type": "stream",
     "text": [
      "Saved results to results/dominant_books.csv\n",
      "Summary for books:\n",
      "  AUC-ROC (mean±std): 0.4566 ± 0.0293\n",
      "  AP (mean±std): 0.0245 ± 0.0141\n",
      "  F1 (mean±std): 0.0224 ± 0.0186\n",
      " Running DOMINANT on gen_500...\n",
      "\n"
     ]
    },
    {
     "name": "stderr",
     "output_type": "stream",
     "text": [
      "  0%|          | 0/30 [00:00<?, ?it/s]/data1/shengen/conda_envs/ckgconv_env/lib/python3.11/site-packages/torch_geometric/sampler/neighbor_sampler.py:61: UserWarning: Using 'NeighborSampler' without a 'pyg-lib' installation is deprecated and will be removed soon. Please install 'pyg-lib' for accelerated neighborhood sampling\n",
      "  warnings.warn(f\"Using '{self.__class__.__name__}' without a \"\n",
      "Best trial: 0. Best value: 0.796979:   3%|▎         | 1/30 [00:00<00:08,  3.49it/s]/data1/shengen/conda_envs/ckgconv_env/lib/python3.11/site-packages/torch_geometric/sampler/neighbor_sampler.py:61: UserWarning: Using 'NeighborSampler' without a 'pyg-lib' installation is deprecated and will be removed soon. Please install 'pyg-lib' for accelerated neighborhood sampling\n",
      "  warnings.warn(f\"Using '{self.__class__.__name__}' without a \"\n",
      "Best trial: 0. Best value: 0.796979:   7%|▋         | 2/30 [00:00<00:06,  4.43it/s]"
     ]
    },
    {
     "name": "stdout",
     "output_type": "stream",
     "text": [
      "[Trial 0] AUC: 0.7970 | Params: {'hid_dim': 128, 'num_layers': 5, 'dropout': 0.1313206627069648, 'lr': 0.00046359804416688273, 'weight': 0.5754671626315842}\n",
      "[I 2025-04-21 13:39:01,499] Trial 0 finished with value: 0.7969791666666667 and parameters: {'hid_dim': 128, 'num_layers': 5, 'dropout': 0.1313206627069648, 'lr': 0.00046359804416688273, 'weight': 0.5754671626315842}. Best is trial 0 with value: 0.7969791666666667.\n",
      "[Trial 1] AUC: 0.7899 | Params: {'hid_dim': 32, 'num_layers': 3, 'dropout': 0.43323217250260254, 'lr': 0.004542041095722512, 'weight': 0.5461575290354672}\n",
      "[I 2025-04-21 13:39:01,682] Trial 1 finished with value: 0.7898958333333334 and parameters: {'hid_dim': 32, 'num_layers': 3, 'dropout': 0.43323217250260254, 'lr': 0.004542041095722512, 'weight': 0.5461575290354672}. Best is trial 0 with value: 0.7969791666666667.\n"
     ]
    },
    {
     "name": "stderr",
     "output_type": "stream",
     "text": [
      "/data1/shengen/conda_envs/ckgconv_env/lib/python3.11/site-packages/torch_geometric/sampler/neighbor_sampler.py:61: UserWarning: Using 'NeighborSampler' without a 'pyg-lib' installation is deprecated and will be removed soon. Please install 'pyg-lib' for accelerated neighborhood sampling\n",
      "  warnings.warn(f\"Using '{self.__class__.__name__}' without a \"\n",
      "Best trial: 0. Best value: 0.796979:  10%|█         | 3/30 [00:00<00:05,  4.84it/s]/data1/shengen/conda_envs/ckgconv_env/lib/python3.11/site-packages/torch_geometric/sampler/neighbor_sampler.py:61: UserWarning: Using 'NeighborSampler' without a 'pyg-lib' installation is deprecated and will be removed soon. Please install 'pyg-lib' for accelerated neighborhood sampling\n",
      "  warnings.warn(f\"Using '{self.__class__.__name__}' without a \"\n"
     ]
    },
    {
     "name": "stdout",
     "output_type": "stream",
     "text": [
      "[Trial 2] AUC: 0.7907 | Params: {'hid_dim': 128, 'num_layers': 3, 'dropout': 0.10341448263954806, 'lr': 0.003075280789185797, 'weight': 0.3483970739899658}\n",
      "[I 2025-04-21 13:39:01,866] Trial 2 finished with value: 0.7907291666666666 and parameters: {'hid_dim': 128, 'num_layers': 3, 'dropout': 0.10341448263954806, 'lr': 0.003075280789185797, 'weight': 0.3483970739899658}. Best is trial 0 with value: 0.7969791666666667.\n"
     ]
    },
    {
     "name": "stderr",
     "output_type": "stream",
     "text": [
      "Best trial: 0. Best value: 0.796979:  13%|█▎        | 4/30 [00:00<00:05,  4.36it/s]/data1/shengen/conda_envs/ckgconv_env/lib/python3.11/site-packages/torch_geometric/sampler/neighbor_sampler.py:61: UserWarning: Using 'NeighborSampler' without a 'pyg-lib' installation is deprecated and will be removed soon. Please install 'pyg-lib' for accelerated neighborhood sampling\n",
      "  warnings.warn(f\"Using '{self.__class__.__name__}' without a \"\n",
      "Best trial: 0. Best value: 0.796979:  17%|█▋        | 5/30 [00:01<00:05,  4.95it/s]"
     ]
    },
    {
     "name": "stdout",
     "output_type": "stream",
     "text": [
      "[Trial 3] AUC: 0.7812 | Params: {'hid_dim': 64, 'num_layers': 5, 'dropout': 0.02445642995133085, 'lr': 0.00026372827020350434, 'weight': 0.27283486180310057}\n",
      "[I 2025-04-21 13:39:02,130] Trial 3 finished with value: 0.7812499999999999 and parameters: {'hid_dim': 64, 'num_layers': 5, 'dropout': 0.02445642995133085, 'lr': 0.00026372827020350434, 'weight': 0.27283486180310057}. Best is trial 0 with value: 0.7969791666666667.\n",
      "[Trial 4] AUC: 0.7817 | Params: {'hid_dim': 32, 'num_layers': 2, 'dropout': 0.34441373925782304, 'lr': 0.0004356171446060221, 'weight': 0.21558914705114623}\n",
      "[I 2025-04-21 13:39:02,284] Trial 4 finished with value: 0.7816666666666666 and parameters: {'hid_dim': 32, 'num_layers': 2, 'dropout': 0.34441373925782304, 'lr': 0.0004356171446060221, 'weight': 0.21558914705114623}. Best is trial 0 with value: 0.7969791666666667.\n"
     ]
    },
    {
     "name": "stderr",
     "output_type": "stream",
     "text": [
      "/data1/shengen/conda_envs/ckgconv_env/lib/python3.11/site-packages/torch_geometric/sampler/neighbor_sampler.py:61: UserWarning: Using 'NeighborSampler' without a 'pyg-lib' installation is deprecated and will be removed soon. Please install 'pyg-lib' for accelerated neighborhood sampling\n",
      "  warnings.warn(f\"Using '{self.__class__.__name__}' without a \"\n",
      "Best trial: 0. Best value: 0.796979:  20%|██        | 6/30 [00:01<00:05,  4.43it/s]"
     ]
    },
    {
     "name": "stdout",
     "output_type": "stream",
     "text": [
      "[Trial 5] AUC: 0.7891 | Params: {'hid_dim': 128, 'num_layers': 5, 'dropout': 0.4101772764451499, 'lr': 0.00010683798503617831, 'weight': 0.885838026554799}\n",
      "[I 2025-04-21 13:39:02,556] Trial 5 finished with value: 0.7890624999999999 and parameters: {'hid_dim': 128, 'num_layers': 5, 'dropout': 0.4101772764451499, 'lr': 0.00010683798503617831, 'weight': 0.885838026554799}. Best is trial 0 with value: 0.7969791666666667.\n"
     ]
    },
    {
     "name": "stderr",
     "output_type": "stream",
     "text": [
      "/data1/shengen/conda_envs/ckgconv_env/lib/python3.11/site-packages/torch_geometric/sampler/neighbor_sampler.py:61: UserWarning: Using 'NeighborSampler' without a 'pyg-lib' installation is deprecated and will be removed soon. Please install 'pyg-lib' for accelerated neighborhood sampling\n",
      "  warnings.warn(f\"Using '{self.__class__.__name__}' without a \"\n",
      "Best trial: 0. Best value: 0.796979:  23%|██▎       | 7/30 [00:01<00:05,  4.20it/s]"
     ]
    },
    {
     "name": "stdout",
     "output_type": "stream",
     "text": [
      "[Trial 6] AUC: 0.7961 | Params: {'hid_dim': 64, 'num_layers': 5, 'dropout': 0.09783280701327618, 'lr': 0.0016225925996470707, 'weight': 0.7621123143508232}\n",
      "[I 2025-04-21 13:39:02,819] Trial 6 finished with value: 0.7961458333333333 and parameters: {'hid_dim': 64, 'num_layers': 5, 'dropout': 0.09783280701327618, 'lr': 0.0016225925996470707, 'weight': 0.7621123143508232}. Best is trial 0 with value: 0.7969791666666667.\n"
     ]
    },
    {
     "name": "stderr",
     "output_type": "stream",
     "text": [
      "/data1/shengen/conda_envs/ckgconv_env/lib/python3.11/site-packages/torch_geometric/sampler/neighbor_sampler.py:61: UserWarning: Using 'NeighborSampler' without a 'pyg-lib' installation is deprecated and will be removed soon. Please install 'pyg-lib' for accelerated neighborhood sampling\n",
      "  warnings.warn(f\"Using '{self.__class__.__name__}' without a \"\n",
      "Best trial: 0. Best value: 0.796979:  27%|██▋       | 8/30 [00:01<00:05,  4.04it/s]"
     ]
    },
    {
     "name": "stdout",
     "output_type": "stream",
     "text": [
      "[Trial 7] AUC: 0.7806 | Params: {'hid_dim': 32, 'num_layers': 5, 'dropout': 0.09789541055562517, 'lr': 0.00026522706578358256, 'weight': 0.29536048571883755}\n",
      "[I 2025-04-21 13:39:03,086] Trial 7 finished with value: 0.780625 and parameters: {'hid_dim': 32, 'num_layers': 5, 'dropout': 0.09789541055562517, 'lr': 0.00026522706578358256, 'weight': 0.29536048571883755}. Best is trial 0 with value: 0.7969791666666667.\n"
     ]
    },
    {
     "name": "stderr",
     "output_type": "stream",
     "text": [
      "/data1/shengen/conda_envs/ckgconv_env/lib/python3.11/site-packages/torch_geometric/sampler/neighbor_sampler.py:61: UserWarning: Using 'NeighborSampler' without a 'pyg-lib' installation is deprecated and will be removed soon. Please install 'pyg-lib' for accelerated neighborhood sampling\n",
      "  warnings.warn(f\"Using '{self.__class__.__name__}' without a \"\n",
      "Best trial: 0. Best value: 0.796979:  30%|███       | 9/30 [00:02<00:05,  3.94it/s]"
     ]
    },
    {
     "name": "stdout",
     "output_type": "stream",
     "text": [
      "[Trial 8] AUC: 0.7893 | Params: {'hid_dim': 128, 'num_layers': 5, 'dropout': 0.00225929624230492, 'lr': 0.00440090496401599, 'weight': 0.32313694895761413}\n",
      "[I 2025-04-21 13:39:03,354] Trial 8 finished with value: 0.7892708333333333 and parameters: {'hid_dim': 128, 'num_layers': 5, 'dropout': 0.00225929624230492, 'lr': 0.00440090496401599, 'weight': 0.32313694895761413}. Best is trial 0 with value: 0.7969791666666667.\n"
     ]
    },
    {
     "name": "stderr",
     "output_type": "stream",
     "text": [
      "/data1/shengen/conda_envs/ckgconv_env/lib/python3.11/site-packages/torch_geometric/sampler/neighbor_sampler.py:61: UserWarning: Using 'NeighborSampler' without a 'pyg-lib' installation is deprecated and will be removed soon. Please install 'pyg-lib' for accelerated neighborhood sampling\n",
      "  warnings.warn(f\"Using '{self.__class__.__name__}' without a \"\n",
      "Best trial: 0. Best value: 0.796979:  33%|███▎      | 10/30 [00:02<00:05,  3.77it/s]"
     ]
    },
    {
     "name": "stdout",
     "output_type": "stream",
     "text": [
      "[Trial 9] AUC: 0.7949 | Params: {'hid_dim': 128, 'num_layers': 6, 'dropout': 0.13881863265742017, 'lr': 0.001191636014853871, 'weight': 0.754602958738716}\n",
      "[I 2025-04-21 13:39:03,644] Trial 9 finished with value: 0.7948958333333332 and parameters: {'hid_dim': 128, 'num_layers': 6, 'dropout': 0.13881863265742017, 'lr': 0.001191636014853871, 'weight': 0.754602958738716}. Best is trial 0 with value: 0.7969791666666667.\n"
     ]
    },
    {
     "name": "stderr",
     "output_type": "stream",
     "text": [
      "/data1/shengen/conda_envs/ckgconv_env/lib/python3.11/site-packages/torch_geometric/sampler/neighbor_sampler.py:61: UserWarning: Using 'NeighborSampler' without a 'pyg-lib' installation is deprecated and will be removed soon. Please install 'pyg-lib' for accelerated neighborhood sampling\n",
      "  warnings.warn(f\"Using '{self.__class__.__name__}' without a \"\n",
      "Best trial: 0. Best value: 0.796979:  37%|███▋      | 11/30 [00:02<00:05,  3.59it/s]"
     ]
    },
    {
     "name": "stdout",
     "output_type": "stream",
     "text": [
      "[Trial 10] AUC: 0.7917 | Params: {'hid_dim': 128, 'num_layers': 6, 'dropout': 0.2599723322095865, 'lr': 0.0005887927012351919, 'weight': 0.5451211049477346}\n",
      "[I 2025-04-21 13:39:03,952] Trial 10 finished with value: 0.7916666666666667 and parameters: {'hid_dim': 128, 'num_layers': 6, 'dropout': 0.2599723322095865, 'lr': 0.0005887927012351919, 'weight': 0.5451211049477346}. Best is trial 0 with value: 0.7969791666666667.\n"
     ]
    },
    {
     "name": "stderr",
     "output_type": "stream",
     "text": [
      "/data1/shengen/conda_envs/ckgconv_env/lib/python3.11/site-packages/torch_geometric/sampler/neighbor_sampler.py:61: UserWarning: Using 'NeighborSampler' without a 'pyg-lib' installation is deprecated and will be removed soon. Please install 'pyg-lib' for accelerated neighborhood sampling\n",
      "  warnings.warn(f\"Using '{self.__class__.__name__}' without a \"\n",
      "Best trial: 0. Best value: 0.796979:  40%|████      | 12/30 [00:02<00:04,  3.82it/s]"
     ]
    },
    {
     "name": "stdout",
     "output_type": "stream",
     "text": [
      "[Trial 11] AUC: 0.7956 | Params: {'hid_dim': 64, 'num_layers': 4, 'dropout': 0.20325458065049284, 'lr': 0.0014865396525404505, 'weight': 0.696855598155635}\n",
      "[I 2025-04-21 13:39:04,177] Trial 11 finished with value: 0.7956249999999999 and parameters: {'hid_dim': 64, 'num_layers': 4, 'dropout': 0.20325458065049284, 'lr': 0.0014865396525404505, 'weight': 0.696855598155635}. Best is trial 0 with value: 0.7969791666666667.\n"
     ]
    },
    {
     "name": "stderr",
     "output_type": "stream",
     "text": [
      "/data1/shengen/conda_envs/ckgconv_env/lib/python3.11/site-packages/torch_geometric/sampler/neighbor_sampler.py:61: UserWarning: Using 'NeighborSampler' without a 'pyg-lib' installation is deprecated and will be removed soon. Please install 'pyg-lib' for accelerated neighborhood sampling\n",
      "  warnings.warn(f\"Using '{self.__class__.__name__}' without a \"\n",
      "Best trial: 12. Best value: 0.797187:  43%|████▎     | 13/30 [00:03<00:04,  3.95it/s]"
     ]
    },
    {
     "name": "stdout",
     "output_type": "stream",
     "text": [
      "[Trial 12] AUC: 0.7972 | Params: {'hid_dim': 64, 'num_layers': 4, 'dropout': 0.21694845617709374, 'lr': 0.0022015746291225062, 'weight': 0.6720832975075826}\n",
      "[I 2025-04-21 13:39:04,410] Trial 12 finished with value: 0.7971874999999999 and parameters: {'hid_dim': 64, 'num_layers': 4, 'dropout': 0.21694845617709374, 'lr': 0.0022015746291225062, 'weight': 0.6720832975075826}. Best is trial 12 with value: 0.7971874999999999.\n"
     ]
    },
    {
     "name": "stderr",
     "output_type": "stream",
     "text": [
      "/data1/shengen/conda_envs/ckgconv_env/lib/python3.11/site-packages/torch_geometric/sampler/neighbor_sampler.py:61: UserWarning: Using 'NeighborSampler' without a 'pyg-lib' installation is deprecated and will be removed soon. Please install 'pyg-lib' for accelerated neighborhood sampling\n",
      "  warnings.warn(f\"Using '{self.__class__.__name__}' without a \"\n",
      "Best trial: 12. Best value: 0.797187:  47%|████▋     | 14/30 [00:03<00:03,  4.07it/s]/data1/shengen/conda_envs/ckgconv_env/lib/python3.11/site-packages/torch_geometric/sampler/neighbor_sampler.py:61: UserWarning: Using 'NeighborSampler' without a 'pyg-lib' installation is deprecated and will be removed soon. Please install 'pyg-lib' for accelerated neighborhood sampling\n",
      "  warnings.warn(f\"Using '{self.__class__.__name__}' without a \"\n",
      "Best trial: 12. Best value: 0.797187:  47%|████▋     | 14/30 [00:03<00:03,  4.07it/s]"
     ]
    },
    {
     "name": "stdout",
     "output_type": "stream",
     "text": [
      "[Trial 13] AUC: 0.7932 | Params: {'hid_dim': 64, 'num_layers': 4, 'dropout': 0.24644436469724407, 'lr': 0.007790084525315425, 'weight': 0.4550564406392803}\n",
      "[I 2025-04-21 13:39:04,639] Trial 13 finished with value: 0.7932291666666667 and parameters: {'hid_dim': 64, 'num_layers': 4, 'dropout': 0.24644436469724407, 'lr': 0.007790084525315425, 'weight': 0.4550564406392803}. Best is trial 12 with value: 0.7971874999999999.\n",
      "[Trial 14] AUC: 0.7929 | Params: {'hid_dim': 64, 'num_layers': 3, 'dropout': 0.1883024571359246, 'lr': 0.0006878720804012822, 'weight': 0.6329505347843574}\n",
      "[I 2025-04-21 13:39:04,836] Trial 14 finished with value: 0.7929166666666667 and parameters: {'hid_dim': 64, 'num_layers': 3, 'dropout': 0.1883024571359246, 'lr': 0.0006878720804012822, 'weight': 0.6329505347843574}. Best is trial 12 with value: 0.7971874999999999.\n"
     ]
    },
    {
     "name": "stderr",
     "output_type": "stream",
     "text": [
      "Best trial: 12. Best value: 0.797187:  50%|█████     | 15/30 [00:03<00:03,  4.32it/s]/data1/shengen/conda_envs/ckgconv_env/lib/python3.11/site-packages/torch_geometric/sampler/neighbor_sampler.py:61: UserWarning: Using 'NeighborSampler' without a 'pyg-lib' installation is deprecated and will be removed soon. Please install 'pyg-lib' for accelerated neighborhood sampling\n",
      "  warnings.warn(f\"Using '{self.__class__.__name__}' without a \"\n",
      "Best trial: 12. Best value: 0.797187:  53%|█████▎    | 16/30 [00:03<00:03,  4.35it/s]"
     ]
    },
    {
     "name": "stdout",
     "output_type": "stream",
     "text": [
      "[Trial 15] AUC: 0.7950 | Params: {'hid_dim': 128, 'num_layers': 4, 'dropout': 0.3214767553006642, 'lr': 0.0022331987652270346, 'weight': 0.46643924680962945}\n",
      "[I 2025-04-21 13:39:05,062] Trial 15 finished with value: 0.795 and parameters: {'hid_dim': 128, 'num_layers': 4, 'dropout': 0.3214767553006642, 'lr': 0.0022331987652270346, 'weight': 0.46643924680962945}. Best is trial 12 with value: 0.7971874999999999.\n"
     ]
    },
    {
     "name": "stderr",
     "output_type": "stream",
     "text": [
      "/data1/shengen/conda_envs/ckgconv_env/lib/python3.11/site-packages/torch_geometric/sampler/neighbor_sampler.py:61: UserWarning: Using 'NeighborSampler' without a 'pyg-lib' installation is deprecated and will be removed soon. Please install 'pyg-lib' for accelerated neighborhood sampling\n",
      "  warnings.warn(f\"Using '{self.__class__.__name__}' without a \"\n",
      "Best trial: 12. Best value: 0.797187:  57%|█████▋    | 17/30 [00:04<00:03,  4.09it/s]"
     ]
    },
    {
     "name": "stdout",
     "output_type": "stream",
     "text": [
      "[Trial 16] AUC: 0.7928 | Params: {'hid_dim': 64, 'num_layers': 6, 'dropout': 0.16160447725469915, 'lr': 0.0001546841958383279, 'weight': 0.6088457615134851}\n",
      "[I 2025-04-21 13:39:05,341] Trial 16 finished with value: 0.7928125 and parameters: {'hid_dim': 64, 'num_layers': 6, 'dropout': 0.16160447725469915, 'lr': 0.0001546841958383279, 'weight': 0.6088457615134851}. Best is trial 12 with value: 0.7971874999999999.\n"
     ]
    },
    {
     "name": "stderr",
     "output_type": "stream",
     "text": [
      "/data1/shengen/conda_envs/ckgconv_env/lib/python3.11/site-packages/torch_geometric/sampler/neighbor_sampler.py:61: UserWarning: Using 'NeighborSampler' without a 'pyg-lib' installation is deprecated and will be removed soon. Please install 'pyg-lib' for accelerated neighborhood sampling\n",
      "  warnings.warn(f\"Using '{self.__class__.__name__}' without a \"\n",
      "Best trial: 12. Best value: 0.797187:  60%|██████    | 18/30 [00:04<00:02,  4.30it/s]/data1/shengen/conda_envs/ckgconv_env/lib/python3.11/site-packages/torch_geometric/sampler/neighbor_sampler.py:61: UserWarning: Using 'NeighborSampler' without a 'pyg-lib' installation is deprecated and will be removed soon. Please install 'pyg-lib' for accelerated neighborhood sampling\n",
      "  warnings.warn(f\"Using '{self.__class__.__name__}' without a \"\n",
      "Best trial: 12. Best value: 0.797187:  63%|██████▎   | 19/30 [00:04<00:02,  4.78it/s]"
     ]
    },
    {
     "name": "stdout",
     "output_type": "stream",
     "text": [
      "[Trial 17] AUC: 0.7949 | Params: {'hid_dim': 64, 'num_layers': 4, 'dropout': 0.49513028586564106, 'lr': 0.0008350094360193139, 'weight': 0.8598442935221917}\n",
      "[I 2025-04-21 13:39:05,547] Trial 17 finished with value: 0.7948958333333334 and parameters: {'hid_dim': 64, 'num_layers': 4, 'dropout': 0.49513028586564106, 'lr': 0.0008350094360193139, 'weight': 0.8598442935221917}. Best is trial 12 with value: 0.7971874999999999.\n",
      "[Trial 18] AUC: 0.7930 | Params: {'hid_dim': 128, 'num_layers': 2, 'dropout': 0.26525872204299106, 'lr': 0.006763289674551068, 'weight': 0.6678958380755833}\n",
      "[I 2025-04-21 13:39:05,700] Trial 18 finished with value: 0.7930208333333333 and parameters: {'hid_dim': 128, 'num_layers': 2, 'dropout': 0.26525872204299106, 'lr': 0.006763289674551068, 'weight': 0.6678958380755833}. Best is trial 12 with value: 0.7971874999999999.\n"
     ]
    },
    {
     "name": "stderr",
     "output_type": "stream",
     "text": [
      "/data1/shengen/conda_envs/ckgconv_env/lib/python3.11/site-packages/torch_geometric/sampler/neighbor_sampler.py:61: UserWarning: Using 'NeighborSampler' without a 'pyg-lib' installation is deprecated and will be removed soon. Please install 'pyg-lib' for accelerated neighborhood sampling\n",
      "  warnings.warn(f\"Using '{self.__class__.__name__}' without a \"\n",
      "Best trial: 12. Best value: 0.797187:  67%|██████▋   | 20/30 [00:04<00:02,  4.99it/s]/data1/shengen/conda_envs/ckgconv_env/lib/python3.11/site-packages/torch_geometric/sampler/neighbor_sampler.py:61: UserWarning: Using 'NeighborSampler' without a 'pyg-lib' installation is deprecated and will be removed soon. Please install 'pyg-lib' for accelerated neighborhood sampling\n",
      "  warnings.warn(f\"Using '{self.__class__.__name__}' without a \"\n"
     ]
    },
    {
     "name": "stdout",
     "output_type": "stream",
     "text": [
      "[Trial 19] AUC: 0.7952 | Params: {'hid_dim': 32, 'num_layers': 3, 'dropout': 0.05441022555592073, 'lr': 0.0003498922093620279, 'weight': 0.4150844672259035}\n",
      "[I 2025-04-21 13:39:05,880] Trial 19 finished with value: 0.7952083333333333 and parameters: {'hid_dim': 32, 'num_layers': 3, 'dropout': 0.05441022555592073, 'lr': 0.0003498922093620279, 'weight': 0.4150844672259035}. Best is trial 12 with value: 0.7971874999999999.\n"
     ]
    },
    {
     "name": "stderr",
     "output_type": "stream",
     "text": [
      "Best trial: 12. Best value: 0.797187:  70%|███████   | 21/30 [00:04<00:01,  4.60it/s]"
     ]
    },
    {
     "name": "stdout",
     "output_type": "stream",
     "text": [
      "[Trial 20] AUC: 0.7967 | Params: {'hid_dim': 128, 'num_layers': 5, 'dropout': 0.31146181020602276, 'lr': 0.002497257562346058, 'weight': 0.78684194292339}\n",
      "[I 2025-04-21 13:39:06,137] Trial 20 finished with value: 0.7966666666666666 and parameters: {'hid_dim': 128, 'num_layers': 5, 'dropout': 0.31146181020602276, 'lr': 0.002497257562346058, 'weight': 0.78684194292339}. Best is trial 12 with value: 0.7971874999999999.\n"
     ]
    },
    {
     "name": "stderr",
     "output_type": "stream",
     "text": [
      "/data1/shengen/conda_envs/ckgconv_env/lib/python3.11/site-packages/torch_geometric/sampler/neighbor_sampler.py:61: UserWarning: Using 'NeighborSampler' without a 'pyg-lib' installation is deprecated and will be removed soon. Please install 'pyg-lib' for accelerated neighborhood sampling\n",
      "  warnings.warn(f\"Using '{self.__class__.__name__}' without a \"\n",
      "Best trial: 12. Best value: 0.797187:  73%|███████▎  | 22/30 [00:05<00:01,  4.32it/s]"
     ]
    },
    {
     "name": "stdout",
     "output_type": "stream",
     "text": [
      "[Trial 21] AUC: 0.7970 | Params: {'hid_dim': 128, 'num_layers': 5, 'dropout': 0.3135316525073872, 'lr': 0.0026134724323325247, 'weight': 0.7968184628807329}\n",
      "[I 2025-04-21 13:39:06,402] Trial 21 finished with value: 0.7969791666666667 and parameters: {'hid_dim': 128, 'num_layers': 5, 'dropout': 0.3135316525073872, 'lr': 0.0026134724323325247, 'weight': 0.7968184628807329}. Best is trial 12 with value: 0.7971874999999999.\n"
     ]
    },
    {
     "name": "stderr",
     "output_type": "stream",
     "text": [
      "/data1/shengen/conda_envs/ckgconv_env/lib/python3.11/site-packages/torch_geometric/sampler/neighbor_sampler.py:61: UserWarning: Using 'NeighborSampler' without a 'pyg-lib' installation is deprecated and will be removed soon. Please install 'pyg-lib' for accelerated neighborhood sampling\n",
      "  warnings.warn(f\"Using '{self.__class__.__name__}' without a \"\n",
      "Best trial: 12. Best value: 0.797187:  77%|███████▋  | 23/30 [00:05<00:01,  4.45it/s]"
     ]
    },
    {
     "name": "stdout",
     "output_type": "stream",
     "text": [
      "[Trial 22] AUC: 0.7971 | Params: {'hid_dim': 128, 'num_layers': 4, 'dropout': 0.22199740260278422, 'lr': 0.0010727342843387345, 'weight': 0.5769548029227745}\n",
      "[I 2025-04-21 13:39:06,610] Trial 22 finished with value: 0.7970833333333334 and parameters: {'hid_dim': 128, 'num_layers': 4, 'dropout': 0.22199740260278422, 'lr': 0.0010727342843387345, 'weight': 0.5769548029227745}. Best is trial 12 with value: 0.7971874999999999.\n"
     ]
    },
    {
     "name": "stderr",
     "output_type": "stream",
     "text": [
      "/data1/shengen/conda_envs/ckgconv_env/lib/python3.11/site-packages/torch_geometric/sampler/neighbor_sampler.py:61: UserWarning: Using 'NeighborSampler' without a 'pyg-lib' installation is deprecated and will be removed soon. Please install 'pyg-lib' for accelerated neighborhood sampling\n",
      "  warnings.warn(f\"Using '{self.__class__.__name__}' without a \"\n",
      "Best trial: 12. Best value: 0.797187:  80%|████████  | 24/30 [00:05<00:01,  4.56it/s]"
     ]
    },
    {
     "name": "stdout",
     "output_type": "stream",
     "text": [
      "[Trial 23] AUC: 0.7928 | Params: {'hid_dim': 128, 'num_layers': 4, 'dropout': 0.21629759983435962, 'lr': 0.0009639650610854598, 'weight': 0.5485346678360143}\n",
      "[I 2025-04-21 13:39:06,818] Trial 23 finished with value: 0.7928125 and parameters: {'hid_dim': 128, 'num_layers': 4, 'dropout': 0.21629759983435962, 'lr': 0.0009639650610854598, 'weight': 0.5485346678360143}. Best is trial 12 with value: 0.7971874999999999.\n"
     ]
    },
    {
     "name": "stderr",
     "output_type": "stream",
     "text": [
      "/data1/shengen/conda_envs/ckgconv_env/lib/python3.11/site-packages/torch_geometric/sampler/neighbor_sampler.py:61: UserWarning: Using 'NeighborSampler' without a 'pyg-lib' installation is deprecated and will be removed soon. Please install 'pyg-lib' for accelerated neighborhood sampling\n",
      "  warnings.warn(f\"Using '{self.__class__.__name__}' without a \"\n",
      "Best trial: 12. Best value: 0.797187:  83%|████████▎ | 25/30 [00:05<00:01,  4.61it/s]/data1/shengen/conda_envs/ckgconv_env/lib/python3.11/site-packages/torch_geometric/sampler/neighbor_sampler.py:61: UserWarning: Using 'NeighborSampler' without a 'pyg-lib' installation is deprecated and will be removed soon. Please install 'pyg-lib' for accelerated neighborhood sampling\n",
      "  warnings.warn(f\"Using '{self.__class__.__name__}' without a \"\n",
      "Best trial: 12. Best value: 0.797187:  87%|████████▋ | 26/30 [00:05<00:00,  4.86it/s]"
     ]
    },
    {
     "name": "stdout",
     "output_type": "stream",
     "text": [
      "[Trial 24] AUC: 0.7945 | Params: {'hid_dim': 128, 'num_layers': 4, 'dropout': 0.14803927852175774, 'lr': 0.0005115324527627701, 'weight': 0.6033097787966758}\n",
      "[I 2025-04-21 13:39:07,028] Trial 24 finished with value: 0.7944791666666666 and parameters: {'hid_dim': 128, 'num_layers': 4, 'dropout': 0.14803927852175774, 'lr': 0.0005115324527627701, 'weight': 0.6033097787966758}. Best is trial 12 with value: 0.7971874999999999.\n",
      "[Trial 25] AUC: 0.7960 | Params: {'hid_dim': 64, 'num_layers': 3, 'dropout': 0.22419409907703525, 'lr': 0.0016408994086418028, 'weight': 0.7150752316557012}\n",
      "[I 2025-04-21 13:39:07,208] Trial 25 finished with value: 0.7960416666666668 and parameters: {'hid_dim': 64, 'num_layers': 3, 'dropout': 0.22419409907703525, 'lr': 0.0016408994086418028, 'weight': 0.7150752316557012}. Best is trial 12 with value: 0.7971874999999999.\n"
     ]
    },
    {
     "name": "stderr",
     "output_type": "stream",
     "text": [
      "/data1/shengen/conda_envs/ckgconv_env/lib/python3.11/site-packages/torch_geometric/sampler/neighbor_sampler.py:61: UserWarning: Using 'NeighborSampler' without a 'pyg-lib' installation is deprecated and will be removed soon. Please install 'pyg-lib' for accelerated neighborhood sampling\n",
      "  warnings.warn(f\"Using '{self.__class__.__name__}' without a \"\n",
      "Best trial: 12. Best value: 0.797187:  90%|█████████ | 27/30 [00:06<00:00,  4.85it/s]"
     ]
    },
    {
     "name": "stdout",
     "output_type": "stream",
     "text": [
      "[Trial 26] AUC: 0.7811 | Params: {'hid_dim': 128, 'num_layers': 4, 'dropout': 0.18305561027067013, 'lr': 0.0010592058809603354, 'weight': 0.1314771215213218}\n",
      "[I 2025-04-21 13:39:07,416] Trial 26 finished with value: 0.7811458333333333 and parameters: {'hid_dim': 128, 'num_layers': 4, 'dropout': 0.18305561027067013, 'lr': 0.0010592058809603354, 'weight': 0.1314771215213218}. Best is trial 12 with value: 0.7971874999999999.\n"
     ]
    },
    {
     "name": "stderr",
     "output_type": "stream",
     "text": [
      "/data1/shengen/conda_envs/ckgconv_env/lib/python3.11/site-packages/torch_geometric/sampler/neighbor_sampler.py:61: UserWarning: Using 'NeighborSampler' without a 'pyg-lib' installation is deprecated and will be removed soon. Please install 'pyg-lib' for accelerated neighborhood sampling\n",
      "  warnings.warn(f\"Using '{self.__class__.__name__}' without a \"\n",
      "Best trial: 12. Best value: 0.797187:  93%|█████████▎| 28/30 [00:06<00:00,  4.83it/s]"
     ]
    },
    {
     "name": "stdout",
     "output_type": "stream",
     "text": [
      "[Trial 27] AUC: 0.7892 | Params: {'hid_dim': 128, 'num_layers': 4, 'dropout': 0.06235243771414711, 'lr': 0.00032599477055288655, 'weight': 0.4166981459285902}\n",
      "[I 2025-04-21 13:39:07,625] Trial 27 finished with value: 0.7891666666666667 and parameters: {'hid_dim': 128, 'num_layers': 4, 'dropout': 0.06235243771414711, 'lr': 0.00032599477055288655, 'weight': 0.4166981459285902}. Best is trial 12 with value: 0.7971874999999999.\n"
     ]
    },
    {
     "name": "stderr",
     "output_type": "stream",
     "text": [
      "/data1/shengen/conda_envs/ckgconv_env/lib/python3.11/site-packages/torch_geometric/sampler/neighbor_sampler.py:61: UserWarning: Using 'NeighborSampler' without a 'pyg-lib' installation is deprecated and will be removed soon. Please install 'pyg-lib' for accelerated neighborhood sampling\n",
      "  warnings.warn(f\"Using '{self.__class__.__name__}' without a \"\n",
      "Best trial: 12. Best value: 0.797187:  97%|█████████▋| 29/30 [00:06<00:00,  4.38it/s]/data1/shengen/conda_envs/ckgconv_env/lib/python3.11/site-packages/torch_geometric/sampler/neighbor_sampler.py:61: UserWarning: Using 'NeighborSampler' without a 'pyg-lib' installation is deprecated and will be removed soon. Please install 'pyg-lib' for accelerated neighborhood sampling\n",
      "  warnings.warn(f\"Using '{self.__class__.__name__}' without a \"\n",
      "Best trial: 12. Best value: 0.797187: 100%|██████████| 30/30 [00:06<00:00,  4.36it/s]"
     ]
    },
    {
     "name": "stdout",
     "output_type": "stream",
     "text": [
      "[Trial 28] AUC: 0.7854 | Params: {'hid_dim': 32, 'num_layers': 6, 'dropout': 0.278604501853639, 'lr': 0.00017309369100015426, 'weight': 0.5083374148762055}\n",
      "[I 2025-04-21 13:39:07,902] Trial 28 finished with value: 0.7854166666666667 and parameters: {'hid_dim': 32, 'num_layers': 6, 'dropout': 0.278604501853639, 'lr': 0.00017309369100015426, 'weight': 0.5083374148762055}. Best is trial 12 with value: 0.7971874999999999.\n",
      "[Trial 29] AUC: 0.7921 | Params: {'hid_dim': 64, 'num_layers': 3, 'dropout': 0.3742047037041837, 'lr': 0.0038823922389109324, 'weight': 0.5554471366703074}\n",
      "[I 2025-04-21 13:39:08,089] Trial 29 finished with value: 0.7920833333333334 and parameters: {'hid_dim': 64, 'num_layers': 3, 'dropout': 0.3742047037041837, 'lr': 0.0038823922389109324, 'weight': 0.5554471366703074}. Best is trial 12 with value: 0.7971874999999999.\n",
      "Best params for gen_500: {'hid_dim': 64, 'num_layers': 4, 'dropout': 0.21694845617709374, 'lr': 0.0022015746291225062, 'weight': 0.6720832975075826}\n",
      "[Run 1/10]\n"
     ]
    },
    {
     "name": "stderr",
     "output_type": "stream",
     "text": [
      "\n",
      "/data1/shengen/conda_envs/ckgconv_env/lib/python3.11/site-packages/torch_geometric/sampler/neighbor_sampler.py:61: UserWarning: Using 'NeighborSampler' without a 'pyg-lib' installation is deprecated and will be removed soon. Please install 'pyg-lib' for accelerated neighborhood sampling\n",
      "  warnings.warn(f\"Using '{self.__class__.__name__}' without a \"\n"
     ]
    },
    {
     "name": "stdout",
     "output_type": "stream",
     "text": [
      "[Run 2/10]\n"
     ]
    },
    {
     "name": "stderr",
     "output_type": "stream",
     "text": [
      "/data1/shengen/conda_envs/ckgconv_env/lib/python3.11/site-packages/torch_geometric/sampler/neighbor_sampler.py:61: UserWarning: Using 'NeighborSampler' without a 'pyg-lib' installation is deprecated and will be removed soon. Please install 'pyg-lib' for accelerated neighborhood sampling\n",
      "  warnings.warn(f\"Using '{self.__class__.__name__}' without a \"\n"
     ]
    },
    {
     "name": "stdout",
     "output_type": "stream",
     "text": [
      "[Run 3/10]\n"
     ]
    },
    {
     "name": "stderr",
     "output_type": "stream",
     "text": [
      "/data1/shengen/conda_envs/ckgconv_env/lib/python3.11/site-packages/torch_geometric/sampler/neighbor_sampler.py:61: UserWarning: Using 'NeighborSampler' without a 'pyg-lib' installation is deprecated and will be removed soon. Please install 'pyg-lib' for accelerated neighborhood sampling\n",
      "  warnings.warn(f\"Using '{self.__class__.__name__}' without a \"\n"
     ]
    },
    {
     "name": "stdout",
     "output_type": "stream",
     "text": [
      "[Run 4/10]\n"
     ]
    },
    {
     "name": "stderr",
     "output_type": "stream",
     "text": [
      "/data1/shengen/conda_envs/ckgconv_env/lib/python3.11/site-packages/torch_geometric/sampler/neighbor_sampler.py:61: UserWarning: Using 'NeighborSampler' without a 'pyg-lib' installation is deprecated and will be removed soon. Please install 'pyg-lib' for accelerated neighborhood sampling\n",
      "  warnings.warn(f\"Using '{self.__class__.__name__}' without a \"\n"
     ]
    },
    {
     "name": "stdout",
     "output_type": "stream",
     "text": [
      "[Run 5/10]\n"
     ]
    },
    {
     "name": "stderr",
     "output_type": "stream",
     "text": [
      "/data1/shengen/conda_envs/ckgconv_env/lib/python3.11/site-packages/torch_geometric/sampler/neighbor_sampler.py:61: UserWarning: Using 'NeighborSampler' without a 'pyg-lib' installation is deprecated and will be removed soon. Please install 'pyg-lib' for accelerated neighborhood sampling\n",
      "  warnings.warn(f\"Using '{self.__class__.__name__}' without a \"\n"
     ]
    },
    {
     "name": "stdout",
     "output_type": "stream",
     "text": [
      "[Run 6/10]\n"
     ]
    },
    {
     "name": "stderr",
     "output_type": "stream",
     "text": [
      "/data1/shengen/conda_envs/ckgconv_env/lib/python3.11/site-packages/torch_geometric/sampler/neighbor_sampler.py:61: UserWarning: Using 'NeighborSampler' without a 'pyg-lib' installation is deprecated and will be removed soon. Please install 'pyg-lib' for accelerated neighborhood sampling\n",
      "  warnings.warn(f\"Using '{self.__class__.__name__}' without a \"\n"
     ]
    },
    {
     "name": "stdout",
     "output_type": "stream",
     "text": [
      "[Run 7/10]\n"
     ]
    },
    {
     "name": "stderr",
     "output_type": "stream",
     "text": [
      "/data1/shengen/conda_envs/ckgconv_env/lib/python3.11/site-packages/torch_geometric/sampler/neighbor_sampler.py:61: UserWarning: Using 'NeighborSampler' without a 'pyg-lib' installation is deprecated and will be removed soon. Please install 'pyg-lib' for accelerated neighborhood sampling\n",
      "  warnings.warn(f\"Using '{self.__class__.__name__}' without a \"\n"
     ]
    },
    {
     "name": "stdout",
     "output_type": "stream",
     "text": [
      "[Run 8/10]\n"
     ]
    },
    {
     "name": "stderr",
     "output_type": "stream",
     "text": [
      "/data1/shengen/conda_envs/ckgconv_env/lib/python3.11/site-packages/torch_geometric/sampler/neighbor_sampler.py:61: UserWarning: Using 'NeighborSampler' without a 'pyg-lib' installation is deprecated and will be removed soon. Please install 'pyg-lib' for accelerated neighborhood sampling\n",
      "  warnings.warn(f\"Using '{self.__class__.__name__}' without a \"\n"
     ]
    },
    {
     "name": "stdout",
     "output_type": "stream",
     "text": [
      "[Run 9/10]\n"
     ]
    },
    {
     "name": "stderr",
     "output_type": "stream",
     "text": [
      "/data1/shengen/conda_envs/ckgconv_env/lib/python3.11/site-packages/torch_geometric/sampler/neighbor_sampler.py:61: UserWarning: Using 'NeighborSampler' without a 'pyg-lib' installation is deprecated and will be removed soon. Please install 'pyg-lib' for accelerated neighborhood sampling\n",
      "  warnings.warn(f\"Using '{self.__class__.__name__}' without a \"\n"
     ]
    },
    {
     "name": "stdout",
     "output_type": "stream",
     "text": [
      "[Run 10/10]\n"
     ]
    },
    {
     "name": "stderr",
     "output_type": "stream",
     "text": [
      "/data1/shengen/conda_envs/ckgconv_env/lib/python3.11/site-packages/torch_geometric/sampler/neighbor_sampler.py:61: UserWarning: Using 'NeighborSampler' without a 'pyg-lib' installation is deprecated and will be removed soon. Please install 'pyg-lib' for accelerated neighborhood sampling\n",
      "  warnings.warn(f\"Using '{self.__class__.__name__}' without a \"\n"
     ]
    },
    {
     "name": "stdout",
     "output_type": "stream",
     "text": [
      "Saved results to results/dominant_gen_500.csv\n",
      "Summary for gen_500:\n",
      "  AUC-ROC (mean±std): 0.7955 ± 0.0018\n",
      "  AP (mean±std): 0.5208 ± 0.0017\n",
      "  F1 (mean±std): 0.3143 ± 0.0000\n"
     ]
    }
   ],
   "source": [
    "for name, config in datasets_to_run.items():\n",
    "    print(f\"\\nRunning DOMINANT on {name}...\\n\")\n",
    "\n",
    "    param_space_fn = ParamSpace.get(\"dominant\")\n",
    "\n",
    "    study = tune_model_with_optuna(\n",
    "        model_class=DOMINANT,\n",
    "        dataset=config[\"data\"],\n",
    "        label_transform_fn=config[\"label_fn\"],\n",
    "        param_space_fn=param_space_fn,\n",
    "        n_trials=30,\n",
    "        train_epochs=30,\n",
    "        metric=\"auc\",\n",
    "        device=0,\n",
    "        return_all_metrics=True,\n",
    "        dataset_name=name  \n",
    "    )\n",
    "\n",
    "    best_params = sanitize_params(study.best_params)\n",
    "\n",
    "    print(f\"Best params for DOMINANT on {name}: {best_params}\")\n",
    "\n",
    "    binary_label = config[\"label_fn\"](config[\"data\"].y)\n",
    "\n",
    "    summary, df = eval_repeat(\n",
    "        model_class=DOMINANT,\n",
    "        dataset=config[\"data\"],\n",
    "        binary_label=binary_label,\n",
    "        params=best_params,\n",
    "        n_runs=10,\n",
    "        epochs=200,\n",
    "        save_path=f\"results/dominant_{name}.csv\"\n",
    "    )\n",
    "\n",
    "    print(f\"Summary for DOMINANT on {name}:\")\n",
    "    for k, v in summary.items():\n",
    "        print(f\"  {k}: {v}\")\n"
   ]
  },
  {
   "cell_type": "markdown",
   "id": "1b329adc",
   "metadata": {},
   "source": [
    "# Train CoLA"
   ]
  },
  {
   "cell_type": "code",
   "execution_count": null,
   "id": "3a4784b9",
   "metadata": {},
   "outputs": [
    {
     "name": "stderr",
     "output_type": "stream",
     "text": [
      "[I 2025-04-21 15:13:24,487] A new study created in memory with name: no-name-0a827bbb-be93-47e9-8410-747b696192a7\n"
     ]
    },
    {
     "name": "stdout",
     "output_type": "stream",
     "text": [
      "\n",
      "Running CoLA on inj_cora...\n",
      "\n"
     ]
    },
    {
     "name": "stderr",
     "output_type": "stream",
     "text": [
      "  0%|          | 0/30 [00:00<?, ?it/s]/data1/shengen/conda_envs/ckgconv_env/lib/python3.11/site-packages/torch_geometric/sampler/neighbor_sampler.py:61: UserWarning: Using 'NeighborSampler' without a 'pyg-lib' installation is deprecated and will be removed soon. Please install 'pyg-lib' for accelerated neighborhood sampling\n",
      "  warnings.warn(f\"Using '{self.__class__.__name__}' without a \"\n",
      "Best trial: 0. Best value: 0.540274:   3%|▎         | 1/30 [00:00<00:27,  1.04it/s]/data1/shengen/conda_envs/ckgconv_env/lib/python3.11/site-packages/torch_geometric/sampler/neighbor_sampler.py:61: UserWarning: Using 'NeighborSampler' without a 'pyg-lib' installation is deprecated and will be removed soon. Please install 'pyg-lib' for accelerated neighborhood sampling\n",
      "  warnings.warn(f\"Using '{self.__class__.__name__}' without a \"\n"
     ]
    },
    {
     "name": "stdout",
     "output_type": "stream",
     "text": [
      "[I 2025-04-21 15:13:25,450] Trial 0 finished with value: 0.5402737833417921 and parameters: {'hid_dim': 32, 'num_layers': 4, 'dropout': 0.30487802570938094, 'lr': 0.0011799085367456797, 'weight_decay': 0.0015003098327317844, 'activation': 'elu'}. Best is trial 0 with value: 0.5402737833417921.\n"
     ]
    },
    {
     "name": "stderr",
     "output_type": "stream",
     "text": [
      "Best trial: 0. Best value: 0.540274:   7%|▋         | 2/30 [00:01<00:15,  1.80it/s]/data1/shengen/conda_envs/ckgconv_env/lib/python3.11/site-packages/torch_geometric/sampler/neighbor_sampler.py:61: UserWarning: Using 'NeighborSampler' without a 'pyg-lib' installation is deprecated and will be removed soon. Please install 'pyg-lib' for accelerated neighborhood sampling\n",
      "  warnings.warn(f\"Using '{self.__class__.__name__}' without a \"\n"
     ]
    },
    {
     "name": "stdout",
     "output_type": "stream",
     "text": [
      "[I 2025-04-21 15:13:25,721] Trial 1 finished with value: 0.4746320419556759 and parameters: {'hid_dim': 64, 'num_layers': 2, 'dropout': 0.24210945226492586, 'lr': 0.0006525267680173005, 'weight_decay': 0.007178563186902596, 'activation': 'elu'}. Best is trial 0 with value: 0.5402737833417921.\n"
     ]
    },
    {
     "name": "stderr",
     "output_type": "stream",
     "text": [
      "Best trial: 0. Best value: 0.540274:  10%|█         | 3/30 [00:01<00:11,  2.28it/s]/data1/shengen/conda_envs/ckgconv_env/lib/python3.11/site-packages/torch_geometric/sampler/neighbor_sampler.py:61: UserWarning: Using 'NeighborSampler' without a 'pyg-lib' installation is deprecated and will be removed soon. Please install 'pyg-lib' for accelerated neighborhood sampling\n",
      "  warnings.warn(f\"Using '{self.__class__.__name__}' without a \"\n"
     ]
    },
    {
     "name": "stdout",
     "output_type": "stream",
     "text": [
      "[I 2025-04-21 15:13:26,022] Trial 2 finished with value: 0.5046523430891559 and parameters: {'hid_dim': 32, 'num_layers': 2, 'dropout': 0.0365806557577566, 'lr': 0.0008362664274860222, 'weight_decay': 0.009127507536379092, 'activation': 'relu'}. Best is trial 0 with value: 0.5402737833417921.\n"
     ]
    },
    {
     "name": "stderr",
     "output_type": "stream",
     "text": [
      "Best trial: 0. Best value: 0.540274:  13%|█▎        | 4/30 [00:01<00:10,  2.58it/s]/data1/shengen/conda_envs/ckgconv_env/lib/python3.11/site-packages/torch_geometric/sampler/neighbor_sampler.py:61: UserWarning: Using 'NeighborSampler' without a 'pyg-lib' installation is deprecated and will be removed soon. Please install 'pyg-lib' for accelerated neighborhood sampling\n",
      "  warnings.warn(f\"Using '{self.__class__.__name__}' without a \"\n"
     ]
    },
    {
     "name": "stdout",
     "output_type": "stream",
     "text": [
      "[I 2025-04-21 15:13:26,331] Trial 3 finished with value: 0.5104015113066035 and parameters: {'hid_dim': 128, 'num_layers': 2, 'dropout': 0.26119170264023506, 'lr': 0.0009645064071210855, 'weight_decay': 0.009633505001285715, 'activation': 'elu'}. Best is trial 0 with value: 0.5402737833417921.\n"
     ]
    },
    {
     "name": "stderr",
     "output_type": "stream",
     "text": [
      "Best trial: 4. Best value: 0.559932:  17%|█▋        | 5/30 [00:02<00:08,  2.84it/s]/data1/shengen/conda_envs/ckgconv_env/lib/python3.11/site-packages/torch_geometric/sampler/neighbor_sampler.py:61: UserWarning: Using 'NeighborSampler' without a 'pyg-lib' installation is deprecated and will be removed soon. Please install 'pyg-lib' for accelerated neighborhood sampling\n",
      "  warnings.warn(f\"Using '{self.__class__.__name__}' without a \"\n"
     ]
    },
    {
     "name": "stdout",
     "output_type": "stream",
     "text": [
      "[I 2025-04-21 15:13:26,619] Trial 4 finished with value: 0.5599320475948796 and parameters: {'hid_dim': 32, 'num_layers': 3, 'dropout': 0.4657543252102602, 'lr': 0.0003860231526425626, 'weight_decay': 0.005969802591070332, 'activation': 'elu'}. Best is trial 4 with value: 0.5599320475948796.\n"
     ]
    },
    {
     "name": "stderr",
     "output_type": "stream",
     "text": [
      "Best trial: 4. Best value: 0.559932:  20%|██        | 6/30 [00:02<00:08,  2.82it/s]/data1/shengen/conda_envs/ckgconv_env/lib/python3.11/site-packages/torch_geometric/sampler/neighbor_sampler.py:61: UserWarning: Using 'NeighborSampler' without a 'pyg-lib' installation is deprecated and will be removed soon. Please install 'pyg-lib' for accelerated neighborhood sampling\n",
      "  warnings.warn(f\"Using '{self.__class__.__name__}' without a \"\n"
     ]
    },
    {
     "name": "stdout",
     "output_type": "stream",
     "text": [
      "[I 2025-04-21 15:13:26,980] Trial 5 finished with value: 0.46526250493430327 and parameters: {'hid_dim': 64, 'num_layers': 4, 'dropout': 0.4973539259399412, 'lr': 0.009080653486966331, 'weight_decay': 0.002203587118750806, 'activation': 'relu'}. Best is trial 4 with value: 0.5599320475948796.\n"
     ]
    },
    {
     "name": "stderr",
     "output_type": "stream",
     "text": [
      "Best trial: 4. Best value: 0.559932:  23%|██▎       | 7/30 [00:02<00:07,  3.01it/s]/data1/shengen/conda_envs/ckgconv_env/lib/python3.11/site-packages/torch_geometric/sampler/neighbor_sampler.py:61: UserWarning: Using 'NeighborSampler' without a 'pyg-lib' installation is deprecated and will be removed soon. Please install 'pyg-lib' for accelerated neighborhood sampling\n",
      "  warnings.warn(f\"Using '{self.__class__.__name__}' without a \"\n"
     ]
    },
    {
     "name": "stdout",
     "output_type": "stream",
     "text": [
      "[I 2025-04-21 15:13:27,266] Trial 6 finished with value: 0.44572548356172104 and parameters: {'hid_dim': 128, 'num_layers': 1, 'dropout': 0.39791767692598995, 'lr': 0.0019767766214661927, 'weight_decay': 0.00608698254519339, 'activation': 'elu'}. Best is trial 4 with value: 0.5599320475948796.\n"
     ]
    },
    {
     "name": "stderr",
     "output_type": "stream",
     "text": [
      "Best trial: 4. Best value: 0.559932:  27%|██▋       | 8/30 [00:03<00:06,  3.23it/s]/data1/shengen/conda_envs/ckgconv_env/lib/python3.11/site-packages/torch_geometric/sampler/neighbor_sampler.py:61: UserWarning: Using 'NeighborSampler' without a 'pyg-lib' installation is deprecated and will be removed soon. Please install 'pyg-lib' for accelerated neighborhood sampling\n",
      "  warnings.warn(f\"Using '{self.__class__.__name__}' without a \"\n"
     ]
    },
    {
     "name": "stdout",
     "output_type": "stream",
     "text": [
      "[I 2025-04-21 15:13:27,527] Trial 7 finished with value: 0.501804545198218 and parameters: {'hid_dim': 32, 'num_layers': 1, 'dropout': 0.4081667569009744, 'lr': 0.0005273064473428478, 'weight_decay': 0.006979862470576755, 'activation': 'elu'}. Best is trial 4 with value: 0.5599320475948796.\n"
     ]
    },
    {
     "name": "stderr",
     "output_type": "stream",
     "text": [
      "Best trial: 4. Best value: 0.559932:  30%|███       | 9/30 [00:03<00:06,  3.14it/s]/data1/shengen/conda_envs/ckgconv_env/lib/python3.11/site-packages/torch_geometric/sampler/neighbor_sampler.py:61: UserWarning: Using 'NeighborSampler' without a 'pyg-lib' installation is deprecated and will be removed soon. Please install 'pyg-lib' for accelerated neighborhood sampling\n",
      "  warnings.warn(f\"Using '{self.__class__.__name__}' without a \"\n"
     ]
    },
    {
     "name": "stdout",
     "output_type": "stream",
     "text": [
      "[I 2025-04-21 15:13:27,864] Trial 8 finished with value: 0.5107934359668416 and parameters: {'hid_dim': 64, 'num_layers': 4, 'dropout': 0.44096203902280084, 'lr': 0.00249639964899713, 'weight_decay': 0.005665629965830183, 'activation': 'relu'}. Best is trial 4 with value: 0.5599320475948796.\n"
     ]
    },
    {
     "name": "stderr",
     "output_type": "stream",
     "text": [
      "Best trial: 4. Best value: 0.559932:  33%|███▎      | 10/30 [00:03<00:06,  3.23it/s]/data1/shengen/conda_envs/ckgconv_env/lib/python3.11/site-packages/torch_geometric/sampler/neighbor_sampler.py:61: UserWarning: Using 'NeighborSampler' without a 'pyg-lib' installation is deprecated and will be removed soon. Please install 'pyg-lib' for accelerated neighborhood sampling\n",
      "  warnings.warn(f\"Using '{self.__class__.__name__}' without a \"\n"
     ]
    },
    {
     "name": "stdout",
     "output_type": "stream",
     "text": [
      "[I 2025-04-21 15:13:28,154] Trial 9 finished with value: 0.538284554220944 and parameters: {'hid_dim': 64, 'num_layers': 1, 'dropout': 0.3949772547661646, 'lr': 0.00016469327860999135, 'weight_decay': 0.005690865667093616, 'activation': 'relu'}. Best is trial 4 with value: 0.5599320475948796.\n"
     ]
    },
    {
     "name": "stderr",
     "output_type": "stream",
     "text": [
      "Best trial: 4. Best value: 0.559932:  37%|███▋      | 11/30 [00:04<00:06,  3.11it/s]/data1/shengen/conda_envs/ckgconv_env/lib/python3.11/site-packages/torch_geometric/sampler/neighbor_sampler.py:61: UserWarning: Using 'NeighborSampler' without a 'pyg-lib' installation is deprecated and will be removed soon. Please install 'pyg-lib' for accelerated neighborhood sampling\n",
      "  warnings.warn(f\"Using '{self.__class__.__name__}' without a \"\n"
     ]
    },
    {
     "name": "stdout",
     "output_type": "stream",
     "text": [
      "[I 2025-04-21 15:13:28,501] Trial 10 finished with value: 0.4630307900524446 and parameters: {'hid_dim': 32, 'num_layers': 3, 'dropout': 0.1305012500619768, 'lr': 0.00013127174456799975, 'weight_decay': 0.002834838204289794, 'activation': 'elu'}. Best is trial 4 with value: 0.5599320475948796.\n"
     ]
    },
    {
     "name": "stderr",
     "output_type": "stream",
     "text": [
      "Best trial: 4. Best value: 0.559932:  40%|████      | 12/30 [00:04<00:05,  3.09it/s]/data1/shengen/conda_envs/ckgconv_env/lib/python3.11/site-packages/torch_geometric/sampler/neighbor_sampler.py:61: UserWarning: Using 'NeighborSampler' without a 'pyg-lib' installation is deprecated and will be removed soon. Please install 'pyg-lib' for accelerated neighborhood sampling\n",
      "  warnings.warn(f\"Using '{self.__class__.__name__}' without a \"\n"
     ]
    },
    {
     "name": "stdout",
     "output_type": "stream",
     "text": [
      "[I 2025-04-21 15:13:28,832] Trial 11 finished with value: 0.49179213894998025 and parameters: {'hid_dim': 32, 'num_layers': 3, 'dropout': 0.292396551067152, 'lr': 0.0002814447342635144, 'weight_decay': 0.0004916077292425958, 'activation': 'elu'}. Best is trial 4 with value: 0.5599320475948796.\n"
     ]
    },
    {
     "name": "stderr",
     "output_type": "stream",
     "text": [
      "Best trial: 4. Best value: 0.559932:  43%|████▎     | 13/30 [00:04<00:05,  2.95it/s]/data1/shengen/conda_envs/ckgconv_env/lib/python3.11/site-packages/torch_geometric/sampler/neighbor_sampler.py:61: UserWarning: Using 'NeighborSampler' without a 'pyg-lib' installation is deprecated and will be removed soon. Please install 'pyg-lib' for accelerated neighborhood sampling\n",
      "  warnings.warn(f\"Using '{self.__class__.__name__}' without a \"\n"
     ]
    },
    {
     "name": "stdout",
     "output_type": "stream",
     "text": [
      "[I 2025-04-21 15:13:29,204] Trial 12 finished with value: 0.4944129588902047 and parameters: {'hid_dim': 32, 'num_layers': 4, 'dropout': 0.3230711109980112, 'lr': 0.002514798735339754, 'weight_decay': 0.003523401458880592, 'activation': 'elu'}. Best is trial 4 with value: 0.5599320475948796.\n"
     ]
    },
    {
     "name": "stderr",
     "output_type": "stream",
     "text": [
      "Best trial: 4. Best value: 0.559932:  47%|████▋     | 14/30 [00:05<00:05,  2.91it/s]/data1/shengen/conda_envs/ckgconv_env/lib/python3.11/site-packages/torch_geometric/sampler/neighbor_sampler.py:61: UserWarning: Using 'NeighborSampler' without a 'pyg-lib' installation is deprecated and will be removed soon. Please install 'pyg-lib' for accelerated neighborhood sampling\n",
      "  warnings.warn(f\"Using '{self.__class__.__name__}' without a \"\n"
     ]
    },
    {
     "name": "stdout",
     "output_type": "stream",
     "text": [
      "[I 2025-04-21 15:13:29,558] Trial 13 finished with value: 0.4822477866125303 and parameters: {'hid_dim': 32, 'num_layers': 3, 'dropout': 0.17279387292760193, 'lr': 0.000317796061551405, 'weight_decay': 0.0007948967302581718, 'activation': 'elu'}. Best is trial 4 with value: 0.5599320475948796.\n"
     ]
    },
    {
     "name": "stderr",
     "output_type": "stream",
     "text": [
      "Best trial: 4. Best value: 0.559932:  50%|█████     | 15/30 [00:05<00:05,  2.87it/s]/data1/shengen/conda_envs/ckgconv_env/lib/python3.11/site-packages/torch_geometric/sampler/neighbor_sampler.py:61: UserWarning: Using 'NeighborSampler' without a 'pyg-lib' installation is deprecated and will be removed soon. Please install 'pyg-lib' for accelerated neighborhood sampling\n",
      "  warnings.warn(f\"Using '{self.__class__.__name__}' without a \"\n"
     ]
    },
    {
     "name": "stdout",
     "output_type": "stream",
     "text": [
      "[I 2025-04-21 15:13:29,919] Trial 14 finished with value: 0.47965375289009193 and parameters: {'hid_dim': 32, 'num_layers': 4, 'dropout': 0.48748944370658337, 'lr': 0.005280903175233614, 'weight_decay': 0.004286621174129733, 'activation': 'elu'}. Best is trial 4 with value: 0.5599320475948796.\n"
     ]
    },
    {
     "name": "stderr",
     "output_type": "stream",
     "text": [
      "Best trial: 4. Best value: 0.559932:  53%|█████▎    | 16/30 [00:05<00:04,  2.87it/s]/data1/shengen/conda_envs/ckgconv_env/lib/python3.11/site-packages/torch_geometric/sampler/neighbor_sampler.py:61: UserWarning: Using 'NeighborSampler' without a 'pyg-lib' installation is deprecated and will be removed soon. Please install 'pyg-lib' for accelerated neighborhood sampling\n",
      "  warnings.warn(f\"Using '{self.__class__.__name__}' without a \"\n"
     ]
    },
    {
     "name": "stdout",
     "output_type": "stream",
     "text": [
      "[I 2025-04-21 15:13:30,266] Trial 15 finished with value: 0.43301894772458127 and parameters: {'hid_dim': 32, 'num_layers': 3, 'dropout': 0.3201614668584022, 'lr': 0.0015636896544757005, 'weight_decay': 0.007875763976157399, 'activation': 'elu'}. Best is trial 4 with value: 0.5599320475948796.\n"
     ]
    },
    {
     "name": "stderr",
     "output_type": "stream",
     "text": [
      "Best trial: 4. Best value: 0.559932:  57%|█████▋    | 17/30 [00:06<00:04,  2.82it/s]/data1/shengen/conda_envs/ckgconv_env/lib/python3.11/site-packages/torch_geometric/sampler/neighbor_sampler.py:61: UserWarning: Using 'NeighborSampler' without a 'pyg-lib' installation is deprecated and will be removed soon. Please install 'pyg-lib' for accelerated neighborhood sampling\n",
      "  warnings.warn(f\"Using '{self.__class__.__name__}' without a \"\n"
     ]
    },
    {
     "name": "stdout",
     "output_type": "stream",
     "text": [
      "[I 2025-04-21 15:13:30,637] Trial 16 finished with value: 0.4945948232109626 and parameters: {'hid_dim': 128, 'num_layers': 4, 'dropout': 0.19322528607797929, 'lr': 0.0003889948550352942, 'weight_decay': 0.004341850149136358, 'activation': 'elu'}. Best is trial 4 with value: 0.5599320475948796.\n"
     ]
    },
    {
     "name": "stderr",
     "output_type": "stream",
     "text": [
      "Best trial: 4. Best value: 0.559932:  60%|██████    | 18/30 [00:06<00:04,  2.92it/s]/data1/shengen/conda_envs/ckgconv_env/lib/python3.11/site-packages/torch_geometric/sampler/neighbor_sampler.py:61: UserWarning: Using 'NeighborSampler' without a 'pyg-lib' installation is deprecated and will be removed soon. Please install 'pyg-lib' for accelerated neighborhood sampling\n",
      "  warnings.warn(f\"Using '{self.__class__.__name__}' without a \"\n"
     ]
    },
    {
     "name": "stdout",
     "output_type": "stream",
     "text": [
      "[I 2025-04-21 15:13:30,951] Trial 17 finished with value: 0.5129024981672587 and parameters: {'hid_dim': 32, 'num_layers': 3, 'dropout': 0.3554972110397978, 'lr': 0.00020112908207241815, 'weight_decay': 0.001858102651555089, 'activation': 'elu'}. Best is trial 4 with value: 0.5599320475948796.\n"
     ]
    },
    {
     "name": "stderr",
     "output_type": "stream",
     "text": [
      "Best trial: 4. Best value: 0.559932:  63%|██████▎   | 19/30 [00:06<00:03,  2.93it/s]/data1/shengen/conda_envs/ckgconv_env/lib/python3.11/site-packages/torch_geometric/sampler/neighbor_sampler.py:61: UserWarning: Using 'NeighborSampler' without a 'pyg-lib' installation is deprecated and will be removed soon. Please install 'pyg-lib' for accelerated neighborhood sampling\n",
      "  warnings.warn(f\"Using '{self.__class__.__name__}' without a \"\n"
     ]
    },
    {
     "name": "stdout",
     "output_type": "stream",
     "text": [
      "[I 2025-04-21 15:13:31,289] Trial 18 finished with value: 0.5468025714769074 and parameters: {'hid_dim': 32, 'num_layers': 4, 'dropout': 0.027446664922711417, 'lr': 0.001430509368257218, 'weight_decay': 0.008360736279662856, 'activation': 'relu'}. Best is trial 4 with value: 0.5599320475948796.\n"
     ]
    },
    {
     "name": "stderr",
     "output_type": "stream",
     "text": [
      "Best trial: 4. Best value: 0.559932:  67%|██████▋   | 20/30 [00:07<00:03,  2.98it/s]/data1/shengen/conda_envs/ckgconv_env/lib/python3.11/site-packages/torch_geometric/sampler/neighbor_sampler.py:61: UserWarning: Using 'NeighborSampler' without a 'pyg-lib' installation is deprecated and will be removed soon. Please install 'pyg-lib' for accelerated neighborhood sampling\n",
      "  warnings.warn(f\"Using '{self.__class__.__name__}' without a \"\n"
     ]
    },
    {
     "name": "stdout",
     "output_type": "stream",
     "text": [
      "[I 2025-04-21 15:13:31,613] Trial 19 finished with value: 0.4470901708678734 and parameters: {'hid_dim': 128, 'num_layers': 3, 'dropout': 0.004321063554000491, 'lr': 0.00010115719841837714, 'weight_decay': 0.008298069633722737, 'activation': 'relu'}. Best is trial 4 with value: 0.5599320475948796.\n"
     ]
    },
    {
     "name": "stderr",
     "output_type": "stream",
     "text": [
      "Best trial: 4. Best value: 0.559932:  70%|███████   | 21/30 [00:07<00:02,  3.13it/s]/data1/shengen/conda_envs/ckgconv_env/lib/python3.11/site-packages/torch_geometric/sampler/neighbor_sampler.py:61: UserWarning: Using 'NeighborSampler' without a 'pyg-lib' installation is deprecated and will be removed soon. Please install 'pyg-lib' for accelerated neighborhood sampling\n",
      "  warnings.warn(f\"Using '{self.__class__.__name__}' without a \"\n"
     ]
    },
    {
     "name": "stdout",
     "output_type": "stream",
     "text": [
      "[I 2025-04-21 15:13:31,893] Trial 20 finished with value: 0.4235295776236396 and parameters: {'hid_dim': 32, 'num_layers': 2, 'dropout': 0.07938300779379612, 'lr': 0.00431957867733142, 'weight_decay': 0.008208539769058387, 'activation': 'relu'}. Best is trial 4 with value: 0.5599320475948796.\n"
     ]
    },
    {
     "name": "stderr",
     "output_type": "stream",
     "text": [
      "Best trial: 4. Best value: 0.559932:  73%|███████▎  | 22/30 [00:07<00:02,  3.12it/s]/data1/shengen/conda_envs/ckgconv_env/lib/python3.11/site-packages/torch_geometric/sampler/neighbor_sampler.py:61: UserWarning: Using 'NeighborSampler' without a 'pyg-lib' installation is deprecated and will be removed soon. Please install 'pyg-lib' for accelerated neighborhood sampling\n",
      "  warnings.warn(f\"Using '{self.__class__.__name__}' without a \"\n"
     ]
    },
    {
     "name": "stdout",
     "output_type": "stream",
     "text": [
      "[I 2025-04-21 15:13:32,217] Trial 21 finished with value: 0.5064554784864378 and parameters: {'hid_dim': 32, 'num_layers': 4, 'dropout': 0.10969270096310807, 'lr': 0.001556449358708219, 'weight_decay': 0.00691522777201367, 'activation': 'relu'}. Best is trial 4 with value: 0.5599320475948796.\n"
     ]
    },
    {
     "name": "stderr",
     "output_type": "stream",
     "text": [
      "Best trial: 4. Best value: 0.559932:  77%|███████▋  | 23/30 [00:08<00:02,  3.10it/s]/data1/shengen/conda_envs/ckgconv_env/lib/python3.11/site-packages/torch_geometric/sampler/neighbor_sampler.py:61: UserWarning: Using 'NeighborSampler' without a 'pyg-lib' installation is deprecated and will be removed soon. Please install 'pyg-lib' for accelerated neighborhood sampling\n",
      "  warnings.warn(f\"Using '{self.__class__.__name__}' without a \"\n"
     ]
    },
    {
     "name": "stdout",
     "output_type": "stream",
     "text": [
      "[I 2025-04-21 15:13:32,545] Trial 22 finished with value: 0.5083967743754582 and parameters: {'hid_dim': 32, 'num_layers': 4, 'dropout': 0.22207916263554112, 'lr': 0.0013359713844872715, 'weight_decay': 0.00474114507567025, 'activation': 'relu'}. Best is trial 4 with value: 0.5599320475948796.\n"
     ]
    },
    {
     "name": "stderr",
     "output_type": "stream",
     "text": [
      "Best trial: 4. Best value: 0.559932:  80%|████████  | 24/30 [00:08<00:01,  3.10it/s]/data1/shengen/conda_envs/ckgconv_env/lib/python3.11/site-packages/torch_geometric/sampler/neighbor_sampler.py:61: UserWarning: Using 'NeighborSampler' without a 'pyg-lib' installation is deprecated and will be removed soon. Please install 'pyg-lib' for accelerated neighborhood sampling\n",
      "  warnings.warn(f\"Using '{self.__class__.__name__}' without a \"\n"
     ]
    },
    {
     "name": "stdout",
     "output_type": "stream",
     "text": [
      "[I 2025-04-21 15:13:32,868] Trial 23 finished with value: 0.4445652173913044 and parameters: {'hid_dim': 32, 'num_layers': 4, 'dropout': 0.45334635080517094, 'lr': 0.0005165607780912547, 'weight_decay': 0.0035242916361520773, 'activation': 'relu'}. Best is trial 4 with value: 0.5599320475948796.\n"
     ]
    },
    {
     "name": "stderr",
     "output_type": "stream",
     "text": [
      "Best trial: 4. Best value: 0.559932:  83%|████████▎ | 25/30 [00:08<00:01,  3.17it/s]/data1/shengen/conda_envs/ckgconv_env/lib/python3.11/site-packages/torch_geometric/sampler/neighbor_sampler.py:61: UserWarning: Using 'NeighborSampler' without a 'pyg-lib' installation is deprecated and will be removed soon. Please install 'pyg-lib' for accelerated neighborhood sampling\n",
      "  warnings.warn(f\"Using '{self.__class__.__name__}' without a \"\n"
     ]
    },
    {
     "name": "stdout",
     "output_type": "stream",
     "text": [
      "[I 2025-04-21 15:13:33,167] Trial 24 finished with value: 0.46563469238143573 and parameters: {'hid_dim': 32, 'num_layers': 3, 'dropout': 0.14606685296504957, 'lr': 0.001042873302374637, 'weight_decay': 0.0012864536020232554, 'activation': 'elu'}. Best is trial 4 with value: 0.5599320475948796.\n"
     ]
    },
    {
     "name": "stderr",
     "output_type": "stream",
     "text": [
      "Best trial: 4. Best value: 0.559932:  87%|████████▋ | 26/30 [00:09<00:01,  3.13it/s]/data1/shengen/conda_envs/ckgconv_env/lib/python3.11/site-packages/torch_geometric/sampler/neighbor_sampler.py:61: UserWarning: Using 'NeighborSampler' without a 'pyg-lib' installation is deprecated and will be removed soon. Please install 'pyg-lib' for accelerated neighborhood sampling\n",
      "  warnings.warn(f\"Using '{self.__class__.__name__}' without a \"\n"
     ]
    },
    {
     "name": "stdout",
     "output_type": "stream",
     "text": [
      "[I 2025-04-21 15:13:33,494] Trial 25 finished with value: 0.5440139852252861 and parameters: {'hid_dim': 32, 'num_layers': 4, 'dropout': 0.35170875222267767, 'lr': 0.003666102475342983, 'weight_decay': 0.009955803397474936, 'activation': 'elu'}. Best is trial 4 with value: 0.5599320475948796.\n"
     ]
    },
    {
     "name": "stderr",
     "output_type": "stream",
     "text": [
      "Best trial: 4. Best value: 0.559932:  90%|█████████ | 27/30 [00:09<00:00,  3.17it/s]/data1/shengen/conda_envs/ckgconv_env/lib/python3.11/site-packages/torch_geometric/sampler/neighbor_sampler.py:61: UserWarning: Using 'NeighborSampler' without a 'pyg-lib' installation is deprecated and will be removed soon. Please install 'pyg-lib' for accelerated neighborhood sampling\n",
      "  warnings.warn(f\"Using '{self.__class__.__name__}' without a \"\n"
     ]
    },
    {
     "name": "stdout",
     "output_type": "stream",
     "text": [
      "[I 2025-04-21 15:13:33,801] Trial 26 finished with value: 0.5261306603507585 and parameters: {'hid_dim': 32, 'num_layers': 3, 'dropout': 0.36138290578416005, 'lr': 0.005151431024093594, 'weight_decay': 0.009920729403549563, 'activation': 'relu'}. Best is trial 4 with value: 0.5599320475948796.\n"
     ]
    },
    {
     "name": "stderr",
     "output_type": "stream",
     "text": [
      "Best trial: 4. Best value: 0.559932:  93%|█████████▎| 28/30 [00:09<00:00,  3.19it/s]/data1/shengen/conda_envs/ckgconv_env/lib/python3.11/site-packages/torch_geometric/sampler/neighbor_sampler.py:61: UserWarning: Using 'NeighborSampler' without a 'pyg-lib' installation is deprecated and will be removed soon. Please install 'pyg-lib' for accelerated neighborhood sampling\n",
      "  warnings.warn(f\"Using '{self.__class__.__name__}' without a \"\n"
     ]
    },
    {
     "name": "stdout",
     "output_type": "stream",
     "text": [
      "[I 2025-04-21 15:13:34,111] Trial 27 finished with value: 0.4413889358822534 and parameters: {'hid_dim': 32, 'num_layers': 4, 'dropout': 0.36389096165801266, 'lr': 0.0035053394978976707, 'weight_decay': 0.009202915788220474, 'activation': 'elu'}. Best is trial 4 with value: 0.5599320475948796.\n"
     ]
    },
    {
     "name": "stderr",
     "output_type": "stream",
     "text": [
      "Best trial: 4. Best value: 0.559932:  97%|█████████▋| 29/30 [00:09<00:00,  3.14it/s]/data1/shengen/conda_envs/ckgconv_env/lib/python3.11/site-packages/torch_geometric/sampler/neighbor_sampler.py:61: UserWarning: Using 'NeighborSampler' without a 'pyg-lib' installation is deprecated and will be removed soon. Please install 'pyg-lib' for accelerated neighborhood sampling\n",
      "  warnings.warn(f\"Using '{self.__class__.__name__}' without a \"\n"
     ]
    },
    {
     "name": "stdout",
     "output_type": "stream",
     "text": [
      "[I 2025-04-21 15:13:34,441] Trial 28 finished with value: 0.4773233519427057 and parameters: {'hid_dim': 128, 'num_layers': 4, 'dropout': 0.42847796082465023, 'lr': 0.0030346648569484426, 'weight_decay': 0.008747840392457648, 'activation': 'relu'}. Best is trial 4 with value: 0.5599320475948796.\n"
     ]
    },
    {
     "name": "stderr",
     "output_type": "stream",
     "text": [
      "Best trial: 4. Best value: 0.559932: 100%|██████████| 30/30 [00:10<00:00,  2.92it/s]\n",
      "/data1/shengen/conda_envs/ckgconv_env/lib/python3.11/site-packages/torch_geometric/sampler/neighbor_sampler.py:61: UserWarning: Using 'NeighborSampler' without a 'pyg-lib' installation is deprecated and will be removed soon. Please install 'pyg-lib' for accelerated neighborhood sampling\n",
      "  warnings.warn(f\"Using '{self.__class__.__name__}' without a \"\n"
     ]
    },
    {
     "name": "stdout",
     "output_type": "stream",
     "text": [
      "[I 2025-04-21 15:13:34,779] Trial 29 finished with value: 0.46264732419782323 and parameters: {'hid_dim': 64, 'num_layers': 4, 'dropout': 0.2854079816673939, 'lr': 0.008568451222789226, 'weight_decay': 0.0074460631326477185, 'activation': 'elu'}. Best is trial 4 with value: 0.5599320475948796.\n",
      "[cola-inj_cora] Best AUC: 0.5599 | Hash: 1a4124\n",
      "Saved best params to results/best_params_cola_inj_cora.json\n",
      "Best params for CoLA on inj_cora: {'hid_dim': 32, 'num_layers': 3, 'dropout': 0.4657543252102602, 'lr': 0.0003860231526425626, 'weight_decay': 0.005969802591070332, 'act': <function elu at 0x7fcf59d76de0>}\n",
      "[Run 1/10]\n",
      "[Run 2/10]\n"
     ]
    },
    {
     "name": "stderr",
     "output_type": "stream",
     "text": [
      "/data1/shengen/conda_envs/ckgconv_env/lib/python3.11/site-packages/torch_geometric/sampler/neighbor_sampler.py:61: UserWarning: Using 'NeighborSampler' without a 'pyg-lib' installation is deprecated and will be removed soon. Please install 'pyg-lib' for accelerated neighborhood sampling\n",
      "  warnings.warn(f\"Using '{self.__class__.__name__}' without a \"\n"
     ]
    },
    {
     "name": "stdout",
     "output_type": "stream",
     "text": [
      "[Run 3/10]\n"
     ]
    },
    {
     "name": "stderr",
     "output_type": "stream",
     "text": [
      "/data1/shengen/conda_envs/ckgconv_env/lib/python3.11/site-packages/torch_geometric/sampler/neighbor_sampler.py:61: UserWarning: Using 'NeighborSampler' without a 'pyg-lib' installation is deprecated and will be removed soon. Please install 'pyg-lib' for accelerated neighborhood sampling\n",
      "  warnings.warn(f\"Using '{self.__class__.__name__}' without a \"\n"
     ]
    },
    {
     "name": "stdout",
     "output_type": "stream",
     "text": [
      "[Run 4/10]\n"
     ]
    },
    {
     "name": "stderr",
     "output_type": "stream",
     "text": [
      "/data1/shengen/conda_envs/ckgconv_env/lib/python3.11/site-packages/torch_geometric/sampler/neighbor_sampler.py:61: UserWarning: Using 'NeighborSampler' without a 'pyg-lib' installation is deprecated and will be removed soon. Please install 'pyg-lib' for accelerated neighborhood sampling\n",
      "  warnings.warn(f\"Using '{self.__class__.__name__}' without a \"\n"
     ]
    },
    {
     "name": "stdout",
     "output_type": "stream",
     "text": [
      "[Run 5/10]\n"
     ]
    },
    {
     "name": "stderr",
     "output_type": "stream",
     "text": [
      "/data1/shengen/conda_envs/ckgconv_env/lib/python3.11/site-packages/torch_geometric/sampler/neighbor_sampler.py:61: UserWarning: Using 'NeighborSampler' without a 'pyg-lib' installation is deprecated and will be removed soon. Please install 'pyg-lib' for accelerated neighborhood sampling\n",
      "  warnings.warn(f\"Using '{self.__class__.__name__}' without a \"\n"
     ]
    },
    {
     "name": "stdout",
     "output_type": "stream",
     "text": [
      "[Run 6/10]\n"
     ]
    },
    {
     "name": "stderr",
     "output_type": "stream",
     "text": [
      "/data1/shengen/conda_envs/ckgconv_env/lib/python3.11/site-packages/torch_geometric/sampler/neighbor_sampler.py:61: UserWarning: Using 'NeighborSampler' without a 'pyg-lib' installation is deprecated and will be removed soon. Please install 'pyg-lib' for accelerated neighborhood sampling\n",
      "  warnings.warn(f\"Using '{self.__class__.__name__}' without a \"\n"
     ]
    },
    {
     "name": "stdout",
     "output_type": "stream",
     "text": [
      "[Run 7/10]\n"
     ]
    },
    {
     "name": "stderr",
     "output_type": "stream",
     "text": [
      "/data1/shengen/conda_envs/ckgconv_env/lib/python3.11/site-packages/torch_geometric/sampler/neighbor_sampler.py:61: UserWarning: Using 'NeighborSampler' without a 'pyg-lib' installation is deprecated and will be removed soon. Please install 'pyg-lib' for accelerated neighborhood sampling\n",
      "  warnings.warn(f\"Using '{self.__class__.__name__}' without a \"\n"
     ]
    },
    {
     "name": "stdout",
     "output_type": "stream",
     "text": [
      "[Run 8/10]\n"
     ]
    },
    {
     "name": "stderr",
     "output_type": "stream",
     "text": [
      "/data1/shengen/conda_envs/ckgconv_env/lib/python3.11/site-packages/torch_geometric/sampler/neighbor_sampler.py:61: UserWarning: Using 'NeighborSampler' without a 'pyg-lib' installation is deprecated and will be removed soon. Please install 'pyg-lib' for accelerated neighborhood sampling\n",
      "  warnings.warn(f\"Using '{self.__class__.__name__}' without a \"\n"
     ]
    },
    {
     "name": "stdout",
     "output_type": "stream",
     "text": [
      "[Run 9/10]\n"
     ]
    },
    {
     "name": "stderr",
     "output_type": "stream",
     "text": [
      "/data1/shengen/conda_envs/ckgconv_env/lib/python3.11/site-packages/torch_geometric/sampler/neighbor_sampler.py:61: UserWarning: Using 'NeighborSampler' without a 'pyg-lib' installation is deprecated and will be removed soon. Please install 'pyg-lib' for accelerated neighborhood sampling\n",
      "  warnings.warn(f\"Using '{self.__class__.__name__}' without a \"\n"
     ]
    },
    {
     "name": "stdout",
     "output_type": "stream",
     "text": [
      "[Run 10/10]\n"
     ]
    },
    {
     "name": "stderr",
     "output_type": "stream",
     "text": [
      "/data1/shengen/conda_envs/ckgconv_env/lib/python3.11/site-packages/torch_geometric/sampler/neighbor_sampler.py:61: UserWarning: Using 'NeighborSampler' without a 'pyg-lib' installation is deprecated and will be removed soon. Please install 'pyg-lib' for accelerated neighborhood sampling\n",
      "  warnings.warn(f\"Using '{self.__class__.__name__}' without a \"\n",
      "[I 2025-04-21 15:13:53,511] A new study created in memory with name: no-name-c5cd17f1-96de-44c6-b165-8243dc0f2f27\n"
     ]
    },
    {
     "name": "stdout",
     "output_type": "stream",
     "text": [
      "Saved results to results/cola_inj_cora.csv\n",
      "Summary for CoLA on inj_cora:\n",
      "  AUC-ROC (mean±std): 0.5147 ± 0.0251\n",
      "  AP (mean±std): 0.0602 ± 0.0048\n",
      "  F1 (mean±std): 0.0939 ± 0.0153\n",
      "\n",
      "Running CoLA on books...\n",
      "\n"
     ]
    },
    {
     "name": "stderr",
     "output_type": "stream",
     "text": [
      "  0%|          | 0/30 [00:00<?, ?it/s]/data1/shengen/conda_envs/ckgconv_env/lib/python3.11/site-packages/torch_geometric/sampler/neighbor_sampler.py:61: UserWarning: Using 'NeighborSampler' without a 'pyg-lib' installation is deprecated and will be removed soon. Please install 'pyg-lib' for accelerated neighborhood sampling\n",
      "  warnings.warn(f\"Using '{self.__class__.__name__}' without a \"\n",
      "Best trial: 0. Best value: 0.531141:   3%|▎         | 1/30 [00:00<00:05,  5.45it/s]"
     ]
    },
    {
     "name": "stdout",
     "output_type": "stream",
     "text": [
      "[I 2025-04-21 15:13:53,694] Trial 0 finished with value: 0.5311408016443988 and parameters: {'hid_dim': 32, 'num_layers': 3, 'dropout': 0.342317070997568, 'lr': 0.00514545125017636, 'weight_decay': 0.0012695054130921369, 'activation': 'elu'}. Best is trial 0 with value: 0.5311408016443988.\n"
     ]
    },
    {
     "name": "stderr",
     "output_type": "stream",
     "text": [
      "/data1/shengen/conda_envs/ckgconv_env/lib/python3.11/site-packages/torch_geometric/sampler/neighbor_sampler.py:61: UserWarning: Using 'NeighborSampler' without a 'pyg-lib' installation is deprecated and will be removed soon. Please install 'pyg-lib' for accelerated neighborhood sampling\n",
      "  warnings.warn(f\"Using '{self.__class__.__name__}' without a \"\n",
      "Best trial: 1. Best value: 0.574692:   7%|▋         | 2/30 [00:00<00:04,  6.05it/s]/data1/shengen/conda_envs/ckgconv_env/lib/python3.11/site-packages/torch_geometric/sampler/neighbor_sampler.py:61: UserWarning: Using 'NeighborSampler' without a 'pyg-lib' installation is deprecated and will be removed soon. Please install 'pyg-lib' for accelerated neighborhood sampling\n",
      "  warnings.warn(f\"Using '{self.__class__.__name__}' without a \"\n"
     ]
    },
    {
     "name": "stdout",
     "output_type": "stream",
     "text": [
      "[I 2025-04-21 15:13:53,847] Trial 1 finished with value: 0.5746916752312436 and parameters: {'hid_dim': 32, 'num_layers': 2, 'dropout': 0.06645181379091425, 'lr': 0.004293488564809063, 'weight_decay': 0.005084840121524124, 'activation': 'elu'}. Best is trial 1 with value: 0.5746916752312436.\n"
     ]
    },
    {
     "name": "stderr",
     "output_type": "stream",
     "text": [
      "Best trial: 2. Best value: 0.598201:  10%|█         | 3/30 [00:00<00:04,  5.74it/s]/data1/shengen/conda_envs/ckgconv_env/lib/python3.11/site-packages/torch_geometric/sampler/neighbor_sampler.py:61: UserWarning: Using 'NeighborSampler' without a 'pyg-lib' installation is deprecated and will be removed soon. Please install 'pyg-lib' for accelerated neighborhood sampling\n",
      "  warnings.warn(f\"Using '{self.__class__.__name__}' without a \"\n"
     ]
    },
    {
     "name": "stdout",
     "output_type": "stream",
     "text": [
      "[I 2025-04-21 15:13:54,032] Trial 2 finished with value: 0.5982014388489207 and parameters: {'hid_dim': 128, 'num_layers': 3, 'dropout': 0.10425809663169111, 'lr': 0.0002854148863505458, 'weight_decay': 0.008357802836159046, 'activation': 'elu'}. Best is trial 2 with value: 0.5982014388489207.\n"
     ]
    },
    {
     "name": "stderr",
     "output_type": "stream",
     "text": [
      "Best trial: 2. Best value: 0.598201:  13%|█▎        | 4/30 [00:00<00:04,  5.28it/s]/data1/shengen/conda_envs/ckgconv_env/lib/python3.11/site-packages/torch_geometric/sampler/neighbor_sampler.py:61: UserWarning: Using 'NeighborSampler' without a 'pyg-lib' installation is deprecated and will be removed soon. Please install 'pyg-lib' for accelerated neighborhood sampling\n",
      "  warnings.warn(f\"Using '{self.__class__.__name__}' without a \"\n",
      "Best trial: 2. Best value: 0.598201:  17%|█▋        | 5/30 [00:00<00:04,  5.68it/s]/data1/shengen/conda_envs/ckgconv_env/lib/python3.11/site-packages/torch_geometric/sampler/neighbor_sampler.py:61: UserWarning: Using 'NeighborSampler' without a 'pyg-lib' installation is deprecated and will be removed soon. Please install 'pyg-lib' for accelerated neighborhood sampling\n",
      "  warnings.warn(f\"Using '{self.__class__.__name__}' without a \"\n"
     ]
    },
    {
     "name": "stdout",
     "output_type": "stream",
     "text": [
      "[I 2025-04-21 15:13:54,244] Trial 3 finished with value: 0.5208376156217883 and parameters: {'hid_dim': 64, 'num_layers': 4, 'dropout': 0.3786750468443144, 'lr': 0.009983929808957851, 'weight_decay': 0.009394634676800356, 'activation': 'relu'}. Best is trial 2 with value: 0.5982014388489207.\n",
      "[I 2025-04-21 15:13:54,397] Trial 4 finished with value: 0.5365236382322713 and parameters: {'hid_dim': 64, 'num_layers': 2, 'dropout': 0.3992936288755878, 'lr': 0.0007258485993873657, 'weight_decay': 6.115748992470693e-05, 'activation': 'relu'}. Best is trial 2 with value: 0.5982014388489207.\n"
     ]
    },
    {
     "name": "stderr",
     "output_type": "stream",
     "text": [
      "Best trial: 2. Best value: 0.598201:  20%|██        | 6/30 [00:01<00:04,  5.95it/s]/data1/shengen/conda_envs/ckgconv_env/lib/python3.11/site-packages/torch_geometric/sampler/neighbor_sampler.py:61: UserWarning: Using 'NeighborSampler' without a 'pyg-lib' installation is deprecated and will be removed soon. Please install 'pyg-lib' for accelerated neighborhood sampling\n",
      "  warnings.warn(f\"Using '{self.__class__.__name__}' without a \"\n",
      "Best trial: 2. Best value: 0.598201:  23%|██▎       | 7/30 [00:01<00:03,  6.09it/s]/data1/shengen/conda_envs/ckgconv_env/lib/python3.11/site-packages/torch_geometric/sampler/neighbor_sampler.py:61: UserWarning: Using 'NeighborSampler' without a 'pyg-lib' installation is deprecated and will be removed soon. Please install 'pyg-lib' for accelerated neighborhood sampling\n",
      "  warnings.warn(f\"Using '{self.__class__.__name__}' without a \"\n"
     ]
    },
    {
     "name": "stdout",
     "output_type": "stream",
     "text": [
      "[I 2025-04-21 15:13:54,549] Trial 5 finished with value: 0.4796377183967112 and parameters: {'hid_dim': 64, 'num_layers': 2, 'dropout': 0.23318078267023068, 'lr': 0.004978133250833135, 'weight_decay': 0.0021832481257063265, 'activation': 'elu'}. Best is trial 2 with value: 0.5982014388489207.\n",
      "[I 2025-04-21 15:13:54,706] Trial 6 finished with value: 0.4036356628982528 and parameters: {'hid_dim': 32, 'num_layers': 2, 'dropout': 0.1867764904156632, 'lr': 0.003853104932589635, 'weight_decay': 0.00854894358673355, 'activation': 'relu'}. Best is trial 2 with value: 0.5982014388489207.\n"
     ]
    },
    {
     "name": "stderr",
     "output_type": "stream",
     "text": [
      "Best trial: 2. Best value: 0.598201:  27%|██▋       | 8/30 [00:01<00:03,  6.22it/s]/data1/shengen/conda_envs/ckgconv_env/lib/python3.11/site-packages/torch_geometric/sampler/neighbor_sampler.py:61: UserWarning: Using 'NeighborSampler' without a 'pyg-lib' installation is deprecated and will be removed soon. Please install 'pyg-lib' for accelerated neighborhood sampling\n",
      "  warnings.warn(f\"Using '{self.__class__.__name__}' without a \"\n",
      "Best trial: 2. Best value: 0.598201:  30%|███       | 9/30 [00:01<00:03,  6.30it/s]/data1/shengen/conda_envs/ckgconv_env/lib/python3.11/site-packages/torch_geometric/sampler/neighbor_sampler.py:61: UserWarning: Using 'NeighborSampler' without a 'pyg-lib' installation is deprecated and will be removed soon. Please install 'pyg-lib' for accelerated neighborhood sampling\n",
      "  warnings.warn(f\"Using '{self.__class__.__name__}' without a \"\n"
     ]
    },
    {
     "name": "stdout",
     "output_type": "stream",
     "text": [
      "[I 2025-04-21 15:13:54,860] Trial 7 finished with value: 0.4196685508735869 and parameters: {'hid_dim': 64, 'num_layers': 2, 'dropout': 0.4262706586248645, 'lr': 0.00024969606393015684, 'weight_decay': 0.003303270844092543, 'activation': 'relu'}. Best is trial 2 with value: 0.5982014388489207.\n",
      "[I 2025-04-21 15:13:55,014] Trial 8 finished with value: 0.49676258992805755 and parameters: {'hid_dim': 64, 'num_layers': 2, 'dropout': 0.0002869096964086548, 'lr': 0.0030145910622883516, 'weight_decay': 0.0018735608356164346, 'activation': 'relu'}. Best is trial 2 with value: 0.5982014388489207.\n"
     ]
    },
    {
     "name": "stderr",
     "output_type": "stream",
     "text": [
      "Best trial: 2. Best value: 0.598201:  33%|███▎      | 10/30 [00:01<00:02,  6.72it/s]/data1/shengen/conda_envs/ckgconv_env/lib/python3.11/site-packages/torch_geometric/sampler/neighbor_sampler.py:61: UserWarning: Using 'NeighborSampler' without a 'pyg-lib' installation is deprecated and will be removed soon. Please install 'pyg-lib' for accelerated neighborhood sampling\n",
      "  warnings.warn(f\"Using '{self.__class__.__name__}' without a \"\n"
     ]
    },
    {
     "name": "stdout",
     "output_type": "stream",
     "text": [
      "[I 2025-04-21 15:13:55,140] Trial 9 finished with value: 0.40796505652620757 and parameters: {'hid_dim': 32, 'num_layers': 1, 'dropout': 0.12206207590019452, 'lr': 0.00024469169446101946, 'weight_decay': 0.0029444738650503312, 'activation': 'relu'}. Best is trial 2 with value: 0.5982014388489207.\n"
     ]
    },
    {
     "name": "stderr",
     "output_type": "stream",
     "text": [
      "Best trial: 2. Best value: 0.598201:  37%|███▋      | 11/30 [00:01<00:03,  5.73it/s]/data1/shengen/conda_envs/ckgconv_env/lib/python3.11/site-packages/torch_geometric/sampler/neighbor_sampler.py:61: UserWarning: Using 'NeighborSampler' without a 'pyg-lib' installation is deprecated and will be removed soon. Please install 'pyg-lib' for accelerated neighborhood sampling\n",
      "  warnings.warn(f\"Using '{self.__class__.__name__}' without a \"\n",
      "Best trial: 2. Best value: 0.598201:  40%|████      | 12/30 [00:02<00:03,  5.54it/s]"
     ]
    },
    {
     "name": "stdout",
     "output_type": "stream",
     "text": [
      "[I 2025-04-21 15:13:55,373] Trial 10 finished with value: 0.4955421377183967 and parameters: {'hid_dim': 128, 'num_layers': 4, 'dropout': 0.29330736529787554, 'lr': 0.00012204775917219546, 'weight_decay': 0.007044939754703472, 'activation': 'elu'}. Best is trial 2 with value: 0.5982014388489207.\n",
      "[I 2025-04-21 15:13:55,568] Trial 11 finished with value: 0.44583761562178825 and parameters: {'hid_dim': 128, 'num_layers': 3, 'dropout': 0.0715123293366222, 'lr': 0.0011198877014497051, 'weight_decay': 0.005988051104031896, 'activation': 'elu'}. Best is trial 2 with value: 0.5982014388489207.\n"
     ]
    },
    {
     "name": "stderr",
     "output_type": "stream",
     "text": [
      "/data1/shengen/conda_envs/ckgconv_env/lib/python3.11/site-packages/torch_geometric/sampler/neighbor_sampler.py:61: UserWarning: Using 'NeighborSampler' without a 'pyg-lib' installation is deprecated and will be removed soon. Please install 'pyg-lib' for accelerated neighborhood sampling\n",
      "  warnings.warn(f\"Using '{self.__class__.__name__}' without a \"\n",
      "Best trial: 2. Best value: 0.598201:  43%|████▎     | 13/30 [00:02<00:02,  6.00it/s]/data1/shengen/conda_envs/ckgconv_env/lib/python3.11/site-packages/torch_geometric/sampler/neighbor_sampler.py:61: UserWarning: Using 'NeighborSampler' without a 'pyg-lib' installation is deprecated and will be removed soon. Please install 'pyg-lib' for accelerated neighborhood sampling\n",
      "  warnings.warn(f\"Using '{self.__class__.__name__}' without a \"\n",
      "Best trial: 2. Best value: 0.598201:  47%|████▋     | 14/30 [00:02<00:02,  5.71it/s]"
     ]
    },
    {
     "name": "stdout",
     "output_type": "stream",
     "text": [
      "[I 2025-04-21 15:13:55,702] Trial 12 finished with value: 0.5417009249743063 and parameters: {'hid_dim': 128, 'num_layers': 1, 'dropout': 0.10670643477082487, 'lr': 0.0008872013685576041, 'weight_decay': 0.004729211859010778, 'activation': 'elu'}. Best is trial 2 with value: 0.5982014388489207.\n",
      "[I 2025-04-21 15:13:55,897] Trial 13 finished with value: 0.4879881808838643 and parameters: {'hid_dim': 128, 'num_layers': 3, 'dropout': 0.013457862026506395, 'lr': 0.0017242569076427283, 'weight_decay': 0.007907511937953549, 'activation': 'elu'}. Best is trial 2 with value: 0.5982014388489207.\n"
     ]
    },
    {
     "name": "stderr",
     "output_type": "stream",
     "text": [
      "/data1/shengen/conda_envs/ckgconv_env/lib/python3.11/site-packages/torch_geometric/sampler/neighbor_sampler.py:61: UserWarning: Using 'NeighborSampler' without a 'pyg-lib' installation is deprecated and will be removed soon. Please install 'pyg-lib' for accelerated neighborhood sampling\n",
      "  warnings.warn(f\"Using '{self.__class__.__name__}' without a \"\n",
      "Best trial: 2. Best value: 0.598201:  50%|█████     | 15/30 [00:02<00:02,  5.56it/s]/data1/shengen/conda_envs/ckgconv_env/lib/python3.11/site-packages/torch_geometric/sampler/neighbor_sampler.py:61: UserWarning: Using 'NeighborSampler' without a 'pyg-lib' installation is deprecated and will be removed soon. Please install 'pyg-lib' for accelerated neighborhood sampling\n",
      "  warnings.warn(f\"Using '{self.__class__.__name__}' without a \"\n"
     ]
    },
    {
     "name": "stdout",
     "output_type": "stream",
     "text": [
      "[I 2025-04-21 15:13:56,088] Trial 14 finished with value: 0.4909686536485097 and parameters: {'hid_dim': 32, 'num_layers': 3, 'dropout': 0.1605821920520415, 'lr': 0.0004347991760715668, 'weight_decay': 0.004784607063887033, 'activation': 'elu'}. Best is trial 2 with value: 0.5982014388489207.\n"
     ]
    },
    {
     "name": "stderr",
     "output_type": "stream",
     "text": [
      "Best trial: 2. Best value: 0.598201:  53%|█████▎    | 16/30 [00:02<00:02,  5.05it/s]/data1/shengen/conda_envs/ckgconv_env/lib/python3.11/site-packages/torch_geometric/sampler/neighbor_sampler.py:61: UserWarning: Using 'NeighborSampler' without a 'pyg-lib' installation is deprecated and will be removed soon. Please install 'pyg-lib' for accelerated neighborhood sampling\n",
      "  warnings.warn(f\"Using '{self.__class__.__name__}' without a \"\n",
      "Best trial: 2. Best value: 0.598201:  57%|█████▋    | 17/30 [00:02<00:02,  5.52it/s]/data1/shengen/conda_envs/ckgconv_env/lib/python3.11/site-packages/torch_geometric/sampler/neighbor_sampler.py:61: UserWarning: Using 'NeighborSampler' without a 'pyg-lib' installation is deprecated and will be removed soon. Please install 'pyg-lib' for accelerated neighborhood sampling\n",
      "  warnings.warn(f\"Using '{self.__class__.__name__}' without a \"\n"
     ]
    },
    {
     "name": "stdout",
     "output_type": "stream",
     "text": [
      "[I 2025-04-21 15:13:56,328] Trial 15 finished with value: 0.5518884892086331 and parameters: {'hid_dim': 128, 'num_layers': 4, 'dropout': 0.08065799244115113, 'lr': 0.00011200204558557091, 'weight_decay': 0.006457498840328447, 'activation': 'elu'}. Best is trial 2 with value: 0.5982014388489207.\n",
      "[I 2025-04-21 15:13:56,470] Trial 16 finished with value: 0.46930883864337103 and parameters: {'hid_dim': 32, 'num_layers': 1, 'dropout': 0.2183065483691667, 'lr': 0.001834092457204836, 'weight_decay': 0.009765116569759659, 'activation': 'elu'}. Best is trial 2 with value: 0.5982014388489207.\n"
     ]
    },
    {
     "name": "stderr",
     "output_type": "stream",
     "text": [
      "Best trial: 2. Best value: 0.598201:  60%|██████    | 18/30 [00:03<00:02,  5.35it/s]/data1/shengen/conda_envs/ckgconv_env/lib/python3.11/site-packages/torch_geometric/sampler/neighbor_sampler.py:61: UserWarning: Using 'NeighborSampler' without a 'pyg-lib' installation is deprecated and will be removed soon. Please install 'pyg-lib' for accelerated neighborhood sampling\n",
      "  warnings.warn(f\"Using '{self.__class__.__name__}' without a \"\n",
      "Best trial: 2. Best value: 0.598201:  63%|██████▎   | 19/30 [00:03<00:01,  5.52it/s]/data1/shengen/conda_envs/ckgconv_env/lib/python3.11/site-packages/torch_geometric/sampler/neighbor_sampler.py:61: UserWarning: Using 'NeighborSampler' without a 'pyg-lib' installation is deprecated and will be removed soon. Please install 'pyg-lib' for accelerated neighborhood sampling\n",
      "  warnings.warn(f\"Using '{self.__class__.__name__}' without a \"\n"
     ]
    },
    {
     "name": "stdout",
     "output_type": "stream",
     "text": [
      "[I 2025-04-21 15:13:56,670] Trial 17 finished with value: 0.3925359712230216 and parameters: {'hid_dim': 128, 'num_layers': 3, 'dropout': 0.4906815469555682, 'lr': 0.000430038090387833, 'weight_decay': 0.005522724531555125, 'activation': 'elu'}. Best is trial 2 with value: 0.5982014388489207.\n",
      "[I 2025-04-21 15:13:56,838] Trial 18 finished with value: 0.5661742034943474 and parameters: {'hid_dim': 32, 'num_layers': 2, 'dropout': 0.04224057530657883, 'lr': 0.008836760101366626, 'weight_decay': 0.007716037616758648, 'activation': 'elu'}. Best is trial 2 with value: 0.5982014388489207.\n"
     ]
    },
    {
     "name": "stderr",
     "output_type": "stream",
     "text": [
      "Best trial: 2. Best value: 0.598201:  67%|██████▋   | 20/30 [00:03<00:01,  5.35it/s]/data1/shengen/conda_envs/ckgconv_env/lib/python3.11/site-packages/torch_geometric/sampler/neighbor_sampler.py:61: UserWarning: Using 'NeighborSampler' without a 'pyg-lib' installation is deprecated and will be removed soon. Please install 'pyg-lib' for accelerated neighborhood sampling\n",
      "  warnings.warn(f\"Using '{self.__class__.__name__}' without a \"\n"
     ]
    },
    {
     "name": "stdout",
     "output_type": "stream",
     "text": [
      "[I 2025-04-21 15:13:57,037] Trial 19 finished with value: 0.5168165467625899 and parameters: {'hid_dim': 128, 'num_layers': 3, 'dropout': 0.1467551530858598, 'lr': 0.00020721484163653756, 'weight_decay': 0.00451711625125141, 'activation': 'elu'}. Best is trial 2 with value: 0.5982014388489207.\n"
     ]
    },
    {
     "name": "stderr",
     "output_type": "stream",
     "text": [
      "Best trial: 2. Best value: 0.598201:  70%|███████   | 21/30 [00:03<00:01,  5.00it/s]/data1/shengen/conda_envs/ckgconv_env/lib/python3.11/site-packages/torch_geometric/sampler/neighbor_sampler.py:61: UserWarning: Using 'NeighborSampler' without a 'pyg-lib' installation is deprecated and will be removed soon. Please install 'pyg-lib' for accelerated neighborhood sampling\n",
      "  warnings.warn(f\"Using '{self.__class__.__name__}' without a \"\n",
      "Best trial: 2. Best value: 0.598201:  73%|███████▎  | 22/30 [00:03<00:01,  5.25it/s]/data1/shengen/conda_envs/ckgconv_env/lib/python3.11/site-packages/torch_geometric/sampler/neighbor_sampler.py:61: UserWarning: Using 'NeighborSampler' without a 'pyg-lib' installation is deprecated and will be removed soon. Please install 'pyg-lib' for accelerated neighborhood sampling\n",
      "  warnings.warn(f\"Using '{self.__class__.__name__}' without a \"\n"
     ]
    },
    {
     "name": "stdout",
     "output_type": "stream",
     "text": [
      "[I 2025-04-21 15:13:57,268] Trial 20 finished with value: 0.3948227132579651 and parameters: {'hid_dim': 32, 'num_layers': 4, 'dropout': 0.2980635965020554, 'lr': 0.0004917945887826235, 'weight_decay': 0.003962036316493922, 'activation': 'elu'}. Best is trial 2 with value: 0.5982014388489207.\n",
      "[I 2025-04-21 15:13:57,436] Trial 21 finished with value: 0.5908658787255909 and parameters: {'hid_dim': 32, 'num_layers': 2, 'dropout': 0.03834387719307716, 'lr': 0.00947996009776066, 'weight_decay': 0.0077632263196277165, 'activation': 'elu'}. Best is trial 2 with value: 0.5982014388489207.\n"
     ]
    },
    {
     "name": "stderr",
     "output_type": "stream",
     "text": [
      "Best trial: 2. Best value: 0.598201:  77%|███████▋  | 23/30 [00:04<00:01,  5.45it/s]/data1/shengen/conda_envs/ckgconv_env/lib/python3.11/site-packages/torch_geometric/sampler/neighbor_sampler.py:61: UserWarning: Using 'NeighborSampler' without a 'pyg-lib' installation is deprecated and will be removed soon. Please install 'pyg-lib' for accelerated neighborhood sampling\n",
      "  warnings.warn(f\"Using '{self.__class__.__name__}' without a \"\n",
      "Best trial: 2. Best value: 0.598201:  80%|████████  | 24/30 [00:04<00:01,  5.85it/s]/data1/shengen/conda_envs/ckgconv_env/lib/python3.11/site-packages/torch_geometric/sampler/neighbor_sampler.py:61: UserWarning: Using 'NeighborSampler' without a 'pyg-lib' installation is deprecated and will be removed soon. Please install 'pyg-lib' for accelerated neighborhood sampling\n",
      "  warnings.warn(f\"Using '{self.__class__.__name__}' without a \"\n"
     ]
    },
    {
     "name": "stdout",
     "output_type": "stream",
     "text": [
      "[I 2025-04-21 15:13:57,604] Trial 22 finished with value: 0.481551901336074 and parameters: {'hid_dim': 32, 'num_layers': 2, 'dropout': 0.05778430747821171, 'lr': 0.005600817881332977, 'weight_decay': 0.00862286658492965, 'activation': 'elu'}. Best is trial 2 with value: 0.5982014388489207.\n",
      "[I 2025-04-21 15:13:57,746] Trial 23 finished with value: 0.45826053442959913 and parameters: {'hid_dim': 32, 'num_layers': 1, 'dropout': 0.10532964694275591, 'lr': 0.0027583864689930404, 'weight_decay': 0.007143764489585893, 'activation': 'elu'}. Best is trial 2 with value: 0.5982014388489207.\n"
     ]
    },
    {
     "name": "stderr",
     "output_type": "stream",
     "text": [
      "Best trial: 2. Best value: 0.598201:  83%|████████▎ | 25/30 [00:04<00:00,  5.87it/s]/data1/shengen/conda_envs/ckgconv_env/lib/python3.11/site-packages/torch_geometric/sampler/neighbor_sampler.py:61: UserWarning: Using 'NeighborSampler' without a 'pyg-lib' installation is deprecated and will be removed soon. Please install 'pyg-lib' for accelerated neighborhood sampling\n",
      "  warnings.warn(f\"Using '{self.__class__.__name__}' without a \"\n",
      "Best trial: 2. Best value: 0.598201:  87%|████████▋ | 26/30 [00:04<00:00,  5.61it/s]"
     ]
    },
    {
     "name": "stdout",
     "output_type": "stream",
     "text": [
      "[I 2025-04-21 15:13:57,915] Trial 24 finished with value: 0.5293422404933196 and parameters: {'hid_dim': 32, 'num_layers': 2, 'dropout': 0.04687964038727023, 'lr': 0.001566076353536103, 'weight_decay': 0.008722790503517638, 'activation': 'elu'}. Best is trial 2 with value: 0.5982014388489207.\n",
      "[I 2025-04-21 15:13:58,112] Trial 25 finished with value: 0.43209146968139767 and parameters: {'hid_dim': 32, 'num_layers': 3, 'dropout': 0.18873458643497476, 'lr': 0.00696659658129429, 'weight_decay': 0.006636646580011617, 'activation': 'elu'}. Best is trial 2 with value: 0.5982014388489207.\n"
     ]
    },
    {
     "name": "stderr",
     "output_type": "stream",
     "text": [
      "/data1/shengen/conda_envs/ckgconv_env/lib/python3.11/site-packages/torch_geometric/sampler/neighbor_sampler.py:61: UserWarning: Using 'NeighborSampler' without a 'pyg-lib' installation is deprecated and will be removed soon. Please install 'pyg-lib' for accelerated neighborhood sampling\n",
      "  warnings.warn(f\"Using '{self.__class__.__name__}' without a \"\n",
      "Best trial: 2. Best value: 0.598201:  90%|█████████ | 27/30 [00:04<00:00,  5.69it/s]/data1/shengen/conda_envs/ckgconv_env/lib/python3.11/site-packages/torch_geometric/sampler/neighbor_sampler.py:61: UserWarning: Using 'NeighborSampler' without a 'pyg-lib' installation is deprecated and will be removed soon. Please install 'pyg-lib' for accelerated neighborhood sampling\n",
      "  warnings.warn(f\"Using '{self.__class__.__name__}' without a \"\n",
      "Best trial: 2. Best value: 0.598201:  93%|█████████▎| 28/30 [00:04<00:00,  6.05it/s]/data1/shengen/conda_envs/ckgconv_env/lib/python3.11/site-packages/torch_geometric/sampler/neighbor_sampler.py:61: UserWarning: Using 'NeighborSampler' without a 'pyg-lib' installation is deprecated and will be removed soon. Please install 'pyg-lib' for accelerated neighborhood sampling\n",
      "  warnings.warn(f\"Using '{self.__class__.__name__}' without a \"\n"
     ]
    },
    {
     "name": "stdout",
     "output_type": "stream",
     "text": [
      "[I 2025-04-21 15:13:58,281] Trial 26 finished with value: 0.49825282631038026 and parameters: {'hid_dim': 128, 'num_layers': 2, 'dropout': 0.029564994580796533, 'lr': 0.0035753701421781144, 'weight_decay': 0.005580541143415329, 'activation': 'elu'}. Best is trial 2 with value: 0.5982014388489207.\n",
      "[I 2025-04-21 15:13:58,422] Trial 27 finished with value: 0.5081192189105859 and parameters: {'hid_dim': 32, 'num_layers': 1, 'dropout': 0.1408688876704534, 'lr': 0.007278184124001106, 'weight_decay': 0.0077764375941411015, 'activation': 'elu'}. Best is trial 2 with value: 0.5982014388489207.\n"
     ]
    },
    {
     "name": "stderr",
     "output_type": "stream",
     "text": [
      "Best trial: 2. Best value: 0.598201:  97%|█████████▋| 29/30 [00:05<00:00,  5.71it/s]/data1/shengen/conda_envs/ckgconv_env/lib/python3.11/site-packages/torch_geometric/sampler/neighbor_sampler.py:61: UserWarning: Using 'NeighborSampler' without a 'pyg-lib' installation is deprecated and will be removed soon. Please install 'pyg-lib' for accelerated neighborhood sampling\n",
      "  warnings.warn(f\"Using '{self.__class__.__name__}' without a \"\n",
      "                                                                                    "
     ]
    },
    {
     "name": "stdout",
     "output_type": "stream",
     "text": [
      "[I 2025-04-21 15:13:58,620] Trial 28 finished with value: 0.5369090441932168 and parameters: {'hid_dim': 32, 'num_layers': 3, 'dropout': 0.08466536016156229, 'lr': 0.002383024730644733, 'weight_decay': 0.00993653474268101, 'activation': 'elu'}. Best is trial 2 with value: 0.5982014388489207.\n"
     ]
    },
    {
     "name": "stderr",
     "output_type": "stream",
     "text": [
      "Best trial: 2. Best value: 0.598201: 100%|██████████| 30/30 [00:05<00:00,  5.65it/s]\n",
      "/data1/shengen/conda_envs/ckgconv_env/lib/python3.11/site-packages/torch_geometric/sampler/neighbor_sampler.py:61: UserWarning: Using 'NeighborSampler' without a 'pyg-lib' installation is deprecated and will be removed soon. Please install 'pyg-lib' for accelerated neighborhood sampling\n",
      "  warnings.warn(f\"Using '{self.__class__.__name__}' without a \"\n"
     ]
    },
    {
     "name": "stdout",
     "output_type": "stream",
     "text": [
      "[I 2025-04-21 15:13:58,821] Trial 29 finished with value: 0.45596094552929084 and parameters: {'hid_dim': 128, 'num_layers': 3, 'dropout': 0.17522110898578544, 'lr': 0.005251359873266654, 'weight_decay': 0.009175977254005596, 'activation': 'elu'}. Best is trial 2 with value: 0.5982014388489207.\n",
      "[cola-books] Best AUC: 0.5982 | Hash: 62f987\n",
      "Saved best params to results/best_params_cola_books.json\n",
      "Best params for CoLA on books: {'hid_dim': 128, 'num_layers': 3, 'dropout': 0.10425809663169111, 'lr': 0.0002854148863505458, 'weight_decay': 0.008357802836159046, 'act': <function elu at 0x7fcf59d76de0>}\n",
      "[Run 1/10]\n",
      "[Run 2/10]\n"
     ]
    },
    {
     "name": "stderr",
     "output_type": "stream",
     "text": [
      "/data1/shengen/conda_envs/ckgconv_env/lib/python3.11/site-packages/torch_geometric/sampler/neighbor_sampler.py:61: UserWarning: Using 'NeighborSampler' without a 'pyg-lib' installation is deprecated and will be removed soon. Please install 'pyg-lib' for accelerated neighborhood sampling\n",
      "  warnings.warn(f\"Using '{self.__class__.__name__}' without a \"\n"
     ]
    },
    {
     "name": "stdout",
     "output_type": "stream",
     "text": [
      "[Run 3/10]\n"
     ]
    },
    {
     "name": "stderr",
     "output_type": "stream",
     "text": [
      "/data1/shengen/conda_envs/ckgconv_env/lib/python3.11/site-packages/torch_geometric/sampler/neighbor_sampler.py:61: UserWarning: Using 'NeighborSampler' without a 'pyg-lib' installation is deprecated and will be removed soon. Please install 'pyg-lib' for accelerated neighborhood sampling\n",
      "  warnings.warn(f\"Using '{self.__class__.__name__}' without a \"\n"
     ]
    },
    {
     "name": "stdout",
     "output_type": "stream",
     "text": [
      "[Run 4/10]\n"
     ]
    },
    {
     "name": "stderr",
     "output_type": "stream",
     "text": [
      "/data1/shengen/conda_envs/ckgconv_env/lib/python3.11/site-packages/torch_geometric/sampler/neighbor_sampler.py:61: UserWarning: Using 'NeighborSampler' without a 'pyg-lib' installation is deprecated and will be removed soon. Please install 'pyg-lib' for accelerated neighborhood sampling\n",
      "  warnings.warn(f\"Using '{self.__class__.__name__}' without a \"\n"
     ]
    },
    {
     "name": "stdout",
     "output_type": "stream",
     "text": [
      "[Run 5/10]\n"
     ]
    },
    {
     "name": "stderr",
     "output_type": "stream",
     "text": [
      "/data1/shengen/conda_envs/ckgconv_env/lib/python3.11/site-packages/torch_geometric/sampler/neighbor_sampler.py:61: UserWarning: Using 'NeighborSampler' without a 'pyg-lib' installation is deprecated and will be removed soon. Please install 'pyg-lib' for accelerated neighborhood sampling\n",
      "  warnings.warn(f\"Using '{self.__class__.__name__}' without a \"\n"
     ]
    },
    {
     "name": "stdout",
     "output_type": "stream",
     "text": [
      "[Run 6/10]\n"
     ]
    },
    {
     "name": "stderr",
     "output_type": "stream",
     "text": [
      "/data1/shengen/conda_envs/ckgconv_env/lib/python3.11/site-packages/torch_geometric/sampler/neighbor_sampler.py:61: UserWarning: Using 'NeighborSampler' without a 'pyg-lib' installation is deprecated and will be removed soon. Please install 'pyg-lib' for accelerated neighborhood sampling\n",
      "  warnings.warn(f\"Using '{self.__class__.__name__}' without a \"\n"
     ]
    },
    {
     "name": "stdout",
     "output_type": "stream",
     "text": [
      "[Run 7/10]\n"
     ]
    },
    {
     "name": "stderr",
     "output_type": "stream",
     "text": [
      "/data1/shengen/conda_envs/ckgconv_env/lib/python3.11/site-packages/torch_geometric/sampler/neighbor_sampler.py:61: UserWarning: Using 'NeighborSampler' without a 'pyg-lib' installation is deprecated and will be removed soon. Please install 'pyg-lib' for accelerated neighborhood sampling\n",
      "  warnings.warn(f\"Using '{self.__class__.__name__}' without a \"\n"
     ]
    },
    {
     "name": "stdout",
     "output_type": "stream",
     "text": [
      "[Run 8/10]\n"
     ]
    },
    {
     "name": "stderr",
     "output_type": "stream",
     "text": [
      "/data1/shengen/conda_envs/ckgconv_env/lib/python3.11/site-packages/torch_geometric/sampler/neighbor_sampler.py:61: UserWarning: Using 'NeighborSampler' without a 'pyg-lib' installation is deprecated and will be removed soon. Please install 'pyg-lib' for accelerated neighborhood sampling\n",
      "  warnings.warn(f\"Using '{self.__class__.__name__}' without a \"\n"
     ]
    },
    {
     "name": "stdout",
     "output_type": "stream",
     "text": [
      "[Run 9/10]\n"
     ]
    },
    {
     "name": "stderr",
     "output_type": "stream",
     "text": [
      "/data1/shengen/conda_envs/ckgconv_env/lib/python3.11/site-packages/torch_geometric/sampler/neighbor_sampler.py:61: UserWarning: Using 'NeighborSampler' without a 'pyg-lib' installation is deprecated and will be removed soon. Please install 'pyg-lib' for accelerated neighborhood sampling\n",
      "  warnings.warn(f\"Using '{self.__class__.__name__}' without a \"\n"
     ]
    },
    {
     "name": "stdout",
     "output_type": "stream",
     "text": [
      "[Run 10/10]\n"
     ]
    },
    {
     "name": "stderr",
     "output_type": "stream",
     "text": [
      "/data1/shengen/conda_envs/ckgconv_env/lib/python3.11/site-packages/torch_geometric/sampler/neighbor_sampler.py:61: UserWarning: Using 'NeighborSampler' without a 'pyg-lib' installation is deprecated and will be removed soon. Please install 'pyg-lib' for accelerated neighborhood sampling\n",
      "  warnings.warn(f\"Using '{self.__class__.__name__}' without a \"\n",
      "[I 2025-04-21 15:14:10,471] A new study created in memory with name: no-name-ca11239c-152f-4ffe-9745-b97b2c105802\n"
     ]
    },
    {
     "name": "stdout",
     "output_type": "stream",
     "text": [
      "Saved results to results/cola_books.csv\n",
      "Summary for CoLA on books:\n",
      "  AUC-ROC (mean±std): 0.4770 ± 0.0322\n",
      "  AP (mean±std): 0.0187 ± 0.0015\n",
      "  F1 (mean±std): 0.0141 ± 0.0115\n",
      "\n",
      "Running CoLA on gen_500...\n",
      "\n"
     ]
    },
    {
     "name": "stderr",
     "output_type": "stream",
     "text": [
      "  0%|          | 0/30 [00:00<?, ?it/s]/data1/shengen/conda_envs/ckgconv_env/lib/python3.11/site-packages/torch_geometric/sampler/neighbor_sampler.py:61: UserWarning: Using 'NeighborSampler' without a 'pyg-lib' installation is deprecated and will be removed soon. Please install 'pyg-lib' for accelerated neighborhood sampling\n",
      "  warnings.warn(f\"Using '{self.__class__.__name__}' without a \"\n",
      "Best trial: 0. Best value: 0.574062:   0%|          | 0/30 [00:00<?, ?it/s]"
     ]
    },
    {
     "name": "stdout",
     "output_type": "stream",
     "text": [
      "[I 2025-04-21 15:14:10,565] Trial 0 finished with value: 0.5740624999999999 and parameters: {'hid_dim': 128, 'num_layers': 1, 'dropout': 0.05284719412565103, 'lr': 0.00913142427589292, 'weight_decay': 2.1168200603484122e-05, 'activation': 'elu'}. Best is trial 0 with value: 0.5740624999999999.\n"
     ]
    },
    {
     "name": "stderr",
     "output_type": "stream",
     "text": [
      "/data1/shengen/conda_envs/ckgconv_env/lib/python3.11/site-packages/torch_geometric/sampler/neighbor_sampler.py:61: UserWarning: Using 'NeighborSampler' without a 'pyg-lib' installation is deprecated and will be removed soon. Please install 'pyg-lib' for accelerated neighborhood sampling\n",
      "  warnings.warn(f\"Using '{self.__class__.__name__}' without a \"\n",
      "Best trial: 0. Best value: 0.574062:   7%|▋         | 2/30 [00:00<00:03,  7.49it/s]/data1/shengen/conda_envs/ckgconv_env/lib/python3.11/site-packages/torch_geometric/sampler/neighbor_sampler.py:61: UserWarning: Using 'NeighborSampler' without a 'pyg-lib' installation is deprecated and will be removed soon. Please install 'pyg-lib' for accelerated neighborhood sampling\n",
      "  warnings.warn(f\"Using '{self.__class__.__name__}' without a \"\n"
     ]
    },
    {
     "name": "stdout",
     "output_type": "stream",
     "text": [
      "[I 2025-04-21 15:14:10,737] Trial 1 finished with value: 0.5137499999999999 and parameters: {'hid_dim': 128, 'num_layers': 4, 'dropout': 0.3585083101184006, 'lr': 0.00015928403344829688, 'weight_decay': 0.003055392681124385, 'activation': 'elu'}. Best is trial 0 with value: 0.5740624999999999.\n"
     ]
    },
    {
     "name": "stderr",
     "output_type": "stream",
     "text": [
      "Best trial: 0. Best value: 0.574062:   7%|▋         | 2/30 [00:00<00:03,  7.49it/s]/data1/shengen/conda_envs/ckgconv_env/lib/python3.11/site-packages/torch_geometric/sampler/neighbor_sampler.py:61: UserWarning: Using 'NeighborSampler' without a 'pyg-lib' installation is deprecated and will be removed soon. Please install 'pyg-lib' for accelerated neighborhood sampling\n",
      "  warnings.warn(f\"Using '{self.__class__.__name__}' without a \"\n",
      "Best trial: 3. Best value: 0.638125:  13%|█▎        | 4/30 [00:00<00:02,  9.37it/s]/data1/shengen/conda_envs/ckgconv_env/lib/python3.11/site-packages/torch_geometric/sampler/neighbor_sampler.py:61: UserWarning: Using 'NeighborSampler' without a 'pyg-lib' installation is deprecated and will be removed soon. Please install 'pyg-lib' for accelerated neighborhood sampling\n",
      "  warnings.warn(f\"Using '{self.__class__.__name__}' without a \"\n"
     ]
    },
    {
     "name": "stdout",
     "output_type": "stream",
     "text": [
      "[I 2025-04-21 15:14:10,826] Trial 2 finished with value: 0.5160416666666667 and parameters: {'hid_dim': 32, 'num_layers': 1, 'dropout': 0.016569226657000502, 'lr': 0.00027806809344881734, 'weight_decay': 0.0029689854101954817, 'activation': 'relu'}. Best is trial 0 with value: 0.5740624999999999.\n",
      "[I 2025-04-21 15:14:10,913] Trial 3 finished with value: 0.638125 and parameters: {'hid_dim': 32, 'num_layers': 1, 'dropout': 0.0766817072416906, 'lr': 0.0003548452009964424, 'weight_decay': 0.003887416390019006, 'activation': 'relu'}. Best is trial 3 with value: 0.638125.\n"
     ]
    },
    {
     "name": "stderr",
     "output_type": "stream",
     "text": [
      "Best trial: 3. Best value: 0.638125:  17%|█▋        | 5/30 [00:00<00:02,  8.66it/s]/data1/shengen/conda_envs/ckgconv_env/lib/python3.11/site-packages/torch_geometric/sampler/neighbor_sampler.py:61: UserWarning: Using 'NeighborSampler' without a 'pyg-lib' installation is deprecated and will be removed soon. Please install 'pyg-lib' for accelerated neighborhood sampling\n",
      "  warnings.warn(f\"Using '{self.__class__.__name__}' without a \"\n",
      "Best trial: 3. Best value: 0.638125:  20%|██        | 6/30 [00:00<00:02,  8.71it/s]/data1/shengen/conda_envs/ckgconv_env/lib/python3.11/site-packages/torch_geometric/sampler/neighbor_sampler.py:61: UserWarning: Using 'NeighborSampler' without a 'pyg-lib' installation is deprecated and will be removed soon. Please install 'pyg-lib' for accelerated neighborhood sampling\n",
      "  warnings.warn(f\"Using '{self.__class__.__name__}' without a \"\n"
     ]
    },
    {
     "name": "stdout",
     "output_type": "stream",
     "text": [
      "[I 2025-04-21 15:14:11,049] Trial 4 finished with value: 0.5240624999999999 and parameters: {'hid_dim': 32, 'num_layers': 3, 'dropout': 0.015267480970930947, 'lr': 0.00012029556378474059, 'weight_decay': 0.004716438677725073, 'activation': 'relu'}. Best is trial 3 with value: 0.638125.\n",
      "[I 2025-04-21 15:14:11,163] Trial 5 finished with value: 0.45703125 and parameters: {'hid_dim': 128, 'num_layers': 2, 'dropout': 0.44730484323322256, 'lr': 0.0004447991921942155, 'weight_decay': 0.00397656383917684, 'activation': 'elu'}. Best is trial 3 with value: 0.638125.\n"
     ]
    },
    {
     "name": "stderr",
     "output_type": "stream",
     "text": [
      "Best trial: 3. Best value: 0.638125:  23%|██▎       | 7/30 [00:00<00:02,  7.83it/s]/data1/shengen/conda_envs/ckgconv_env/lib/python3.11/site-packages/torch_geometric/sampler/neighbor_sampler.py:61: UserWarning: Using 'NeighborSampler' without a 'pyg-lib' installation is deprecated and will be removed soon. Please install 'pyg-lib' for accelerated neighborhood sampling\n",
      "  warnings.warn(f\"Using '{self.__class__.__name__}' without a \"\n",
      "Best trial: 3. Best value: 0.638125:  27%|██▋       | 8/30 [00:00<00:02,  7.73it/s]/data1/shengen/conda_envs/ckgconv_env/lib/python3.11/site-packages/torch_geometric/sampler/neighbor_sampler.py:61: UserWarning: Using 'NeighborSampler' without a 'pyg-lib' installation is deprecated and will be removed soon. Please install 'pyg-lib' for accelerated neighborhood sampling\n",
      "  warnings.warn(f\"Using '{self.__class__.__name__}' without a \"\n"
     ]
    },
    {
     "name": "stdout",
     "output_type": "stream",
     "text": [
      "[I 2025-04-21 15:14:11,321] Trial 6 finished with value: 0.49364583333333334 and parameters: {'hid_dim': 32, 'num_layers': 4, 'dropout': 0.4022205402970807, 'lr': 0.0017168653164091662, 'weight_decay': 0.003833626381445722, 'activation': 'elu'}. Best is trial 3 with value: 0.638125.\n",
      "[I 2025-04-21 15:14:11,454] Trial 7 finished with value: 0.4861979166666667 and parameters: {'hid_dim': 64, 'num_layers': 3, 'dropout': 0.494659636624987, 'lr': 0.009920712457449136, 'weight_decay': 0.005558438197670438, 'activation': 'relu'}. Best is trial 3 with value: 0.638125.\n"
     ]
    },
    {
     "name": "stderr",
     "output_type": "stream",
     "text": [
      "Best trial: 3. Best value: 0.638125:  30%|███       | 9/30 [00:01<00:02,  7.70it/s]/data1/shengen/conda_envs/ckgconv_env/lib/python3.11/site-packages/torch_geometric/sampler/neighbor_sampler.py:61: UserWarning: Using 'NeighborSampler' without a 'pyg-lib' installation is deprecated and will be removed soon. Please install 'pyg-lib' for accelerated neighborhood sampling\n",
      "  warnings.warn(f\"Using '{self.__class__.__name__}' without a \"\n",
      "Best trial: 3. Best value: 0.638125:  33%|███▎      | 10/30 [00:01<00:02,  7.69it/s]/data1/shengen/conda_envs/ckgconv_env/lib/python3.11/site-packages/torch_geometric/sampler/neighbor_sampler.py:61: UserWarning: Using 'NeighborSampler' without a 'pyg-lib' installation is deprecated and will be removed soon. Please install 'pyg-lib' for accelerated neighborhood sampling\n",
      "  warnings.warn(f\"Using '{self.__class__.__name__}' without a \"\n"
     ]
    },
    {
     "name": "stdout",
     "output_type": "stream",
     "text": [
      "[I 2025-04-21 15:14:11,585] Trial 8 finished with value: 0.5002083333333334 and parameters: {'hid_dim': 64, 'num_layers': 3, 'dropout': 0.3950506562791103, 'lr': 0.001273218336551211, 'weight_decay': 0.0026751374726167666, 'activation': 'elu'}. Best is trial 3 with value: 0.638125.\n",
      "[I 2025-04-21 15:14:11,716] Trial 9 finished with value: 0.5560416666666667 and parameters: {'hid_dim': 64, 'num_layers': 3, 'dropout': 0.16224146289410057, 'lr': 0.000391859813738754, 'weight_decay': 0.0012240136410220904, 'activation': 'elu'}. Best is trial 3 with value: 0.638125.\n"
     ]
    },
    {
     "name": "stderr",
     "output_type": "stream",
     "text": [
      "Best trial: 3. Best value: 0.638125:  37%|███▋      | 11/30 [00:01<00:02,  8.02it/s]/data1/shengen/conda_envs/ckgconv_env/lib/python3.11/site-packages/torch_geometric/sampler/neighbor_sampler.py:61: UserWarning: Using 'NeighborSampler' without a 'pyg-lib' installation is deprecated and will be removed soon. Please install 'pyg-lib' for accelerated neighborhood sampling\n",
      "  warnings.warn(f\"Using '{self.__class__.__name__}' without a \"\n",
      "Best trial: 3. Best value: 0.638125:  37%|███▋      | 11/30 [00:01<00:02,  8.02it/s]/data1/shengen/conda_envs/ckgconv_env/lib/python3.11/site-packages/torch_geometric/sampler/neighbor_sampler.py:61: UserWarning: Using 'NeighborSampler' without a 'pyg-lib' installation is deprecated and will be removed soon. Please install 'pyg-lib' for accelerated neighborhood sampling\n",
      "  warnings.warn(f\"Using '{self.__class__.__name__}' without a \"\n",
      "Best trial: 3. Best value: 0.638125:  43%|████▎     | 13/30 [00:01<00:01,  9.18it/s]/data1/shengen/conda_envs/ckgconv_env/lib/python3.11/site-packages/torch_geometric/sampler/neighbor_sampler.py:61: UserWarning: Using 'NeighborSampler' without a 'pyg-lib' installation is deprecated and will be removed soon. Please install 'pyg-lib' for accelerated neighborhood sampling\n",
      "  warnings.warn(f\"Using '{self.__class__.__name__}' without a \"\n"
     ]
    },
    {
     "name": "stdout",
     "output_type": "stream",
     "text": [
      "[I 2025-04-21 15:14:11,828] Trial 10 finished with value: 0.5251041666666666 and parameters: {'hid_dim': 32, 'num_layers': 2, 'dropout': 0.20085599455768882, 'lr': 0.002904603473772007, 'weight_decay': 0.009588725113168255, 'activation': 'relu'}. Best is trial 3 with value: 0.638125.\n",
      "[I 2025-04-21 15:14:11,918] Trial 11 finished with value: 0.5107291666666667 and parameters: {'hid_dim': 128, 'num_layers': 1, 'dropout': 0.09753268749069083, 'lr': 0.008990411055041366, 'weight_decay': 0.0004366707101212458, 'activation': 'relu'}. Best is trial 3 with value: 0.638125.\n",
      "[I 2025-04-21 15:14:12,009] Trial 12 finished with value: 0.3202083333333333 and parameters: {'hid_dim': 128, 'num_layers': 1, 'dropout': 0.10466640393027792, 'lr': 0.0006507687396611971, 'weight_decay': 0.0070853661724399174, 'activation': 'relu'}. Best is trial 3 with value: 0.638125.\n"
     ]
    },
    {
     "name": "stderr",
     "output_type": "stream",
     "text": [
      "Best trial: 3. Best value: 0.638125:  47%|████▋     | 14/30 [00:01<00:01,  9.14it/s]/data1/shengen/conda_envs/ckgconv_env/lib/python3.11/site-packages/torch_geometric/sampler/neighbor_sampler.py:61: UserWarning: Using 'NeighborSampler' without a 'pyg-lib' installation is deprecated and will be removed soon. Please install 'pyg-lib' for accelerated neighborhood sampling\n",
      "  warnings.warn(f\"Using '{self.__class__.__name__}' without a \"\n",
      "Best trial: 3. Best value: 0.638125:  47%|████▋     | 14/30 [00:01<00:01,  9.14it/s]/data1/shengen/conda_envs/ckgconv_env/lib/python3.11/site-packages/torch_geometric/sampler/neighbor_sampler.py:61: UserWarning: Using 'NeighborSampler' without a 'pyg-lib' installation is deprecated and will be removed soon. Please install 'pyg-lib' for accelerated neighborhood sampling\n",
      "  warnings.warn(f\"Using '{self.__class__.__name__}' without a \"\n",
      "Best trial: 3. Best value: 0.638125:  53%|█████▎    | 16/30 [00:01<00:01,  9.88it/s]/data1/shengen/conda_envs/ckgconv_env/lib/python3.11/site-packages/torch_geometric/sampler/neighbor_sampler.py:61: UserWarning: Using 'NeighborSampler' without a 'pyg-lib' installation is deprecated and will be removed soon. Please install 'pyg-lib' for accelerated neighborhood sampling\n",
      "  warnings.warn(f\"Using '{self.__class__.__name__}' without a \"\n"
     ]
    },
    {
     "name": "stdout",
     "output_type": "stream",
     "text": [
      "[I 2025-04-21 15:14:12,120] Trial 13 finished with value: 0.44890624999999995 and parameters: {'hid_dim': 32, 'num_layers': 2, 'dropout': 0.2763994846402078, 'lr': 0.0038525212523763236, 'weight_decay': 0.0068011902367378155, 'activation': 'elu'}. Best is trial 3 with value: 0.638125.\n",
      "[I 2025-04-21 15:14:12,210] Trial 14 finished with value: 0.49520833333333336 and parameters: {'hid_dim': 128, 'num_layers': 1, 'dropout': 0.08429502825309215, 'lr': 0.004343934194935742, 'weight_decay': 0.001496880133564471, 'activation': 'elu'}. Best is trial 3 with value: 0.638125.\n",
      "[I 2025-04-21 15:14:12,299] Trial 15 finished with value: 0.44046874999999996 and parameters: {'hid_dim': 32, 'num_layers': 1, 'dropout': 0.2844452899716037, 'lr': 0.0007576439202144904, 'weight_decay': 0.00022274464874378827, 'activation': 'relu'}. Best is trial 3 with value: 0.638125.\n"
     ]
    },
    {
     "name": "stderr",
     "output_type": "stream",
     "text": [
      "Best trial: 3. Best value: 0.638125:  57%|█████▋    | 17/30 [00:01<00:01,  9.59it/s]/data1/shengen/conda_envs/ckgconv_env/lib/python3.11/site-packages/torch_geometric/sampler/neighbor_sampler.py:61: UserWarning: Using 'NeighborSampler' without a 'pyg-lib' installation is deprecated and will be removed soon. Please install 'pyg-lib' for accelerated neighborhood sampling\n",
      "  warnings.warn(f\"Using '{self.__class__.__name__}' without a \"\n",
      "Best trial: 3. Best value: 0.638125:  57%|█████▋    | 17/30 [00:02<00:01,  9.59it/s]/data1/shengen/conda_envs/ckgconv_env/lib/python3.11/site-packages/torch_geometric/sampler/neighbor_sampler.py:61: UserWarning: Using 'NeighborSampler' without a 'pyg-lib' installation is deprecated and will be removed soon. Please install 'pyg-lib' for accelerated neighborhood sampling\n",
      "  warnings.warn(f\"Using '{self.__class__.__name__}' without a \"\n"
     ]
    },
    {
     "name": "stdout",
     "output_type": "stream",
     "text": [
      "[I 2025-04-21 15:14:12,414] Trial 16 finished with value: 0.40697916666666667 and parameters: {'hid_dim': 128, 'num_layers': 2, 'dropout': 0.1874317808766212, 'lr': 0.000236096534849362, 'weight_decay': 0.008354976116687802, 'activation': 'elu'}. Best is trial 3 with value: 0.638125.\n",
      "[I 2025-04-21 15:14:12,504] Trial 17 finished with value: 0.4981770833333333 and parameters: {'hid_dim': 128, 'num_layers': 1, 'dropout': 0.05981065064595449, 'lr': 0.00193403769363834, 'weight_decay': 0.0018681281587080026, 'activation': 'relu'}. Best is trial 3 with value: 0.638125.\n"
     ]
    },
    {
     "name": "stderr",
     "output_type": "stream",
     "text": [
      "Best trial: 3. Best value: 0.638125:  63%|██████▎   | 19/30 [00:02<00:01,  9.70it/s]/data1/shengen/conda_envs/ckgconv_env/lib/python3.11/site-packages/torch_geometric/sampler/neighbor_sampler.py:61: UserWarning: Using 'NeighborSampler' without a 'pyg-lib' installation is deprecated and will be removed soon. Please install 'pyg-lib' for accelerated neighborhood sampling\n",
      "  warnings.warn(f\"Using '{self.__class__.__name__}' without a \"\n",
      "Best trial: 3. Best value: 0.638125:  63%|██████▎   | 19/30 [00:02<00:01,  9.70it/s]/data1/shengen/conda_envs/ckgconv_env/lib/python3.11/site-packages/torch_geometric/sampler/neighbor_sampler.py:61: UserWarning: Using 'NeighborSampler' without a 'pyg-lib' installation is deprecated and will be removed soon. Please install 'pyg-lib' for accelerated neighborhood sampling\n",
      "  warnings.warn(f\"Using '{self.__class__.__name__}' without a \"\n",
      "                                                                                    \r"
     ]
    },
    {
     "name": "stdout",
     "output_type": "stream",
     "text": [
      "[I 2025-04-21 15:14:12,616] Trial 18 finished with value: 0.44979166666666665 and parameters: {'hid_dim': 32, 'num_layers': 2, 'dropout': 0.14299205156461198, 'lr': 0.0009085092749116153, 'weight_decay': 0.005866814959956515, 'activation': 'relu'}. Best is trial 3 with value: 0.638125.\n",
      "[I 2025-04-21 15:14:12,706] Trial 19 finished with value: 0.6321874999999999 and parameters: {'hid_dim': 64, 'num_layers': 1, 'dropout': 0.22391718118616638, 'lr': 0.005957831168153412, 'weight_decay': 0.00441833158190452, 'activation': 'elu'}. Best is trial 3 with value: 0.638125.\n"
     ]
    },
    {
     "name": "stderr",
     "output_type": "stream",
     "text": [
      "Best trial: 3. Best value: 0.638125:  70%|███████   | 21/30 [00:02<00:00,  9.80it/s]/data1/shengen/conda_envs/ckgconv_env/lib/python3.11/site-packages/torch_geometric/sampler/neighbor_sampler.py:61: UserWarning: Using 'NeighborSampler' without a 'pyg-lib' installation is deprecated and will be removed soon. Please install 'pyg-lib' for accelerated neighborhood sampling\n",
      "  warnings.warn(f\"Using '{self.__class__.__name__}' without a \"\n",
      "Best trial: 3. Best value: 0.638125:  70%|███████   | 21/30 [00:02<00:00,  9.80it/s]/data1/shengen/conda_envs/ckgconv_env/lib/python3.11/site-packages/torch_geometric/sampler/neighbor_sampler.py:61: UserWarning: Using 'NeighborSampler' without a 'pyg-lib' installation is deprecated and will be removed soon. Please install 'pyg-lib' for accelerated neighborhood sampling\n",
      "  warnings.warn(f\"Using '{self.__class__.__name__}' without a \"\n",
      "Best trial: 3. Best value: 0.638125:  77%|███████▋  | 23/30 [00:02<00:00, 10.21it/s]/data1/shengen/conda_envs/ckgconv_env/lib/python3.11/site-packages/torch_geometric/sampler/neighbor_sampler.py:61: UserWarning: Using 'NeighborSampler' without a 'pyg-lib' installation is deprecated and will be removed soon. Please install 'pyg-lib' for accelerated neighborhood sampling\n",
      "  warnings.warn(f\"Using '{self.__class__.__name__}' without a \"\n"
     ]
    },
    {
     "name": "stdout",
     "output_type": "stream",
     "text": [
      "[I 2025-04-21 15:14:12,816] Trial 20 finished with value: 0.4510416666666667 and parameters: {'hid_dim': 64, 'num_layers': 2, 'dropout': 0.23426031854811558, 'lr': 0.005649086467993639, 'weight_decay': 0.0046483086794299605, 'activation': 'elu'}. Best is trial 3 with value: 0.638125.\n",
      "[I 2025-04-21 15:14:12,906] Trial 21 finished with value: 0.4847916666666666 and parameters: {'hid_dim': 64, 'num_layers': 1, 'dropout': 0.0439828064561808, 'lr': 0.005684202040459135, 'weight_decay': 0.006850890859647088, 'activation': 'elu'}. Best is trial 3 with value: 0.638125.\n",
      "[I 2025-04-21 15:14:12,996] Trial 22 finished with value: 0.6308333333333334 and parameters: {'hid_dim': 64, 'num_layers': 1, 'dropout': 0.12793408499844394, 'lr': 0.0073249600293844854, 'weight_decay': 0.0038163420501143696, 'activation': 'elu'}. Best is trial 3 with value: 0.638125.\n"
     ]
    },
    {
     "name": "stderr",
     "output_type": "stream",
     "text": [
      "Best trial: 3. Best value: 0.638125:  77%|███████▋  | 23/30 [00:02<00:00, 10.21it/s]/data1/shengen/conda_envs/ckgconv_env/lib/python3.11/site-packages/torch_geometric/sampler/neighbor_sampler.py:61: UserWarning: Using 'NeighborSampler' without a 'pyg-lib' installation is deprecated and will be removed soon. Please install 'pyg-lib' for accelerated neighborhood sampling\n",
      "  warnings.warn(f\"Using '{self.__class__.__name__}' without a \"\n",
      "Best trial: 3. Best value: 0.638125:  83%|████████▎ | 25/30 [00:02<00:00, 10.48it/s]/data1/shengen/conda_envs/ckgconv_env/lib/python3.11/site-packages/torch_geometric/sampler/neighbor_sampler.py:61: UserWarning: Using 'NeighborSampler' without a 'pyg-lib' installation is deprecated and will be removed soon. Please install 'pyg-lib' for accelerated neighborhood sampling\n",
      "  warnings.warn(f\"Using '{self.__class__.__name__}' without a \"\n"
     ]
    },
    {
     "name": "stdout",
     "output_type": "stream",
     "text": [
      "[I 2025-04-21 15:14:13,087] Trial 23 finished with value: 0.49729166666666663 and parameters: {'hid_dim': 64, 'num_layers': 1, 'dropout': 0.13073345116495058, 'lr': 0.0026575193424888083, 'weight_decay': 0.0037560812041782317, 'activation': 'elu'}. Best is trial 3 with value: 0.638125.\n",
      "[I 2025-04-21 15:14:13,177] Trial 24 finished with value: 0.47593750000000007 and parameters: {'hid_dim': 64, 'num_layers': 1, 'dropout': 0.22704943035151468, 'lr': 0.006221177732039438, 'weight_decay': 0.005371884719737514, 'activation': 'elu'}. Best is trial 3 with value: 0.638125.\n"
     ]
    },
    {
     "name": "stderr",
     "output_type": "stream",
     "text": [
      "Best trial: 3. Best value: 0.638125:  83%|████████▎ | 25/30 [00:02<00:00, 10.48it/s]/data1/shengen/conda_envs/ckgconv_env/lib/python3.11/site-packages/torch_geometric/sampler/neighbor_sampler.py:61: UserWarning: Using 'NeighborSampler' without a 'pyg-lib' installation is deprecated and will be removed soon. Please install 'pyg-lib' for accelerated neighborhood sampling\n",
      "  warnings.warn(f\"Using '{self.__class__.__name__}' without a \"\n",
      "Best trial: 3. Best value: 0.638125:  90%|█████████ | 27/30 [00:02<00:00, 10.29it/s]/data1/shengen/conda_envs/ckgconv_env/lib/python3.11/site-packages/torch_geometric/sampler/neighbor_sampler.py:61: UserWarning: Using 'NeighborSampler' without a 'pyg-lib' installation is deprecated and will be removed soon. Please install 'pyg-lib' for accelerated neighborhood sampling\n",
      "  warnings.warn(f\"Using '{self.__class__.__name__}' without a \"\n",
      "                                                                                    \r"
     ]
    },
    {
     "name": "stdout",
     "output_type": "stream",
     "text": [
      "[I 2025-04-21 15:14:13,290] Trial 25 finished with value: 0.47208333333333335 and parameters: {'hid_dim': 64, 'num_layers': 2, 'dropout': 0.3198357127599626, 'lr': 0.0012732264689773825, 'weight_decay': 0.0023152208944818226, 'activation': 'elu'}. Best is trial 3 with value: 0.638125.\n",
      "[I 2025-04-21 15:14:13,378] Trial 26 finished with value: 0.48916666666666664 and parameters: {'hid_dim': 64, 'num_layers': 1, 'dropout': 0.17861235966467745, 'lr': 0.0005285397787012854, 'weight_decay': 0.00402906497892572, 'activation': 'relu'}. Best is trial 3 with value: 0.638125.\n",
      "[I 2025-04-21 15:14:13,490] Trial 27 finished with value: 0.3690625 and parameters: {'hid_dim': 64, 'num_layers': 2, 'dropout': 0.14353072942305184, 'lr': 0.000316676427816637, 'weight_decay': 0.006370132924304264, 'activation': 'elu'}. Best is trial 3 with value: 0.638125.\n"
     ]
    },
    {
     "name": "stderr",
     "output_type": "stream",
     "text": [
      "Best trial: 3. Best value: 0.638125:  90%|█████████ | 27/30 [00:03<00:00, 10.29it/s]/data1/shengen/conda_envs/ckgconv_env/lib/python3.11/site-packages/torch_geometric/sampler/neighbor_sampler.py:61: UserWarning: Using 'NeighborSampler' without a 'pyg-lib' installation is deprecated and will be removed soon. Please install 'pyg-lib' for accelerated neighborhood sampling\n",
      "  warnings.warn(f\"Using '{self.__class__.__name__}' without a \"\n",
      "Best trial: 3. Best value: 0.638125:  97%|█████████▋| 29/30 [00:03<00:00, 10.17it/s]/data1/shengen/conda_envs/ckgconv_env/lib/python3.11/site-packages/torch_geometric/sampler/neighbor_sampler.py:61: UserWarning: Using 'NeighborSampler' without a 'pyg-lib' installation is deprecated and will be removed soon. Please install 'pyg-lib' for accelerated neighborhood sampling\n",
      "  warnings.warn(f\"Using '{self.__class__.__name__}' without a \"\n",
      "Best trial: 3. Best value: 0.638125: 100%|██████████| 30/30 [00:03<00:00,  9.38it/s]\n",
      "/data1/shengen/conda_envs/ckgconv_env/lib/python3.11/site-packages/torch_geometric/sampler/neighbor_sampler.py:61: UserWarning: Using 'NeighborSampler' without a 'pyg-lib' installation is deprecated and will be removed soon. Please install 'pyg-lib' for accelerated neighborhood sampling\n",
      "  warnings.warn(f\"Using '{self.__class__.__name__}' without a \"\n"
     ]
    },
    {
     "name": "stdout",
     "output_type": "stream",
     "text": [
      "[I 2025-04-21 15:14:13,580] Trial 28 finished with value: 0.4397916666666667 and parameters: {'hid_dim': 64, 'num_layers': 1, 'dropout': 0.26443922159997646, 'lr': 0.002631691769629791, 'weight_decay': 0.0045429466780126946, 'activation': 'relu'}. Best is trial 3 with value: 0.638125.\n",
      "[I 2025-04-21 15:14:13,669] Trial 29 finished with value: 0.48463541666666665 and parameters: {'hid_dim': 32, 'num_layers': 1, 'dropout': 0.06041163694729708, 'lr': 0.007091296998761233, 'weight_decay': 0.0030005896898674667, 'activation': 'elu'}. Best is trial 3 with value: 0.638125.\n",
      "[cola-gen_500] Best AUC: 0.6381 | Hash: b3556b\n",
      "Saved best params to results/best_params_cola_gen_500.json\n",
      "Best params for CoLA on gen_500: {'hid_dim': 32, 'num_layers': 1, 'dropout': 0.0766817072416906, 'lr': 0.0003548452009964424, 'weight_decay': 0.003887416390019006, 'act': <function relu at 0x7fcf59d76b60>}\n",
      "[Run 1/10]\n",
      "[Run 2/10]\n"
     ]
    },
    {
     "name": "stderr",
     "output_type": "stream",
     "text": [
      "/data1/shengen/conda_envs/ckgconv_env/lib/python3.11/site-packages/torch_geometric/sampler/neighbor_sampler.py:61: UserWarning: Using 'NeighborSampler' without a 'pyg-lib' installation is deprecated and will be removed soon. Please install 'pyg-lib' for accelerated neighborhood sampling\n",
      "  warnings.warn(f\"Using '{self.__class__.__name__}' without a \"\n"
     ]
    },
    {
     "name": "stdout",
     "output_type": "stream",
     "text": [
      "[Run 3/10]\n"
     ]
    },
    {
     "name": "stderr",
     "output_type": "stream",
     "text": [
      "/data1/shengen/conda_envs/ckgconv_env/lib/python3.11/site-packages/torch_geometric/sampler/neighbor_sampler.py:61: UserWarning: Using 'NeighborSampler' without a 'pyg-lib' installation is deprecated and will be removed soon. Please install 'pyg-lib' for accelerated neighborhood sampling\n",
      "  warnings.warn(f\"Using '{self.__class__.__name__}' without a \"\n"
     ]
    },
    {
     "name": "stdout",
     "output_type": "stream",
     "text": [
      "[Run 4/10]\n"
     ]
    },
    {
     "name": "stderr",
     "output_type": "stream",
     "text": [
      "/data1/shengen/conda_envs/ckgconv_env/lib/python3.11/site-packages/torch_geometric/sampler/neighbor_sampler.py:61: UserWarning: Using 'NeighborSampler' without a 'pyg-lib' installation is deprecated and will be removed soon. Please install 'pyg-lib' for accelerated neighborhood sampling\n",
      "  warnings.warn(f\"Using '{self.__class__.__name__}' without a \"\n"
     ]
    },
    {
     "name": "stdout",
     "output_type": "stream",
     "text": [
      "[Run 5/10]\n"
     ]
    },
    {
     "name": "stderr",
     "output_type": "stream",
     "text": [
      "/data1/shengen/conda_envs/ckgconv_env/lib/python3.11/site-packages/torch_geometric/sampler/neighbor_sampler.py:61: UserWarning: Using 'NeighborSampler' without a 'pyg-lib' installation is deprecated and will be removed soon. Please install 'pyg-lib' for accelerated neighborhood sampling\n",
      "  warnings.warn(f\"Using '{self.__class__.__name__}' without a \"\n"
     ]
    },
    {
     "name": "stdout",
     "output_type": "stream",
     "text": [
      "[Run 6/10]\n"
     ]
    },
    {
     "name": "stderr",
     "output_type": "stream",
     "text": [
      "/data1/shengen/conda_envs/ckgconv_env/lib/python3.11/site-packages/torch_geometric/sampler/neighbor_sampler.py:61: UserWarning: Using 'NeighborSampler' without a 'pyg-lib' installation is deprecated and will be removed soon. Please install 'pyg-lib' for accelerated neighborhood sampling\n",
      "  warnings.warn(f\"Using '{self.__class__.__name__}' without a \"\n"
     ]
    },
    {
     "name": "stdout",
     "output_type": "stream",
     "text": [
      "[Run 7/10]\n"
     ]
    },
    {
     "name": "stderr",
     "output_type": "stream",
     "text": [
      "/data1/shengen/conda_envs/ckgconv_env/lib/python3.11/site-packages/torch_geometric/sampler/neighbor_sampler.py:61: UserWarning: Using 'NeighborSampler' without a 'pyg-lib' installation is deprecated and will be removed soon. Please install 'pyg-lib' for accelerated neighborhood sampling\n",
      "  warnings.warn(f\"Using '{self.__class__.__name__}' without a \"\n"
     ]
    },
    {
     "name": "stdout",
     "output_type": "stream",
     "text": [
      "[Run 8/10]\n"
     ]
    },
    {
     "name": "stderr",
     "output_type": "stream",
     "text": [
      "/data1/shengen/conda_envs/ckgconv_env/lib/python3.11/site-packages/torch_geometric/sampler/neighbor_sampler.py:61: UserWarning: Using 'NeighborSampler' without a 'pyg-lib' installation is deprecated and will be removed soon. Please install 'pyg-lib' for accelerated neighborhood sampling\n",
      "  warnings.warn(f\"Using '{self.__class__.__name__}' without a \"\n"
     ]
    },
    {
     "name": "stdout",
     "output_type": "stream",
     "text": [
      "[Run 9/10]\n"
     ]
    },
    {
     "name": "stderr",
     "output_type": "stream",
     "text": [
      "/data1/shengen/conda_envs/ckgconv_env/lib/python3.11/site-packages/torch_geometric/sampler/neighbor_sampler.py:61: UserWarning: Using 'NeighborSampler' without a 'pyg-lib' installation is deprecated and will be removed soon. Please install 'pyg-lib' for accelerated neighborhood sampling\n",
      "  warnings.warn(f\"Using '{self.__class__.__name__}' without a \"\n"
     ]
    },
    {
     "name": "stdout",
     "output_type": "stream",
     "text": [
      "[Run 10/10]\n"
     ]
    },
    {
     "name": "stderr",
     "output_type": "stream",
     "text": [
      "/data1/shengen/conda_envs/ckgconv_env/lib/python3.11/site-packages/torch_geometric/sampler/neighbor_sampler.py:61: UserWarning: Using 'NeighborSampler' without a 'pyg-lib' installation is deprecated and will be removed soon. Please install 'pyg-lib' for accelerated neighborhood sampling\n",
      "  warnings.warn(f\"Using '{self.__class__.__name__}' without a \"\n"
     ]
    },
    {
     "name": "stdout",
     "output_type": "stream",
     "text": [
      "Saved results to results/cola_gen_500.csv\n",
      "Summary for CoLA on gen_500:\n",
      "  AUC-ROC (mean±std): 0.4899 ± 0.0419\n",
      "  AP (mean±std): 0.0521 ± 0.0151\n",
      "  F1 (mean±std): 0.0657 ± 0.0287\n"
     ]
    }
   ],
   "source": [
    "for name, config in datasets_to_run.items():\n",
    "    print(f\"\\nRunning CoLA on {name}...\\n\")\n",
    "\n",
    "    param_space_fn = ParamSpace.get(\"cola\")\n",
    "\n",
    "    study = tune_model_with_optuna(\n",
    "        model_class=CoLA,\n",
    "        dataset=config[\"data\"],\n",
    "        label_transform_fn=config[\"label_fn\"],\n",
    "        param_space_fn=param_space_fn,\n",
    "        n_trials=30,\n",
    "        train_epochs=30,\n",
    "        metric=\"auc\",\n",
    "        device=0,\n",
    "        return_all_metrics=True,\n",
    "        dataset_name=name  \n",
    "    )\n",
    "\n",
    "    best_params = sanitize_params(study.best_params)\n",
    "\n",
    "    print(f\"Best params for CoLA on {name}: {best_params}\")\n",
    "\n",
    "    binary_label = config[\"label_fn\"](config[\"data\"].y)\n",
    "\n",
    "    summary, df = eval_repeat(\n",
    "        model_class=CoLA,\n",
    "        dataset=config[\"data\"],\n",
    "        binary_label=binary_label,\n",
    "        params=best_params,\n",
    "        n_runs=10,\n",
    "        epochs=200,\n",
    "        save_path=f\"results/cola_{name}.csv\"\n",
    "    )\n",
    "\n",
    "    print(f\"Summary for CoLA on {name}:\")\n",
    "    for k, v in summary.items():\n",
    "        print(f\"  {k}: {v}\")\n"
   ]
  },
  {
   "cell_type": "markdown",
   "id": "3d48f69b",
   "metadata": {},
   "source": [
    "# Train CKGConv_DOMINANT"
   ]
  },
  {
   "cell_type": "code",
   "execution_count": null,
   "id": "80a51c2d",
   "metadata": {},
   "outputs": [],
   "source": [
    "for name, config in datasets_to_run.items():\n",
    "    print(f\"\\nRunning CKGConv-DOMINANT on {name}...\\n\")\n",
    "\n",
    "    param_space_fn = ParamSpace.get(\"ckgconv_dominant\")\n",
    "\n",
    "    study = tune_model_with_optuna(\n",
    "        model_class=CKGConvDOMINANT,\n",
    "        dataset=config[\"data\"],\n",
    "        label_transform_fn=config[\"label_fn\"],\n",
    "        param_space_fn=param_space_fn,\n",
    "        n_trials=30,\n",
    "        train_epochs=30,\n",
    "        metric=\"auc\",\n",
    "        device=0,\n",
    "        return_all_metrics=True,\n",
    "        dataset_name=name  \n",
    "    )\n",
    "\n",
    "    best_params = sanitize_params(study.best_params)\n",
    "\n",
    "    print(f\"Best params for CKGConv-DOMINANT on {name}: {best_params}\")\n",
    "\n",
    "    binary_label = config[\"label_fn\"](config[\"data\"].y)\n",
    "\n",
    "    summary, df = eval_repeat(\n",
    "        model_class=CKGConvDOMINANT,\n",
    "        dataset=config[\"data\"],\n",
    "        binary_label=binary_label,\n",
    "        params=best_params,\n",
    "        n_runs=10,\n",
    "        epochs=200,\n",
    "        save_path=f\"results/ckgconv_dominant_{name}.csv\"\n",
    "    )\n",
    "\n",
    "    print(f\"Summary for CKGConv-DOMINANT on {name}:\")\n",
    "    for k, v in summary.items():\n",
    "        print(f\"  {k}: {v}\")"
   ]
  },
  {
   "cell_type": "code",
   "execution_count": null,
   "id": "65fbbb5b",
   "metadata": {},
   "outputs": [],
   "source": [
    "# CKGConv_dominant on books"
   ]
  },
  {
   "cell_type": "code",
   "execution_count": null,
   "id": "619dfd77",
   "metadata": {},
   "outputs": [],
   "source": [
    "# CKGConv_dominant on synthetic"
   ]
  },
  {
   "cell_type": "code",
   "execution_count": null,
   "id": "a021cd0f",
   "metadata": {},
   "outputs": [],
   "source": [
    "# visualization"
   ]
  }
 ],
 "metadata": {
  "kernelspec": {
   "display_name": "ckgconv_env",
   "language": "python",
   "name": "python3"
  },
  "language_info": {
   "codemirror_mode": {
    "name": "ipython",
    "version": 3
   },
   "file_extension": ".py",
   "mimetype": "text/x-python",
   "name": "python",
   "nbconvert_exporter": "python",
   "pygments_lexer": "ipython3",
   "version": "3.11.11"
  }
 },
 "nbformat": 4,
 "nbformat_minor": 5
}

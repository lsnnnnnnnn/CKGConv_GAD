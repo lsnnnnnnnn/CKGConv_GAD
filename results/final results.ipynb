{
 "cells": [
  {
   "cell_type": "code",
   "execution_count": null,
   "id": "683f0f58",
   "metadata": {},
   "outputs": [],
   "source": [
    "import os\n",
    "import glob\n",
    "import pandas as pd\n",
    "import torch\n",
    "\n",
    "device = torch.device(\"cuda\" if torch.cuda.is_available() else \"cpu\")\n",
    "print(f\"Using device: {device}\")\n",
    "\n",
    "results_dir = \"/data1/shengen/STATS403/project/results\"\n",
    "csv_files = glob.glob(os.path.join(results_dir, \"*.csv\"))\n",
    "\n",
    "datasets = [\"books\", \"disney\", \"gen_500\", \"gen_1000\", \"gen_time\"]\n",
    "\n",
    "summary_list = []\n",
    "\n",
    "for file in csv_files:\n",
    "    df = pd.read_csv(file)\n",
    "    if df.empty:\n",
    "        print(f\"Skipped empty file: {file}\")\n",
    "        continue\n",
    "\n",
    "    basename = os.path.basename(file).replace(\".csv\", \"\")\n",
    "    matched_dataset = next((ds for ds in datasets if ds in basename), \"unknown\")\n",
    "    model = basename.replace(f\"_{matched_dataset}\", \"\") if matched_dataset != \"unknown\" else basename\n",
    "\n",
    "    means = df.mean()\n",
    "    stds = df.std()\n",
    "\n",
    "    summary = {\n",
    "        \"model\": model,\n",
    "        \"dataset\": matched_dataset,\n",
    "    }\n",
    "    for col in df.columns:\n",
    "        summary[col] = f\"{means[col]:.4f} ± {stds[col]:.4f}\"\n",
    "\n",
    "    summary_list.append(summary)\n",
    "\n",
    "summary_df = pd.DataFrame(summary_list)\n",
    "model_order = summary_df['model'].drop_duplicates().tolist()\n",
    "summary_df['model'] = pd.Categorical(summary_df['model'], categories=model_order, ordered=True)\n",
    "summary_df = summary_df.sort_values(by=\"model\")\n",
    "\n",
    "summary_path = os.path.join(results_dir, \"summary_of_results.csv\")\n",
    "summary_df.to_csv(summary_path, index=False)\n",
    "print(f\"Summary saved to: {summary_path}\")"
   ]
  }
 ],
 "metadata": {
  "kernelspec": {
   "display_name": "ckgconv_env",
   "language": "python",
   "name": "python3"
  },
  "language_info": {
   "name": "python",
   "version": "3.11.11"
  }
 },
 "nbformat": 4,
 "nbformat_minor": 5
}

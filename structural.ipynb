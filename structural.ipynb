{
 "cells": [
  {
   "cell_type": "code",
   "execution_count": 6,
   "id": "6934e077",
   "metadata": {},
   "outputs": [],
   "source": [
    "import os\n",
    "import networkx as nx\n",
    "import torch\n",
    "from torch_geometric.utils import from_networkx\n",
    "from torch_geometric.data import Data"
   ]
  },
  {
   "cell_type": "code",
   "execution_count": 7,
   "id": "26ed3dc4",
   "metadata": {},
   "outputs": [],
   "source": [
    "def generate_structural_anomaly(num_normal=250, seed=42):\n",
    "    torch.manual_seed(seed)\n",
    "\n",
    "    \n",
    "    G_normal = nx.barabasi_albert_graph(n=num_normal, m=3, seed=seed)\n",
    "\n",
    "    \n",
    "    G_clique = nx.complete_graph(5)  \n",
    "    G_path = nx.path_graph(6)        \n",
    "    G_star = nx.star_graph(5)        \n",
    "\n",
    "    def relabel(g, offset):\n",
    "        return nx.relabel_nodes(g, lambda x: x + offset)\n",
    "\n",
    "    G_clique = relabel(G_clique, num_normal)\n",
    "    G_path = relabel(G_path, num_normal + 5)\n",
    "    G_star = relabel(G_star, num_normal + 11)\n",
    "\n",
    "    \n",
    "    G_all = nx.disjoint_union_all([G_normal, G_clique, G_path, G_star])\n",
    "    num_nodes = G_all.number_of_nodes()\n",
    "\n",
    "    \n",
    "    anomaly_nodes = list(range(num_normal, num_nodes))\n",
    "    for i in range(num_nodes):\n",
    "        G_all.nodes[i]['x'] = [G_all.degree[i]]\n",
    "        G_all.nodes[i]['y'] = int(i in anomaly_nodes)\n",
    "\n",
    "    \n",
    "    data = from_networkx(G_all)\n",
    "    data.x = torch.tensor([data.x[i] for i in range(data.num_nodes)], dtype=torch.float)\n",
    "    data.y = torch.tensor([data.y[i] for i in range(data.num_nodes)], dtype=torch.long)\n",
    "\n",
    "    return data"
   ]
  },
  {
   "cell_type": "code",
   "execution_count": 8,
   "id": "c039da75",
   "metadata": {},
   "outputs": [
    {
     "data": {
      "text/plain": [
       "'/data1/shengen/STATS403/project/data/structural_anomaly_graph.pt'"
      ]
     },
     "execution_count": 8,
     "metadata": {},
     "output_type": "execute_result"
    }
   ],
   "source": [
    "\n",
    "data = generate_structural_anomaly()\n",
    "save_path = \"/data1/shengen/STATS403/project/data/structural_anomaly_graph.pt\"\n",
    "os.makedirs(os.path.dirname(save_path), exist_ok=True)\n",
    "torch.save(data, save_path)\n",
    "save_path"
   ]
  }
 ],
 "metadata": {
  "kernelspec": {
   "display_name": "ckgconv_env",
   "language": "python",
   "name": "python3"
  },
  "language_info": {
   "codemirror_mode": {
    "name": "ipython",
    "version": 3
   },
   "file_extension": ".py",
   "mimetype": "text/x-python",
   "name": "python",
   "nbconvert_exporter": "python",
   "pygments_lexer": "ipython3",
   "version": "3.11.11"
  }
 },
 "nbformat": 4,
 "nbformat_minor": 5
}
